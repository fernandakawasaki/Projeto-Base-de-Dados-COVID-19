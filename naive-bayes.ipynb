{
 "cells": [
  {
   "cell_type": "markdown",
   "metadata": {
    "cell_id": "10004957-2cb6-4826-9275-0b5ee5a9b403",
    "deepnote_cell_type": "markdown",
    "tags": []
   },
   "source": [
    "# Projeto 1 - Base de Dados Covid\n",
    "\n",
    "O objetivo do projeto será desenvolver um estudo no dataset COVID.csv , base esta que contém informações sobre casos de COVID. Ou seja a partir do diagnóstico de sintomas e informações dos pacientes deve-se\n",
    "desenvolver um modelo para prever casos confirmados de COVID'.\n",
    "\n",
    "Membros do grupo:\n",
    "- Ana Luzia Akiyama\n",
    "- Fernanda Kawasaki\n",
    "- Henrique Castro\n",
    "- Liosvaldo Santiago\n",
    "- Maria Julia Martins\n",
    "- Wandemberg Gibaut"
   ]
  },
  {
   "cell_type": "markdown",
   "metadata": {
    "cell_id": "66f8d2f4-ba5a-4fc1-a8c5-0e06c5440431",
    "deepnote_cell_type": "markdown",
    "tags": []
   },
   "source": [
    "Este arquivo contém testes relativos ao uso do modelo de classificação Naive Bayes. Para manter este notebook mais enxuto, o processo de EDA foi removido (mas pode ser encontrado no notebook principal)"
   ]
  },
  {
   "cell_type": "code",
   "execution_count": 5,
   "metadata": {
    "cell_id": "601488cc-9457-4875-ab93-9b418bcb55fd",
    "deepnote_cell_type": "code",
    "deepnote_to_be_reexecuted": false,
    "execution_millis": 3342,
    "execution_start": 1646698930213,
    "source_hash": "c77f7360",
    "tags": []
   },
   "outputs": [
    {
     "name": "stdout",
     "output_type": "stream",
     "text": [
      "Requirement already satisfied: scikit-learn in c:\\users\\user\\appdata\\local\\programs\\python\\python39\\lib\\site-packages (1.0.2)"
     ]
    },
    {
     "name": "stderr",
     "output_type": "stream",
     "text": [
      "WARNING: You are using pip version 21.1.3; however, version 22.0.4 is available.\n",
      "You should consider upgrading via the 'c:\\users\\user\\appdata\\local\\programs\\python\\python39\\python.exe -m pip install --upgrade pip' command.\n"
     ]
    },
    {
     "name": "stdout",
     "output_type": "stream",
     "text": [
      "\n",
      "Requirement already satisfied: joblib>=0.11 in c:\\users\\user\\appdata\\local\\programs\\python\\python39\\lib\\site-packages (from scikit-learn) (1.1.0)\n",
      "Requirement already satisfied: threadpoolctl>=2.0.0 in c:\\users\\user\\appdata\\local\\programs\\python\\python39\\lib\\site-packages (from scikit-learn) (3.1.0)\n",
      "Requirement already satisfied: numpy>=1.14.6 in c:\\users\\user\\appdata\\local\\programs\\python\\python39\\lib\\site-packages (from scikit-learn) (1.22.2)\n",
      "Requirement already satisfied: scipy>=1.1.0 in c:\\users\\user\\appdata\\local\\programs\\python\\python39\\lib\\site-packages (from scikit-learn) (1.8.0)\n"
     ]
    }
   ],
   "source": [
    "!pip install -U scikit-learn"
   ]
  },
  {
   "cell_type": "code",
   "execution_count": 6,
   "metadata": {
    "cell_id": "00001-655a6b16-14f9-4cd2-a485-90f0d36d1626",
    "deepnote_cell_type": "code",
    "deepnote_to_be_reexecuted": false,
    "execution_millis": 498,
    "execution_start": 1646696411139,
    "source_hash": "5e39118",
    "tags": []
   },
   "outputs": [],
   "source": [
    "import pandas as pd \n",
    "import numpy as np\n",
    "import matplotlib.pyplot as plt\n",
    "import seaborn as sns \n",
    "import eda\n",
    "pd.set_option(\"display.max_columns\", None)"
   ]
  },
  {
   "cell_type": "code",
   "execution_count": 9,
   "metadata": {
    "cell_id": "00002-d253d823-07d6-466f-99b4-e430b0f3b77b",
    "deepnote_cell_type": "code",
    "deepnote_to_be_reexecuted": false,
    "execution_millis": 1046,
    "execution_start": 1646696268941,
    "source_hash": "1eaba0d",
    "tags": []
   },
   "outputs": [],
   "source": [
    "df = pd.read_csv('covid.csv')"
   ]
  },
  {
   "cell_type": "code",
   "execution_count": 10,
   "metadata": {
    "cell_id": "012ae754-d34c-4e67-980a-2e9122263bd0",
    "deepnote_cell_type": "code",
    "deepnote_to_be_reexecuted": false,
    "execution_millis": 6366,
    "execution_start": 1646696875605,
    "source_hash": "b0135f17",
    "tags": []
   },
   "outputs": [],
   "source": [
    "df = eda.pre_process(df)\n",
    "df = eda.categorical_process(df)\n",
    "df = eda.imputing_nan(df)\n",
    "df = eda.feature_engineering(df)\n",
    "# df = eda.full_processing(df)"
   ]
  },
  {
   "cell_type": "markdown",
   "metadata": {
    "cell_id": "00058-9fa1023b-817e-4176-b6a2-6897db473c9b",
    "deepnote_cell_type": "markdown"
   },
   "source": [
    "# Modelagem\n",
    "Para avaliar desempenho de nosso modelo nos vamos utilizar a metrica de **ROC AUC** e  **recall**. A métrica ROC AUC foi escolhida para podermos comparar os difrentes modelos desenvolvidos. Já a métrica de recall foiescolhida  porque no caso de doencas infecciosas queremos minimizar os falsos negativos, ja que caso alguem infectado receba um teste negativo ela continuara espalhando a doenca. Pode-se argumentar que os falsos positivos causariam gastos com tratamento e prevencao da doenca, mas no caso do COVID esses gastos sao relativamente baixos, uma vez que um paciente que testou positivo pode ser encaminhado para quarentena em casa."
   ]
  },
  {
   "cell_type": "code",
   "execution_count": 11,
   "metadata": {
    "cell_id": "00059-60bd4726-c774-46dd-9898-2fab01f5ccbd",
    "deepnote_cell_type": "code",
    "deepnote_to_be_reexecuted": false,
    "execution_millis": 2,
    "execution_start": 1646698943475,
    "source_hash": "5545e23b"
   },
   "outputs": [],
   "source": [
    "from sklearn.metrics import classification_report\n",
    "from sklearn.metrics import roc_auc_score\n",
    "from sklearn.model_selection import train_test_split\n",
    "from sklearn.model_selection import RandomizedSearchCV\n",
    "\n",
    "# from sklearn.feature_selection import SelectKBest\n",
    "# from sklearn.feature_selection import chi2\n",
    "\n",
    "from sklearn.preprocessing import StandardScaler\n",
    "from sklearn.preprocessing import OneHotEncoder\n",
    "# from sklearn.preprocessing import OrdinalEncoder\n",
    "\n",
    "from sklearn.pipeline import Pipeline\n",
    "from sklearn.compose import ColumnTransformer\n",
    "\n",
    "from sklearn.naive_bayes import GaussianNB"
   ]
  },
  {
   "cell_type": "markdown",
   "metadata": {
    "cell_id": "00060-a8850260-0d0c-4ad1-b912-be8ec3bd0dc8",
    "deepnote_cell_type": "markdown",
    "tags": []
   },
   "source": [
    "## Remoção de dados indisponíveis\n",
    "\n",
    "É importante notar que alguns dados no dataset não estarão presentes no momento da análise. Exemplos disso são as colunas icu e intubed, que são dependem de um diagnóstico positivo de COVID-19. Assim, não teríamos esses dados no ambiente de produção. Logo, essas colunas serão removidas para realizar o treinamento dos modelos."
   ]
  },
  {
   "cell_type": "code",
   "execution_count": 12,
   "metadata": {
    "cell_id": "00061-eb2109ae-bf52-4f7b-9971-db27814a8659",
    "deepnote_cell_type": "code",
    "deepnote_to_be_reexecuted": false,
    "execution_millis": 265,
    "execution_start": 1646697053738,
    "source_hash": "f1bb3ff8"
   },
   "outputs": [],
   "source": [
    "# Drop de colunas que nao serao usadas ou que nao estarao disponiveis\n",
    "X = df.drop(columns=['covid_res', 'id', 'entry_date', 'date_symptoms', 'date_died', 'intubed', 'icu']) \n",
    "y = df['covid_res']\n",
    "X_train, X_test, y_train, y_test = train_test_split(X, y, train_size=0.7, stratify=y, random_state=42)"
   ]
  },
  {
   "cell_type": "code",
   "execution_count": 13,
   "metadata": {
    "cell_id": "00062-5160bbbe-a04d-4a4c-8242-8f6c81466742",
    "deepnote_cell_type": "code",
    "deepnote_to_be_reexecuted": false,
    "execution_millis": 47,
    "execution_start": 1646598966111,
    "source_hash": "e52f4e4c",
    "tags": []
   },
   "outputs": [
    {
     "name": "stdout",
     "output_type": "stream",
     "text": [
      "<class 'pandas.core.frame.DataFrame'>\n",
      "RangeIndex: 499692 entries, 0 to 499691\n",
      "Data columns (total 19 columns):\n",
      " #   Column               Non-Null Count   Dtype  \n",
      "---  ------               --------------   -----  \n",
      " 0   sex                  499692 non-null  int64  \n",
      " 1   patient_type         499692 non-null  int64  \n",
      " 2   pneumonia            499692 non-null  float64\n",
      " 3   age                  499692 non-null  int64  \n",
      " 4   pregnancy            499692 non-null  int64  \n",
      " 5   diabetes             499692 non-null  int64  \n",
      " 6   copd                 499692 non-null  int64  \n",
      " 7   asthma               499692 non-null  int64  \n",
      " 8   inmsupr              499692 non-null  int64  \n",
      " 9   hypertension         499692 non-null  int64  \n",
      " 10  other_disease        499692 non-null  int64  \n",
      " 11  cardiovascular       499692 non-null  int64  \n",
      " 12  obesity              499692 non-null  int64  \n",
      " 13  renal_chronic        499692 non-null  int64  \n",
      " 14  tobacco              499692 non-null  int64  \n",
      " 15  contact_other_covid  499692 non-null  float64\n",
      " 16  died                 499692 non-null  int32  \n",
      " 17  entry_symptoms_time  499692 non-null  int64  \n",
      " 18  has_disease          499692 non-null  int32  \n",
      "dtypes: float64(2), int32(2), int64(15)\n",
      "memory usage: 68.6 MB\n"
     ]
    }
   ],
   "source": [
    "X.info()"
   ]
  },
  {
   "cell_type": "markdown",
   "metadata": {
    "cell_id": "00067-0b3ace52-ebe1-49a1-9467-69d235d29196",
    "deepnote_cell_type": "markdown"
   },
   "source": [
    "## Naive Bayes\n",
    "best performance -> ROC 0.5825261549475066"
   ]
  },
  {
   "cell_type": "code",
   "execution_count": 49,
   "metadata": {
    "cell_id": "0a1e7dd7-bb22-4389-b19e-e3f6263ee7fd",
    "deepnote_cell_type": "code",
    "deepnote_to_be_reexecuted": false,
    "execution_millis": 556,
    "execution_start": 1646697693633,
    "source_hash": "9a319cc2",
    "tags": []
   },
   "outputs": [
    {
     "name": "stdout",
     "output_type": "stream",
     "text": [
      "              precision    recall  f1-score   support\n",
      "\n",
      "           0       0.61      0.91      0.73     83711\n",
      "           1       0.69      0.26      0.37     66197\n",
      "\n",
      "    accuracy                           0.62    149908\n",
      "   macro avg       0.65      0.58      0.55    149908\n",
      "weighted avg       0.64      0.62      0.57    149908\n",
      "\n"
     ]
    }
   ],
   "source": [
    "model = GaussianNB()\n",
    "model.fit(X_train, y_train)\n",
    "y_pred = model.predict(X_test)\n",
    "print(classification_report(y_test, y_pred))"
   ]
  },
  {
   "cell_type": "code",
   "execution_count": 15,
   "metadata": {
    "cell_id": "00084-08324462-f0d0-4f9b-933d-b3d71edb3e7a",
    "deepnote_cell_type": "code",
    "deepnote_to_be_reexecuted": false,
    "execution_millis": 7,
    "execution_start": 1646697752850,
    "source_hash": "5c52859d"
   },
   "outputs": [
    {
     "data": {
      "text/plain": [
       "0.5825261549475066"
      ]
     },
     "execution_count": 15,
     "metadata": {},
     "output_type": "execute_result"
    }
   ],
   "source": [
    "roc_auc_score(y_test, y_pred)"
   ]
  },
  {
   "cell_type": "markdown",
   "metadata": {
    "cell_id": "00088-77f8bc5e-d00b-4727-8537-b4bda3f1cb52",
    "deepnote_cell_type": "markdown"
   },
   "source": [
    "# Otimizacao de modelo"
   ]
  },
  {
   "cell_type": "code",
   "execution_count": 16,
   "metadata": {
    "cell_id": "00089-00d28cc7-1b50-4631-ae24-d449db3ccf18",
    "deepnote_cell_type": "code",
    "deepnote_to_be_reexecuted": false,
    "execution_millis": 6,
    "execution_start": 1646697779670,
    "source_hash": "34c3e8d4"
   },
   "outputs": [
    {
     "data": {
      "text/plain": [
       "{'priors': None, 'var_smoothing': 1e-09}"
      ]
     },
     "execution_count": 16,
     "metadata": {},
     "output_type": "execute_result"
    }
   ],
   "source": [
    "model.get_params()"
   ]
  },
  {
   "cell_type": "code",
   "execution_count": 69,
   "metadata": {
    "cell_id": "00091-aa0add17-105b-463f-8988-da1016ebf13c",
    "deepnote_cell_type": "code",
    "deepnote_to_be_reexecuted": false,
    "execution_millis": 1,
    "execution_start": 1646698232477,
    "source_hash": "a613730a"
   },
   "outputs": [],
   "source": [
    "nbg_hiperparams = {'priors': [None],\n",
    "                    'var_smoothing': [0.000000001, 0.00000001, 0.0000001, 0.000001, 0.00001, 0.0001, 0.001, 0.01, 0.1, 1]}\n"
   ]
  },
  {
   "cell_type": "code",
   "execution_count": 58,
   "metadata": {
    "cell_id": "2411d707-b00c-41a4-853e-ab567e134b41",
    "deepnote_cell_type": "code",
    "deepnote_to_be_reexecuted": false,
    "execution_millis": 1,
    "execution_start": 1646698793796,
    "source_hash": "ff500f90",
    "tags": []
   },
   "outputs": [],
   "source": [
    "# Criando uma pipe generalizada para depois testar diferentes features\n",
    "\n",
    "# Selecao das colunas\n",
    "numeric_features = ['age', 'entry_symptoms_time']\n",
    "categorical_features = ['sex', 'patient_type', 'pregnancy', 'intubed', 'contact_other_covid', 'icu', 'died', 'has_disease']\n",
    "\n",
    "# Criacao do tratamento de cada tipo de col\n",
    "categorical_pipe = Pipeline([\n",
    "    ('onehot', OneHotEncoder(drop='if_binary'))\n",
    "])\n",
    "\n",
    "numeric_pipe = Pipeline([\n",
    "    ('normalize', StandardScaler())\n",
    "])\n",
    "\n",
    "column_processing = ColumnTransformer([\n",
    "    ('num', numeric_pipe, numeric_features),\n",
    "    ('cat', categorical_pipe, categorical_features)\n",
    "])\n",
    "\n",
    "# Motando a pipe em si\n",
    "nbg_pipeline = Pipeline([\n",
    "    ('preprocessing', column_processing),\n",
    "    ('model', model)\n",
    "])"
   ]
  },
  {
   "cell_type": "code",
   "execution_count": 70,
   "metadata": {},
   "outputs": [
    {
     "name": "stdout",
     "output_type": "stream",
     "text": [
      "Fitting 10 folds for each of 10 candidates, totalling 100 fits\n"
     ]
    },
    {
     "data": {
      "text/plain": [
       "GridSearchCV(cv=10, estimator=GaussianNB(), n_jobs=-1,\n",
       "             param_grid={'priors': [None],\n",
       "                         'var_smoothing': [1e-09, 1e-08, 1e-07, 1e-06, 1e-05,\n",
       "                                           0.0001, 0.001, 0.01, 0.1, 1]},\n",
       "             verbose=1)"
      ]
     },
     "execution_count": 70,
     "metadata": {},
     "output_type": "execute_result"
    }
   ],
   "source": [
    "from sklearn.model_selection import GridSearchCV\n",
    "\n",
    "nbg_rand_search = GridSearchCV(estimator=GaussianNB(), param_grid=nbg_hiperparams, verbose=1, cv=10, n_jobs=-1)\n",
    "nbg_rand_search.fit(X_train, y_train)\n"
   ]
  },
  {
   "cell_type": "code",
   "execution_count": 71,
   "metadata": {
    "cell_id": "00093-25b1ec3f-f287-4601-a495-33c27f9af661",
    "deepnote_cell_type": "code",
    "deepnote_to_be_reexecuted": false,
    "execution_millis": 12,
    "execution_start": 1646699032724,
    "source_hash": "e1bcdb7e"
   },
   "outputs": [
    {
     "name": "stdout",
     "output_type": "stream",
     "text": [
      "0.596\n",
      "GaussianNB(var_smoothing=1e-05)\n",
      "best params: {'priors': None, 'var_smoothing': 1e-05}\n"
     ]
    }
   ],
   "source": [
    "print(nbg_rand_search.cv_results_['mean_test_score'].mean().round(3))\n",
    "print(nbg_rand_search.best_estimator_)\n",
    "print(f'best params: {nbg_rand_search.best_params_}')"
   ]
  },
  {
   "cell_type": "code",
   "execution_count": 76,
   "metadata": {
    "cell_id": "00095-10fcabec-c1f4-4910-9359-6b35194a469d",
    "deepnote_cell_type": "code",
    "deepnote_to_be_reexecuted": true,
    "source_hash": "72344063"
   },
   "outputs": [
    {
     "name": "stdout",
     "output_type": "stream",
     "text": [
      "              precision    recall  f1-score   support\n",
      "\n",
      "           0       0.61      0.91      0.73     83711\n",
      "           1       0.69      0.26      0.37     66197\n",
      "\n",
      "    accuracy                           0.62    149908\n",
      "   macro avg       0.65      0.58      0.55    149908\n",
      "weighted avg       0.64      0.62      0.57    149908\n",
      "\n"
     ]
    },
    {
     "name": "stderr",
     "output_type": "stream",
     "text": [
      "C:\\Users\\User\\AppData\\Local\\Programs\\Python\\Python39\\lib\\site-packages\\sklearn\\utils\\deprecation.py:87: FutureWarning: Function plot_confusion_matrix is deprecated; Function `plot_confusion_matrix` is deprecated in 1.0 and will be removed in 1.2. Use one of the class methods: ConfusionMatrixDisplay.from_predictions or ConfusionMatrixDisplay.from_estimator.\n",
      "  warnings.warn(msg, category=FutureWarning)\n"
     ]
    },
    {
     "data": {
      "text/plain": [
       "<sklearn.metrics._plot.confusion_matrix.ConfusionMatrixDisplay at 0x1c332f63280>"
      ]
     },
     "execution_count": 76,
     "metadata": {},
     "output_type": "execute_result"
    },
    {
     "data": {
      "image/png": "[encoded data removed]",
      "text/plain": [
       "<Figure size 432x288 with 2 Axes>"
      ]
     },
     "metadata": {
      "needs_background": "light"
     },
     "output_type": "display_data"
    }
   ],
   "source": [
    "from sklearn.metrics import plot_confusion_matrix\n",
    "\n",
    "y_pred = nbg_rand_search.predict(X_test)\n",
    "\n",
    "\n",
    "print(classification_report(y_test, y_pred))\n",
    "roc_auc_score(y_test, y_pred)\n",
    "\n",
    "plot_confusion_matrix(model, X_test, y_test)"
   ]
  },
  {
   "cell_type": "markdown",
   "metadata": {},
   "source": [
    "Vale chamar atenção ao fato de que, apesar do score do roc-auc não ser tão distante de outros modelos, o f1-score para covid_res = 1 é bem baixo. Além disso, vemos na matriz de confusão que a quantidade de falsos negativos é bem alta. Levando em consideração o contexto de COVID-19, isso é bem ruim, pois as pessoas contaminadas podem passar a doença a outras pessoas."
   ]
  },
  {
   "cell_type": "code",
   "execution_count": null,
   "metadata": {},
   "outputs": [],
   "source": []
  },
  {
   "cell_type": "markdown",
   "metadata": {
    "created_in_deepnote_cell": true,
    "deepnote_cell_type": "markdown",
    "tags": []
   },
   "source": [
    "<a style='text-decoration:none;line-height:16px;display:flex;color:#5B5B62;padding:10px;justify-content:end;' href='https://deepnote.com?utm_source=created-in-deepnote-cell&projectId=51a49710-5991-4d9e-8d88-f90d59cca546' target=\"_blank\">\n",
    "<img alt='Created in deepnote.com' style='display:inline;max-height:16px;margin:0px;margin-right:7.5px;' src='data:image/svg+xml;base64,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' > </img>\n",
    "Created in <span style='font-weight:600;margin-left:4px;'>Deepnote</span></a>"
   ]
  }
 ],
 "metadata": {
  "deepnote": {
   "is_reactive": false
  },
  "deepnote_execution_queue": [],
  "deepnote_notebook_id": "e824280e-21f8-4a4b-b4b9-96d8152343c5",
  "interpreter": {
   "hash": "294f4e376c61358df80e6706e213556bfb570c6a90a2a414c97021af04b3e4fd"
  },
  "kernelspec": {
   "display_name": "Python 3.7.11 ('santander')",
   "language": "python",
   "name": "python3"
  },
  "language_info": {
   "codemirror_mode": {
    "name": "ipython",
    "version": 3
   },
   "file_extension": ".py",
   "mimetype": "text/x-python",
   "name": "python",
   "nbconvert_exporter": "python",
   "pygments_lexer": "ipython3",
   "version": "3.9.6"
  },
  "orig_nbformat": 2
 },
 "nbformat": 4,
 "nbformat_minor": 2
}
