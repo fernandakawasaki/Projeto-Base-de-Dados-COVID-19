{
 "cells": [
  {
   "cell_type": "code",
   "execution_count": 1,
   "metadata": {
    "cell_id": "d0b22f2e-5d10-4de2-a1b3-e2a5286b330d",
    "deepnote_cell_type": "code",
    "deepnote_to_be_reexecuted": false,
    "execution_millis": 2846,
    "execution_start": 1645225522409,
    "source_hash": "c8d3c22c",
    "tags": []
   },
   "outputs": [],
   "source": [
    "import pandas as pd \n",
    "import numpy as np\n",
    "import matplotlib.pyplot as plt\n",
    "import seaborn as sns \n",
    "pd.set_option(\"display.max_columns\", None)"
   ]
  },
  {
   "cell_type": "code",
   "execution_count": 2,
   "metadata": {
    "cell_id": "587cc938-a4af-40de-8f37-2aebfa92d5d1",
    "deepnote_cell_type": "code",
    "deepnote_to_be_reexecuted": false,
    "execution_millis": 1329,
    "execution_start": 1645225722594,
    "source_hash": "bc3f0bc6",
    "tags": []
   },
   "outputs": [
    {
     "data": {
      "text/html": [
       "<div>\n",
       "<style scoped>\n",
       "    .dataframe tbody tr th:only-of-type {\n",
       "        vertical-align: middle;\n",
       "    }\n",
       "\n",
       "    .dataframe tbody tr th {\n",
       "        vertical-align: top;\n",
       "    }\n",
       "\n",
       "    .dataframe thead th {\n",
       "        text-align: right;\n",
       "    }\n",
       "</style>\n",
       "<table border=\"1\" class=\"dataframe\">\n",
       "  <thead>\n",
       "    <tr style=\"text-align: right;\">\n",
       "      <th></th>\n",
       "      <th>id</th>\n",
       "      <th>sex</th>\n",
       "      <th>patient_type</th>\n",
       "      <th>entry_date</th>\n",
       "      <th>date_symptoms</th>\n",
       "      <th>date_died</th>\n",
       "      <th>intubed</th>\n",
       "      <th>pneumonia</th>\n",
       "      <th>age</th>\n",
       "      <th>pregnancy</th>\n",
       "      <th>diabetes</th>\n",
       "      <th>copd</th>\n",
       "      <th>asthma</th>\n",
       "      <th>inmsupr</th>\n",
       "      <th>hypertension</th>\n",
       "      <th>other_disease</th>\n",
       "      <th>cardiovascular</th>\n",
       "      <th>obesity</th>\n",
       "      <th>renal_chronic</th>\n",
       "      <th>tobacco</th>\n",
       "      <th>contact_other_covid</th>\n",
       "      <th>covid_res</th>\n",
       "      <th>icu</th>\n",
       "    </tr>\n",
       "  </thead>\n",
       "  <tbody>\n",
       "    <tr>\n",
       "      <th>0</th>\n",
       "      <td>16169f</td>\n",
       "      <td>2</td>\n",
       "      <td>1</td>\n",
       "      <td>04-05-2020</td>\n",
       "      <td>02-05-2020</td>\n",
       "      <td>9999-99-99</td>\n",
       "      <td>97</td>\n",
       "      <td>2</td>\n",
       "      <td>27</td>\n",
       "      <td>97</td>\n",
       "      <td>2</td>\n",
       "      <td>2</td>\n",
       "      <td>2</td>\n",
       "      <td>2</td>\n",
       "      <td>2</td>\n",
       "      <td>2</td>\n",
       "      <td>2</td>\n",
       "      <td>2</td>\n",
       "      <td>2</td>\n",
       "      <td>2</td>\n",
       "      <td>2</td>\n",
       "      <td>1</td>\n",
       "      <td>97</td>\n",
       "    </tr>\n",
       "    <tr>\n",
       "      <th>1</th>\n",
       "      <td>1009bf</td>\n",
       "      <td>2</td>\n",
       "      <td>1</td>\n",
       "      <td>19-03-2020</td>\n",
       "      <td>17-03-2020</td>\n",
       "      <td>9999-99-99</td>\n",
       "      <td>97</td>\n",
       "      <td>2</td>\n",
       "      <td>24</td>\n",
       "      <td>97</td>\n",
       "      <td>2</td>\n",
       "      <td>2</td>\n",
       "      <td>2</td>\n",
       "      <td>2</td>\n",
       "      <td>2</td>\n",
       "      <td>2</td>\n",
       "      <td>2</td>\n",
       "      <td>2</td>\n",
       "      <td>2</td>\n",
       "      <td>2</td>\n",
       "      <td>99</td>\n",
       "      <td>1</td>\n",
       "      <td>97</td>\n",
       "    </tr>\n",
       "    <tr>\n",
       "      <th>2</th>\n",
       "      <td>167386</td>\n",
       "      <td>1</td>\n",
       "      <td>2</td>\n",
       "      <td>06-04-2020</td>\n",
       "      <td>01-04-2020</td>\n",
       "      <td>9999-99-99</td>\n",
       "      <td>2</td>\n",
       "      <td>2</td>\n",
       "      <td>54</td>\n",
       "      <td>2</td>\n",
       "      <td>2</td>\n",
       "      <td>2</td>\n",
       "      <td>2</td>\n",
       "      <td>2</td>\n",
       "      <td>2</td>\n",
       "      <td>2</td>\n",
       "      <td>2</td>\n",
       "      <td>1</td>\n",
       "      <td>2</td>\n",
       "      <td>2</td>\n",
       "      <td>99</td>\n",
       "      <td>1</td>\n",
       "      <td>2</td>\n",
       "    </tr>\n",
       "    <tr>\n",
       "      <th>3</th>\n",
       "      <td>0b5948</td>\n",
       "      <td>2</td>\n",
       "      <td>2</td>\n",
       "      <td>17-04-2020</td>\n",
       "      <td>10-04-2020</td>\n",
       "      <td>9999-99-99</td>\n",
       "      <td>2</td>\n",
       "      <td>1</td>\n",
       "      <td>30</td>\n",
       "      <td>97</td>\n",
       "      <td>2</td>\n",
       "      <td>2</td>\n",
       "      <td>2</td>\n",
       "      <td>2</td>\n",
       "      <td>2</td>\n",
       "      <td>2</td>\n",
       "      <td>2</td>\n",
       "      <td>2</td>\n",
       "      <td>2</td>\n",
       "      <td>2</td>\n",
       "      <td>99</td>\n",
       "      <td>1</td>\n",
       "      <td>2</td>\n",
       "    </tr>\n",
       "    <tr>\n",
       "      <th>4</th>\n",
       "      <td>0d01b5</td>\n",
       "      <td>1</td>\n",
       "      <td>2</td>\n",
       "      <td>13-04-2020</td>\n",
       "      <td>13-04-2020</td>\n",
       "      <td>22-04-2020</td>\n",
       "      <td>2</td>\n",
       "      <td>2</td>\n",
       "      <td>60</td>\n",
       "      <td>2</td>\n",
       "      <td>1</td>\n",
       "      <td>2</td>\n",
       "      <td>2</td>\n",
       "      <td>2</td>\n",
       "      <td>1</td>\n",
       "      <td>2</td>\n",
       "      <td>1</td>\n",
       "      <td>2</td>\n",
       "      <td>2</td>\n",
       "      <td>2</td>\n",
       "      <td>99</td>\n",
       "      <td>1</td>\n",
       "      <td>2</td>\n",
       "    </tr>\n",
       "  </tbody>\n",
       "</table>\n",
       "</div>"
      ],
      "text/plain": [
       "       id  sex  patient_type  entry_date date_symptoms   date_died  intubed  \\\n",
       "0  16169f    2             1  04-05-2020    02-05-2020  9999-99-99       97   \n",
       "1  1009bf    2             1  19-03-2020    17-03-2020  9999-99-99       97   \n",
       "2  167386    1             2  06-04-2020    01-04-2020  9999-99-99        2   \n",
       "3  0b5948    2             2  17-04-2020    10-04-2020  9999-99-99        2   \n",
       "4  0d01b5    1             2  13-04-2020    13-04-2020  22-04-2020        2   \n",
       "\n",
       "   pneumonia  age  pregnancy  diabetes  copd  asthma  inmsupr  hypertension  \\\n",
       "0          2   27         97         2     2       2        2             2   \n",
       "1          2   24         97         2     2       2        2             2   \n",
       "2          2   54          2         2     2       2        2             2   \n",
       "3          1   30         97         2     2       2        2             2   \n",
       "4          2   60          2         1     2       2        2             1   \n",
       "\n",
       "   other_disease  cardiovascular  obesity  renal_chronic  tobacco  \\\n",
       "0              2               2        2              2        2   \n",
       "1              2               2        2              2        2   \n",
       "2              2               2        1              2        2   \n",
       "3              2               2        2              2        2   \n",
       "4              2               1        2              2        2   \n",
       "\n",
       "   contact_other_covid  covid_res  icu  \n",
       "0                    2          1   97  \n",
       "1                   99          1   97  \n",
       "2                   99          1    2  \n",
       "3                   99          1    2  \n",
       "4                   99          1    2  "
      ]
     },
     "execution_count": 2,
     "metadata": {},
     "output_type": "execute_result"
    }
   ],
   "source": [
    "df = pd.read_csv('./work/covid.csv')\n",
    "df.head()"
   ]
  },
  {
   "cell_type": "markdown",
   "metadata": {
    "cell_id": "eab716ce-d9da-4948-9e15-dbe0ed10012c",
    "deepnote_cell_type": "markdown",
    "tags": []
   },
   "source": [
    "# Análise Exploratória dos Dados"
   ]
  },
  {
   "cell_type": "code",
   "execution_count": 3,
   "metadata": {},
   "outputs": [
    {
     "name": "stdout",
     "output_type": "stream",
     "text": [
      "<class 'pandas.core.frame.DataFrame'>\n",
      "RangeIndex: 566602 entries, 0 to 566601\n",
      "Data columns (total 23 columns):\n",
      " #   Column               Non-Null Count   Dtype \n",
      "---  ------               --------------   ----- \n",
      " 0   id                   566602 non-null  object\n",
      " 1   sex                  566602 non-null  int64 \n",
      " 2   patient_type         566602 non-null  int64 \n",
      " 3   entry_date           566602 non-null  object\n",
      " 4   date_symptoms        566602 non-null  object\n",
      " 5   date_died            566602 non-null  object\n",
      " 6   intubed              566602 non-null  int64 \n",
      " 7   pneumonia            566602 non-null  int64 \n",
      " 8   age                  566602 non-null  int64 \n",
      " 9   pregnancy            566602 non-null  int64 \n",
      " 10  diabetes             566602 non-null  int64 \n",
      " 11  copd                 566602 non-null  int64 \n",
      " 12  asthma               566602 non-null  int64 \n",
      " 13  inmsupr              566602 non-null  int64 \n",
      " 14  hypertension         566602 non-null  int64 \n",
      " 15  other_disease        566602 non-null  int64 \n",
      " 16  cardiovascular       566602 non-null  int64 \n",
      " 17  obesity              566602 non-null  int64 \n",
      " 18  renal_chronic        566602 non-null  int64 \n",
      " 19  tobacco              566602 non-null  int64 \n",
      " 20  contact_other_covid  566602 non-null  int64 \n",
      " 21  covid_res            566602 non-null  int64 \n",
      " 22  icu                  566602 non-null  int64 \n",
      "dtypes: int64(19), object(4)\n",
      "memory usage: 99.4+ MB\n"
     ]
    }
   ],
   "source": [
    "df.info()"
   ]
  },
  {
   "cell_type": "code",
   "execution_count": 4,
   "metadata": {},
   "outputs": [
    {
     "data": {
      "text/html": [
       "<div>\n",
       "<style scoped>\n",
       "    .dataframe tbody tr th:only-of-type {\n",
       "        vertical-align: middle;\n",
       "    }\n",
       "\n",
       "    .dataframe tbody tr th {\n",
       "        vertical-align: top;\n",
       "    }\n",
       "\n",
       "    .dataframe thead th {\n",
       "        text-align: right;\n",
       "    }\n",
       "</style>\n",
       "<table border=\"1\" class=\"dataframe\">\n",
       "  <thead>\n",
       "    <tr style=\"text-align: right;\">\n",
       "      <th></th>\n",
       "      <th>sex</th>\n",
       "      <th>patient_type</th>\n",
       "      <th>intubed</th>\n",
       "      <th>pneumonia</th>\n",
       "      <th>age</th>\n",
       "      <th>pregnancy</th>\n",
       "      <th>diabetes</th>\n",
       "      <th>copd</th>\n",
       "      <th>asthma</th>\n",
       "      <th>inmsupr</th>\n",
       "      <th>hypertension</th>\n",
       "      <th>other_disease</th>\n",
       "      <th>cardiovascular</th>\n",
       "      <th>obesity</th>\n",
       "      <th>renal_chronic</th>\n",
       "      <th>tobacco</th>\n",
       "      <th>contact_other_covid</th>\n",
       "      <th>covid_res</th>\n",
       "      <th>icu</th>\n",
       "    </tr>\n",
       "  </thead>\n",
       "  <tbody>\n",
       "    <tr>\n",
       "      <th>count</th>\n",
       "      <td>566602.000000</td>\n",
       "      <td>566602.000000</td>\n",
       "      <td>566602.000000</td>\n",
       "      <td>566602.000000</td>\n",
       "      <td>566602.000000</td>\n",
       "      <td>566602.000000</td>\n",
       "      <td>566602.000000</td>\n",
       "      <td>566602.000000</td>\n",
       "      <td>566602.000000</td>\n",
       "      <td>566602.000000</td>\n",
       "      <td>566602.000000</td>\n",
       "      <td>566602.000000</td>\n",
       "      <td>566602.000000</td>\n",
       "      <td>566602.000000</td>\n",
       "      <td>566602.000000</td>\n",
       "      <td>566602.000000</td>\n",
       "      <td>566602.000000</td>\n",
       "      <td>566602.000000</td>\n",
       "      <td>566602.000000</td>\n",
       "    </tr>\n",
       "    <tr>\n",
       "      <th>mean</th>\n",
       "      <td>1.506726</td>\n",
       "      <td>1.215165</td>\n",
       "      <td>76.562952</td>\n",
       "      <td>1.846262</td>\n",
       "      <td>42.622483</td>\n",
       "      <td>50.400692</td>\n",
       "      <td>2.210633</td>\n",
       "      <td>2.280221</td>\n",
       "      <td>2.265029</td>\n",
       "      <td>2.319628</td>\n",
       "      <td>2.145774</td>\n",
       "      <td>2.410030</td>\n",
       "      <td>2.286157</td>\n",
       "      <td>2.138905</td>\n",
       "      <td>2.283765</td>\n",
       "      <td>2.238360</td>\n",
       "      <td>31.573034</td>\n",
       "      <td>1.728651</td>\n",
       "      <td>76.562864</td>\n",
       "    </tr>\n",
       "    <tr>\n",
       "      <th>std</th>\n",
       "      <td>0.499955</td>\n",
       "      <td>0.410937</td>\n",
       "      <td>39.058676</td>\n",
       "      <td>0.560939</td>\n",
       "      <td>16.659973</td>\n",
       "      <td>47.501579</td>\n",
       "      <td>5.683523</td>\n",
       "      <td>5.327832</td>\n",
       "      <td>5.334658</td>\n",
       "      <td>5.667381</td>\n",
       "      <td>5.459866</td>\n",
       "      <td>6.489959</td>\n",
       "      <td>5.438405</td>\n",
       "      <td>5.395578</td>\n",
       "      <td>5.393232</td>\n",
       "      <td>5.571901</td>\n",
       "      <td>45.082123</td>\n",
       "      <td>0.658710</td>\n",
       "      <td>39.059060</td>\n",
       "    </tr>\n",
       "    <tr>\n",
       "      <th>min</th>\n",
       "      <td>1.000000</td>\n",
       "      <td>1.000000</td>\n",
       "      <td>1.000000</td>\n",
       "      <td>1.000000</td>\n",
       "      <td>0.000000</td>\n",
       "      <td>1.000000</td>\n",
       "      <td>1.000000</td>\n",
       "      <td>1.000000</td>\n",
       "      <td>1.000000</td>\n",
       "      <td>1.000000</td>\n",
       "      <td>1.000000</td>\n",
       "      <td>1.000000</td>\n",
       "      <td>1.000000</td>\n",
       "      <td>1.000000</td>\n",
       "      <td>1.000000</td>\n",
       "      <td>1.000000</td>\n",
       "      <td>1.000000</td>\n",
       "      <td>1.000000</td>\n",
       "      <td>1.000000</td>\n",
       "    </tr>\n",
       "    <tr>\n",
       "      <th>25%</th>\n",
       "      <td>1.000000</td>\n",
       "      <td>1.000000</td>\n",
       "      <td>97.000000</td>\n",
       "      <td>2.000000</td>\n",
       "      <td>31.000000</td>\n",
       "      <td>2.000000</td>\n",
       "      <td>2.000000</td>\n",
       "      <td>2.000000</td>\n",
       "      <td>2.000000</td>\n",
       "      <td>2.000000</td>\n",
       "      <td>2.000000</td>\n",
       "      <td>2.000000</td>\n",
       "      <td>2.000000</td>\n",
       "      <td>2.000000</td>\n",
       "      <td>2.000000</td>\n",
       "      <td>2.000000</td>\n",
       "      <td>1.000000</td>\n",
       "      <td>1.000000</td>\n",
       "      <td>97.000000</td>\n",
       "    </tr>\n",
       "    <tr>\n",
       "      <th>50%</th>\n",
       "      <td>2.000000</td>\n",
       "      <td>1.000000</td>\n",
       "      <td>97.000000</td>\n",
       "      <td>2.000000</td>\n",
       "      <td>41.000000</td>\n",
       "      <td>97.000000</td>\n",
       "      <td>2.000000</td>\n",
       "      <td>2.000000</td>\n",
       "      <td>2.000000</td>\n",
       "      <td>2.000000</td>\n",
       "      <td>2.000000</td>\n",
       "      <td>2.000000</td>\n",
       "      <td>2.000000</td>\n",
       "      <td>2.000000</td>\n",
       "      <td>2.000000</td>\n",
       "      <td>2.000000</td>\n",
       "      <td>2.000000</td>\n",
       "      <td>2.000000</td>\n",
       "      <td>97.000000</td>\n",
       "    </tr>\n",
       "    <tr>\n",
       "      <th>75%</th>\n",
       "      <td>2.000000</td>\n",
       "      <td>1.000000</td>\n",
       "      <td>97.000000</td>\n",
       "      <td>2.000000</td>\n",
       "      <td>53.000000</td>\n",
       "      <td>97.000000</td>\n",
       "      <td>2.000000</td>\n",
       "      <td>2.000000</td>\n",
       "      <td>2.000000</td>\n",
       "      <td>2.000000</td>\n",
       "      <td>2.000000</td>\n",
       "      <td>2.000000</td>\n",
       "      <td>2.000000</td>\n",
       "      <td>2.000000</td>\n",
       "      <td>2.000000</td>\n",
       "      <td>2.000000</td>\n",
       "      <td>99.000000</td>\n",
       "      <td>2.000000</td>\n",
       "      <td>97.000000</td>\n",
       "    </tr>\n",
       "    <tr>\n",
       "      <th>max</th>\n",
       "      <td>2.000000</td>\n",
       "      <td>2.000000</td>\n",
       "      <td>99.000000</td>\n",
       "      <td>99.000000</td>\n",
       "      <td>120.000000</td>\n",
       "      <td>98.000000</td>\n",
       "      <td>98.000000</td>\n",
       "      <td>98.000000</td>\n",
       "      <td>98.000000</td>\n",
       "      <td>98.000000</td>\n",
       "      <td>98.000000</td>\n",
       "      <td>98.000000</td>\n",
       "      <td>98.000000</td>\n",
       "      <td>98.000000</td>\n",
       "      <td>98.000000</td>\n",
       "      <td>98.000000</td>\n",
       "      <td>99.000000</td>\n",
       "      <td>3.000000</td>\n",
       "      <td>99.000000</td>\n",
       "    </tr>\n",
       "  </tbody>\n",
       "</table>\n",
       "</div>"
      ],
      "text/plain": [
       "                 sex   patient_type        intubed      pneumonia  \\\n",
       "count  566602.000000  566602.000000  566602.000000  566602.000000   \n",
       "mean        1.506726       1.215165      76.562952       1.846262   \n",
       "std         0.499955       0.410937      39.058676       0.560939   \n",
       "min         1.000000       1.000000       1.000000       1.000000   \n",
       "25%         1.000000       1.000000      97.000000       2.000000   \n",
       "50%         2.000000       1.000000      97.000000       2.000000   \n",
       "75%         2.000000       1.000000      97.000000       2.000000   \n",
       "max         2.000000       2.000000      99.000000      99.000000   \n",
       "\n",
       "                 age      pregnancy       diabetes           copd  \\\n",
       "count  566602.000000  566602.000000  566602.000000  566602.000000   \n",
       "mean       42.622483      50.400692       2.210633       2.280221   \n",
       "std        16.659973      47.501579       5.683523       5.327832   \n",
       "min         0.000000       1.000000       1.000000       1.000000   \n",
       "25%        31.000000       2.000000       2.000000       2.000000   \n",
       "50%        41.000000      97.000000       2.000000       2.000000   \n",
       "75%        53.000000      97.000000       2.000000       2.000000   \n",
       "max       120.000000      98.000000      98.000000      98.000000   \n",
       "\n",
       "              asthma        inmsupr   hypertension  other_disease  \\\n",
       "count  566602.000000  566602.000000  566602.000000  566602.000000   \n",
       "mean        2.265029       2.319628       2.145774       2.410030   \n",
       "std         5.334658       5.667381       5.459866       6.489959   \n",
       "min         1.000000       1.000000       1.000000       1.000000   \n",
       "25%         2.000000       2.000000       2.000000       2.000000   \n",
       "50%         2.000000       2.000000       2.000000       2.000000   \n",
       "75%         2.000000       2.000000       2.000000       2.000000   \n",
       "max        98.000000      98.000000      98.000000      98.000000   \n",
       "\n",
       "       cardiovascular        obesity  renal_chronic        tobacco  \\\n",
       "count   566602.000000  566602.000000  566602.000000  566602.000000   \n",
       "mean         2.286157       2.138905       2.283765       2.238360   \n",
       "std          5.438405       5.395578       5.393232       5.571901   \n",
       "min          1.000000       1.000000       1.000000       1.000000   \n",
       "25%          2.000000       2.000000       2.000000       2.000000   \n",
       "50%          2.000000       2.000000       2.000000       2.000000   \n",
       "75%          2.000000       2.000000       2.000000       2.000000   \n",
       "max         98.000000      98.000000      98.000000      98.000000   \n",
       "\n",
       "       contact_other_covid      covid_res            icu  \n",
       "count        566602.000000  566602.000000  566602.000000  \n",
       "mean             31.573034       1.728651      76.562864  \n",
       "std              45.082123       0.658710      39.059060  \n",
       "min               1.000000       1.000000       1.000000  \n",
       "25%               1.000000       1.000000      97.000000  \n",
       "50%               2.000000       2.000000      97.000000  \n",
       "75%              99.000000       2.000000      97.000000  \n",
       "max              99.000000       3.000000      99.000000  "
      ]
     },
     "execution_count": 4,
     "metadata": {},
     "output_type": "execute_result"
    }
   ],
   "source": [
    "df.describe()"
   ]
  },
  {
   "cell_type": "code",
   "execution_count": 5,
   "metadata": {
    "cell_id": "ec648d9e-d4f0-49d6-99bf-ce3b8be477d5",
    "deepnote_cell_type": "code",
    "deepnote_table_loading": false,
    "deepnote_table_state": {
     "filters": [],
     "pageIndex": 0,
     "pageSize": 25,
     "sortBy": []
    },
    "deepnote_to_be_reexecuted": false,
    "execution_millis": 208,
    "execution_start": 1645226004190,
    "source_hash": "d20f9434",
    "tags": []
   },
   "outputs": [
    {
     "data": {
      "text/html": [
       "<div>\n",
       "<style scoped>\n",
       "    .dataframe tbody tr th:only-of-type {\n",
       "        vertical-align: middle;\n",
       "    }\n",
       "\n",
       "    .dataframe tbody tr th {\n",
       "        vertical-align: top;\n",
       "    }\n",
       "\n",
       "    .dataframe thead th {\n",
       "        text-align: right;\n",
       "    }\n",
       "</style>\n",
       "<table border=\"1\" class=\"dataframe\">\n",
       "  <thead>\n",
       "    <tr style=\"text-align: right;\">\n",
       "      <th></th>\n",
       "      <th>id</th>\n",
       "      <th>sex</th>\n",
       "      <th>patient_type</th>\n",
       "      <th>entry_date</th>\n",
       "      <th>date_symptoms</th>\n",
       "      <th>date_died</th>\n",
       "      <th>intubed</th>\n",
       "      <th>pneumonia</th>\n",
       "      <th>age</th>\n",
       "      <th>pregnancy</th>\n",
       "      <th>diabetes</th>\n",
       "      <th>copd</th>\n",
       "      <th>asthma</th>\n",
       "      <th>inmsupr</th>\n",
       "      <th>hypertension</th>\n",
       "      <th>other_disease</th>\n",
       "      <th>cardiovascular</th>\n",
       "      <th>obesity</th>\n",
       "      <th>renal_chronic</th>\n",
       "      <th>tobacco</th>\n",
       "      <th>contact_other_covid</th>\n",
       "      <th>covid_res</th>\n",
       "      <th>icu</th>\n",
       "    </tr>\n",
       "  </thead>\n",
       "  <tbody>\n",
       "    <tr>\n",
       "      <th>0</th>\n",
       "      <td>16169f</td>\n",
       "      <td>2</td>\n",
       "      <td>1</td>\n",
       "      <td>04-05-2020</td>\n",
       "      <td>02-05-2020</td>\n",
       "      <td>9999-99-99</td>\n",
       "      <td>97</td>\n",
       "      <td>2</td>\n",
       "      <td>27</td>\n",
       "      <td>97</td>\n",
       "      <td>2</td>\n",
       "      <td>2</td>\n",
       "      <td>2</td>\n",
       "      <td>2</td>\n",
       "      <td>2</td>\n",
       "      <td>2</td>\n",
       "      <td>2</td>\n",
       "      <td>2</td>\n",
       "      <td>2</td>\n",
       "      <td>2</td>\n",
       "      <td>2</td>\n",
       "      <td>1</td>\n",
       "      <td>97</td>\n",
       "    </tr>\n",
       "    <tr>\n",
       "      <th>1</th>\n",
       "      <td>1009bf</td>\n",
       "      <td>2</td>\n",
       "      <td>1</td>\n",
       "      <td>19-03-2020</td>\n",
       "      <td>17-03-2020</td>\n",
       "      <td>9999-99-99</td>\n",
       "      <td>97</td>\n",
       "      <td>2</td>\n",
       "      <td>24</td>\n",
       "      <td>97</td>\n",
       "      <td>2</td>\n",
       "      <td>2</td>\n",
       "      <td>2</td>\n",
       "      <td>2</td>\n",
       "      <td>2</td>\n",
       "      <td>2</td>\n",
       "      <td>2</td>\n",
       "      <td>2</td>\n",
       "      <td>2</td>\n",
       "      <td>2</td>\n",
       "      <td>99</td>\n",
       "      <td>1</td>\n",
       "      <td>97</td>\n",
       "    </tr>\n",
       "    <tr>\n",
       "      <th>2</th>\n",
       "      <td>167386</td>\n",
       "      <td>1</td>\n",
       "      <td>2</td>\n",
       "      <td>06-04-2020</td>\n",
       "      <td>01-04-2020</td>\n",
       "      <td>9999-99-99</td>\n",
       "      <td>2</td>\n",
       "      <td>2</td>\n",
       "      <td>54</td>\n",
       "      <td>2</td>\n",
       "      <td>2</td>\n",
       "      <td>2</td>\n",
       "      <td>2</td>\n",
       "      <td>2</td>\n",
       "      <td>2</td>\n",
       "      <td>2</td>\n",
       "      <td>2</td>\n",
       "      <td>1</td>\n",
       "      <td>2</td>\n",
       "      <td>2</td>\n",
       "      <td>99</td>\n",
       "      <td>1</td>\n",
       "      <td>2</td>\n",
       "    </tr>\n",
       "    <tr>\n",
       "      <th>3</th>\n",
       "      <td>0b5948</td>\n",
       "      <td>2</td>\n",
       "      <td>2</td>\n",
       "      <td>17-04-2020</td>\n",
       "      <td>10-04-2020</td>\n",
       "      <td>9999-99-99</td>\n",
       "      <td>2</td>\n",
       "      <td>1</td>\n",
       "      <td>30</td>\n",
       "      <td>97</td>\n",
       "      <td>2</td>\n",
       "      <td>2</td>\n",
       "      <td>2</td>\n",
       "      <td>2</td>\n",
       "      <td>2</td>\n",
       "      <td>2</td>\n",
       "      <td>2</td>\n",
       "      <td>2</td>\n",
       "      <td>2</td>\n",
       "      <td>2</td>\n",
       "      <td>99</td>\n",
       "      <td>1</td>\n",
       "      <td>2</td>\n",
       "    </tr>\n",
       "    <tr>\n",
       "      <th>4</th>\n",
       "      <td>0d01b5</td>\n",
       "      <td>1</td>\n",
       "      <td>2</td>\n",
       "      <td>13-04-2020</td>\n",
       "      <td>13-04-2020</td>\n",
       "      <td>22-04-2020</td>\n",
       "      <td>2</td>\n",
       "      <td>2</td>\n",
       "      <td>60</td>\n",
       "      <td>2</td>\n",
       "      <td>1</td>\n",
       "      <td>2</td>\n",
       "      <td>2</td>\n",
       "      <td>2</td>\n",
       "      <td>1</td>\n",
       "      <td>2</td>\n",
       "      <td>1</td>\n",
       "      <td>2</td>\n",
       "      <td>2</td>\n",
       "      <td>2</td>\n",
       "      <td>99</td>\n",
       "      <td>1</td>\n",
       "      <td>2</td>\n",
       "    </tr>\n",
       "  </tbody>\n",
       "</table>\n",
       "</div>"
      ],
      "text/plain": [
       "       id  sex  patient_type  entry_date date_symptoms   date_died  intubed  \\\n",
       "0  16169f    2             1  04-05-2020    02-05-2020  9999-99-99       97   \n",
       "1  1009bf    2             1  19-03-2020    17-03-2020  9999-99-99       97   \n",
       "2  167386    1             2  06-04-2020    01-04-2020  9999-99-99        2   \n",
       "3  0b5948    2             2  17-04-2020    10-04-2020  9999-99-99        2   \n",
       "4  0d01b5    1             2  13-04-2020    13-04-2020  22-04-2020        2   \n",
       "\n",
       "   pneumonia  age  pregnancy  diabetes  copd  asthma  inmsupr  hypertension  \\\n",
       "0          2   27         97         2     2       2        2             2   \n",
       "1          2   24         97         2     2       2        2             2   \n",
       "2          2   54          2         2     2       2        2             2   \n",
       "3          1   30         97         2     2       2        2             2   \n",
       "4          2   60          2         1     2       2        2             1   \n",
       "\n",
       "   other_disease  cardiovascular  obesity  renal_chronic  tobacco  \\\n",
       "0              2               2        2              2        2   \n",
       "1              2               2        2              2        2   \n",
       "2              2               2        1              2        2   \n",
       "3              2               2        2              2        2   \n",
       "4              2               1        2              2        2   \n",
       "\n",
       "   contact_other_covid  covid_res  icu  \n",
       "0                    2          1   97  \n",
       "1                   99          1   97  \n",
       "2                   99          1    2  \n",
       "3                   99          1    2  \n",
       "4                   99          1    2  "
      ]
     },
     "execution_count": 5,
     "metadata": {},
     "output_type": "execute_result"
    }
   ],
   "source": [
    "df.head()"
   ]
  },
  {
   "cell_type": "markdown",
   "metadata": {},
   "source": [
    "Apos analise breve notam-se alguns pontos que ja podem ser melhorados:\n",
    "- Datas de 'date_died' 9999-99-99 -> correspodem a NaN\n",
    "- Colunas categoricas que possuem comportamente atipico:\n",
    "    - 1 indica True e 2 indica False\n",
    "    - Existem outras valores possivéis (97, 98, 99) que devem ser tratados futuramente"
   ]
  },
  {
   "cell_type": "code",
   "execution_count": 6,
   "metadata": {},
   "outputs": [
    {
     "data": {
      "image/png": "[encoded data removed]",
      "text/plain": [
       "<Figure size 900x720 with 2 Axes>"
      ]
     },
     "metadata": {
      "needs_background": "light"
     },
     "output_type": "display_data"
    }
   ],
   "source": [
    "plt.figure(figsize=(10, 8), dpi= 90)\n",
    "sns.heatmap(df.corr().round(1),\n",
    "                annot=True, center=0, vmin=-1, vmax=1,\n",
    "                cmap = \"coolwarm\")\n",
    "plt.show()"
   ]
  },
  {
   "cell_type": "markdown",
   "metadata": {},
   "source": [
    "Existem colunas com alta correlacao, so que depois de fazer o tratamento das colunas categoricas eu rodando o corr novamente, notei q essa correlacao muda bastante. Ao inves de apenas dropar essas colunas eu resolvi avaliar se elas poderao impactar no desempenho"
   ]
  },
  {
   "cell_type": "code",
   "execution_count": 7,
   "metadata": {},
   "outputs": [
    {
     "data": {
      "text/plain": [
       "<AxesSubplot:xlabel='age', ylabel='Count'>"
      ]
     },
     "execution_count": 7,
     "metadata": {},
     "output_type": "execute_result"
    },
    {
     "data": {
      "image/png": "[encoded data removed]",
      "text/plain": [
       "<Figure size 432x288 with 1 Axes>"
      ]
     },
     "metadata": {
      "needs_background": "light"
     },
     "output_type": "display_data"
    }
   ],
   "source": [
    "sns.histplot(data=df[df['covid_res'] == 1], x='age', binwidth=5)"
   ]
  },
  {
   "cell_type": "markdown",
   "metadata": {},
   "source": [
    "# Tratamento de dados"
   ]
  },
  {
   "cell_type": "markdown",
   "metadata": {},
   "source": [
    "## Tratamento de datas"
   ]
  },
  {
   "cell_type": "code",
   "execution_count": 8,
   "metadata": {
    "cell_id": "b3b2b705-a126-4eb9-bbdb-0620fff8fa2f",
    "deepnote_cell_type": "code",
    "deepnote_to_be_reexecuted": false,
    "execution_millis": 80,
    "execution_start": 1645227810249,
    "source_hash": "c92729f1",
    "tags": []
   },
   "outputs": [],
   "source": [
    "# convertendo dados de para datetime \n",
    "df['entry_date'] = pd.to_datetime(df['entry_date'], format= '%d-%m-%Y')\n",
    "df['date_symptoms'] = pd.to_datetime(df['date_symptoms'], format= '%d-%m-%Y')"
   ]
  },
  {
   "cell_type": "code",
   "execution_count": 9,
   "metadata": {},
   "outputs": [],
   "source": [
    "df['date_died'] = df['date_died'].replace({'9999-99-99':np.nan})\n",
    "df['date_died'] = pd.to_datetime(df['date_died'], format= '%d-%m-%Y')"
   ]
  },
  {
   "cell_type": "markdown",
   "metadata": {},
   "source": [
    "## Tratamento de colunas categoricas"
   ]
  },
  {
   "cell_type": "code",
   "execution_count": 10,
   "metadata": {},
   "outputs": [],
   "source": [
    "categorical_cols = ['intubed', 'pneumonia', 'pregnancy', 'diabetes', 'copd', 'asthma', 'inmsupr',\n",
    "                     'hypertension', 'other_disease', 'cardiovascular', 'obesity', 'renal_chronic', \n",
    "                    'tobacco', 'contact_other_covid', 'covid_res', 'icu', 'patient_type']"
   ]
  },
  {
   "cell_type": "markdown",
   "metadata": {},
   "source": [
    "### Analisando valores 2, 3, 97, 98 e 99"
   ]
  },
  {
   "cell_type": "code",
   "execution_count": 11,
   "metadata": {},
   "outputs": [
    {
     "name": "stdout",
     "output_type": "stream",
     "text": [
      "intubed                [97, 2, 1, 99]\n",
      "pneumonia                  [2, 1, 99]\n",
      "pregnancy              [97, 2, 1, 98]\n",
      "diabetes                   [2, 1, 98]\n",
      "copd                       [2, 1, 98]\n",
      "asthma                     [2, 1, 98]\n",
      "inmsupr                    [2, 1, 98]\n",
      "hypertension               [2, 1, 98]\n",
      "other_disease              [2, 1, 98]\n",
      "cardiovascular             [2, 1, 98]\n",
      "obesity                    [2, 1, 98]\n",
      "renal_chronic              [2, 1, 98]\n",
      "tobacco                    [2, 1, 98]\n",
      "contact_other_covid        [2, 99, 1]\n",
      "covid_res                   [1, 2, 3]\n",
      "icu                    [97, 2, 1, 99]\n",
      "patient_type                   [1, 2]\n",
      "dtype: object\n"
     ]
    }
   ],
   "source": [
    "print(df[categorical_cols].apply(lambda col: col.unique()))"
   ]
  },
  {
   "cell_type": "markdown",
   "metadata": {},
   "source": [
    "#### Trocando 2 por 0"
   ]
  },
  {
   "cell_type": "code",
   "execution_count": 12,
   "metadata": {},
   "outputs": [],
   "source": [
    "df[categorical_cols[:-1]] = df[categorical_cols[:-1]].replace({2:0})"
   ]
  },
  {
   "cell_type": "markdown",
   "metadata": {},
   "source": [
    "#### 3 em covid_res\n",
    "Esse valor indica pessoas que ainda estao esperando o resultado do teste, nesse caso irei simplesmente dropas as linhas uma vez que leas nao contribuem para aa analise"
   ]
  },
  {
   "cell_type": "code",
   "execution_count": 13,
   "metadata": {},
   "outputs": [],
   "source": [
    "df = df.drop(df[df['covid_res'] == 3].index)"
   ]
  },
  {
   "cell_type": "markdown",
   "metadata": {},
   "source": [
    "#### 97 em icu e intubed"
   ]
  },
  {
   "cell_type": "code",
   "execution_count": 14,
   "metadata": {},
   "outputs": [
    {
     "data": {
      "text/html": [
       "<div>\n",
       "<style scoped>\n",
       "    .dataframe tbody tr th:only-of-type {\n",
       "        vertical-align: middle;\n",
       "    }\n",
       "\n",
       "    .dataframe tbody tr th {\n",
       "        vertical-align: top;\n",
       "    }\n",
       "\n",
       "    .dataframe thead th {\n",
       "        text-align: right;\n",
       "    }\n",
       "</style>\n",
       "<table border=\"1\" class=\"dataframe\">\n",
       "  <thead>\n",
       "    <tr style=\"text-align: right;\">\n",
       "      <th></th>\n",
       "      <th>id</th>\n",
       "      <th>sex</th>\n",
       "      <th>patient_type</th>\n",
       "      <th>entry_date</th>\n",
       "      <th>date_symptoms</th>\n",
       "      <th>date_died</th>\n",
       "      <th>intubed</th>\n",
       "      <th>pneumonia</th>\n",
       "      <th>age</th>\n",
       "      <th>pregnancy</th>\n",
       "      <th>diabetes</th>\n",
       "      <th>copd</th>\n",
       "      <th>asthma</th>\n",
       "      <th>inmsupr</th>\n",
       "      <th>hypertension</th>\n",
       "      <th>other_disease</th>\n",
       "      <th>cardiovascular</th>\n",
       "      <th>obesity</th>\n",
       "      <th>renal_chronic</th>\n",
       "      <th>tobacco</th>\n",
       "      <th>contact_other_covid</th>\n",
       "      <th>covid_res</th>\n",
       "      <th>icu</th>\n",
       "    </tr>\n",
       "  </thead>\n",
       "  <tbody>\n",
       "    <tr>\n",
       "      <th>0</th>\n",
       "      <td>16169f</td>\n",
       "      <td>2</td>\n",
       "      <td>1</td>\n",
       "      <td>2020-05-04</td>\n",
       "      <td>2020-05-02</td>\n",
       "      <td>NaT</td>\n",
       "      <td>97</td>\n",
       "      <td>0</td>\n",
       "      <td>27</td>\n",
       "      <td>97</td>\n",
       "      <td>0</td>\n",
       "      <td>0</td>\n",
       "      <td>0</td>\n",
       "      <td>0</td>\n",
       "      <td>0</td>\n",
       "      <td>0</td>\n",
       "      <td>0</td>\n",
       "      <td>0</td>\n",
       "      <td>0</td>\n",
       "      <td>0</td>\n",
       "      <td>0</td>\n",
       "      <td>1</td>\n",
       "      <td>97</td>\n",
       "    </tr>\n",
       "    <tr>\n",
       "      <th>1</th>\n",
       "      <td>1009bf</td>\n",
       "      <td>2</td>\n",
       "      <td>1</td>\n",
       "      <td>2020-03-19</td>\n",
       "      <td>2020-03-17</td>\n",
       "      <td>NaT</td>\n",
       "      <td>97</td>\n",
       "      <td>0</td>\n",
       "      <td>24</td>\n",
       "      <td>97</td>\n",
       "      <td>0</td>\n",
       "      <td>0</td>\n",
       "      <td>0</td>\n",
       "      <td>0</td>\n",
       "      <td>0</td>\n",
       "      <td>0</td>\n",
       "      <td>0</td>\n",
       "      <td>0</td>\n",
       "      <td>0</td>\n",
       "      <td>0</td>\n",
       "      <td>99</td>\n",
       "      <td>1</td>\n",
       "      <td>97</td>\n",
       "    </tr>\n",
       "    <tr>\n",
       "      <th>2</th>\n",
       "      <td>167386</td>\n",
       "      <td>1</td>\n",
       "      <td>2</td>\n",
       "      <td>2020-04-06</td>\n",
       "      <td>2020-04-01</td>\n",
       "      <td>NaT</td>\n",
       "      <td>0</td>\n",
       "      <td>0</td>\n",
       "      <td>54</td>\n",
       "      <td>0</td>\n",
       "      <td>0</td>\n",
       "      <td>0</td>\n",
       "      <td>0</td>\n",
       "      <td>0</td>\n",
       "      <td>0</td>\n",
       "      <td>0</td>\n",
       "      <td>0</td>\n",
       "      <td>1</td>\n",
       "      <td>0</td>\n",
       "      <td>0</td>\n",
       "      <td>99</td>\n",
       "      <td>1</td>\n",
       "      <td>0</td>\n",
       "    </tr>\n",
       "    <tr>\n",
       "      <th>3</th>\n",
       "      <td>0b5948</td>\n",
       "      <td>2</td>\n",
       "      <td>2</td>\n",
       "      <td>2020-04-17</td>\n",
       "      <td>2020-04-10</td>\n",
       "      <td>NaT</td>\n",
       "      <td>0</td>\n",
       "      <td>1</td>\n",
       "      <td>30</td>\n",
       "      <td>97</td>\n",
       "      <td>0</td>\n",
       "      <td>0</td>\n",
       "      <td>0</td>\n",
       "      <td>0</td>\n",
       "      <td>0</td>\n",
       "      <td>0</td>\n",
       "      <td>0</td>\n",
       "      <td>0</td>\n",
       "      <td>0</td>\n",
       "      <td>0</td>\n",
       "      <td>99</td>\n",
       "      <td>1</td>\n",
       "      <td>0</td>\n",
       "    </tr>\n",
       "    <tr>\n",
       "      <th>4</th>\n",
       "      <td>0d01b5</td>\n",
       "      <td>1</td>\n",
       "      <td>2</td>\n",
       "      <td>2020-04-13</td>\n",
       "      <td>2020-04-13</td>\n",
       "      <td>2020-04-22</td>\n",
       "      <td>0</td>\n",
       "      <td>0</td>\n",
       "      <td>60</td>\n",
       "      <td>0</td>\n",
       "      <td>1</td>\n",
       "      <td>0</td>\n",
       "      <td>0</td>\n",
       "      <td>0</td>\n",
       "      <td>1</td>\n",
       "      <td>0</td>\n",
       "      <td>1</td>\n",
       "      <td>0</td>\n",
       "      <td>0</td>\n",
       "      <td>0</td>\n",
       "      <td>99</td>\n",
       "      <td>1</td>\n",
       "      <td>0</td>\n",
       "    </tr>\n",
       "  </tbody>\n",
       "</table>\n",
       "</div>"
      ],
      "text/plain": [
       "       id  sex  patient_type entry_date date_symptoms  date_died  intubed  \\\n",
       "0  16169f    2             1 2020-05-04    2020-05-02        NaT       97   \n",
       "1  1009bf    2             1 2020-03-19    2020-03-17        NaT       97   \n",
       "2  167386    1             2 2020-04-06    2020-04-01        NaT        0   \n",
       "3  0b5948    2             2 2020-04-17    2020-04-10        NaT        0   \n",
       "4  0d01b5    1             2 2020-04-13    2020-04-13 2020-04-22        0   \n",
       "\n",
       "   pneumonia  age  pregnancy  diabetes  copd  asthma  inmsupr  hypertension  \\\n",
       "0          0   27         97         0     0       0        0             0   \n",
       "1          0   24         97         0     0       0        0             0   \n",
       "2          0   54          0         0     0       0        0             0   \n",
       "3          1   30         97         0     0       0        0             0   \n",
       "4          0   60          0         1     0       0        0             1   \n",
       "\n",
       "   other_disease  cardiovascular  obesity  renal_chronic  tobacco  \\\n",
       "0              0               0        0              0        0   \n",
       "1              0               0        0              0        0   \n",
       "2              0               0        1              0        0   \n",
       "3              0               0        0              0        0   \n",
       "4              0               1        0              0        0   \n",
       "\n",
       "   contact_other_covid  covid_res  icu  \n",
       "0                    0          1   97  \n",
       "1                   99          1   97  \n",
       "2                   99          1    0  \n",
       "3                   99          1    0  \n",
       "4                   99          1    0  "
      ]
     },
     "execution_count": 14,
     "metadata": {},
     "output_type": "execute_result"
    }
   ],
   "source": [
    "df.head()"
   ]
  },
  {
   "cell_type": "code",
   "execution_count": 15,
   "metadata": {},
   "outputs": [
    {
     "data": {
      "text/plain": [
       "icu   patient_type  intubed\n",
       "97.0  1.0           97.0       392146\n",
       "dtype: int64"
      ]
     },
     "execution_count": 15,
     "metadata": {},
     "output_type": "execute_result"
    }
   ],
   "source": [
    "df[['icu', 'patient_type', 'intubed']].where(df['icu'] == 97).value_counts()"
   ]
  },
  {
   "cell_type": "markdown",
   "metadata": {},
   "source": [
    "Aparentemente 97 nos casos de ICU e Intubed ocorre quando o paciente foi ambulatorio, o que realmente faz sentido, ja que se o paciente nao precisou ser internado ele obviamente nao foi intubado ou precisou de UTI."
   ]
  },
  {
   "cell_type": "code",
   "execution_count": 16,
   "metadata": {},
   "outputs": [],
   "source": [
    "df[['icu','intubed']] = df[['icu','intubed']].replace({97:0})"
   ]
  },
  {
   "cell_type": "markdown",
   "metadata": {},
   "source": [
    "#### 97 em pregnancy"
   ]
  },
  {
   "cell_type": "code",
   "execution_count": 17,
   "metadata": {},
   "outputs": [
    {
     "data": {
      "text/plain": [
       "pregnancy  sex\n",
       "97.0       2.0    253098\n",
       "dtype: int64"
      ]
     },
     "execution_count": 17,
     "metadata": {},
     "output_type": "execute_result"
    }
   ],
   "source": [
    "df[['pregnancy','sex']].where(df['pregnancy'] == 97).value_counts()"
   ]
  },
  {
   "cell_type": "code",
   "execution_count": 18,
   "metadata": {},
   "outputs": [],
   "source": [
    "df['pregnancy'] = df['pregnancy'].replace({97:0})"
   ]
  },
  {
   "cell_type": "markdown",
   "metadata": {},
   "source": [
    "No caso do 97 em pregnancy se aplica aos homens"
   ]
  },
  {
   "cell_type": "markdown",
   "metadata": {},
   "source": [
    "#### 98's\n",
    "Em primeiro mommento vou assumir que os 98 sao relevantes para analise, vou manter eles e tratar como uma categoria valida.\n",
    "\n",
    "Para futuro vale avaliar dropar eles e reavaliar o modelo"
   ]
  },
  {
   "cell_type": "code",
   "execution_count": 19,
   "metadata": {},
   "outputs": [
    {
     "data": {
      "text/plain": [
       "4613"
      ]
     },
     "execution_count": 19,
     "metadata": {},
     "output_type": "execute_result"
    }
   ],
   "source": [
    "df[categorical_cols].where(df==98).any(axis=1).sum()"
   ]
  },
  {
   "cell_type": "markdown",
   "metadata": {},
   "source": [
    "#### 99's (NaN's)"
   ]
  },
  {
   "cell_type": "code",
   "execution_count": 20,
   "metadata": {},
   "outputs": [
    {
     "data": {
      "text/plain": [
       "id                          0\n",
       "sex                         0\n",
       "patient_type                0\n",
       "entry_date                  0\n",
       "date_symptoms               0\n",
       "date_died              465571\n",
       "intubed                   122\n",
       "pneumonia                  11\n",
       "age                         0\n",
       "pregnancy                   0\n",
       "diabetes                    0\n",
       "copd                        0\n",
       "asthma                      0\n",
       "inmsupr                     0\n",
       "hypertension                0\n",
       "other_disease               0\n",
       "cardiovascular              0\n",
       "obesity                     0\n",
       "renal_chronic               0\n",
       "tobacco                     0\n",
       "contact_other_covid    153675\n",
       "covid_res                   0\n",
       "icu                       123\n",
       "dtype: int64"
      ]
     },
     "execution_count": 20,
     "metadata": {},
     "output_type": "execute_result"
    }
   ],
   "source": [
    "df[categorical_cols] = df[categorical_cols].replace({99: np.nan})\n",
    "df.isna().sum()"
   ]
  },
  {
   "cell_type": "markdown",
   "metadata": {},
   "source": [
    "Para 'intubed', 'pneumonia', 'icu', onde ocorrem poucos NaN's, vou usar a moda para dar o fill."
   ]
  },
  {
   "cell_type": "code",
   "execution_count": 21,
   "metadata": {},
   "outputs": [],
   "source": [
    "from sklearn.impute import SimpleImputer\n",
    "\n",
    "imputer = SimpleImputer(strategy='most_frequent')\n",
    "df[['intubed', 'pneumonia', 'icu']] = imputer.fit_transform(df[['intubed', 'pneumonia', 'icu']])"
   ]
  },
  {
   "cell_type": "markdown",
   "metadata": {},
   "source": [
    "Para 'contact_other_covid', onde os NaN's representam uma parte significativa dos dados, vou tratar como uma nova categoria"
   ]
  },
  {
   "cell_type": "code",
   "execution_count": 22,
   "metadata": {},
   "outputs": [],
   "source": [
    "imputer = SimpleImputer(strategy='constant', fill_value=2)\n",
    "df[['contact_other_covid']] = imputer.fit_transform(df[['contact_other_covid']])"
   ]
  },
  {
   "cell_type": "markdown",
   "metadata": {},
   "source": [
    "## Feature engineering"
   ]
  },
  {
   "cell_type": "markdown",
   "metadata": {},
   "source": [
    "### Feature Died\n",
    "Se date_died e NaN entao e 0 senao 1"
   ]
  },
  {
   "cell_type": "code",
   "execution_count": 23,
   "metadata": {},
   "outputs": [],
   "source": [
    "df['died'] = np.where(df['date_died'].isna(), 0, 1)"
   ]
  },
  {
   "cell_type": "markdown",
   "metadata": {},
   "source": [
    "### Feature entry_symptoms_time\n",
    "Diferenca entre data do primeiro sintoma e de entrada"
   ]
  },
  {
   "cell_type": "code",
   "execution_count": 24,
   "metadata": {},
   "outputs": [],
   "source": [
    "df['entry_symptoms_time'] = (df['entry_date'] - df['date_symptoms']).dt.days"
   ]
  },
  {
   "cell_type": "code",
   "execution_count": 25,
   "metadata": {},
   "outputs": [
    {
     "data": {
      "text/plain": [
       "array([ 0,  1,  2,  3,  4,  5,  6,  7,  8,  9, 10, 11, 12, 13, 14, 15, 16,\n",
       "       17, 18, 19, 20, 21, 22, 23, 24, 25, 26, 27, 28, 29, 30, 31, 32, 33,\n",
       "       34, 35, 36, 37, 38, 39, 40, 41, 42, 48, 49, 51, 53, 58, 59, 60, 62,\n",
       "       63, 65, 68, 69, 70, 83, 89, 90], dtype=int64)"
      ]
     },
     "execution_count": 25,
     "metadata": {},
     "output_type": "execute_result"
    }
   ],
   "source": [
    "np.sort(df['entry_symptoms_time'].unique())"
   ]
  },
  {
   "cell_type": "markdown",
   "metadata": {},
   "source": [
    "### Feature has_disease\n",
    "Caso tenha qualquer uma das doencas ['diabetes', 'copd', 'asthma', 'inmsupr', 'hypertension', 'cardiovascular', 'obesity', 'renal_chronic'] fica como true"
   ]
  },
  {
   "cell_type": "code",
   "execution_count": 26,
   "metadata": {},
   "outputs": [],
   "source": [
    "diseases_col = ['diabetes', 'copd', 'asthma', 'inmsupr', 'hypertension','other_disease', 'cardiovascular', 'obesity', 'renal_chronic']\n",
    "df['has_disease'] = np.where(df[df[diseases_col] == 1].any(axis=1), 0, 1)"
   ]
  },
  {
   "cell_type": "markdown",
   "metadata": {},
   "source": [
    "# Análise Pt. 2"
   ]
  },
  {
   "cell_type": "markdown",
   "metadata": {},
   "source": [
    "No inicio da pandemia o numero de infectados, e consequentemente, o numero de teste positivos foi muito baixo, contudo com desenvolvimento esse numero aumenta"
   ]
  },
  {
   "cell_type": "code",
   "execution_count": 27,
   "metadata": {},
   "outputs": [
    {
     "data": {
      "text/plain": [
       "<AxesSubplot:xlabel='entry_date', ylabel='covid_res'>"
      ]
     },
     "execution_count": 27,
     "metadata": {},
     "output_type": "execute_result"
    },
    {
     "data": {
      "image/png": "[encoded data removed]",
      "text/plain": [
       "<Figure size 432x288 with 1 Axes>"
      ]
     },
     "metadata": {
      "needs_background": "light"
     },
     "output_type": "display_data"
    }
   ],
   "source": [
    "sns.barplot(x=df['entry_date'].dt.month, y=df['covid_res'])"
   ]
  },
  {
   "cell_type": "code",
   "execution_count": 28,
   "metadata": {},
   "outputs": [
    {
     "data": {
      "text/plain": [
       "<AxesSubplot:xlabel='entry_date', ylabel='count'>"
      ]
     },
     "execution_count": 28,
     "metadata": {},
     "output_type": "execute_result"
    },
    {
     "data": {
      "image/png": "[encoded data removed]",
      "text/plain": [
       "<Figure size 432x288 with 1 Axes>"
      ]
     },
     "metadata": {
      "needs_background": "light"
     },
     "output_type": "display_data"
    }
   ],
   "source": [
    "sns.countplot(x=df['entry_date'].dt.month, hue=df['covid_res'])"
   ]
  },
  {
   "cell_type": "code",
   "execution_count": 29,
   "metadata": {},
   "outputs": [
    {
     "data": {
      "text/plain": [
       "<AxesSubplot:xlabel='has_disease', ylabel='count'>"
      ]
     },
     "execution_count": 29,
     "metadata": {},
     "output_type": "execute_result"
    },
    {
     "data": {
      "image/png": "[encoded data removed]",
      "text/plain": [
       "<Figure size 432x288 with 1 Axes>"
      ]
     },
     "metadata": {
      "needs_background": "light"
     },
     "output_type": "display_data"
    }
   ],
   "source": [
    "sns.countplot(data=df[df['covid_res'] == 1], x='has_disease', hue='patient_type')"
   ]
  },
  {
   "cell_type": "markdown",
   "metadata": {},
   "source": [
    "Obs.: em patient_type, 1 indica que e uma paciente de ambulatorio e 2 uma paciente internado"
   ]
  },
  {
   "cell_type": "code",
   "execution_count": 30,
   "metadata": {},
   "outputs": [
    {
     "data": {
      "text/plain": [
       "1.0    27121\n",
       "0.0     7000\n",
       "Name: covid_res, dtype: int64"
      ]
     },
     "execution_count": 30,
     "metadata": {},
     "output_type": "execute_result"
    }
   ],
   "source": [
    "df[df['died'] == 1].covid_res.value_counts()"
   ]
  },
  {
   "cell_type": "code",
   "execution_count": 31,
   "metadata": {},
   "outputs": [
    {
     "data": {
      "text/html": [
       "<div>\n",
       "<style scoped>\n",
       "    .dataframe tbody tr th:only-of-type {\n",
       "        vertical-align: middle;\n",
       "    }\n",
       "\n",
       "    .dataframe tbody tr th {\n",
       "        vertical-align: top;\n",
       "    }\n",
       "\n",
       "    .dataframe thead th {\n",
       "        text-align: right;\n",
       "    }\n",
       "</style>\n",
       "<table border=\"1\" class=\"dataframe\">\n",
       "  <thead>\n",
       "    <tr style=\"text-align: right;\">\n",
       "      <th></th>\n",
       "      <th>id</th>\n",
       "      <th>sex</th>\n",
       "      <th>patient_type</th>\n",
       "      <th>entry_date</th>\n",
       "      <th>date_symptoms</th>\n",
       "      <th>date_died</th>\n",
       "      <th>intubed</th>\n",
       "      <th>pneumonia</th>\n",
       "      <th>age</th>\n",
       "      <th>pregnancy</th>\n",
       "      <th>diabetes</th>\n",
       "      <th>copd</th>\n",
       "      <th>asthma</th>\n",
       "      <th>inmsupr</th>\n",
       "      <th>hypertension</th>\n",
       "      <th>other_disease</th>\n",
       "      <th>cardiovascular</th>\n",
       "      <th>obesity</th>\n",
       "      <th>renal_chronic</th>\n",
       "      <th>tobacco</th>\n",
       "      <th>contact_other_covid</th>\n",
       "      <th>covid_res</th>\n",
       "      <th>icu</th>\n",
       "      <th>died</th>\n",
       "      <th>entry_symptoms_time</th>\n",
       "      <th>has_disease</th>\n",
       "    </tr>\n",
       "  </thead>\n",
       "  <tbody>\n",
       "    <tr>\n",
       "      <th>0</th>\n",
       "      <td>16169f</td>\n",
       "      <td>2</td>\n",
       "      <td>1.0</td>\n",
       "      <td>2020-05-04</td>\n",
       "      <td>2020-05-02</td>\n",
       "      <td>NaT</td>\n",
       "      <td>0.0</td>\n",
       "      <td>0.0</td>\n",
       "      <td>27</td>\n",
       "      <td>0.0</td>\n",
       "      <td>0.0</td>\n",
       "      <td>0.0</td>\n",
       "      <td>0.0</td>\n",
       "      <td>0.0</td>\n",
       "      <td>0.0</td>\n",
       "      <td>0.0</td>\n",
       "      <td>0.0</td>\n",
       "      <td>0.0</td>\n",
       "      <td>0.0</td>\n",
       "      <td>0.0</td>\n",
       "      <td>0.0</td>\n",
       "      <td>1.0</td>\n",
       "      <td>0.0</td>\n",
       "      <td>0</td>\n",
       "      <td>2</td>\n",
       "      <td>1</td>\n",
       "    </tr>\n",
       "    <tr>\n",
       "      <th>1</th>\n",
       "      <td>1009bf</td>\n",
       "      <td>2</td>\n",
       "      <td>1.0</td>\n",
       "      <td>2020-03-19</td>\n",
       "      <td>2020-03-17</td>\n",
       "      <td>NaT</td>\n",
       "      <td>0.0</td>\n",
       "      <td>0.0</td>\n",
       "      <td>24</td>\n",
       "      <td>0.0</td>\n",
       "      <td>0.0</td>\n",
       "      <td>0.0</td>\n",
       "      <td>0.0</td>\n",
       "      <td>0.0</td>\n",
       "      <td>0.0</td>\n",
       "      <td>0.0</td>\n",
       "      <td>0.0</td>\n",
       "      <td>0.0</td>\n",
       "      <td>0.0</td>\n",
       "      <td>0.0</td>\n",
       "      <td>2.0</td>\n",
       "      <td>1.0</td>\n",
       "      <td>0.0</td>\n",
       "      <td>0</td>\n",
       "      <td>2</td>\n",
       "      <td>1</td>\n",
       "    </tr>\n",
       "    <tr>\n",
       "      <th>2</th>\n",
       "      <td>167386</td>\n",
       "      <td>1</td>\n",
       "      <td>2.0</td>\n",
       "      <td>2020-04-06</td>\n",
       "      <td>2020-04-01</td>\n",
       "      <td>NaT</td>\n",
       "      <td>0.0</td>\n",
       "      <td>0.0</td>\n",
       "      <td>54</td>\n",
       "      <td>0.0</td>\n",
       "      <td>0.0</td>\n",
       "      <td>0.0</td>\n",
       "      <td>0.0</td>\n",
       "      <td>0.0</td>\n",
       "      <td>0.0</td>\n",
       "      <td>0.0</td>\n",
       "      <td>0.0</td>\n",
       "      <td>1.0</td>\n",
       "      <td>0.0</td>\n",
       "      <td>0.0</td>\n",
       "      <td>2.0</td>\n",
       "      <td>1.0</td>\n",
       "      <td>0.0</td>\n",
       "      <td>0</td>\n",
       "      <td>5</td>\n",
       "      <td>0</td>\n",
       "    </tr>\n",
       "    <tr>\n",
       "      <th>3</th>\n",
       "      <td>0b5948</td>\n",
       "      <td>2</td>\n",
       "      <td>2.0</td>\n",
       "      <td>2020-04-17</td>\n",
       "      <td>2020-04-10</td>\n",
       "      <td>NaT</td>\n",
       "      <td>0.0</td>\n",
       "      <td>1.0</td>\n",
       "      <td>30</td>\n",
       "      <td>0.0</td>\n",
       "      <td>0.0</td>\n",
       "      <td>0.0</td>\n",
       "      <td>0.0</td>\n",
       "      <td>0.0</td>\n",
       "      <td>0.0</td>\n",
       "      <td>0.0</td>\n",
       "      <td>0.0</td>\n",
       "      <td>0.0</td>\n",
       "      <td>0.0</td>\n",
       "      <td>0.0</td>\n",
       "      <td>2.0</td>\n",
       "      <td>1.0</td>\n",
       "      <td>0.0</td>\n",
       "      <td>0</td>\n",
       "      <td>7</td>\n",
       "      <td>1</td>\n",
       "    </tr>\n",
       "    <tr>\n",
       "      <th>4</th>\n",
       "      <td>0d01b5</td>\n",
       "      <td>1</td>\n",
       "      <td>2.0</td>\n",
       "      <td>2020-04-13</td>\n",
       "      <td>2020-04-13</td>\n",
       "      <td>2020-04-22</td>\n",
       "      <td>0.0</td>\n",
       "      <td>0.0</td>\n",
       "      <td>60</td>\n",
       "      <td>0.0</td>\n",
       "      <td>1.0</td>\n",
       "      <td>0.0</td>\n",
       "      <td>0.0</td>\n",
       "      <td>0.0</td>\n",
       "      <td>1.0</td>\n",
       "      <td>0.0</td>\n",
       "      <td>1.0</td>\n",
       "      <td>0.0</td>\n",
       "      <td>0.0</td>\n",
       "      <td>0.0</td>\n",
       "      <td>2.0</td>\n",
       "      <td>1.0</td>\n",
       "      <td>0.0</td>\n",
       "      <td>1</td>\n",
       "      <td>0</td>\n",
       "      <td>0</td>\n",
       "    </tr>\n",
       "  </tbody>\n",
       "</table>\n",
       "</div>"
      ],
      "text/plain": [
       "       id  sex  patient_type entry_date date_symptoms  date_died  intubed  \\\n",
       "0  16169f    2           1.0 2020-05-04    2020-05-02        NaT      0.0   \n",
       "1  1009bf    2           1.0 2020-03-19    2020-03-17        NaT      0.0   \n",
       "2  167386    1           2.0 2020-04-06    2020-04-01        NaT      0.0   \n",
       "3  0b5948    2           2.0 2020-04-17    2020-04-10        NaT      0.0   \n",
       "4  0d01b5    1           2.0 2020-04-13    2020-04-13 2020-04-22      0.0   \n",
       "\n",
       "   pneumonia  age  pregnancy  diabetes  copd  asthma  inmsupr  hypertension  \\\n",
       "0        0.0   27        0.0       0.0   0.0     0.0      0.0           0.0   \n",
       "1        0.0   24        0.0       0.0   0.0     0.0      0.0           0.0   \n",
       "2        0.0   54        0.0       0.0   0.0     0.0      0.0           0.0   \n",
       "3        1.0   30        0.0       0.0   0.0     0.0      0.0           0.0   \n",
       "4        0.0   60        0.0       1.0   0.0     0.0      0.0           1.0   \n",
       "\n",
       "   other_disease  cardiovascular  obesity  renal_chronic  tobacco  \\\n",
       "0            0.0             0.0      0.0            0.0      0.0   \n",
       "1            0.0             0.0      0.0            0.0      0.0   \n",
       "2            0.0             0.0      1.0            0.0      0.0   \n",
       "3            0.0             0.0      0.0            0.0      0.0   \n",
       "4            0.0             1.0      0.0            0.0      0.0   \n",
       "\n",
       "   contact_other_covid  covid_res  icu  died  entry_symptoms_time  has_disease  \n",
       "0                  0.0        1.0  0.0     0                    2            1  \n",
       "1                  2.0        1.0  0.0     0                    2            1  \n",
       "2                  2.0        1.0  0.0     0                    5            0  \n",
       "3                  2.0        1.0  0.0     0                    7            1  \n",
       "4                  2.0        1.0  0.0     1                    0            0  "
      ]
     },
     "execution_count": 31,
     "metadata": {},
     "output_type": "execute_result"
    }
   ],
   "source": [
    "df.head()"
   ]
  },
  {
   "cell_type": "markdown",
   "metadata": {},
   "source": [
    "# Modelagem\n",
    "Para avaliar desempenho de nosso modelo nos vamos utilizar a metrica de **recall** e **ROC AUC**. Escolhemos essa metrica porque no caso de doencas infecciosas queremos minimizar os falsos negativos, ja que caso alguem infectado receba um teste negativo ela continuara espalhando a doenca. Pode-se argumentar que os falsos positivos causariam gastos com tratamento e prevencao da doenca, mas no caso do COVID esses gastos sao relativamente baixos, uma vez que um paciente que testou positivo pode ser encaminhado para quarentena em casa."
   ]
  },
  {
   "cell_type": "code",
   "execution_count": 32,
   "metadata": {},
   "outputs": [],
   "source": [
    "from sklearn.metrics import classification_report\n",
    "from sklearn.metrics import roc_auc_score\n",
    "from sklearn.model_selection import train_test_split\n",
    "\n",
    "\n",
    "from sklearn.feature_selection import SelectKBest\n",
    "from sklearn.feature_selection import chi2\n",
    "\n",
    "from sklearn.preprocessing import StandardScaler\n",
    "from sklearn.preprocessing import OneHotEncoder\n",
    "from sklearn.preprocessing import OrdinalEncoder\n",
    "\n",
    "from sklearn.pipeline import Pipeline\n",
    "from sklearn.compose import ColumnTransformer\n",
    "\n",
    "from sklearn.neighbors import KNeighborsClassifier\n",
    "from sklearn.ensemble import RandomForestClassifier\n"
   ]
  },
  {
   "cell_type": "code",
   "execution_count": 33,
   "metadata": {},
   "outputs": [],
   "source": [
    "# Ja dropando colunas que nao serao usadas\n",
    "X = df.drop(columns=['covid_res', 'id', 'entry_date', 'date_symptoms', 'date_died']) \n",
    "y = df['covid_res']\n",
    "X_train, X_test, y_train, y_test = train_test_split(X, y, train_size=0.7, stratify=y, random_state=42)"
   ]
  },
  {
   "cell_type": "markdown",
   "metadata": {},
   "source": [
    "## Baseline Geral\n",
    "Um baseline geral para todos modelos seria caso o paciente tenha qualquer outra doenca testar ele como positivo"
   ]
  },
  {
   "cell_type": "code",
   "execution_count": 34,
   "metadata": {},
   "outputs": [
    {
     "name": "stdout",
     "output_type": "stream",
     "text": [
      "              precision    recall  f1-score   support\n",
      "\n",
      "         0.0       0.49      0.33      0.39     83711\n",
      "         1.0       0.40      0.56      0.47     66197\n",
      "\n",
      "    accuracy                           0.43    149908\n",
      "   macro avg       0.44      0.45      0.43    149908\n",
      "weighted avg       0.45      0.43      0.43    149908\n",
      "\n"
     ]
    },
    {
     "data": {
      "text/plain": [
       "0.44728335406485653"
      ]
     },
     "execution_count": 34,
     "metadata": {},
     "output_type": "execute_result"
    }
   ],
   "source": [
    "y_pred = np.where(X_test['has_disease'] == 1, 1, 0)\n",
    "print(classification_report(y_test, y_pred))\n",
    "roc_auc_score(y_test, y_pred)"
   ]
  },
  {
   "cell_type": "code",
   "execution_count": 35,
   "metadata": {},
   "outputs": [
    {
     "data": {
      "text/plain": [
       "SelectKBest(k='all', score_func=<function chi2 at 0x0000019D121544C8>)"
      ]
     },
     "execution_count": 35,
     "metadata": {},
     "output_type": "execute_result"
    }
   ],
   "source": [
    "fs = SelectKBest(score_func=chi2, k='all')\n",
    "fs.fit(X_train, y_train)"
   ]
  },
  {
   "cell_type": "code",
   "execution_count": 36,
   "metadata": {},
   "outputs": [
    {
     "name": "stdout",
     "output_type": "stream",
     "text": [
      "Feature sex 0: 307.761745\n",
      "Feature contact_other_covid 16: 1027.150161\n",
      "Feature icu 17: 1096.738609\n",
      "Feature has_disease 20: 1533.911564\n",
      "Feature pregnancy 5: 1641.554150\n",
      "Feature patient_type 1: 2006.381246\n",
      "Feature intubed 2: 2034.526180\n",
      "Feature tobacco 15: 3635.856615\n",
      "Feature asthma 8: 4116.736960\n",
      "Feature inmsupr 9: 4203.012774\n",
      "Feature copd 7: 4214.147445\n",
      "Feature other_disease 11: 4349.099056\n",
      "Feature renal_chronic 14: 4596.717986\n",
      "Feature cardiovascular 12: 5504.306295\n",
      "Feature hypertension 10: 7525.075801\n",
      "Feature diabetes 6: 7700.820108\n",
      "Feature obesity 13: 7948.218637\n",
      "Feature pneumonia 3: 12028.082276\n",
      "Feature died 18: 12202.924182\n",
      "Feature entry_symptoms_time 19: 23583.811034\n",
      "Feature age 4: 63531.076138\n"
     ]
    }
   ],
   "source": [
    "for i, val in sorted([(i, val) for i, val in enumerate(fs.scores_)], key=lambda x: x[1]):\n",
    "\tprint('Feature %s %d: %f' % (X_train.columns[i], i, fs.scores_[i]))"
   ]
  },
  {
   "cell_type": "markdown",
   "metadata": {},
   "source": [
    "## KNN\n",
    "best performance -> ROC 0.589"
   ]
  },
  {
   "cell_type": "markdown",
   "metadata": {},
   "source": [
    "### Modelo 1"
   ]
  },
  {
   "cell_type": "code",
   "execution_count": 37,
   "metadata": {},
   "outputs": [],
   "source": [
    "# Criando uma pipe generalizada para depois testar diferentes features\n",
    "modelo = KNeighborsClassifier()\n",
    "\n",
    "# Selecao das colunas\n",
    "numeric_features = ['age', 'entry_symptoms_time']\n",
    "categorical_features = ['sex', 'patient_type', 'pregnancy', 'intubed', 'contact_other_covid', 'icu', 'died', 'has_disease']\n",
    "\n",
    "# Criacao do tratamento de cada tipo de col\n",
    "categorical_pipe = Pipeline([\n",
    "    ('onehot', OneHotEncoder(drop='if_binary'))\n",
    "])\n",
    "\n",
    "numeric_pipe = Pipeline([\n",
    "    ('normalize', StandardScaler())\n",
    "])\n",
    "\n",
    "column_processing = ColumnTransformer([\n",
    "    ('num', numeric_pipe, numeric_features),\n",
    "    ('cat', categorical_pipe, categorical_features)\n",
    "])\n",
    "\n",
    "# Motando a pipe em si\n",
    "knn_pipe = Pipeline([\n",
    "    ('preprocessing', column_processing),\n",
    "    ('model', modelo)\n",
    "])"
   ]
  },
  {
   "cell_type": "code",
   "execution_count": 50,
   "metadata": {},
   "outputs": [
    {
     "data": {
      "text/plain": [
       "Pipeline(steps=[('preprocessing',\n",
       "                 ColumnTransformer(transformers=[('num',\n",
       "                                                  Pipeline(steps=[('normalize',\n",
       "                                                                   StandardScaler())]),\n",
       "                                                  ['age',\n",
       "                                                   'entry_symptoms_time']),\n",
       "                                                 ('cat',\n",
       "                                                  Pipeline(steps=[('onehot',\n",
       "                                                                   OneHotEncoder(drop='if_binary'))]),\n",
       "                                                  ['hypertension', 'diabetes',\n",
       "                                                   'obesity', 'pneumonia',\n",
       "                                                   'died'])])),\n",
       "                ('model', KNeighborsClassifier())])"
      ]
     },
     "execution_count": 50,
     "metadata": {},
     "output_type": "execute_result"
    }
   ],
   "source": [
    "knn_pipe.fit(X_train, y_train)"
   ]
  },
  {
   "cell_type": "code",
   "execution_count": 39,
   "metadata": {},
   "outputs": [
    {
     "name": "stdout",
     "output_type": "stream",
     "text": [
      "              precision    recall  f1-score   support\n",
      "\n",
      "         0.0       0.63      0.68      0.65     83711\n",
      "         1.0       0.55      0.50      0.52     66197\n",
      "\n",
      "    accuracy                           0.60    149908\n",
      "   macro avg       0.59      0.59      0.59    149908\n",
      "weighted avg       0.60      0.60      0.60    149908\n",
      "\n"
     ]
    },
    {
     "data": {
      "text/plain": [
       "0.5894659707085355"
      ]
     },
     "execution_count": 39,
     "metadata": {},
     "output_type": "execute_result"
    }
   ],
   "source": [
    "y_pred = knn_pipe.predict(X_test)\n",
    "print(classification_report(y_test, y_pred))\n",
    "roc_auc_score(y_test, y_pred)"
   ]
  },
  {
   "cell_type": "markdown",
   "metadata": {},
   "source": [
    "### Modelo 2"
   ]
  },
  {
   "cell_type": "code",
   "execution_count": 40,
   "metadata": {},
   "outputs": [],
   "source": [
    "categorical_features = ['hypertension', 'diabetes', 'obesity', 'pneumonia', 'died']"
   ]
  },
  {
   "cell_type": "code",
   "execution_count": 41,
   "metadata": {},
   "outputs": [
    {
     "data": {
      "text/plain": [
       "ColumnTransformer(transformers=[('num',\n",
       "                                 Pipeline(steps=[('normalize',\n",
       "                                                  StandardScaler())]),\n",
       "                                 ['age', 'entry_symptoms_time']),\n",
       "                                ('cat',\n",
       "                                 Pipeline(steps=[('onehot',\n",
       "                                                  OneHotEncoder(drop='if_binary'))]),\n",
       "                                 ['hypertension', 'diabetes', 'obesity',\n",
       "                                  'pneumonia', 'died'])])"
      ]
     },
     "execution_count": 41,
     "metadata": {},
     "output_type": "execute_result"
    }
   ],
   "source": [
    "column_processing.set_params(transformers=[\n",
    "    ('num', numeric_pipe, numeric_features),\n",
    "    ('cat', categorical_pipe, categorical_features)\n",
    "])"
   ]
  },
  {
   "cell_type": "code",
   "execution_count": 42,
   "metadata": {},
   "outputs": [
    {
     "name": "stdout",
     "output_type": "stream",
     "text": [
      "              precision    recall  f1-score   support\n",
      "\n",
      "         0.0       0.62      0.67      0.64     83711\n",
      "         1.0       0.54      0.49      0.51     66197\n",
      "\n",
      "    accuracy                           0.59    149908\n",
      "   macro avg       0.58      0.58      0.58    149908\n",
      "weighted avg       0.58      0.59      0.58    149908\n",
      "\n"
     ]
    },
    {
     "data": {
      "text/plain": [
       "0.5762512771356432"
      ]
     },
     "execution_count": 42,
     "metadata": {},
     "output_type": "execute_result"
    }
   ],
   "source": [
    "knn_pipe.fit(X_train, y_train)\n",
    "y_pred = knn_pipe.predict(X_test)\n",
    "print(classification_report(y_test, y_pred))\n",
    "roc_auc_score(y_test, y_pred)"
   ]
  },
  {
   "cell_type": "markdown",
   "metadata": {},
   "source": [
    "## Random Forest"
   ]
  },
  {
   "cell_type": "markdown",
   "metadata": {},
   "source": [
    "### Modelo 1"
   ]
  },
  {
   "cell_type": "code",
   "execution_count": 43,
   "metadata": {},
   "outputs": [],
   "source": [
    "# Criando uma pipe generalizada para depois testar diferentes features\n",
    "modelo = RandomForestClassifier(random_state=42)\n",
    "\n",
    "# Selecao das colunas\n",
    "numeric_features = ['age', 'entry_symptoms_time']\n",
    "categorical_features = ['sex', 'patient_type', 'pregnancy', 'intubed', 'contact_other_covid', 'icu', 'died', 'has_disease']\n",
    "\n",
    "# Criacao do tratamento de cada tipo de col\n",
    "categorical_pipe = Pipeline([\n",
    "    ('labelenc', OrdinalEncoder())\n",
    "])\n",
    "\n",
    "numeric_pipe = Pipeline([\n",
    "    ('normalize', StandardScaler())\n",
    "])\n",
    "\n",
    "column_processing = ColumnTransformer([\n",
    "    ('num', numeric_pipe, numeric_features),\n",
    "    ('cat', categorical_pipe, categorical_features)\n",
    "])\n",
    "\n",
    "# Motando a pipe em si\n",
    "rf_pipe = Pipeline([\n",
    "    ('preprocessing', column_processing),\n",
    "    ('model', modelo)\n",
    "])"
   ]
  },
  {
   "cell_type": "code",
   "execution_count": 51,
   "metadata": {},
   "outputs": [
    {
     "data": {
      "text/plain": [
       "Pipeline(steps=[('preprocessing',\n",
       "                 ColumnTransformer(transformers=[('num',\n",
       "                                                  Pipeline(steps=[('normalize',\n",
       "                                                                   StandardScaler())]),\n",
       "                                                  ['age',\n",
       "                                                   'entry_symptoms_time']),\n",
       "                                                 ('cat',\n",
       "                                                  Pipeline(steps=[('labelenc',\n",
       "                                                                   OrdinalEncoder())]),\n",
       "                                                  ['sex', 'patient_type',\n",
       "                                                   'intubed', 'pneumonia',\n",
       "                                                   'pregnancy', 'diabetes',\n",
       "                                                   'copd', 'asthma', 'inmsupr',\n",
       "                                                   'hypertension',\n",
       "                                                   'other_disease',\n",
       "                                                   'cardiovascular', 'obesity',\n",
       "                                                   'renal_chronic', 'tobacco',\n",
       "                                                   'contact_other_covid', 'icu',\n",
       "                                                   'died'])])),\n",
       "                ('model', RandomForestClassifier(random_state=42))])"
      ]
     },
     "execution_count": 51,
     "metadata": {},
     "output_type": "execute_result"
    }
   ],
   "source": [
    "rf_pipe.fit(X_train, y_train)"
   ]
  },
  {
   "cell_type": "code",
   "execution_count": 45,
   "metadata": {},
   "outputs": [
    {
     "name": "stdout",
     "output_type": "stream",
     "text": [
      "              precision    recall  f1-score   support\n",
      "\n",
      "         0.0       0.63      0.80      0.71     83711\n",
      "         1.0       0.62      0.42      0.50     66197\n",
      "\n",
      "    accuracy                           0.63    149908\n",
      "   macro avg       0.63      0.61      0.60    149908\n",
      "weighted avg       0.63      0.63      0.62    149908\n",
      "\n"
     ]
    },
    {
     "data": {
      "text/plain": [
       "0.6079224625703489"
      ]
     },
     "execution_count": 45,
     "metadata": {},
     "output_type": "execute_result"
    }
   ],
   "source": [
    "y_pred = rf_pipe.predict(X_test)\n",
    "print(classification_report(y_test, y_pred))\n",
    "roc_auc_score(y_test, y_pred)"
   ]
  },
  {
   "cell_type": "markdown",
   "metadata": {},
   "source": [
    "### Modelo 2"
   ]
  },
  {
   "cell_type": "code",
   "execution_count": 46,
   "metadata": {},
   "outputs": [
    {
     "data": {
      "text/plain": [
       "Index(['sex', 'patient_type', 'intubed', 'pneumonia', 'age', 'pregnancy',\n",
       "       'diabetes', 'copd', 'asthma', 'inmsupr', 'hypertension',\n",
       "       'other_disease', 'cardiovascular', 'obesity', 'renal_chronic',\n",
       "       'tobacco', 'contact_other_covid', 'icu', 'died', 'entry_symptoms_time',\n",
       "       'has_disease'],\n",
       "      dtype='object')"
      ]
     },
     "execution_count": 46,
     "metadata": {},
     "output_type": "execute_result"
    }
   ],
   "source": [
    "X_train.columns"
   ]
  },
  {
   "cell_type": "code",
   "execution_count": 47,
   "metadata": {},
   "outputs": [
    {
     "data": {
      "text/plain": [
       "ColumnTransformer(transformers=[('num',\n",
       "                                 Pipeline(steps=[('normalize',\n",
       "                                                  StandardScaler())]),\n",
       "                                 ['age', 'entry_symptoms_time']),\n",
       "                                ('cat',\n",
       "                                 Pipeline(steps=[('labelenc',\n",
       "                                                  OrdinalEncoder())]),\n",
       "                                 ['sex', 'patient_type', 'intubed', 'pneumonia',\n",
       "                                  'pregnancy', 'diabetes', 'copd', 'asthma',\n",
       "                                  'inmsupr', 'hypertension', 'other_disease',\n",
       "                                  'cardiovascular', 'obesity', 'renal_chronic',\n",
       "                                  'tobacco', 'contact_other_covid', 'icu',\n",
       "                                  'died'])])"
      ]
     },
     "execution_count": 47,
     "metadata": {},
     "output_type": "execute_result"
    }
   ],
   "source": [
    "categorical_features = ['sex', 'patient_type', 'intubed', 'pneumonia', 'pregnancy',\n",
    "       'diabetes', 'copd', 'asthma', 'inmsupr', 'hypertension',\n",
    "       'other_disease', 'cardiovascular', 'obesity', 'renal_chronic',\n",
    "       'tobacco', 'contact_other_covid', 'icu', 'died']\n",
    "column_processing.set_params(transformers=[\n",
    "    ('num', numeric_pipe, numeric_features),\n",
    "    ('cat', categorical_pipe, categorical_features)\n",
    "])"
   ]
  },
  {
   "cell_type": "code",
   "execution_count": 48,
   "metadata": {},
   "outputs": [
    {
     "name": "stdout",
     "output_type": "stream",
     "text": [
      "              precision    recall  f1-score   support\n",
      "\n",
      "         0.0       0.64      0.77      0.70     83711\n",
      "         1.0       0.60      0.44      0.51     66197\n",
      "\n",
      "    accuracy                           0.62    149908\n",
      "   macro avg       0.62      0.61      0.60    149908\n",
      "weighted avg       0.62      0.62      0.61    149908\n",
      "\n"
     ]
    },
    {
     "data": {
      "text/plain": [
       "0.6055001305499101"
      ]
     },
     "execution_count": 48,
     "metadata": {},
     "output_type": "execute_result"
    }
   ],
   "source": [
    "rf_pipe.fit(X_train, y_train)\n",
    "y_pred = rf_pipe.predict(X_test)\n",
    "print(classification_report(y_test, y_pred))\n",
    "roc_auc_score(y_test, y_pred)"
   ]
  },
  {
   "cell_type": "markdown",
   "metadata": {},
   "source": [
    "# Otimizacao de modelo"
   ]
  },
  {
   "cell_type": "code",
   "execution_count": 52,
   "metadata": {},
   "outputs": [
    {
     "data": {
      "text/plain": [
       "{'memory': None,\n",
       " 'steps': [('preprocessing',\n",
       "   ColumnTransformer(transformers=[('num',\n",
       "                                    Pipeline(steps=[('normalize',\n",
       "                                                     StandardScaler())]),\n",
       "                                    ['age', 'entry_symptoms_time']),\n",
       "                                   ('cat',\n",
       "                                    Pipeline(steps=[('onehot',\n",
       "                                                     OneHotEncoder(drop='if_binary'))]),\n",
       "                                    ['hypertension', 'diabetes', 'obesity',\n",
       "                                     'pneumonia', 'died'])])),\n",
       "  ('model', KNeighborsClassifier())],\n",
       " 'verbose': False,\n",
       " 'preprocessing': ColumnTransformer(transformers=[('num',\n",
       "                                  Pipeline(steps=[('normalize',\n",
       "                                                   StandardScaler())]),\n",
       "                                  ['age', 'entry_symptoms_time']),\n",
       "                                 ('cat',\n",
       "                                  Pipeline(steps=[('onehot',\n",
       "                                                   OneHotEncoder(drop='if_binary'))]),\n",
       "                                  ['hypertension', 'diabetes', 'obesity',\n",
       "                                   'pneumonia', 'died'])]),\n",
       " 'model': KNeighborsClassifier(),\n",
       " 'preprocessing__n_jobs': None,\n",
       " 'preprocessing__remainder': 'drop',\n",
       " 'preprocessing__sparse_threshold': 0.3,\n",
       " 'preprocessing__transformer_weights': None,\n",
       " 'preprocessing__transformers': [('num',\n",
       "   Pipeline(steps=[('normalize', StandardScaler())]),\n",
       "   ['age', 'entry_symptoms_time']),\n",
       "  ('cat',\n",
       "   Pipeline(steps=[('onehot', OneHotEncoder(drop='if_binary'))]),\n",
       "   ['hypertension', 'diabetes', 'obesity', 'pneumonia', 'died'])],\n",
       " 'preprocessing__verbose': False,\n",
       " 'preprocessing__verbose_feature_names_out': True,\n",
       " 'preprocessing__num': Pipeline(steps=[('normalize', StandardScaler())]),\n",
       " 'preprocessing__cat': Pipeline(steps=[('onehot', OneHotEncoder(drop='if_binary'))]),\n",
       " 'preprocessing__num__memory': None,\n",
       " 'preprocessing__num__steps': [('normalize', StandardScaler())],\n",
       " 'preprocessing__num__verbose': False,\n",
       " 'preprocessing__num__normalize': StandardScaler(),\n",
       " 'preprocessing__num__normalize__copy': True,\n",
       " 'preprocessing__num__normalize__with_mean': True,\n",
       " 'preprocessing__num__normalize__with_std': True,\n",
       " 'preprocessing__cat__memory': None,\n",
       " 'preprocessing__cat__steps': [('onehot', OneHotEncoder(drop='if_binary'))],\n",
       " 'preprocessing__cat__verbose': False,\n",
       " 'preprocessing__cat__onehot': OneHotEncoder(drop='if_binary'),\n",
       " 'preprocessing__cat__onehot__categories': 'auto',\n",
       " 'preprocessing__cat__onehot__drop': 'if_binary',\n",
       " 'preprocessing__cat__onehot__dtype': numpy.float64,\n",
       " 'preprocessing__cat__onehot__handle_unknown': 'error',\n",
       " 'preprocessing__cat__onehot__sparse': True,\n",
       " 'model__algorithm': 'auto',\n",
       " 'model__leaf_size': 30,\n",
       " 'model__metric': 'minkowski',\n",
       " 'model__metric_params': None,\n",
       " 'model__n_jobs': None,\n",
       " 'model__n_neighbors': 5,\n",
       " 'model__p': 2,\n",
       " 'model__weights': 'uniform'}"
      ]
     },
     "execution_count": 52,
     "metadata": {},
     "output_type": "execute_result"
    }
   ],
   "source": [
    "knn_pipe.get_params()"
   ]
  },
  {
   "cell_type": "code",
   "execution_count": 53,
   "metadata": {},
   "outputs": [
    {
     "data": {
      "text/plain": [
       "{'memory': None,\n",
       " 'steps': [('preprocessing',\n",
       "   ColumnTransformer(transformers=[('num',\n",
       "                                    Pipeline(steps=[('normalize',\n",
       "                                                     StandardScaler())]),\n",
       "                                    ['age', 'entry_symptoms_time']),\n",
       "                                   ('cat',\n",
       "                                    Pipeline(steps=[('labelenc',\n",
       "                                                     OrdinalEncoder())]),\n",
       "                                    ['sex', 'patient_type', 'intubed', 'pneumonia',\n",
       "                                     'pregnancy', 'diabetes', 'copd', 'asthma',\n",
       "                                     'inmsupr', 'hypertension', 'other_disease',\n",
       "                                     'cardiovascular', 'obesity', 'renal_chronic',\n",
       "                                     'tobacco', 'contact_other_covid', 'icu',\n",
       "                                     'died'])])),\n",
       "  ('model', RandomForestClassifier(random_state=42))],\n",
       " 'verbose': False,\n",
       " 'preprocessing': ColumnTransformer(transformers=[('num',\n",
       "                                  Pipeline(steps=[('normalize',\n",
       "                                                   StandardScaler())]),\n",
       "                                  ['age', 'entry_symptoms_time']),\n",
       "                                 ('cat',\n",
       "                                  Pipeline(steps=[('labelenc',\n",
       "                                                   OrdinalEncoder())]),\n",
       "                                  ['sex', 'patient_type', 'intubed', 'pneumonia',\n",
       "                                   'pregnancy', 'diabetes', 'copd', 'asthma',\n",
       "                                   'inmsupr', 'hypertension', 'other_disease',\n",
       "                                   'cardiovascular', 'obesity', 'renal_chronic',\n",
       "                                   'tobacco', 'contact_other_covid', 'icu',\n",
       "                                   'died'])]),\n",
       " 'model': RandomForestClassifier(random_state=42),\n",
       " 'preprocessing__n_jobs': None,\n",
       " 'preprocessing__remainder': 'drop',\n",
       " 'preprocessing__sparse_threshold': 0.3,\n",
       " 'preprocessing__transformer_weights': None,\n",
       " 'preprocessing__transformers': [('num',\n",
       "   Pipeline(steps=[('normalize', StandardScaler())]),\n",
       "   ['age', 'entry_symptoms_time']),\n",
       "  ('cat',\n",
       "   Pipeline(steps=[('labelenc', OrdinalEncoder())]),\n",
       "   ['sex',\n",
       "    'patient_type',\n",
       "    'intubed',\n",
       "    'pneumonia',\n",
       "    'pregnancy',\n",
       "    'diabetes',\n",
       "    'copd',\n",
       "    'asthma',\n",
       "    'inmsupr',\n",
       "    'hypertension',\n",
       "    'other_disease',\n",
       "    'cardiovascular',\n",
       "    'obesity',\n",
       "    'renal_chronic',\n",
       "    'tobacco',\n",
       "    'contact_other_covid',\n",
       "    'icu',\n",
       "    'died'])],\n",
       " 'preprocessing__verbose': False,\n",
       " 'preprocessing__verbose_feature_names_out': True,\n",
       " 'preprocessing__num': Pipeline(steps=[('normalize', StandardScaler())]),\n",
       " 'preprocessing__cat': Pipeline(steps=[('labelenc', OrdinalEncoder())]),\n",
       " 'preprocessing__num__memory': None,\n",
       " 'preprocessing__num__steps': [('normalize', StandardScaler())],\n",
       " 'preprocessing__num__verbose': False,\n",
       " 'preprocessing__num__normalize': StandardScaler(),\n",
       " 'preprocessing__num__normalize__copy': True,\n",
       " 'preprocessing__num__normalize__with_mean': True,\n",
       " 'preprocessing__num__normalize__with_std': True,\n",
       " 'preprocessing__cat__memory': None,\n",
       " 'preprocessing__cat__steps': [('labelenc', OrdinalEncoder())],\n",
       " 'preprocessing__cat__verbose': False,\n",
       " 'preprocessing__cat__labelenc': OrdinalEncoder(),\n",
       " 'preprocessing__cat__labelenc__categories': 'auto',\n",
       " 'preprocessing__cat__labelenc__dtype': numpy.float64,\n",
       " 'preprocessing__cat__labelenc__handle_unknown': 'error',\n",
       " 'preprocessing__cat__labelenc__unknown_value': None,\n",
       " 'model__bootstrap': True,\n",
       " 'model__ccp_alpha': 0.0,\n",
       " 'model__class_weight': None,\n",
       " 'model__criterion': 'gini',\n",
       " 'model__max_depth': None,\n",
       " 'model__max_features': 'auto',\n",
       " 'model__max_leaf_nodes': None,\n",
       " 'model__max_samples': None,\n",
       " 'model__min_impurity_decrease': 0.0,\n",
       " 'model__min_samples_leaf': 1,\n",
       " 'model__min_samples_split': 2,\n",
       " 'model__min_weight_fraction_leaf': 0.0,\n",
       " 'model__n_estimators': 100,\n",
       " 'model__n_jobs': None,\n",
       " 'model__oob_score': False,\n",
       " 'model__random_state': 42,\n",
       " 'model__verbose': 0,\n",
       " 'model__warm_start': False}"
      ]
     },
     "execution_count": 53,
     "metadata": {},
     "output_type": "execute_result"
    }
   ],
   "source": [
    "rf_pipe.get_params()"
   ]
  },
  {
   "cell_type": "code",
   "execution_count": 54,
   "metadata": {},
   "outputs": [],
   "source": [
    "from sklearn.model_selection import RandomizedSearchCV\n",
    "\n",
    "knn_hiperparams = {\n",
    "    'model__n_neighbors':[1,3,5,7,9],\n",
    "    'model__p': [1,2],\n",
    "    'model__weights': ['uniform', 'distance']\n",
    "}\n",
    "\n",
    "rf_hiperparams = {\n",
    "    'model__max_depth' : [None, 1, 5, 10, 15, 50],\n",
    "    'model__min_samples_split' : [2, 10, 50, 100, 500, 1000],\n",
    "    'model__min_samples_leaf' : [1, 5, 10, 25, 50],\n",
    "}"
   ]
  },
  {
   "cell_type": "code",
   "execution_count": 59,
   "metadata": {},
   "outputs": [
    {
     "name": "stdout",
     "output_type": "stream",
     "text": [
      "Fitting 3 folds for each of 10 candidates, totalling 30 fits\n",
      "[CV 1/3; 1/10] START model__n_neighbors=1, model__p=1, model__weights=uniform...\n",
      "[CV 1/3; 1/10] END model__n_neighbors=1, model__p=1, model__weights=uniform;, score=0.572 total time= 1.0min\n",
      "[CV 2/3; 1/10] START model__n_neighbors=1, model__p=1, model__weights=uniform...\n",
      "[CV 2/3; 1/10] END model__n_neighbors=1, model__p=1, model__weights=uniform;, score=0.544 total time= 1.1min\n",
      "[CV 3/3; 1/10] START model__n_neighbors=1, model__p=1, model__weights=uniform...\n",
      "[CV 3/3; 1/10] END model__n_neighbors=1, model__p=1, model__weights=uniform;, score=0.551 total time= 1.0min\n",
      "[CV 1/3; 2/10] START model__n_neighbors=9, model__p=1, model__weights=distance..\n",
      "[CV 1/3; 2/10] END model__n_neighbors=9, model__p=1, model__weights=distance;, score=0.589 total time= 1.1min\n",
      "[CV 2/3; 2/10] START model__n_neighbors=9, model__p=1, model__weights=distance..\n",
      "[CV 2/3; 2/10] END model__n_neighbors=9, model__p=1, model__weights=distance;, score=0.588 total time=  52.3s\n",
      "[CV 3/3; 2/10] START model__n_neighbors=9, model__p=1, model__weights=distance..\n",
      "[CV 3/3; 2/10] END model__n_neighbors=9, model__p=1, model__weights=distance;, score=0.594 total time=  53.3s\n",
      "[CV 1/3; 3/10] START model__n_neighbors=7, model__p=2, model__weights=distance..\n",
      "[CV 1/3; 3/10] END model__n_neighbors=7, model__p=2, model__weights=distance;, score=0.586 total time= 1.0min\n",
      "[CV 2/3; 3/10] START model__n_neighbors=7, model__p=2, model__weights=distance..\n",
      "[CV 2/3; 3/10] END model__n_neighbors=7, model__p=2, model__weights=distance;, score=0.583 total time= 1.1min\n",
      "[CV 3/3; 3/10] START model__n_neighbors=7, model__p=2, model__weights=distance..\n",
      "[CV 3/3; 3/10] END model__n_neighbors=7, model__p=2, model__weights=distance;, score=0.588 total time= 1.0min\n",
      "[CV 1/3; 4/10] START model__n_neighbors=1, model__p=1, model__weights=distance..\n",
      "[CV 1/3; 4/10] END model__n_neighbors=1, model__p=1, model__weights=distance;, score=0.572 total time=  55.6s\n",
      "[CV 2/3; 4/10] START model__n_neighbors=1, model__p=1, model__weights=distance..\n",
      "[CV 2/3; 4/10] END model__n_neighbors=1, model__p=1, model__weights=distance;, score=0.544 total time=  58.3s\n",
      "[CV 3/3; 4/10] START model__n_neighbors=1, model__p=1, model__weights=distance..\n",
      "[CV 3/3; 4/10] END model__n_neighbors=1, model__p=1, model__weights=distance;, score=0.551 total time=  49.3s\n",
      "[CV 1/3; 5/10] START model__n_neighbors=5, model__p=1, model__weights=uniform...\n",
      "[CV 1/3; 5/10] END model__n_neighbors=5, model__p=1, model__weights=uniform;, score=0.591 total time=  54.3s\n",
      "[CV 2/3; 5/10] START model__n_neighbors=5, model__p=1, model__weights=uniform...\n",
      "[CV 2/3; 5/10] END model__n_neighbors=5, model__p=1, model__weights=uniform;, score=0.585 total time= 1.0min\n",
      "[CV 3/3; 5/10] START model__n_neighbors=5, model__p=1, model__weights=uniform...\n",
      "[CV 3/3; 5/10] END model__n_neighbors=5, model__p=1, model__weights=uniform;, score=0.591 total time=  59.5s\n",
      "[CV 1/3; 6/10] START model__n_neighbors=3, model__p=1, model__weights=distance..\n",
      "[CV 1/3; 6/10] END model__n_neighbors=3, model__p=1, model__weights=distance;, score=0.575 total time= 1.0min\n",
      "[CV 2/3; 6/10] START model__n_neighbors=3, model__p=1, model__weights=distance..\n",
      "[CV 2/3; 6/10] END model__n_neighbors=3, model__p=1, model__weights=distance;, score=0.571 total time=  51.0s\n",
      "[CV 3/3; 6/10] START model__n_neighbors=3, model__p=1, model__weights=distance..\n",
      "[CV 3/3; 6/10] END model__n_neighbors=3, model__p=1, model__weights=distance;, score=0.574 total time=  53.0s\n",
      "[CV 1/3; 7/10] START model__n_neighbors=5, model__p=2, model__weights=distance..\n",
      "[CV 1/3; 7/10] END model__n_neighbors=5, model__p=2, model__weights=distance;, score=0.586 total time=  59.4s\n",
      "[CV 2/3; 7/10] START model__n_neighbors=5, model__p=2, model__weights=distance..\n",
      "[CV 2/3; 7/10] END model__n_neighbors=5, model__p=2, model__weights=distance;, score=0.580 total time=  55.3s\n",
      "[CV 3/3; 7/10] START model__n_neighbors=5, model__p=2, model__weights=distance..\n",
      "[CV 3/3; 7/10] END model__n_neighbors=5, model__p=2, model__weights=distance;, score=0.586 total time=  55.8s\n",
      "[CV 1/3; 8/10] START model__n_neighbors=1, model__p=2, model__weights=distance..\n",
      "[CV 1/3; 8/10] END model__n_neighbors=1, model__p=2, model__weights=distance;, score=0.572 total time=  58.6s\n",
      "[CV 2/3; 8/10] START model__n_neighbors=1, model__p=2, model__weights=distance..\n",
      "[CV 2/3; 8/10] END model__n_neighbors=1, model__p=2, model__weights=distance;, score=0.544 total time=  57.6s\n",
      "[CV 3/3; 8/10] START model__n_neighbors=1, model__p=2, model__weights=distance..\n",
      "[CV 3/3; 8/10] END model__n_neighbors=1, model__p=2, model__weights=distance;, score=0.551 total time=  57.8s\n",
      "[CV 1/3; 9/10] START model__n_neighbors=9, model__p=2, model__weights=uniform...\n",
      "[CV 1/3; 9/10] END model__n_neighbors=9, model__p=2, model__weights=uniform;, score=0.596 total time= 1.1min\n",
      "[CV 2/3; 9/10] START model__n_neighbors=9, model__p=2, model__weights=uniform...\n",
      "[CV 2/3; 9/10] END model__n_neighbors=9, model__p=2, model__weights=uniform;, score=0.594 total time= 1.1min\n",
      "[CV 3/3; 9/10] START model__n_neighbors=9, model__p=2, model__weights=uniform...\n",
      "[CV 3/3; 9/10] END model__n_neighbors=9, model__p=2, model__weights=uniform;, score=0.602 total time= 1.1min\n",
      "[CV 1/3; 10/10] START model__n_neighbors=9, model__p=1, model__weights=uniform..\n",
      "[CV 1/3; 10/10] END model__n_neighbors=9, model__p=1, model__weights=uniform;, score=0.596 total time= 1.1min\n",
      "[CV 2/3; 10/10] START model__n_neighbors=9, model__p=1, model__weights=uniform..\n",
      "[CV 2/3; 10/10] END model__n_neighbors=9, model__p=1, model__weights=uniform;, score=0.594 total time= 1.1min\n",
      "[CV 3/3; 10/10] START model__n_neighbors=9, model__p=1, model__weights=uniform..\n",
      "[CV 3/3; 10/10] END model__n_neighbors=9, model__p=1, model__weights=uniform;, score=0.602 total time= 1.1min\n"
     ]
    }
   ],
   "source": [
    "knn_rand_search = RandomizedSearchCV(knn_pipe, knn_hiperparams, cv=3, n_iter=10, random_state=42, verbose=10)\n",
    "# knn_search = knn_rand_search.fit(X_train, y_train)\n"
   ]
  },
  {
   "cell_type": "code",
   "execution_count": 60,
   "metadata": {},
   "outputs": [
    {
     "name": "stdout",
     "output_type": "stream",
     "text": [
      "0.578\n",
      "best params: {'model__weights': 'uniform', 'model__p': 2, 'model__n_neighbors': 9}\n"
     ]
    }
   ],
   "source": [
    "print(knn_rand_search.cv_results_['mean_test_score'].mean().round(3))\n",
    "print(f'best params: {knn_rand_search.best_params_}')"
   ]
  },
  {
   "cell_type": "code",
   "execution_count": 63,
   "metadata": {},
   "outputs": [
    {
     "data": {
      "text/plain": [
       "Pipeline(steps=[('preprocessing',\n",
       "                 ColumnTransformer(transformers=[('num',\n",
       "                                                  Pipeline(steps=[('normalize',\n",
       "                                                                   StandardScaler())]),\n",
       "                                                  ['age',\n",
       "                                                   'entry_symptoms_time']),\n",
       "                                                 ('cat',\n",
       "                                                  Pipeline(steps=[('onehot',\n",
       "                                                                   OneHotEncoder(drop='if_binary'))]),\n",
       "                                                  ['hypertension', 'diabetes',\n",
       "                                                   'obesity', 'pneumonia',\n",
       "                                                   'died'])])),\n",
       "                ('model', KNeighborsClassifier(n_neighbors=9))])"
      ]
     },
     "execution_count": 63,
     "metadata": {},
     "output_type": "execute_result"
    }
   ],
   "source": [
    "knn_pipe.set_params(model__weights='uniform')\n",
    "knn_pipe.set_params(model__p=2)\n",
    "knn_pipe.set_params(model__n_neighbors=9)"
   ]
  },
  {
   "cell_type": "code",
   "execution_count": 70,
   "metadata": {},
   "outputs": [
    {
     "name": "stdout",
     "output_type": "stream",
     "text": [
      "              precision    recall  f1-score   support\n",
      "\n",
      "         0.0       0.63      0.69      0.66     83711\n",
      "         1.0       0.55      0.48      0.52     66197\n",
      "\n",
      "    accuracy                           0.60    149908\n",
      "   macro avg       0.59      0.59      0.59    149908\n",
      "weighted avg       0.60      0.60      0.60    149908\n",
      "\n"
     ]
    },
    {
     "data": {
      "text/plain": [
       "0.587414684663366"
      ]
     },
     "execution_count": 70,
     "metadata": {},
     "output_type": "execute_result"
    }
   ],
   "source": [
    "knn_pipe.fit(X_train, y_train)\n",
    "y_pred = knn_pipe.predict(X_test)\n",
    "\n",
    "\n",
    "print(classification_report(y_test, y_pred))\n",
    "roc_auc_score(y_test, y_pred)"
   ]
  },
  {
   "cell_type": "code",
   "execution_count": 72,
   "metadata": {},
   "outputs": [
    {
     "name": "stdout",
     "output_type": "stream",
     "text": [
      "Fitting 3 folds for each of 10 candidates, totalling 30 fits\n",
      "[CV 1/3; 1/10] START model__max_depth=None, model__min_samples_leaf=25, model__min_samples_split=10\n",
      "[CV 1/3; 1/10] END model__max_depth=None, model__min_samples_leaf=25, model__min_samples_split=10;, score=0.654 total time=  30.5s\n",
      "[CV 2/3; 1/10] START model__max_depth=None, model__min_samples_leaf=25, model__min_samples_split=10\n",
      "[CV 2/3; 1/10] END model__max_depth=None, model__min_samples_leaf=25, model__min_samples_split=10;, score=0.652 total time=  29.8s\n",
      "[CV 3/3; 1/10] START model__max_depth=None, model__min_samples_leaf=25, model__min_samples_split=10\n",
      "[CV 3/3; 1/10] END model__max_depth=None, model__min_samples_leaf=25, model__min_samples_split=10;, score=0.656 total time=  32.3s\n",
      "[CV 1/3; 2/10] START model__max_depth=1, model__min_samples_leaf=10, model__min_samples_split=2\n",
      "[CV 1/3; 2/10] END model__max_depth=1, model__min_samples_leaf=10, model__min_samples_split=2;, score=0.618 total time=   8.3s\n",
      "[CV 2/3; 2/10] START model__max_depth=1, model__min_samples_leaf=10, model__min_samples_split=2\n",
      "[CV 2/3; 2/10] END model__max_depth=1, model__min_samples_leaf=10, model__min_samples_split=2;, score=0.618 total time=   7.5s\n",
      "[CV 3/3; 2/10] START model__max_depth=1, model__min_samples_leaf=10, model__min_samples_split=2\n",
      "[CV 3/3; 2/10] END model__max_depth=1, model__min_samples_leaf=10, model__min_samples_split=2;, score=0.620 total time=   8.0s\n",
      "[CV 1/3; 3/10] START model__max_depth=50, model__min_samples_leaf=1, model__min_samples_split=100\n",
      "[CV 1/3; 3/10] END model__max_depth=50, model__min_samples_leaf=1, model__min_samples_split=100;, score=0.650 total time=  33.3s\n",
      "[CV 2/3; 3/10] START model__max_depth=50, model__min_samples_leaf=1, model__min_samples_split=100\n",
      "[CV 2/3; 3/10] END model__max_depth=50, model__min_samples_leaf=1, model__min_samples_split=100;, score=0.650 total time=  35.4s\n",
      "[CV 3/3; 3/10] START model__max_depth=50, model__min_samples_leaf=1, model__min_samples_split=100\n",
      "[CV 3/3; 3/10] END model__max_depth=50, model__min_samples_leaf=1, model__min_samples_split=100;, score=0.653 total time=  34.7s\n",
      "[CV 1/3; 4/10] START model__max_depth=5, model__min_samples_leaf=25, model__min_samples_split=2\n",
      "[CV 1/3; 4/10] END model__max_depth=5, model__min_samples_leaf=25, model__min_samples_split=2;, score=0.640 total time=  16.2s\n",
      "[CV 2/3; 4/10] START model__max_depth=5, model__min_samples_leaf=25, model__min_samples_split=2\n",
      "[CV 2/3; 4/10] END model__max_depth=5, model__min_samples_leaf=25, model__min_samples_split=2;, score=0.638 total time=  14.3s\n",
      "[CV 3/3; 4/10] START model__max_depth=5, model__min_samples_leaf=25, model__min_samples_split=2\n",
      "[CV 3/3; 4/10] END model__max_depth=5, model__min_samples_leaf=25, model__min_samples_split=2;, score=0.641 total time=  17.1s\n",
      "[CV 1/3; 5/10] START model__max_depth=15, model__min_samples_leaf=50, model__min_samples_split=10\n",
      "[CV 1/3; 5/10] END model__max_depth=15, model__min_samples_leaf=50, model__min_samples_split=10;, score=0.653 total time=  29.6s\n",
      "[CV 2/3; 5/10] START model__max_depth=15, model__min_samples_leaf=50, model__min_samples_split=10\n",
      "[CV 2/3; 5/10] END model__max_depth=15, model__min_samples_leaf=50, model__min_samples_split=10;, score=0.651 total time=  25.2s\n",
      "[CV 3/3; 5/10] START model__max_depth=15, model__min_samples_leaf=50, model__min_samples_split=10\n",
      "[CV 3/3; 5/10] END model__max_depth=15, model__min_samples_leaf=50, model__min_samples_split=10;, score=0.655 total time=  20.3s\n",
      "[CV 1/3; 6/10] START model__max_depth=None, model__min_samples_leaf=10, model__min_samples_split=100\n",
      "[CV 1/3; 6/10] END model__max_depth=None, model__min_samples_leaf=10, model__min_samples_split=100;, score=0.654 total time=  25.4s\n",
      "[CV 2/3; 6/10] START model__max_depth=None, model__min_samples_leaf=10, model__min_samples_split=100\n",
      "[CV 2/3; 6/10] END model__max_depth=None, model__min_samples_leaf=10, model__min_samples_split=100;, score=0.653 total time=  27.3s\n",
      "[CV 3/3; 6/10] START model__max_depth=None, model__min_samples_leaf=10, model__min_samples_split=100\n",
      "[CV 3/3; 6/10] END model__max_depth=None, model__min_samples_leaf=10, model__min_samples_split=100;, score=0.656 total time=  33.5s\n",
      "[CV 1/3; 7/10] START model__max_depth=None, model__min_samples_leaf=50, model__min_samples_split=2\n",
      "[CV 1/3; 7/10] END model__max_depth=None, model__min_samples_leaf=50, model__min_samples_split=2;, score=0.653 total time=  24.5s\n",
      "[CV 2/3; 7/10] START model__max_depth=None, model__min_samples_leaf=50, model__min_samples_split=2\n",
      "[CV 2/3; 7/10] END model__max_depth=None, model__min_samples_leaf=50, model__min_samples_split=2;, score=0.651 total time=  21.7s\n",
      "[CV 3/3; 7/10] START model__max_depth=None, model__min_samples_leaf=50, model__min_samples_split=2\n",
      "[CV 3/3; 7/10] END model__max_depth=None, model__min_samples_leaf=50, model__min_samples_split=2;, score=0.655 total time=  25.8s\n",
      "[CV 1/3; 8/10] START model__max_depth=5, model__min_samples_leaf=5, model__min_samples_split=50\n",
      "[CV 1/3; 8/10] END model__max_depth=5, model__min_samples_leaf=5, model__min_samples_split=50;, score=0.639 total time=  12.8s\n",
      "[CV 2/3; 8/10] START model__max_depth=5, model__min_samples_leaf=5, model__min_samples_split=50\n",
      "[CV 2/3; 8/10] END model__max_depth=5, model__min_samples_leaf=5, model__min_samples_split=50;, score=0.638 total time=  14.9s\n",
      "[CV 3/3; 8/10] START model__max_depth=5, model__min_samples_leaf=5, model__min_samples_split=50\n",
      "[CV 3/3; 8/10] END model__max_depth=5, model__min_samples_leaf=5, model__min_samples_split=50;, score=0.641 total time=  14.3s\n",
      "[CV 1/3; 9/10] START model__max_depth=10, model__min_samples_leaf=25, model__min_samples_split=1000\n",
      "[CV 1/3; 9/10] END model__max_depth=10, model__min_samples_leaf=25, model__min_samples_split=1000;, score=0.651 total time=  21.6s\n",
      "[CV 2/3; 9/10] START model__max_depth=10, model__min_samples_leaf=25, model__min_samples_split=1000\n",
      "[CV 2/3; 9/10] END model__max_depth=10, model__min_samples_leaf=25, model__min_samples_split=1000;, score=0.648 total time=  23.8s\n",
      "[CV 3/3; 9/10] START model__max_depth=10, model__min_samples_leaf=25, model__min_samples_split=1000\n",
      "[CV 3/3; 9/10] END model__max_depth=10, model__min_samples_leaf=25, model__min_samples_split=1000;, score=0.653 total time=  23.6s\n",
      "[CV 1/3; 10/10] START model__max_depth=10, model__min_samples_leaf=50, model__min_samples_split=500\n",
      "[CV 1/3; 10/10] END model__max_depth=10, model__min_samples_leaf=50, model__min_samples_split=500;, score=0.651 total time=  22.7s\n",
      "[CV 2/3; 10/10] START model__max_depth=10, model__min_samples_leaf=50, model__min_samples_split=500\n",
      "[CV 2/3; 10/10] END model__max_depth=10, model__min_samples_leaf=50, model__min_samples_split=500;, score=0.649 total time=  20.4s\n",
      "[CV 3/3; 10/10] START model__max_depth=10, model__min_samples_leaf=50, model__min_samples_split=500\n",
      "[CV 3/3; 10/10] END model__max_depth=10, model__min_samples_leaf=50, model__min_samples_split=500;, score=0.652 total time=  20.8s\n"
     ]
    }
   ],
   "source": [
    "rf_rand_search = RandomizedSearchCV(rf_pipe, rf_hiperparams, cv=3, n_iter=10, random_state=42, verbose=10)\n",
    "# rf_search = rf_rand_search.fit(X_train, y_train)"
   ]
  },
  {
   "cell_type": "code",
   "execution_count": null,
   "metadata": {},
   "outputs": [],
   "source": [
    "print(knn_rand_search.cv_results_['mean_test_score'].mean().round(3))\n",
    "print(f'best params: {knn_rand_search.best_params_}')\n",
    "knn_pipe.set_params(model__weights='uniform')\n",
    "knn_pipe.set_params(model__p=2)\n",
    "knn_pipe.set_params(model__n_neighbors=9)\n",
    "knn_pipe.fit(X_train, y_train)\n",
    "y_pred = knn_pipe.predict(X_test)\n",
    "\n",
    "\n",
    "print(classification_report(y_test, y_pred))\n",
    "roc_auc_score(y_test, y_pred)"
   ]
  },
  {
   "cell_type": "code",
   "execution_count": 73,
   "metadata": {},
   "outputs": [
    {
     "name": "stdout",
     "output_type": "stream",
     "text": [
      "0.646\n",
      "best params: {'model__min_samples_split': 100, 'model__min_samples_leaf': 10, 'model__max_depth': None}\n"
     ]
    }
   ],
   "source": [
    "print(rf_rand_search.cv_results_['mean_test_score'].mean().round(3))\n",
    "print(f'best params: {rf_rand_search.best_params_}')"
   ]
  },
  {
   "cell_type": "code",
   "execution_count": 74,
   "metadata": {},
   "outputs": [
    {
     "name": "stdout",
     "output_type": "stream",
     "text": [
      "              precision    recall  f1-score   support\n",
      "\n",
      "         0.0       0.65      0.82      0.73     83711\n",
      "         1.0       0.67      0.44      0.53     66197\n",
      "\n",
      "    accuracy                           0.66    149908\n",
      "   macro avg       0.66      0.63      0.63    149908\n",
      "weighted avg       0.66      0.66      0.64    149908\n",
      "\n"
     ]
    },
    {
     "data": {
      "text/plain": [
       "0.6336588292389579"
      ]
     },
     "execution_count": 74,
     "metadata": {},
     "output_type": "execute_result"
    }
   ],
   "source": [
    "rf_pipe.set_params(model__min_samples_split=100)\n",
    "rf_pipe.set_params(model__min_samples_leaf=10)\n",
    "rf_pipe.set_params(model__max_depth=None)\n",
    "\n",
    "rf_pipe.fit(X_train, y_train)\n",
    "y_pred = rf_pipe.predict(X_test)\n",
    "\n",
    "\n",
    "print(classification_report(y_test, y_pred))\n",
    "roc_auc_score(y_test, y_pred)"
   ]
  },
  {
   "cell_type": "markdown",
   "metadata": {},
   "source": [
    "# Rascunhos"
   ]
  },
  {
   "cell_type": "code",
   "execution_count": null,
   "metadata": {},
   "outputs": [],
   "source": [
    "df.head()"
   ]
  },
  {
   "cell_type": "code",
   "execution_count": null,
   "metadata": {},
   "outputs": [],
   "source": [
    "df['month'] = df['entry_date'].dt.month"
   ]
  },
  {
   "cell_type": "code",
   "execution_count": null,
   "metadata": {},
   "outputs": [],
   "source": [
    "temp_df = df[['month', 'covid_res']].groupby(by=['month', 'covid_res']).size().to_frame().reset_index()\n",
    "temp_df = temp_df.pivot(index='month', columns='covid_res')[0].reset_index()\n",
    "temp_df"
   ]
  },
  {
   "cell_type": "code",
   "execution_count": null,
   "metadata": {},
   "outputs": [],
   "source": [
    "temp_df['infetec_ratio'] = temp_df[1] / (temp_df[0] + temp_df[1])\n",
    "temp_df"
   ]
  },
  {
   "cell_type": "code",
   "execution_count": null,
   "metadata": {},
   "outputs": [],
   "source": [
    "sns.barplot(data=temp_df, y='infetec_ratio', x='month')"
   ]
  }
 ],
 "metadata": {
  "deepnote": {
   "is_reactive": false
  },
  "deepnote_execution_queue": [],
  "deepnote_notebook_id": "8b0df1d1-894e-46ad-9701-9ede7a45769b",
  "interpreter": {
   "hash": "294f4e376c61358df80e6706e213556bfb570c6a90a2a414c97021af04b3e4fd"
  },
  "kernelspec": {
   "display_name": "Python 3.7.11 ('santander')",
   "language": "python",
   "name": "python3"
  },
  "language_info": {
   "codemirror_mode": {
    "name": "ipython",
    "version": 3
   },
   "file_extension": ".py",
   "mimetype": "text/x-python",
   "name": "python",
   "nbconvert_exporter": "python",
   "pygments_lexer": "ipython3",
   "version": "3.7.11"
  },
  "orig_nbformat": 2
 },
 "nbformat": 4,
 "nbformat_minor": 2
}
