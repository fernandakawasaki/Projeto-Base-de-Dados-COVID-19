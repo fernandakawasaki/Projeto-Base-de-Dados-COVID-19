{
 "cells": [
  {
   "cell_type": "markdown",
   "source": "# Projeto 1 - Base de Dados Covid\n\nO objetivo do projeto será desenvolver um estudo no dataset COVID.csv , base esta que contém informações sobre casos de COVID. Ou seja a partir do diagnóstico de sintomas e informações dos pacientes deve-se\ndesenvolver um modelo para prever casos confirmados de COVID'.\n\nMembros do grupo:\n- Ana Luzia Akiyama\n- Fernanda Kawasaki\n- Henrique Castro\n- Liosvaldo Santiago\n- Maria Julia Martins\n- Wandemberg Gibaut",
   "metadata": {
    "cell_id": "19189152-2fdf-4ee8-a07f-788685c37c1b",
    "tags": [],
    "deepnote_cell_type": "markdown"
   }
  },
  {
   "cell_type": "code",
   "metadata": {
    "cell_id": "d0b22f2e-5d10-4de2-a1b3-e2a5286b330d",
    "deepnote_to_be_reexecuted": false,
    "execution_millis": 2433,
    "execution_start": 1646602672119,
    "source_hash": "d5c8c5c1",
    "tags": [],
    "deepnote_cell_type": "code"
   },
   "source": "import pandas as pd \nimport numpy as np\nimport matplotlib.pyplot as plt\nimport seaborn as sns \npd.set_option(\"display.max_columns\", None)",
   "execution_count": 2,
   "outputs": []
  },
  {
   "cell_type": "code",
   "metadata": {
    "cell_id": "587cc938-a4af-40de-8f37-2aebfa92d5d1",
    "deepnote_to_be_reexecuted": false,
    "execution_millis": 1308,
    "execution_start": 1646602674568,
    "source_hash": "87b81222",
    "tags": [],
    "deepnote_cell_type": "code"
   },
   "source": "df = pd.read_csv('/work/covid.csv')\ndf.head()",
   "execution_count": 3,
   "outputs": [
    {
     "output_type": "execute_result",
     "execution_count": 3,
     "data": {
      "application/vnd.deepnote.dataframe.v3+json": {
       "column_count": 23,
       "row_count": 5,
       "columns": [
        {
         "name": "id",
         "dtype": "object",
         "stats": {
          "unique_count": 5,
          "nan_count": 0,
          "categories": [
           {
            "name": "16169f",
            "count": 1
           },
           {
            "name": "1009bf",
            "count": 1
           },
           {
            "name": "3 others",
            "count": 3
           }
          ]
         }
        },
        {
         "name": "sex",
         "dtype": "int64",
         "stats": {
          "unique_count": 2,
          "nan_count": 0,
          "min": "1",
          "max": "2",
          "histogram": [
           {
            "bin_start": 1,
            "bin_end": 1.1,
            "count": 2
           },
           {
            "bin_start": 1.1,
            "bin_end": 1.2,
            "count": 0
           },
           {
            "bin_start": 1.2,
            "bin_end": 1.3,
            "count": 0
           },
           {
            "bin_start": 1.3,
            "bin_end": 1.4,
            "count": 0
           },
           {
            "bin_start": 1.4,
            "bin_end": 1.5,
            "count": 0
           },
           {
            "bin_start": 1.5,
            "bin_end": 1.6,
            "count": 0
           },
           {
            "bin_start": 1.6,
            "bin_end": 1.7000000000000002,
            "count": 0
           },
           {
            "bin_start": 1.7000000000000002,
            "bin_end": 1.8,
            "count": 0
           },
           {
            "bin_start": 1.8,
            "bin_end": 1.9,
            "count": 0
           },
           {
            "bin_start": 1.9,
            "bin_end": 2,
            "count": 3
           }
          ]
         }
        },
        {
         "name": "patient_type",
         "dtype": "int64",
         "stats": {
          "unique_count": 2,
          "nan_count": 0,
          "min": "1",
          "max": "2",
          "histogram": [
           {
            "bin_start": 1,
            "bin_end": 1.1,
            "count": 2
           },
           {
            "bin_start": 1.1,
            "bin_end": 1.2,
            "count": 0
           },
           {
            "bin_start": 1.2,
            "bin_end": 1.3,
            "count": 0
           },
           {
            "bin_start": 1.3,
            "bin_end": 1.4,
            "count": 0
           },
           {
            "bin_start": 1.4,
            "bin_end": 1.5,
            "count": 0
           },
           {
            "bin_start": 1.5,
            "bin_end": 1.6,
            "count": 0
           },
           {
            "bin_start": 1.6,
            "bin_end": 1.7000000000000002,
            "count": 0
           },
           {
            "bin_start": 1.7000000000000002,
            "bin_end": 1.8,
            "count": 0
           },
           {
            "bin_start": 1.8,
            "bin_end": 1.9,
            "count": 0
           },
           {
            "bin_start": 1.9,
            "bin_end": 2,
            "count": 3
           }
          ]
         }
        },
        {
         "name": "entry_date",
         "dtype": "object",
         "stats": {
          "unique_count": 5,
          "nan_count": 0,
          "categories": [
           {
            "name": "04-05-2020",
            "count": 1
           },
           {
            "name": "19-03-2020",
            "count": 1
           },
           {
            "name": "3 others",
            "count": 3
           }
          ]
         }
        },
        {
         "name": "date_symptoms",
         "dtype": "object",
         "stats": {
          "unique_count": 5,
          "nan_count": 0,
          "categories": [
           {
            "name": "02-05-2020",
            "count": 1
           },
           {
            "name": "17-03-2020",
            "count": 1
           },
           {
            "name": "3 others",
            "count": 3
           }
          ]
         }
        },
        {
         "name": "date_died",
         "dtype": "object",
         "stats": {
          "unique_count": 2,
          "nan_count": 0,
          "categories": [
           {
            "name": "9999-99-99",
            "count": 4
           },
           {
            "name": "22-04-2020",
            "count": 1
           }
          ]
         }
        },
        {
         "name": "intubed",
         "dtype": "int64",
         "stats": {
          "unique_count": 2,
          "nan_count": 0,
          "min": "2",
          "max": "97",
          "histogram": [
           {
            "bin_start": 2,
            "bin_end": 11.5,
            "count": 3
           },
           {
            "bin_start": 11.5,
            "bin_end": 21,
            "count": 0
           },
           {
            "bin_start": 21,
            "bin_end": 30.5,
            "count": 0
           },
           {
            "bin_start": 30.5,
            "bin_end": 40,
            "count": 0
           },
           {
            "bin_start": 40,
            "bin_end": 49.5,
            "count": 0
           },
           {
            "bin_start": 49.5,
            "bin_end": 59,
            "count": 0
           },
           {
            "bin_start": 59,
            "bin_end": 68.5,
            "count": 0
           },
           {
            "bin_start": 68.5,
            "bin_end": 78,
            "count": 0
           },
           {
            "bin_start": 78,
            "bin_end": 87.5,
            "count": 0
           },
           {
            "bin_start": 87.5,
            "bin_end": 97,
            "count": 2
           }
          ]
         }
        },
        {
         "name": "pneumonia",
         "dtype": "int64",
         "stats": {
          "unique_count": 2,
          "nan_count": 0,
          "min": "1",
          "max": "2",
          "histogram": [
           {
            "bin_start": 1,
            "bin_end": 1.1,
            "count": 1
           },
           {
            "bin_start": 1.1,
            "bin_end": 1.2,
            "count": 0
           },
           {
            "bin_start": 1.2,
            "bin_end": 1.3,
            "count": 0
           },
           {
            "bin_start": 1.3,
            "bin_end": 1.4,
            "count": 0
           },
           {
            "bin_start": 1.4,
            "bin_end": 1.5,
            "count": 0
           },
           {
            "bin_start": 1.5,
            "bin_end": 1.6,
            "count": 0
           },
           {
            "bin_start": 1.6,
            "bin_end": 1.7000000000000002,
            "count": 0
           },
           {
            "bin_start": 1.7000000000000002,
            "bin_end": 1.8,
            "count": 0
           },
           {
            "bin_start": 1.8,
            "bin_end": 1.9,
            "count": 0
           },
           {
            "bin_start": 1.9,
            "bin_end": 2,
            "count": 4
           }
          ]
         }
        },
        {
         "name": "age",
         "dtype": "int64",
         "stats": {
          "unique_count": 5,
          "nan_count": 0,
          "min": "24",
          "max": "60",
          "histogram": [
           {
            "bin_start": 24,
            "bin_end": 27.6,
            "count": 2
           },
           {
            "bin_start": 27.6,
            "bin_end": 31.2,
            "count": 1
           },
           {
            "bin_start": 31.2,
            "bin_end": 34.8,
            "count": 0
           },
           {
            "bin_start": 34.8,
            "bin_end": 38.4,
            "count": 0
           },
           {
            "bin_start": 38.4,
            "bin_end": 42,
            "count": 0
           },
           {
            "bin_start": 42,
            "bin_end": 45.6,
            "count": 0
           },
           {
            "bin_start": 45.6,
            "bin_end": 49.2,
            "count": 0
           },
           {
            "bin_start": 49.2,
            "bin_end": 52.8,
            "count": 0
           },
           {
            "bin_start": 52.8,
            "bin_end": 56.4,
            "count": 1
           },
           {
            "bin_start": 56.4,
            "bin_end": 60,
            "count": 1
           }
          ]
         }
        },
        {
         "name": "pregnancy",
         "dtype": "int64",
         "stats": {
          "unique_count": 2,
          "nan_count": 0,
          "min": "2",
          "max": "97",
          "histogram": [
           {
            "bin_start": 2,
            "bin_end": 11.5,
            "count": 2
           },
           {
            "bin_start": 11.5,
            "bin_end": 21,
            "count": 0
           },
           {
            "bin_start": 21,
            "bin_end": 30.5,
            "count": 0
           },
           {
            "bin_start": 30.5,
            "bin_end": 40,
            "count": 0
           },
           {
            "bin_start": 40,
            "bin_end": 49.5,
            "count": 0
           },
           {
            "bin_start": 49.5,
            "bin_end": 59,
            "count": 0
           },
           {
            "bin_start": 59,
            "bin_end": 68.5,
            "count": 0
           },
           {
            "bin_start": 68.5,
            "bin_end": 78,
            "count": 0
           },
           {
            "bin_start": 78,
            "bin_end": 87.5,
            "count": 0
           },
           {
            "bin_start": 87.5,
            "bin_end": 97,
            "count": 3
           }
          ]
         }
        },
        {
         "name": "diabetes",
         "dtype": "int64",
         "stats": {
          "unique_count": 2,
          "nan_count": 0,
          "min": "1",
          "max": "2",
          "histogram": [
           {
            "bin_start": 1,
            "bin_end": 1.1,
            "count": 1
           },
           {
            "bin_start": 1.1,
            "bin_end": 1.2,
            "count": 0
           },
           {
            "bin_start": 1.2,
            "bin_end": 1.3,
            "count": 0
           },
           {
            "bin_start": 1.3,
            "bin_end": 1.4,
            "count": 0
           },
           {
            "bin_start": 1.4,
            "bin_end": 1.5,
            "count": 0
           },
           {
            "bin_start": 1.5,
            "bin_end": 1.6,
            "count": 0
           },
           {
            "bin_start": 1.6,
            "bin_end": 1.7000000000000002,
            "count": 0
           },
           {
            "bin_start": 1.7000000000000002,
            "bin_end": 1.8,
            "count": 0
           },
           {
            "bin_start": 1.8,
            "bin_end": 1.9,
            "count": 0
           },
           {
            "bin_start": 1.9,
            "bin_end": 2,
            "count": 4
           }
          ]
         }
        },
        {
         "name": "copd",
         "dtype": "int64",
         "stats": {
          "unique_count": 1,
          "nan_count": 0,
          "min": "2",
          "max": "2",
          "histogram": [
           {
            "bin_start": 1.5,
            "bin_end": 1.6,
            "count": 0
           },
           {
            "bin_start": 1.6,
            "bin_end": 1.7,
            "count": 0
           },
           {
            "bin_start": 1.7,
            "bin_end": 1.8,
            "count": 0
           },
           {
            "bin_start": 1.8,
            "bin_end": 1.9,
            "count": 0
           },
           {
            "bin_start": 1.9,
            "bin_end": 2,
            "count": 0
           },
           {
            "bin_start": 2,
            "bin_end": 2.1,
            "count": 5
           },
           {
            "bin_start": 2.1,
            "bin_end": 2.2,
            "count": 0
           },
           {
            "bin_start": 2.2,
            "bin_end": 2.3,
            "count": 0
           },
           {
            "bin_start": 2.3,
            "bin_end": 2.4,
            "count": 0
           },
           {
            "bin_start": 2.4,
            "bin_end": 2.5,
            "count": 0
           }
          ]
         }
        },
        {
         "name": "asthma",
         "dtype": "int64",
         "stats": {
          "unique_count": 1,
          "nan_count": 0,
          "min": "2",
          "max": "2",
          "histogram": [
           {
            "bin_start": 1.5,
            "bin_end": 1.6,
            "count": 0
           },
           {
            "bin_start": 1.6,
            "bin_end": 1.7,
            "count": 0
           },
           {
            "bin_start": 1.7,
            "bin_end": 1.8,
            "count": 0
           },
           {
            "bin_start": 1.8,
            "bin_end": 1.9,
            "count": 0
           },
           {
            "bin_start": 1.9,
            "bin_end": 2,
            "count": 0
           },
           {
            "bin_start": 2,
            "bin_end": 2.1,
            "count": 5
           },
           {
            "bin_start": 2.1,
            "bin_end": 2.2,
            "count": 0
           },
           {
            "bin_start": 2.2,
            "bin_end": 2.3,
            "count": 0
           },
           {
            "bin_start": 2.3,
            "bin_end": 2.4,
            "count": 0
           },
           {
            "bin_start": 2.4,
            "bin_end": 2.5,
            "count": 0
           }
          ]
         }
        },
        {
         "name": "inmsupr",
         "dtype": "int64",
         "stats": {
          "unique_count": 1,
          "nan_count": 0,
          "min": "2",
          "max": "2",
          "histogram": [
           {
            "bin_start": 1.5,
            "bin_end": 1.6,
            "count": 0
           },
           {
            "bin_start": 1.6,
            "bin_end": 1.7,
            "count": 0
           },
           {
            "bin_start": 1.7,
            "bin_end": 1.8,
            "count": 0
           },
           {
            "bin_start": 1.8,
            "bin_end": 1.9,
            "count": 0
           },
           {
            "bin_start": 1.9,
            "bin_end": 2,
            "count": 0
           },
           {
            "bin_start": 2,
            "bin_end": 2.1,
            "count": 5
           },
           {
            "bin_start": 2.1,
            "bin_end": 2.2,
            "count": 0
           },
           {
            "bin_start": 2.2,
            "bin_end": 2.3,
            "count": 0
           },
           {
            "bin_start": 2.3,
            "bin_end": 2.4,
            "count": 0
           },
           {
            "bin_start": 2.4,
            "bin_end": 2.5,
            "count": 0
           }
          ]
         }
        },
        {
         "name": "hypertension",
         "dtype": "int64",
         "stats": {
          "unique_count": 2,
          "nan_count": 0,
          "min": "1",
          "max": "2",
          "histogram": [
           {
            "bin_start": 1,
            "bin_end": 1.1,
            "count": 1
           },
           {
            "bin_start": 1.1,
            "bin_end": 1.2,
            "count": 0
           },
           {
            "bin_start": 1.2,
            "bin_end": 1.3,
            "count": 0
           },
           {
            "bin_start": 1.3,
            "bin_end": 1.4,
            "count": 0
           },
           {
            "bin_start": 1.4,
            "bin_end": 1.5,
            "count": 0
           },
           {
            "bin_start": 1.5,
            "bin_end": 1.6,
            "count": 0
           },
           {
            "bin_start": 1.6,
            "bin_end": 1.7000000000000002,
            "count": 0
           },
           {
            "bin_start": 1.7000000000000002,
            "bin_end": 1.8,
            "count": 0
           },
           {
            "bin_start": 1.8,
            "bin_end": 1.9,
            "count": 0
           },
           {
            "bin_start": 1.9,
            "bin_end": 2,
            "count": 4
           }
          ]
         }
        },
        {
         "name": "other_disease",
         "dtype": "int64",
         "stats": {
          "unique_count": 1,
          "nan_count": 0,
          "min": "2",
          "max": "2",
          "histogram": [
           {
            "bin_start": 1.5,
            "bin_end": 1.6,
            "count": 0
           },
           {
            "bin_start": 1.6,
            "bin_end": 1.7,
            "count": 0
           },
           {
            "bin_start": 1.7,
            "bin_end": 1.8,
            "count": 0
           },
           {
            "bin_start": 1.8,
            "bin_end": 1.9,
            "count": 0
           },
           {
            "bin_start": 1.9,
            "bin_end": 2,
            "count": 0
           },
           {
            "bin_start": 2,
            "bin_end": 2.1,
            "count": 5
           },
           {
            "bin_start": 2.1,
            "bin_end": 2.2,
            "count": 0
           },
           {
            "bin_start": 2.2,
            "bin_end": 2.3,
            "count": 0
           },
           {
            "bin_start": 2.3,
            "bin_end": 2.4,
            "count": 0
           },
           {
            "bin_start": 2.4,
            "bin_end": 2.5,
            "count": 0
           }
          ]
         }
        },
        {
         "name": "cardiovascular",
         "dtype": "int64",
         "stats": {
          "unique_count": 2,
          "nan_count": 0,
          "min": "1",
          "max": "2",
          "histogram": [
           {
            "bin_start": 1,
            "bin_end": 1.1,
            "count": 1
           },
           {
            "bin_start": 1.1,
            "bin_end": 1.2,
            "count": 0
           },
           {
            "bin_start": 1.2,
            "bin_end": 1.3,
            "count": 0
           },
           {
            "bin_start": 1.3,
            "bin_end": 1.4,
            "count": 0
           },
           {
            "bin_start": 1.4,
            "bin_end": 1.5,
            "count": 0
           },
           {
            "bin_start": 1.5,
            "bin_end": 1.6,
            "count": 0
           },
           {
            "bin_start": 1.6,
            "bin_end": 1.7000000000000002,
            "count": 0
           },
           {
            "bin_start": 1.7000000000000002,
            "bin_end": 1.8,
            "count": 0
           },
           {
            "bin_start": 1.8,
            "bin_end": 1.9,
            "count": 0
           },
           {
            "bin_start": 1.9,
            "bin_end": 2,
            "count": 4
           }
          ]
         }
        },
        {
         "name": "obesity",
         "dtype": "int64",
         "stats": {
          "unique_count": 2,
          "nan_count": 0,
          "min": "1",
          "max": "2",
          "histogram": [
           {
            "bin_start": 1,
            "bin_end": 1.1,
            "count": 1
           },
           {
            "bin_start": 1.1,
            "bin_end": 1.2,
            "count": 0
           },
           {
            "bin_start": 1.2,
            "bin_end": 1.3,
            "count": 0
           },
           {
            "bin_start": 1.3,
            "bin_end": 1.4,
            "count": 0
           },
           {
            "bin_start": 1.4,
            "bin_end": 1.5,
            "count": 0
           },
           {
            "bin_start": 1.5,
            "bin_end": 1.6,
            "count": 0
           },
           {
            "bin_start": 1.6,
            "bin_end": 1.7000000000000002,
            "count": 0
           },
           {
            "bin_start": 1.7000000000000002,
            "bin_end": 1.8,
            "count": 0
           },
           {
            "bin_start": 1.8,
            "bin_end": 1.9,
            "count": 0
           },
           {
            "bin_start": 1.9,
            "bin_end": 2,
            "count": 4
           }
          ]
         }
        },
        {
         "name": "renal_chronic",
         "dtype": "int64",
         "stats": {
          "unique_count": 1,
          "nan_count": 0,
          "min": "2",
          "max": "2",
          "histogram": [
           {
            "bin_start": 1.5,
            "bin_end": 1.6,
            "count": 0
           },
           {
            "bin_start": 1.6,
            "bin_end": 1.7,
            "count": 0
           },
           {
            "bin_start": 1.7,
            "bin_end": 1.8,
            "count": 0
           },
           {
            "bin_start": 1.8,
            "bin_end": 1.9,
            "count": 0
           },
           {
            "bin_start": 1.9,
            "bin_end": 2,
            "count": 0
           },
           {
            "bin_start": 2,
            "bin_end": 2.1,
            "count": 5
           },
           {
            "bin_start": 2.1,
            "bin_end": 2.2,
            "count": 0
           },
           {
            "bin_start": 2.2,
            "bin_end": 2.3,
            "count": 0
           },
           {
            "bin_start": 2.3,
            "bin_end": 2.4,
            "count": 0
           },
           {
            "bin_start": 2.4,
            "bin_end": 2.5,
            "count": 0
           }
          ]
         }
        },
        {
         "name": "tobacco",
         "dtype": "int64",
         "stats": {
          "unique_count": 1,
          "nan_count": 0,
          "min": "2",
          "max": "2",
          "histogram": [
           {
            "bin_start": 1.5,
            "bin_end": 1.6,
            "count": 0
           },
           {
            "bin_start": 1.6,
            "bin_end": 1.7,
            "count": 0
           },
           {
            "bin_start": 1.7,
            "bin_end": 1.8,
            "count": 0
           },
           {
            "bin_start": 1.8,
            "bin_end": 1.9,
            "count": 0
           },
           {
            "bin_start": 1.9,
            "bin_end": 2,
            "count": 0
           },
           {
            "bin_start": 2,
            "bin_end": 2.1,
            "count": 5
           },
           {
            "bin_start": 2.1,
            "bin_end": 2.2,
            "count": 0
           },
           {
            "bin_start": 2.2,
            "bin_end": 2.3,
            "count": 0
           },
           {
            "bin_start": 2.3,
            "bin_end": 2.4,
            "count": 0
           },
           {
            "bin_start": 2.4,
            "bin_end": 2.5,
            "count": 0
           }
          ]
         }
        },
        {
         "name": "contact_other_covid",
         "dtype": "int64",
         "stats": {
          "unique_count": 2,
          "nan_count": 0,
          "min": "2",
          "max": "99",
          "histogram": [
           {
            "bin_start": 2,
            "bin_end": 11.7,
            "count": 1
           },
           {
            "bin_start": 11.7,
            "bin_end": 21.4,
            "count": 0
           },
           {
            "bin_start": 21.4,
            "bin_end": 31.099999999999998,
            "count": 0
           },
           {
            "bin_start": 31.099999999999998,
            "bin_end": 40.8,
            "count": 0
           },
           {
            "bin_start": 40.8,
            "bin_end": 50.5,
            "count": 0
           },
           {
            "bin_start": 50.5,
            "bin_end": 60.199999999999996,
            "count": 0
           },
           {
            "bin_start": 60.199999999999996,
            "bin_end": 69.89999999999999,
            "count": 0
           },
           {
            "bin_start": 69.89999999999999,
            "bin_end": 79.6,
            "count": 0
           },
           {
            "bin_start": 79.6,
            "bin_end": 89.3,
            "count": 0
           },
           {
            "bin_start": 89.3,
            "bin_end": 99,
            "count": 4
           }
          ]
         }
        },
        {
         "name": "covid_res",
         "dtype": "int64",
         "stats": {
          "unique_count": 1,
          "nan_count": 0,
          "min": "1",
          "max": "1",
          "histogram": [
           {
            "bin_start": 0.5,
            "bin_end": 0.6,
            "count": 0
           },
           {
            "bin_start": 0.6,
            "bin_end": 0.7,
            "count": 0
           },
           {
            "bin_start": 0.7,
            "bin_end": 0.8,
            "count": 0
           },
           {
            "bin_start": 0.8,
            "bin_end": 0.9,
            "count": 0
           },
           {
            "bin_start": 0.9,
            "bin_end": 1,
            "count": 0
           },
           {
            "bin_start": 1,
            "bin_end": 1.1,
            "count": 5
           },
           {
            "bin_start": 1.1,
            "bin_end": 1.2000000000000002,
            "count": 0
           },
           {
            "bin_start": 1.2000000000000002,
            "bin_end": 1.3,
            "count": 0
           },
           {
            "bin_start": 1.3,
            "bin_end": 1.4,
            "count": 0
           },
           {
            "bin_start": 1.4,
            "bin_end": 1.5,
            "count": 0
           }
          ]
         }
        },
        {
         "name": "icu",
         "dtype": "int64",
         "stats": {
          "unique_count": 2,
          "nan_count": 0,
          "min": "2",
          "max": "97",
          "histogram": [
           {
            "bin_start": 2,
            "bin_end": 11.5,
            "count": 3
           },
           {
            "bin_start": 11.5,
            "bin_end": 21,
            "count": 0
           },
           {
            "bin_start": 21,
            "bin_end": 30.5,
            "count": 0
           },
           {
            "bin_start": 30.5,
            "bin_end": 40,
            "count": 0
           },
           {
            "bin_start": 40,
            "bin_end": 49.5,
            "count": 0
           },
           {
            "bin_start": 49.5,
            "bin_end": 59,
            "count": 0
           },
           {
            "bin_start": 59,
            "bin_end": 68.5,
            "count": 0
           },
           {
            "bin_start": 68.5,
            "bin_end": 78,
            "count": 0
           },
           {
            "bin_start": 78,
            "bin_end": 87.5,
            "count": 0
           },
           {
            "bin_start": 87.5,
            "bin_end": 97,
            "count": 2
           }
          ]
         }
        },
        {
         "name": "_deepnote_index_column",
         "dtype": "int64"
        }
       ],
       "rows": [
        {
         "id": "16169f",
         "sex": 2,
         "patient_type": 1,
         "entry_date": "04-05-2020",
         "date_symptoms": "02-05-2020",
         "date_died": "9999-99-99",
         "intubed": 97,
         "pneumonia": 2,
         "age": 27,
         "pregnancy": 97,
         "diabetes": 2,
         "copd": 2,
         "asthma": 2,
         "inmsupr": 2,
         "hypertension": 2,
         "other_disease": 2,
         "cardiovascular": 2,
         "obesity": 2,
         "renal_chronic": 2,
         "tobacco": 2,
         "contact_other_covid": 2,
         "covid_res": 1,
         "icu": 97,
         "_deepnote_index_column": 0
        },
        {
         "id": "1009bf",
         "sex": 2,
         "patient_type": 1,
         "entry_date": "19-03-2020",
         "date_symptoms": "17-03-2020",
         "date_died": "9999-99-99",
         "intubed": 97,
         "pneumonia": 2,
         "age": 24,
         "pregnancy": 97,
         "diabetes": 2,
         "copd": 2,
         "asthma": 2,
         "inmsupr": 2,
         "hypertension": 2,
         "other_disease": 2,
         "cardiovascular": 2,
         "obesity": 2,
         "renal_chronic": 2,
         "tobacco": 2,
         "contact_other_covid": 99,
         "covid_res": 1,
         "icu": 97,
         "_deepnote_index_column": 1
        },
        {
         "id": "167386",
         "sex": 1,
         "patient_type": 2,
         "entry_date": "06-04-2020",
         "date_symptoms": "01-04-2020",
         "date_died": "9999-99-99",
         "intubed": 2,
         "pneumonia": 2,
         "age": 54,
         "pregnancy": 2,
         "diabetes": 2,
         "copd": 2,
         "asthma": 2,
         "inmsupr": 2,
         "hypertension": 2,
         "other_disease": 2,
         "cardiovascular": 2,
         "obesity": 1,
         "renal_chronic": 2,
         "tobacco": 2,
         "contact_other_covid": 99,
         "covid_res": 1,
         "icu": 2,
         "_deepnote_index_column": 2
        },
        {
         "id": "0b5948",
         "sex": 2,
         "patient_type": 2,
         "entry_date": "17-04-2020",
         "date_symptoms": "10-04-2020",
         "date_died": "9999-99-99",
         "intubed": 2,
         "pneumonia": 1,
         "age": 30,
         "pregnancy": 97,
         "diabetes": 2,
         "copd": 2,
         "asthma": 2,
         "inmsupr": 2,
         "hypertension": 2,
         "other_disease": 2,
         "cardiovascular": 2,
         "obesity": 2,
         "renal_chronic": 2,
         "tobacco": 2,
         "contact_other_covid": 99,
         "covid_res": 1,
         "icu": 2,
         "_deepnote_index_column": 3
        },
        {
         "id": "0d01b5",
         "sex": 1,
         "patient_type": 2,
         "entry_date": "13-04-2020",
         "date_symptoms": "13-04-2020",
         "date_died": "22-04-2020",
         "intubed": 2,
         "pneumonia": 2,
         "age": 60,
         "pregnancy": 2,
         "diabetes": 1,
         "copd": 2,
         "asthma": 2,
         "inmsupr": 2,
         "hypertension": 1,
         "other_disease": 2,
         "cardiovascular": 1,
         "obesity": 2,
         "renal_chronic": 2,
         "tobacco": 2,
         "contact_other_covid": 99,
         "covid_res": 1,
         "icu": 2,
         "_deepnote_index_column": 4
        }
       ]
      },
      "text/plain": "       id  sex  patient_type  entry_date date_symptoms   date_died  intubed  \\\n0  16169f    2             1  04-05-2020    02-05-2020  9999-99-99       97   \n1  1009bf    2             1  19-03-2020    17-03-2020  9999-99-99       97   \n2  167386    1             2  06-04-2020    01-04-2020  9999-99-99        2   \n3  0b5948    2             2  17-04-2020    10-04-2020  9999-99-99        2   \n4  0d01b5    1             2  13-04-2020    13-04-2020  22-04-2020        2   \n\n   pneumonia  age  pregnancy  diabetes  copd  asthma  inmsupr  hypertension  \\\n0          2   27         97         2     2       2        2             2   \n1          2   24         97         2     2       2        2             2   \n2          2   54          2         2     2       2        2             2   \n3          1   30         97         2     2       2        2             2   \n4          2   60          2         1     2       2        2             1   \n\n   other_disease  cardiovascular  obesity  renal_chronic  tobacco  \\\n0              2               2        2              2        2   \n1              2               2        2              2        2   \n2              2               2        1              2        2   \n3              2               2        2              2        2   \n4              2               1        2              2        2   \n\n   contact_other_covid  covid_res  icu  \n0                    2          1   97  \n1                   99          1   97  \n2                   99          1    2  \n3                   99          1    2  \n4                   99          1    2  ",
      "text/html": "<div>\n<style scoped>\n    .dataframe tbody tr th:only-of-type {\n        vertical-align: middle;\n    }\n\n    .dataframe tbody tr th {\n        vertical-align: top;\n    }\n\n    .dataframe thead th {\n        text-align: right;\n    }\n</style>\n<table border=\"1\" class=\"dataframe\">\n  <thead>\n    <tr style=\"text-align: right;\">\n      <th></th>\n      <th>id</th>\n      <th>sex</th>\n      <th>patient_type</th>\n      <th>entry_date</th>\n      <th>date_symptoms</th>\n      <th>date_died</th>\n      <th>intubed</th>\n      <th>pneumonia</th>\n      <th>age</th>\n      <th>pregnancy</th>\n      <th>diabetes</th>\n      <th>copd</th>\n      <th>asthma</th>\n      <th>inmsupr</th>\n      <th>hypertension</th>\n      <th>other_disease</th>\n      <th>cardiovascular</th>\n      <th>obesity</th>\n      <th>renal_chronic</th>\n      <th>tobacco</th>\n      <th>contact_other_covid</th>\n      <th>covid_res</th>\n      <th>icu</th>\n    </tr>\n  </thead>\n  <tbody>\n    <tr>\n      <th>0</th>\n      <td>16169f</td>\n      <td>2</td>\n      <td>1</td>\n      <td>04-05-2020</td>\n      <td>02-05-2020</td>\n      <td>9999-99-99</td>\n      <td>97</td>\n      <td>2</td>\n      <td>27</td>\n      <td>97</td>\n      <td>2</td>\n      <td>2</td>\n      <td>2</td>\n      <td>2</td>\n      <td>2</td>\n      <td>2</td>\n      <td>2</td>\n      <td>2</td>\n      <td>2</td>\n      <td>2</td>\n      <td>2</td>\n      <td>1</td>\n      <td>97</td>\n    </tr>\n    <tr>\n      <th>1</th>\n      <td>1009bf</td>\n      <td>2</td>\n      <td>1</td>\n      <td>19-03-2020</td>\n      <td>17-03-2020</td>\n      <td>9999-99-99</td>\n      <td>97</td>\n      <td>2</td>\n      <td>24</td>\n      <td>97</td>\n      <td>2</td>\n      <td>2</td>\n      <td>2</td>\n      <td>2</td>\n      <td>2</td>\n      <td>2</td>\n      <td>2</td>\n      <td>2</td>\n      <td>2</td>\n      <td>2</td>\n      <td>99</td>\n      <td>1</td>\n      <td>97</td>\n    </tr>\n    <tr>\n      <th>2</th>\n      <td>167386</td>\n      <td>1</td>\n      <td>2</td>\n      <td>06-04-2020</td>\n      <td>01-04-2020</td>\n      <td>9999-99-99</td>\n      <td>2</td>\n      <td>2</td>\n      <td>54</td>\n      <td>2</td>\n      <td>2</td>\n      <td>2</td>\n      <td>2</td>\n      <td>2</td>\n      <td>2</td>\n      <td>2</td>\n      <td>2</td>\n      <td>1</td>\n      <td>2</td>\n      <td>2</td>\n      <td>99</td>\n      <td>1</td>\n      <td>2</td>\n    </tr>\n    <tr>\n      <th>3</th>\n      <td>0b5948</td>\n      <td>2</td>\n      <td>2</td>\n      <td>17-04-2020</td>\n      <td>10-04-2020</td>\n      <td>9999-99-99</td>\n      <td>2</td>\n      <td>1</td>\n      <td>30</td>\n      <td>97</td>\n      <td>2</td>\n      <td>2</td>\n      <td>2</td>\n      <td>2</td>\n      <td>2</td>\n      <td>2</td>\n      <td>2</td>\n      <td>2</td>\n      <td>2</td>\n      <td>2</td>\n      <td>99</td>\n      <td>1</td>\n      <td>2</td>\n    </tr>\n    <tr>\n      <th>4</th>\n      <td>0d01b5</td>\n      <td>1</td>\n      <td>2</td>\n      <td>13-04-2020</td>\n      <td>13-04-2020</td>\n      <td>22-04-2020</td>\n      <td>2</td>\n      <td>2</td>\n      <td>60</td>\n      <td>2</td>\n      <td>1</td>\n      <td>2</td>\n      <td>2</td>\n      <td>2</td>\n      <td>1</td>\n      <td>2</td>\n      <td>1</td>\n      <td>2</td>\n      <td>2</td>\n      <td>2</td>\n      <td>99</td>\n      <td>1</td>\n      <td>2</td>\n    </tr>\n  </tbody>\n</table>\n</div>"
     },
     "metadata": {}
    }
   ]
  },
  {
   "cell_type": "markdown",
   "source": "# Análise Exploratória dos Dados",
   "metadata": {
    "cell_id": "eab716ce-d9da-4948-9e15-dbe0ed10012c",
    "tags": [],
    "deepnote_cell_type": "markdown"
   }
  },
  {
   "cell_type": "code",
   "metadata": {
    "cell_id": "00003-b5d394a6-4efa-42f4-808a-a8813a2a21da",
    "deepnote_to_be_reexecuted": false,
    "source_hash": "de1e323c",
    "execution_start": 1646602675698,
    "execution_millis": 190,
    "deepnote_cell_type": "code"
   },
   "source": "df.info()",
   "execution_count": 4,
   "outputs": [
    {
     "name": "stdout",
     "text": "<class 'pandas.core.frame.DataFrame'>\nRangeIndex: 566602 entries, 0 to 566601\nData columns (total 23 columns):\n #   Column               Non-Null Count   Dtype \n---  ------               --------------   ----- \n 0   id                   566602 non-null  object\n 1   sex                  566602 non-null  int64 \n 2   patient_type         566602 non-null  int64 \n 3   entry_date           566602 non-null  object\n 4   date_symptoms        566602 non-null  object\n 5   date_died            566602 non-null  object\n 6   intubed              566602 non-null  int64 \n 7   pneumonia            566602 non-null  int64 \n 8   age                  566602 non-null  int64 \n 9   pregnancy            566602 non-null  int64 \n 10  diabetes             566602 non-null  int64 \n 11  copd                 566602 non-null  int64 \n 12  asthma               566602 non-null  int64 \n 13  inmsupr              566602 non-null  int64 \n 14  hypertension         566602 non-null  int64 \n 15  other_disease        566602 non-null  int64 \n 16  cardiovascular       566602 non-null  int64 \n 17  obesity              566602 non-null  int64 \n 18  renal_chronic        566602 non-null  int64 \n 19  tobacco              566602 non-null  int64 \n 20  contact_other_covid  566602 non-null  int64 \n 21  covid_res            566602 non-null  int64 \n 22  icu                  566602 non-null  int64 \ndtypes: int64(19), object(4)\nmemory usage: 99.4+ MB\n",
     "output_type": "stream"
    }
   ]
  },
  {
   "cell_type": "code",
   "metadata": {
    "cell_id": "00004-5f50f4c2-a390-47b7-972f-45b638ff5bae",
    "deepnote_to_be_reexecuted": false,
    "source_hash": "f88152d9",
    "execution_start": 1646602675879,
    "execution_millis": 440,
    "deepnote_cell_type": "code"
   },
   "source": "df.describe()",
   "execution_count": 5,
   "outputs": [
    {
     "output_type": "execute_result",
     "execution_count": 5,
     "data": {
      "application/vnd.deepnote.dataframe.v3+json": {
       "column_count": 19,
       "row_count": 8,
       "columns": [
        {
         "name": "sex",
         "dtype": "float64",
         "stats": {
          "unique_count": 5,
          "nan_count": 0,
          "min": "0.49995519923492526",
          "max": "566602.0",
          "histogram": [
           {
            "bin_start": 0.49995519923492526,
            "bin_end": 56660.649959679315,
            "count": 7
           },
           {
            "bin_start": 56660.649959679315,
            "bin_end": 113320.79996415939,
            "count": 0
           },
           {
            "bin_start": 113320.79996415939,
            "bin_end": 169980.94996863944,
            "count": 0
           },
           {
            "bin_start": 169980.94996863944,
            "bin_end": 226641.09997311953,
            "count": 0
           },
           {
            "bin_start": 226641.09997311953,
            "bin_end": 283301.24997759965,
            "count": 0
           },
           {
            "bin_start": 283301.24997759965,
            "bin_end": 339961.3999820797,
            "count": 0
           },
           {
            "bin_start": 339961.3999820797,
            "bin_end": 396621.5499865598,
            "count": 0
           },
           {
            "bin_start": 396621.5499865598,
            "bin_end": 453281.6999910399,
            "count": 0
           },
           {
            "bin_start": 453281.6999910399,
            "bin_end": 509941.84999551997,
            "count": 0
           },
           {
            "bin_start": 509941.84999551997,
            "bin_end": 566602,
            "count": 1
           }
          ]
         }
        },
        {
         "name": "patient_type",
         "dtype": "float64",
         "stats": {
          "unique_count": 5,
          "nan_count": 0,
          "min": "0.41093722381967884",
          "max": "566602.0",
          "histogram": [
           {
            "bin_start": 0.41093722381967884,
            "bin_end": 56660.569843501435,
            "count": 7
           },
           {
            "bin_start": 56660.569843501435,
            "bin_end": 113320.72874977905,
            "count": 0
           },
           {
            "bin_start": 113320.72874977905,
            "bin_end": 169980.88765605667,
            "count": 0
           },
           {
            "bin_start": 169980.88765605667,
            "bin_end": 226641.0465623343,
            "count": 0
           },
           {
            "bin_start": 226641.0465623343,
            "bin_end": 283301.2054686119,
            "count": 0
           },
           {
            "bin_start": 283301.2054686119,
            "bin_end": 339961.3643748895,
            "count": 0
           },
           {
            "bin_start": 339961.3643748895,
            "bin_end": 396621.52328116714,
            "count": 0
           },
           {
            "bin_start": 396621.52328116714,
            "bin_end": 453281.68218744476,
            "count": 0
           },
           {
            "bin_start": 453281.68218744476,
            "bin_end": 509941.8410937224,
            "count": 0
           },
           {
            "bin_start": 509941.8410937224,
            "bin_end": 566602,
            "count": 1
           }
          ]
         }
        },
        {
         "name": "intubed",
         "dtype": "float64",
         "stats": {
          "unique_count": 6,
          "nan_count": 0,
          "min": "1.0",
          "max": "566602.0",
          "histogram": [
           {
            "bin_start": 1,
            "bin_end": 56661.1,
            "count": 7
           },
           {
            "bin_start": 56661.1,
            "bin_end": 113321.2,
            "count": 0
           },
           {
            "bin_start": 113321.2,
            "bin_end": 169981.3,
            "count": 0
           },
           {
            "bin_start": 169981.3,
            "bin_end": 226641.4,
            "count": 0
           },
           {
            "bin_start": 226641.4,
            "bin_end": 283301.5,
            "count": 0
           },
           {
            "bin_start": 283301.5,
            "bin_end": 339961.6,
            "count": 0
           },
           {
            "bin_start": 339961.6,
            "bin_end": 396621.7,
            "count": 0
           },
           {
            "bin_start": 396621.7,
            "bin_end": 453281.8,
            "count": 0
           },
           {
            "bin_start": 453281.8,
            "bin_end": 509941.89999999997,
            "count": 0
           },
           {
            "bin_start": 509941.89999999997,
            "bin_end": 566602,
            "count": 1
           }
          ]
         }
        },
        {
         "name": "pneumonia",
         "dtype": "float64",
         "stats": {
          "unique_count": 6,
          "nan_count": 0,
          "min": "0.5609386442720459",
          "max": "566602.0",
          "histogram": [
           {
            "bin_start": 0.5609386442720459,
            "bin_end": 56660.70484477985,
            "count": 7
           },
           {
            "bin_start": 56660.70484477985,
            "bin_end": 113320.84875091542,
            "count": 0
           },
           {
            "bin_start": 113320.84875091542,
            "bin_end": 169980.992657051,
            "count": 0
           },
           {
            "bin_start": 169980.992657051,
            "bin_end": 226641.1365631866,
            "count": 0
           },
           {
            "bin_start": 226641.1365631866,
            "bin_end": 283301.28046932217,
            "count": 0
           },
           {
            "bin_start": 283301.28046932217,
            "bin_end": 339961.42437545775,
            "count": 0
           },
           {
            "bin_start": 339961.42437545775,
            "bin_end": 396621.5682815933,
            "count": 0
           },
           {
            "bin_start": 396621.5682815933,
            "bin_end": 453281.7121877289,
            "count": 0
           },
           {
            "bin_start": 453281.7121877289,
            "bin_end": 509941.8560938645,
            "count": 0
           },
           {
            "bin_start": 509941.8560938645,
            "bin_end": 566602,
            "count": 1
           }
          ]
         }
        },
        {
         "name": "age",
         "dtype": "float64",
         "stats": {
          "unique_count": 8,
          "nan_count": 0,
          "min": "0.0",
          "max": "566602.0",
          "histogram": [
           {
            "bin_start": 0,
            "bin_end": 56660.2,
            "count": 7
           },
           {
            "bin_start": 56660.2,
            "bin_end": 113320.4,
            "count": 0
           },
           {
            "bin_start": 113320.4,
            "bin_end": 169980.59999999998,
            "count": 0
           },
           {
            "bin_start": 169980.59999999998,
            "bin_end": 226640.8,
            "count": 0
           },
           {
            "bin_start": 226640.8,
            "bin_end": 283301,
            "count": 0
           },
           {
            "bin_start": 283301,
            "bin_end": 339961.19999999995,
            "count": 0
           },
           {
            "bin_start": 339961.19999999995,
            "bin_end": 396621.39999999997,
            "count": 0
           },
           {
            "bin_start": 396621.39999999997,
            "bin_end": 453281.6,
            "count": 0
           },
           {
            "bin_start": 453281.6,
            "bin_end": 509941.8,
            "count": 0
           },
           {
            "bin_start": 509941.8,
            "bin_end": 566602,
            "count": 1
           }
          ]
         }
        },
        {
         "name": "pregnancy",
         "dtype": "float64",
         "stats": {
          "unique_count": 7,
          "nan_count": 0,
          "min": "1.0",
          "max": "566602.0",
          "histogram": [
           {
            "bin_start": 1,
            "bin_end": 56661.1,
            "count": 7
           },
           {
            "bin_start": 56661.1,
            "bin_end": 113321.2,
            "count": 0
           },
           {
            "bin_start": 113321.2,
            "bin_end": 169981.3,
            "count": 0
           },
           {
            "bin_start": 169981.3,
            "bin_end": 226641.4,
            "count": 0
           },
           {
            "bin_start": 226641.4,
            "bin_end": 283301.5,
            "count": 0
           },
           {
            "bin_start": 283301.5,
            "bin_end": 339961.6,
            "count": 0
           },
           {
            "bin_start": 339961.6,
            "bin_end": 396621.7,
            "count": 0
           },
           {
            "bin_start": 396621.7,
            "bin_end": 453281.8,
            "count": 0
           },
           {
            "bin_start": 453281.8,
            "bin_end": 509941.89999999997,
            "count": 0
           },
           {
            "bin_start": 509941.89999999997,
            "bin_end": 566602,
            "count": 1
           }
          ]
         }
        },
        {
         "name": "diabetes",
         "dtype": "float64",
         "stats": {
          "unique_count": 6,
          "nan_count": 0,
          "min": "1.0",
          "max": "566602.0",
          "histogram": [
           {
            "bin_start": 1,
            "bin_end": 56661.1,
            "count": 7
           },
           {
            "bin_start": 56661.1,
            "bin_end": 113321.2,
            "count": 0
           },
           {
            "bin_start": 113321.2,
            "bin_end": 169981.3,
            "count": 0
           },
           {
            "bin_start": 169981.3,
            "bin_end": 226641.4,
            "count": 0
           },
           {
            "bin_start": 226641.4,
            "bin_end": 283301.5,
            "count": 0
           },
           {
            "bin_start": 283301.5,
            "bin_end": 339961.6,
            "count": 0
           },
           {
            "bin_start": 339961.6,
            "bin_end": 396621.7,
            "count": 0
           },
           {
            "bin_start": 396621.7,
            "bin_end": 453281.8,
            "count": 0
           },
           {
            "bin_start": 453281.8,
            "bin_end": 509941.89999999997,
            "count": 0
           },
           {
            "bin_start": 509941.89999999997,
            "bin_end": 566602,
            "count": 1
           }
          ]
         }
        },
        {
         "name": "copd",
         "dtype": "float64",
         "stats": {
          "unique_count": 6,
          "nan_count": 0,
          "min": "1.0",
          "max": "566602.0",
          "histogram": [
           {
            "bin_start": 1,
            "bin_end": 56661.1,
            "count": 7
           },
           {
            "bin_start": 56661.1,
            "bin_end": 113321.2,
            "count": 0
           },
           {
            "bin_start": 113321.2,
            "bin_end": 169981.3,
            "count": 0
           },
           {
            "bin_start": 169981.3,
            "bin_end": 226641.4,
            "count": 0
           },
           {
            "bin_start": 226641.4,
            "bin_end": 283301.5,
            "count": 0
           },
           {
            "bin_start": 283301.5,
            "bin_end": 339961.6,
            "count": 0
           },
           {
            "bin_start": 339961.6,
            "bin_end": 396621.7,
            "count": 0
           },
           {
            "bin_start": 396621.7,
            "bin_end": 453281.8,
            "count": 0
           },
           {
            "bin_start": 453281.8,
            "bin_end": 509941.89999999997,
            "count": 0
           },
           {
            "bin_start": 509941.89999999997,
            "bin_end": 566602,
            "count": 1
           }
          ]
         }
        },
        {
         "name": "asthma",
         "dtype": "float64",
         "stats": {
          "unique_count": 6,
          "nan_count": 0,
          "min": "1.0",
          "max": "566602.0",
          "histogram": [
           {
            "bin_start": 1,
            "bin_end": 56661.1,
            "count": 7
           },
           {
            "bin_start": 56661.1,
            "bin_end": 113321.2,
            "count": 0
           },
           {
            "bin_start": 113321.2,
            "bin_end": 169981.3,
            "count": 0
           },
           {
            "bin_start": 169981.3,
            "bin_end": 226641.4,
            "count": 0
           },
           {
            "bin_start": 226641.4,
            "bin_end": 283301.5,
            "count": 0
           },
           {
            "bin_start": 283301.5,
            "bin_end": 339961.6,
            "count": 0
           },
           {
            "bin_start": 339961.6,
            "bin_end": 396621.7,
            "count": 0
           },
           {
            "bin_start": 396621.7,
            "bin_end": 453281.8,
            "count": 0
           },
           {
            "bin_start": 453281.8,
            "bin_end": 509941.89999999997,
            "count": 0
           },
           {
            "bin_start": 509941.89999999997,
            "bin_end": 566602,
            "count": 1
           }
          ]
         }
        },
        {
         "name": "inmsupr",
         "dtype": "float64",
         "stats": {
          "unique_count": 6,
          "nan_count": 0,
          "min": "1.0",
          "max": "566602.0",
          "histogram": [
           {
            "bin_start": 1,
            "bin_end": 56661.1,
            "count": 7
           },
           {
            "bin_start": 56661.1,
            "bin_end": 113321.2,
            "count": 0
           },
           {
            "bin_start": 113321.2,
            "bin_end": 169981.3,
            "count": 0
           },
           {
            "bin_start": 169981.3,
            "bin_end": 226641.4,
            "count": 0
           },
           {
            "bin_start": 226641.4,
            "bin_end": 283301.5,
            "count": 0
           },
           {
            "bin_start": 283301.5,
            "bin_end": 339961.6,
            "count": 0
           },
           {
            "bin_start": 339961.6,
            "bin_end": 396621.7,
            "count": 0
           },
           {
            "bin_start": 396621.7,
            "bin_end": 453281.8,
            "count": 0
           },
           {
            "bin_start": 453281.8,
            "bin_end": 509941.89999999997,
            "count": 0
           },
           {
            "bin_start": 509941.89999999997,
            "bin_end": 566602,
            "count": 1
           }
          ]
         }
        },
        {
         "name": "hypertension",
         "dtype": "float64",
         "stats": {
          "unique_count": 6,
          "nan_count": 0,
          "min": "1.0",
          "max": "566602.0",
          "histogram": [
           {
            "bin_start": 1,
            "bin_end": 56661.1,
            "count": 7
           },
           {
            "bin_start": 56661.1,
            "bin_end": 113321.2,
            "count": 0
           },
           {
            "bin_start": 113321.2,
            "bin_end": 169981.3,
            "count": 0
           },
           {
            "bin_start": 169981.3,
            "bin_end": 226641.4,
            "count": 0
           },
           {
            "bin_start": 226641.4,
            "bin_end": 283301.5,
            "count": 0
           },
           {
            "bin_start": 283301.5,
            "bin_end": 339961.6,
            "count": 0
           },
           {
            "bin_start": 339961.6,
            "bin_end": 396621.7,
            "count": 0
           },
           {
            "bin_start": 396621.7,
            "bin_end": 453281.8,
            "count": 0
           },
           {
            "bin_start": 453281.8,
            "bin_end": 509941.89999999997,
            "count": 0
           },
           {
            "bin_start": 509941.89999999997,
            "bin_end": 566602,
            "count": 1
           }
          ]
         }
        },
        {
         "name": "other_disease",
         "dtype": "float64",
         "stats": {
          "unique_count": 6,
          "nan_count": 0,
          "min": "1.0",
          "max": "566602.0",
          "histogram": [
           {
            "bin_start": 1,
            "bin_end": 56661.1,
            "count": 7
           },
           {
            "bin_start": 56661.1,
            "bin_end": 113321.2,
            "count": 0
           },
           {
            "bin_start": 113321.2,
            "bin_end": 169981.3,
            "count": 0
           },
           {
            "bin_start": 169981.3,
            "bin_end": 226641.4,
            "count": 0
           },
           {
            "bin_start": 226641.4,
            "bin_end": 283301.5,
            "count": 0
           },
           {
            "bin_start": 283301.5,
            "bin_end": 339961.6,
            "count": 0
           },
           {
            "bin_start": 339961.6,
            "bin_end": 396621.7,
            "count": 0
           },
           {
            "bin_start": 396621.7,
            "bin_end": 453281.8,
            "count": 0
           },
           {
            "bin_start": 453281.8,
            "bin_end": 509941.89999999997,
            "count": 0
           },
           {
            "bin_start": 509941.89999999997,
            "bin_end": 566602,
            "count": 1
           }
          ]
         }
        },
        {
         "name": "cardiovascular",
         "dtype": "float64",
         "stats": {
          "unique_count": 6,
          "nan_count": 0,
          "min": "1.0",
          "max": "566602.0",
          "histogram": [
           {
            "bin_start": 1,
            "bin_end": 56661.1,
            "count": 7
           },
           {
            "bin_start": 56661.1,
            "bin_end": 113321.2,
            "count": 0
           },
           {
            "bin_start": 113321.2,
            "bin_end": 169981.3,
            "count": 0
           },
           {
            "bin_start": 169981.3,
            "bin_end": 226641.4,
            "count": 0
           },
           {
            "bin_start": 226641.4,
            "bin_end": 283301.5,
            "count": 0
           },
           {
            "bin_start": 283301.5,
            "bin_end": 339961.6,
            "count": 0
           },
           {
            "bin_start": 339961.6,
            "bin_end": 396621.7,
            "count": 0
           },
           {
            "bin_start": 396621.7,
            "bin_end": 453281.8,
            "count": 0
           },
           {
            "bin_start": 453281.8,
            "bin_end": 509941.89999999997,
            "count": 0
           },
           {
            "bin_start": 509941.89999999997,
            "bin_end": 566602,
            "count": 1
           }
          ]
         }
        },
        {
         "name": "obesity",
         "dtype": "float64",
         "stats": {
          "unique_count": 6,
          "nan_count": 0,
          "min": "1.0",
          "max": "566602.0",
          "histogram": [
           {
            "bin_start": 1,
            "bin_end": 56661.1,
            "count": 7
           },
           {
            "bin_start": 56661.1,
            "bin_end": 113321.2,
            "count": 0
           },
           {
            "bin_start": 113321.2,
            "bin_end": 169981.3,
            "count": 0
           },
           {
            "bin_start": 169981.3,
            "bin_end": 226641.4,
            "count": 0
           },
           {
            "bin_start": 226641.4,
            "bin_end": 283301.5,
            "count": 0
           },
           {
            "bin_start": 283301.5,
            "bin_end": 339961.6,
            "count": 0
           },
           {
            "bin_start": 339961.6,
            "bin_end": 396621.7,
            "count": 0
           },
           {
            "bin_start": 396621.7,
            "bin_end": 453281.8,
            "count": 0
           },
           {
            "bin_start": 453281.8,
            "bin_end": 509941.89999999997,
            "count": 0
           },
           {
            "bin_start": 509941.89999999997,
            "bin_end": 566602,
            "count": 1
           }
          ]
         }
        },
        {
         "name": "renal_chronic",
         "dtype": "float64",
         "stats": {
          "unique_count": 6,
          "nan_count": 0,
          "min": "1.0",
          "max": "566602.0",
          "histogram": [
           {
            "bin_start": 1,
            "bin_end": 56661.1,
            "count": 7
           },
           {
            "bin_start": 56661.1,
            "bin_end": 113321.2,
            "count": 0
           },
           {
            "bin_start": 113321.2,
            "bin_end": 169981.3,
            "count": 0
           },
           {
            "bin_start": 169981.3,
            "bin_end": 226641.4,
            "count": 0
           },
           {
            "bin_start": 226641.4,
            "bin_end": 283301.5,
            "count": 0
           },
           {
            "bin_start": 283301.5,
            "bin_end": 339961.6,
            "count": 0
           },
           {
            "bin_start": 339961.6,
            "bin_end": 396621.7,
            "count": 0
           },
           {
            "bin_start": 396621.7,
            "bin_end": 453281.8,
            "count": 0
           },
           {
            "bin_start": 453281.8,
            "bin_end": 509941.89999999997,
            "count": 0
           },
           {
            "bin_start": 509941.89999999997,
            "bin_end": 566602,
            "count": 1
           }
          ]
         }
        },
        {
         "name": "tobacco",
         "dtype": "float64",
         "stats": {
          "unique_count": 6,
          "nan_count": 0,
          "min": "1.0",
          "max": "566602.0",
          "histogram": [
           {
            "bin_start": 1,
            "bin_end": 56661.1,
            "count": 7
           },
           {
            "bin_start": 56661.1,
            "bin_end": 113321.2,
            "count": 0
           },
           {
            "bin_start": 113321.2,
            "bin_end": 169981.3,
            "count": 0
           },
           {
            "bin_start": 169981.3,
            "bin_end": 226641.4,
            "count": 0
           },
           {
            "bin_start": 226641.4,
            "bin_end": 283301.5,
            "count": 0
           },
           {
            "bin_start": 283301.5,
            "bin_end": 339961.6,
            "count": 0
           },
           {
            "bin_start": 339961.6,
            "bin_end": 396621.7,
            "count": 0
           },
           {
            "bin_start": 396621.7,
            "bin_end": 453281.8,
            "count": 0
           },
           {
            "bin_start": 453281.8,
            "bin_end": 509941.89999999997,
            "count": 0
           },
           {
            "bin_start": 509941.89999999997,
            "bin_end": 566602,
            "count": 1
           }
          ]
         }
        },
        {
         "name": "contact_other_covid",
         "dtype": "float64",
         "stats": {
          "unique_count": 6,
          "nan_count": 0,
          "min": "1.0",
          "max": "566602.0",
          "histogram": [
           {
            "bin_start": 1,
            "bin_end": 56661.1,
            "count": 7
           },
           {
            "bin_start": 56661.1,
            "bin_end": 113321.2,
            "count": 0
           },
           {
            "bin_start": 113321.2,
            "bin_end": 169981.3,
            "count": 0
           },
           {
            "bin_start": 169981.3,
            "bin_end": 226641.4,
            "count": 0
           },
           {
            "bin_start": 226641.4,
            "bin_end": 283301.5,
            "count": 0
           },
           {
            "bin_start": 283301.5,
            "bin_end": 339961.6,
            "count": 0
           },
           {
            "bin_start": 339961.6,
            "bin_end": 396621.7,
            "count": 0
           },
           {
            "bin_start": 396621.7,
            "bin_end": 453281.8,
            "count": 0
           },
           {
            "bin_start": 453281.8,
            "bin_end": 509941.89999999997,
            "count": 0
           },
           {
            "bin_start": 509941.89999999997,
            "bin_end": 566602,
            "count": 1
           }
          ]
         }
        },
        {
         "name": "covid_res",
         "dtype": "float64",
         "stats": {
          "unique_count": 6,
          "nan_count": 0,
          "min": "0.6587104609699942",
          "max": "566602.0",
          "histogram": [
           {
            "bin_start": 0.6587104609699942,
            "bin_end": 56660.79283941487,
            "count": 7
           },
           {
            "bin_start": 56660.79283941487,
            "bin_end": 113320.92696836876,
            "count": 0
           },
           {
            "bin_start": 113320.92696836876,
            "bin_end": 169981.06109732264,
            "count": 0
           },
           {
            "bin_start": 169981.06109732264,
            "bin_end": 226641.19522627656,
            "count": 0
           },
           {
            "bin_start": 226641.19522627656,
            "bin_end": 283301.3293552305,
            "count": 0
           },
           {
            "bin_start": 283301.3293552305,
            "bin_end": 339961.46348418435,
            "count": 0
           },
           {
            "bin_start": 339961.46348418435,
            "bin_end": 396621.59761313826,
            "count": 0
           },
           {
            "bin_start": 396621.59761313826,
            "bin_end": 453281.7317420922,
            "count": 0
           },
           {
            "bin_start": 453281.7317420922,
            "bin_end": 509941.8658710461,
            "count": 0
           },
           {
            "bin_start": 509941.8658710461,
            "bin_end": 566602,
            "count": 1
           }
          ]
         }
        },
        {
         "name": "icu",
         "dtype": "float64",
         "stats": {
          "unique_count": 6,
          "nan_count": 0,
          "min": "1.0",
          "max": "566602.0",
          "histogram": [
           {
            "bin_start": 1,
            "bin_end": 56661.1,
            "count": 7
           },
           {
            "bin_start": 56661.1,
            "bin_end": 113321.2,
            "count": 0
           },
           {
            "bin_start": 113321.2,
            "bin_end": 169981.3,
            "count": 0
           },
           {
            "bin_start": 169981.3,
            "bin_end": 226641.4,
            "count": 0
           },
           {
            "bin_start": 226641.4,
            "bin_end": 283301.5,
            "count": 0
           },
           {
            "bin_start": 283301.5,
            "bin_end": 339961.6,
            "count": 0
           },
           {
            "bin_start": 339961.6,
            "bin_end": 396621.7,
            "count": 0
           },
           {
            "bin_start": 396621.7,
            "bin_end": 453281.8,
            "count": 0
           },
           {
            "bin_start": 453281.8,
            "bin_end": 509941.89999999997,
            "count": 0
           },
           {
            "bin_start": 509941.89999999997,
            "bin_end": 566602,
            "count": 1
           }
          ]
         }
        },
        {
         "name": "_deepnote_index_column",
         "dtype": "object"
        }
       ],
       "rows": [
        {
         "sex": 566602,
         "patient_type": 566602,
         "intubed": 566602,
         "pneumonia": 566602,
         "age": 566602,
         "pregnancy": 566602,
         "diabetes": 566602,
         "copd": 566602,
         "asthma": 566602,
         "inmsupr": 566602,
         "hypertension": 566602,
         "other_disease": 566602,
         "cardiovascular": 566602,
         "obesity": 566602,
         "renal_chronic": 566602,
         "tobacco": 566602,
         "contact_other_covid": 566602,
         "covid_res": 566602,
         "icu": 566602,
         "_deepnote_index_column": "count"
        },
        {
         "sex": 1.50672606167998,
         "patient_type": 1.2151651423750711,
         "intubed": 76.56295247810633,
         "pneumonia": 1.846262455833195,
         "age": 42.62248280097847,
         "pregnancy": 50.40069219663891,
         "diabetes": 2.2106328604558403,
         "copd": 2.280221389970385,
         "asthma": 2.2650290680230567,
         "inmsupr": 2.3196282399285564,
         "hypertension": 2.1457742824769417,
         "other_disease": 2.4100303211072323,
         "cardiovascular": 2.286156773184705,
         "obesity": 2.1389052633065186,
         "renal_chronic": 2.2837653238075406,
         "tobacco": 2.23835955397263,
         "contact_other_covid": 31.57303362854349,
         "covid_res": 1.72865079897353,
         "icu": 76.56286423274186,
         "_deepnote_index_column": "mean"
        },
        {
         "sex": 0.49995519923492526,
         "patient_type": 0.41093722381967884,
         "intubed": 39.05867551766652,
         "pneumonia": 0.5609386442720459,
         "age": 16.659972551727144,
         "pregnancy": 47.501579148671894,
         "diabetes": 5.68352265674127,
         "copd": 5.327832491046146,
         "asthma": 5.334658337099221,
         "inmsupr": 5.667380634852904,
         "hypertension": 5.4598657319439186,
         "other_disease": 6.489959390015944,
         "cardiovascular": 5.438404703273832,
         "obesity": 5.395577814321673,
         "renal_chronic": 5.393232309282292,
         "tobacco": 5.5719005168351075,
         "contact_other_covid": 45.08212339891001,
         "covid_res": 0.6587104609699942,
         "icu": 39.05905987557124,
         "_deepnote_index_column": "std"
        },
        {
         "sex": 1,
         "patient_type": 1,
         "intubed": 1,
         "pneumonia": 1,
         "age": 0,
         "pregnancy": 1,
         "diabetes": 1,
         "copd": 1,
         "asthma": 1,
         "inmsupr": 1,
         "hypertension": 1,
         "other_disease": 1,
         "cardiovascular": 1,
         "obesity": 1,
         "renal_chronic": 1,
         "tobacco": 1,
         "contact_other_covid": 1,
         "covid_res": 1,
         "icu": 1,
         "_deepnote_index_column": "min"
        },
        {
         "sex": 1,
         "patient_type": 1,
         "intubed": 97,
         "pneumonia": 2,
         "age": 31,
         "pregnancy": 2,
         "diabetes": 2,
         "copd": 2,
         "asthma": 2,
         "inmsupr": 2,
         "hypertension": 2,
         "other_disease": 2,
         "cardiovascular": 2,
         "obesity": 2,
         "renal_chronic": 2,
         "tobacco": 2,
         "contact_other_covid": 1,
         "covid_res": 1,
         "icu": 97,
         "_deepnote_index_column": "25%"
        },
        {
         "sex": 2,
         "patient_type": 1,
         "intubed": 97,
         "pneumonia": 2,
         "age": 41,
         "pregnancy": 97,
         "diabetes": 2,
         "copd": 2,
         "asthma": 2,
         "inmsupr": 2,
         "hypertension": 2,
         "other_disease": 2,
         "cardiovascular": 2,
         "obesity": 2,
         "renal_chronic": 2,
         "tobacco": 2,
         "contact_other_covid": 2,
         "covid_res": 2,
         "icu": 97,
         "_deepnote_index_column": "50%"
        },
        {
         "sex": 2,
         "patient_type": 1,
         "intubed": 97,
         "pneumonia": 2,
         "age": 53,
         "pregnancy": 97,
         "diabetes": 2,
         "copd": 2,
         "asthma": 2,
         "inmsupr": 2,
         "hypertension": 2,
         "other_disease": 2,
         "cardiovascular": 2,
         "obesity": 2,
         "renal_chronic": 2,
         "tobacco": 2,
         "contact_other_covid": 99,
         "covid_res": 2,
         "icu": 97,
         "_deepnote_index_column": "75%"
        },
        {
         "sex": 2,
         "patient_type": 2,
         "intubed": 99,
         "pneumonia": 99,
         "age": 120,
         "pregnancy": 98,
         "diabetes": 98,
         "copd": 98,
         "asthma": 98,
         "inmsupr": 98,
         "hypertension": 98,
         "other_disease": 98,
         "cardiovascular": 98,
         "obesity": 98,
         "renal_chronic": 98,
         "tobacco": 98,
         "contact_other_covid": 99,
         "covid_res": 3,
         "icu": 99,
         "_deepnote_index_column": "max"
        }
       ]
      },
      "text/plain": "                 sex   patient_type        intubed      pneumonia  \\\ncount  566602.000000  566602.000000  566602.000000  566602.000000   \nmean        1.506726       1.215165      76.562952       1.846262   \nstd         0.499955       0.410937      39.058676       0.560939   \nmin         1.000000       1.000000       1.000000       1.000000   \n25%         1.000000       1.000000      97.000000       2.000000   \n50%         2.000000       1.000000      97.000000       2.000000   \n75%         2.000000       1.000000      97.000000       2.000000   \nmax         2.000000       2.000000      99.000000      99.000000   \n\n                 age      pregnancy       diabetes           copd  \\\ncount  566602.000000  566602.000000  566602.000000  566602.000000   \nmean       42.622483      50.400692       2.210633       2.280221   \nstd        16.659973      47.501579       5.683523       5.327832   \nmin         0.000000       1.000000       1.000000       1.000000   \n25%        31.000000       2.000000       2.000000       2.000000   \n50%        41.000000      97.000000       2.000000       2.000000   \n75%        53.000000      97.000000       2.000000       2.000000   \nmax       120.000000      98.000000      98.000000      98.000000   \n\n              asthma        inmsupr   hypertension  other_disease  \\\ncount  566602.000000  566602.000000  566602.000000  566602.000000   \nmean        2.265029       2.319628       2.145774       2.410030   \nstd         5.334658       5.667381       5.459866       6.489959   \nmin         1.000000       1.000000       1.000000       1.000000   \n25%         2.000000       2.000000       2.000000       2.000000   \n50%         2.000000       2.000000       2.000000       2.000000   \n75%         2.000000       2.000000       2.000000       2.000000   \nmax        98.000000      98.000000      98.000000      98.000000   \n\n       cardiovascular        obesity  renal_chronic        tobacco  \\\ncount   566602.000000  566602.000000  566602.000000  566602.000000   \nmean         2.286157       2.138905       2.283765       2.238360   \nstd          5.438405       5.395578       5.393232       5.571901   \nmin          1.000000       1.000000       1.000000       1.000000   \n25%          2.000000       2.000000       2.000000       2.000000   \n50%          2.000000       2.000000       2.000000       2.000000   \n75%          2.000000       2.000000       2.000000       2.000000   \nmax         98.000000      98.000000      98.000000      98.000000   \n\n       contact_other_covid      covid_res            icu  \ncount        566602.000000  566602.000000  566602.000000  \nmean             31.573034       1.728651      76.562864  \nstd              45.082123       0.658710      39.059060  \nmin               1.000000       1.000000       1.000000  \n25%               1.000000       1.000000      97.000000  \n50%               2.000000       2.000000      97.000000  \n75%              99.000000       2.000000      97.000000  \nmax              99.000000       3.000000      99.000000  ",
      "text/html": "<div>\n<style scoped>\n    .dataframe tbody tr th:only-of-type {\n        vertical-align: middle;\n    }\n\n    .dataframe tbody tr th {\n        vertical-align: top;\n    }\n\n    .dataframe thead th {\n        text-align: right;\n    }\n</style>\n<table border=\"1\" class=\"dataframe\">\n  <thead>\n    <tr style=\"text-align: right;\">\n      <th></th>\n      <th>sex</th>\n      <th>patient_type</th>\n      <th>intubed</th>\n      <th>pneumonia</th>\n      <th>age</th>\n      <th>pregnancy</th>\n      <th>diabetes</th>\n      <th>copd</th>\n      <th>asthma</th>\n      <th>inmsupr</th>\n      <th>hypertension</th>\n      <th>other_disease</th>\n      <th>cardiovascular</th>\n      <th>obesity</th>\n      <th>renal_chronic</th>\n      <th>tobacco</th>\n      <th>contact_other_covid</th>\n      <th>covid_res</th>\n      <th>icu</th>\n    </tr>\n  </thead>\n  <tbody>\n    <tr>\n      <th>count</th>\n      <td>566602.000000</td>\n      <td>566602.000000</td>\n      <td>566602.000000</td>\n      <td>566602.000000</td>\n      <td>566602.000000</td>\n      <td>566602.000000</td>\n      <td>566602.000000</td>\n      <td>566602.000000</td>\n      <td>566602.000000</td>\n      <td>566602.000000</td>\n      <td>566602.000000</td>\n      <td>566602.000000</td>\n      <td>566602.000000</td>\n      <td>566602.000000</td>\n      <td>566602.000000</td>\n      <td>566602.000000</td>\n      <td>566602.000000</td>\n      <td>566602.000000</td>\n      <td>566602.000000</td>\n    </tr>\n    <tr>\n      <th>mean</th>\n      <td>1.506726</td>\n      <td>1.215165</td>\n      <td>76.562952</td>\n      <td>1.846262</td>\n      <td>42.622483</td>\n      <td>50.400692</td>\n      <td>2.210633</td>\n      <td>2.280221</td>\n      <td>2.265029</td>\n      <td>2.319628</td>\n      <td>2.145774</td>\n      <td>2.410030</td>\n      <td>2.286157</td>\n      <td>2.138905</td>\n      <td>2.283765</td>\n      <td>2.238360</td>\n      <td>31.573034</td>\n      <td>1.728651</td>\n      <td>76.562864</td>\n    </tr>\n    <tr>\n      <th>std</th>\n      <td>0.499955</td>\n      <td>0.410937</td>\n      <td>39.058676</td>\n      <td>0.560939</td>\n      <td>16.659973</td>\n      <td>47.501579</td>\n      <td>5.683523</td>\n      <td>5.327832</td>\n      <td>5.334658</td>\n      <td>5.667381</td>\n      <td>5.459866</td>\n      <td>6.489959</td>\n      <td>5.438405</td>\n      <td>5.395578</td>\n      <td>5.393232</td>\n      <td>5.571901</td>\n      <td>45.082123</td>\n      <td>0.658710</td>\n      <td>39.059060</td>\n    </tr>\n    <tr>\n      <th>min</th>\n      <td>1.000000</td>\n      <td>1.000000</td>\n      <td>1.000000</td>\n      <td>1.000000</td>\n      <td>0.000000</td>\n      <td>1.000000</td>\n      <td>1.000000</td>\n      <td>1.000000</td>\n      <td>1.000000</td>\n      <td>1.000000</td>\n      <td>1.000000</td>\n      <td>1.000000</td>\n      <td>1.000000</td>\n      <td>1.000000</td>\n      <td>1.000000</td>\n      <td>1.000000</td>\n      <td>1.000000</td>\n      <td>1.000000</td>\n      <td>1.000000</td>\n    </tr>\n    <tr>\n      <th>25%</th>\n      <td>1.000000</td>\n      <td>1.000000</td>\n      <td>97.000000</td>\n      <td>2.000000</td>\n      <td>31.000000</td>\n      <td>2.000000</td>\n      <td>2.000000</td>\n      <td>2.000000</td>\n      <td>2.000000</td>\n      <td>2.000000</td>\n      <td>2.000000</td>\n      <td>2.000000</td>\n      <td>2.000000</td>\n      <td>2.000000</td>\n      <td>2.000000</td>\n      <td>2.000000</td>\n      <td>1.000000</td>\n      <td>1.000000</td>\n      <td>97.000000</td>\n    </tr>\n    <tr>\n      <th>50%</th>\n      <td>2.000000</td>\n      <td>1.000000</td>\n      <td>97.000000</td>\n      <td>2.000000</td>\n      <td>41.000000</td>\n      <td>97.000000</td>\n      <td>2.000000</td>\n      <td>2.000000</td>\n      <td>2.000000</td>\n      <td>2.000000</td>\n      <td>2.000000</td>\n      <td>2.000000</td>\n      <td>2.000000</td>\n      <td>2.000000</td>\n      <td>2.000000</td>\n      <td>2.000000</td>\n      <td>2.000000</td>\n      <td>2.000000</td>\n      <td>97.000000</td>\n    </tr>\n    <tr>\n      <th>75%</th>\n      <td>2.000000</td>\n      <td>1.000000</td>\n      <td>97.000000</td>\n      <td>2.000000</td>\n      <td>53.000000</td>\n      <td>97.000000</td>\n      <td>2.000000</td>\n      <td>2.000000</td>\n      <td>2.000000</td>\n      <td>2.000000</td>\n      <td>2.000000</td>\n      <td>2.000000</td>\n      <td>2.000000</td>\n      <td>2.000000</td>\n      <td>2.000000</td>\n      <td>2.000000</td>\n      <td>99.000000</td>\n      <td>2.000000</td>\n      <td>97.000000</td>\n    </tr>\n    <tr>\n      <th>max</th>\n      <td>2.000000</td>\n      <td>2.000000</td>\n      <td>99.000000</td>\n      <td>99.000000</td>\n      <td>120.000000</td>\n      <td>98.000000</td>\n      <td>98.000000</td>\n      <td>98.000000</td>\n      <td>98.000000</td>\n      <td>98.000000</td>\n      <td>98.000000</td>\n      <td>98.000000</td>\n      <td>98.000000</td>\n      <td>98.000000</td>\n      <td>98.000000</td>\n      <td>98.000000</td>\n      <td>99.000000</td>\n      <td>3.000000</td>\n      <td>99.000000</td>\n    </tr>\n  </tbody>\n</table>\n</div>"
     },
     "metadata": {}
    }
   ]
  },
  {
   "cell_type": "code",
   "metadata": {
    "cell_id": "ec648d9e-d4f0-49d6-99bf-ce3b8be477d5",
    "deepnote_table_loading": false,
    "deepnote_table_state": {
     "filters": [],
     "pageIndex": 0,
     "pageSize": 25,
     "sortBy": []
    },
    "deepnote_to_be_reexecuted": false,
    "execution_millis": 26,
    "execution_start": 1646602677648,
    "source_hash": "c085b6ba",
    "tags": [],
    "deepnote_cell_type": "code"
   },
   "source": "df.head()",
   "execution_count": 6,
   "outputs": [
    {
     "output_type": "execute_result",
     "execution_count": 6,
     "data": {
      "application/vnd.deepnote.dataframe.v3+json": {
       "column_count": 23,
       "row_count": 5,
       "columns": [
        {
         "name": "id",
         "dtype": "object",
         "stats": {
          "unique_count": 5,
          "nan_count": 0,
          "categories": [
           {
            "name": "16169f",
            "count": 1
           },
           {
            "name": "1009bf",
            "count": 1
           },
           {
            "name": "3 others",
            "count": 3
           }
          ]
         }
        },
        {
         "name": "sex",
         "dtype": "int64",
         "stats": {
          "unique_count": 2,
          "nan_count": 0,
          "min": "1",
          "max": "2",
          "histogram": [
           {
            "bin_start": 1,
            "bin_end": 1.1,
            "count": 2
           },
           {
            "bin_start": 1.1,
            "bin_end": 1.2,
            "count": 0
           },
           {
            "bin_start": 1.2,
            "bin_end": 1.3,
            "count": 0
           },
           {
            "bin_start": 1.3,
            "bin_end": 1.4,
            "count": 0
           },
           {
            "bin_start": 1.4,
            "bin_end": 1.5,
            "count": 0
           },
           {
            "bin_start": 1.5,
            "bin_end": 1.6,
            "count": 0
           },
           {
            "bin_start": 1.6,
            "bin_end": 1.7000000000000002,
            "count": 0
           },
           {
            "bin_start": 1.7000000000000002,
            "bin_end": 1.8,
            "count": 0
           },
           {
            "bin_start": 1.8,
            "bin_end": 1.9,
            "count": 0
           },
           {
            "bin_start": 1.9,
            "bin_end": 2,
            "count": 3
           }
          ]
         }
        },
        {
         "name": "patient_type",
         "dtype": "int64",
         "stats": {
          "unique_count": 2,
          "nan_count": 0,
          "min": "1",
          "max": "2",
          "histogram": [
           {
            "bin_start": 1,
            "bin_end": 1.1,
            "count": 2
           },
           {
            "bin_start": 1.1,
            "bin_end": 1.2,
            "count": 0
           },
           {
            "bin_start": 1.2,
            "bin_end": 1.3,
            "count": 0
           },
           {
            "bin_start": 1.3,
            "bin_end": 1.4,
            "count": 0
           },
           {
            "bin_start": 1.4,
            "bin_end": 1.5,
            "count": 0
           },
           {
            "bin_start": 1.5,
            "bin_end": 1.6,
            "count": 0
           },
           {
            "bin_start": 1.6,
            "bin_end": 1.7000000000000002,
            "count": 0
           },
           {
            "bin_start": 1.7000000000000002,
            "bin_end": 1.8,
            "count": 0
           },
           {
            "bin_start": 1.8,
            "bin_end": 1.9,
            "count": 0
           },
           {
            "bin_start": 1.9,
            "bin_end": 2,
            "count": 3
           }
          ]
         }
        },
        {
         "name": "entry_date",
         "dtype": "object",
         "stats": {
          "unique_count": 5,
          "nan_count": 0,
          "categories": [
           {
            "name": "04-05-2020",
            "count": 1
           },
           {
            "name": "19-03-2020",
            "count": 1
           },
           {
            "name": "3 others",
            "count": 3
           }
          ]
         }
        },
        {
         "name": "date_symptoms",
         "dtype": "object",
         "stats": {
          "unique_count": 5,
          "nan_count": 0,
          "categories": [
           {
            "name": "02-05-2020",
            "count": 1
           },
           {
            "name": "17-03-2020",
            "count": 1
           },
           {
            "name": "3 others",
            "count": 3
           }
          ]
         }
        },
        {
         "name": "date_died",
         "dtype": "object",
         "stats": {
          "unique_count": 2,
          "nan_count": 0,
          "categories": [
           {
            "name": "9999-99-99",
            "count": 4
           },
           {
            "name": "22-04-2020",
            "count": 1
           }
          ]
         }
        },
        {
         "name": "intubed",
         "dtype": "int64",
         "stats": {
          "unique_count": 2,
          "nan_count": 0,
          "min": "2",
          "max": "97",
          "histogram": [
           {
            "bin_start": 2,
            "bin_end": 11.5,
            "count": 3
           },
           {
            "bin_start": 11.5,
            "bin_end": 21,
            "count": 0
           },
           {
            "bin_start": 21,
            "bin_end": 30.5,
            "count": 0
           },
           {
            "bin_start": 30.5,
            "bin_end": 40,
            "count": 0
           },
           {
            "bin_start": 40,
            "bin_end": 49.5,
            "count": 0
           },
           {
            "bin_start": 49.5,
            "bin_end": 59,
            "count": 0
           },
           {
            "bin_start": 59,
            "bin_end": 68.5,
            "count": 0
           },
           {
            "bin_start": 68.5,
            "bin_end": 78,
            "count": 0
           },
           {
            "bin_start": 78,
            "bin_end": 87.5,
            "count": 0
           },
           {
            "bin_start": 87.5,
            "bin_end": 97,
            "count": 2
           }
          ]
         }
        },
        {
         "name": "pneumonia",
         "dtype": "int64",
         "stats": {
          "unique_count": 2,
          "nan_count": 0,
          "min": "1",
          "max": "2",
          "histogram": [
           {
            "bin_start": 1,
            "bin_end": 1.1,
            "count": 1
           },
           {
            "bin_start": 1.1,
            "bin_end": 1.2,
            "count": 0
           },
           {
            "bin_start": 1.2,
            "bin_end": 1.3,
            "count": 0
           },
           {
            "bin_start": 1.3,
            "bin_end": 1.4,
            "count": 0
           },
           {
            "bin_start": 1.4,
            "bin_end": 1.5,
            "count": 0
           },
           {
            "bin_start": 1.5,
            "bin_end": 1.6,
            "count": 0
           },
           {
            "bin_start": 1.6,
            "bin_end": 1.7000000000000002,
            "count": 0
           },
           {
            "bin_start": 1.7000000000000002,
            "bin_end": 1.8,
            "count": 0
           },
           {
            "bin_start": 1.8,
            "bin_end": 1.9,
            "count": 0
           },
           {
            "bin_start": 1.9,
            "bin_end": 2,
            "count": 4
           }
          ]
         }
        },
        {
         "name": "age",
         "dtype": "int64",
         "stats": {
          "unique_count": 5,
          "nan_count": 0,
          "min": "24",
          "max": "60",
          "histogram": [
           {
            "bin_start": 24,
            "bin_end": 27.6,
            "count": 2
           },
           {
            "bin_start": 27.6,
            "bin_end": 31.2,
            "count": 1
           },
           {
            "bin_start": 31.2,
            "bin_end": 34.8,
            "count": 0
           },
           {
            "bin_start": 34.8,
            "bin_end": 38.4,
            "count": 0
           },
           {
            "bin_start": 38.4,
            "bin_end": 42,
            "count": 0
           },
           {
            "bin_start": 42,
            "bin_end": 45.6,
            "count": 0
           },
           {
            "bin_start": 45.6,
            "bin_end": 49.2,
            "count": 0
           },
           {
            "bin_start": 49.2,
            "bin_end": 52.8,
            "count": 0
           },
           {
            "bin_start": 52.8,
            "bin_end": 56.4,
            "count": 1
           },
           {
            "bin_start": 56.4,
            "bin_end": 60,
            "count": 1
           }
          ]
         }
        },
        {
         "name": "pregnancy",
         "dtype": "int64",
         "stats": {
          "unique_count": 2,
          "nan_count": 0,
          "min": "2",
          "max": "97",
          "histogram": [
           {
            "bin_start": 2,
            "bin_end": 11.5,
            "count": 2
           },
           {
            "bin_start": 11.5,
            "bin_end": 21,
            "count": 0
           },
           {
            "bin_start": 21,
            "bin_end": 30.5,
            "count": 0
           },
           {
            "bin_start": 30.5,
            "bin_end": 40,
            "count": 0
           },
           {
            "bin_start": 40,
            "bin_end": 49.5,
            "count": 0
           },
           {
            "bin_start": 49.5,
            "bin_end": 59,
            "count": 0
           },
           {
            "bin_start": 59,
            "bin_end": 68.5,
            "count": 0
           },
           {
            "bin_start": 68.5,
            "bin_end": 78,
            "count": 0
           },
           {
            "bin_start": 78,
            "bin_end": 87.5,
            "count": 0
           },
           {
            "bin_start": 87.5,
            "bin_end": 97,
            "count": 3
           }
          ]
         }
        },
        {
         "name": "diabetes",
         "dtype": "int64",
         "stats": {
          "unique_count": 2,
          "nan_count": 0,
          "min": "1",
          "max": "2",
          "histogram": [
           {
            "bin_start": 1,
            "bin_end": 1.1,
            "count": 1
           },
           {
            "bin_start": 1.1,
            "bin_end": 1.2,
            "count": 0
           },
           {
            "bin_start": 1.2,
            "bin_end": 1.3,
            "count": 0
           },
           {
            "bin_start": 1.3,
            "bin_end": 1.4,
            "count": 0
           },
           {
            "bin_start": 1.4,
            "bin_end": 1.5,
            "count": 0
           },
           {
            "bin_start": 1.5,
            "bin_end": 1.6,
            "count": 0
           },
           {
            "bin_start": 1.6,
            "bin_end": 1.7000000000000002,
            "count": 0
           },
           {
            "bin_start": 1.7000000000000002,
            "bin_end": 1.8,
            "count": 0
           },
           {
            "bin_start": 1.8,
            "bin_end": 1.9,
            "count": 0
           },
           {
            "bin_start": 1.9,
            "bin_end": 2,
            "count": 4
           }
          ]
         }
        },
        {
         "name": "copd",
         "dtype": "int64",
         "stats": {
          "unique_count": 1,
          "nan_count": 0,
          "min": "2",
          "max": "2",
          "histogram": [
           {
            "bin_start": 1.5,
            "bin_end": 1.6,
            "count": 0
           },
           {
            "bin_start": 1.6,
            "bin_end": 1.7,
            "count": 0
           },
           {
            "bin_start": 1.7,
            "bin_end": 1.8,
            "count": 0
           },
           {
            "bin_start": 1.8,
            "bin_end": 1.9,
            "count": 0
           },
           {
            "bin_start": 1.9,
            "bin_end": 2,
            "count": 0
           },
           {
            "bin_start": 2,
            "bin_end": 2.1,
            "count": 5
           },
           {
            "bin_start": 2.1,
            "bin_end": 2.2,
            "count": 0
           },
           {
            "bin_start": 2.2,
            "bin_end": 2.3,
            "count": 0
           },
           {
            "bin_start": 2.3,
            "bin_end": 2.4,
            "count": 0
           },
           {
            "bin_start": 2.4,
            "bin_end": 2.5,
            "count": 0
           }
          ]
         }
        },
        {
         "name": "asthma",
         "dtype": "int64",
         "stats": {
          "unique_count": 1,
          "nan_count": 0,
          "min": "2",
          "max": "2",
          "histogram": [
           {
            "bin_start": 1.5,
            "bin_end": 1.6,
            "count": 0
           },
           {
            "bin_start": 1.6,
            "bin_end": 1.7,
            "count": 0
           },
           {
            "bin_start": 1.7,
            "bin_end": 1.8,
            "count": 0
           },
           {
            "bin_start": 1.8,
            "bin_end": 1.9,
            "count": 0
           },
           {
            "bin_start": 1.9,
            "bin_end": 2,
            "count": 0
           },
           {
            "bin_start": 2,
            "bin_end": 2.1,
            "count": 5
           },
           {
            "bin_start": 2.1,
            "bin_end": 2.2,
            "count": 0
           },
           {
            "bin_start": 2.2,
            "bin_end": 2.3,
            "count": 0
           },
           {
            "bin_start": 2.3,
            "bin_end": 2.4,
            "count": 0
           },
           {
            "bin_start": 2.4,
            "bin_end": 2.5,
            "count": 0
           }
          ]
         }
        },
        {
         "name": "inmsupr",
         "dtype": "int64",
         "stats": {
          "unique_count": 1,
          "nan_count": 0,
          "min": "2",
          "max": "2",
          "histogram": [
           {
            "bin_start": 1.5,
            "bin_end": 1.6,
            "count": 0
           },
           {
            "bin_start": 1.6,
            "bin_end": 1.7,
            "count": 0
           },
           {
            "bin_start": 1.7,
            "bin_end": 1.8,
            "count": 0
           },
           {
            "bin_start": 1.8,
            "bin_end": 1.9,
            "count": 0
           },
           {
            "bin_start": 1.9,
            "bin_end": 2,
            "count": 0
           },
           {
            "bin_start": 2,
            "bin_end": 2.1,
            "count": 5
           },
           {
            "bin_start": 2.1,
            "bin_end": 2.2,
            "count": 0
           },
           {
            "bin_start": 2.2,
            "bin_end": 2.3,
            "count": 0
           },
           {
            "bin_start": 2.3,
            "bin_end": 2.4,
            "count": 0
           },
           {
            "bin_start": 2.4,
            "bin_end": 2.5,
            "count": 0
           }
          ]
         }
        },
        {
         "name": "hypertension",
         "dtype": "int64",
         "stats": {
          "unique_count": 2,
          "nan_count": 0,
          "min": "1",
          "max": "2",
          "histogram": [
           {
            "bin_start": 1,
            "bin_end": 1.1,
            "count": 1
           },
           {
            "bin_start": 1.1,
            "bin_end": 1.2,
            "count": 0
           },
           {
            "bin_start": 1.2,
            "bin_end": 1.3,
            "count": 0
           },
           {
            "bin_start": 1.3,
            "bin_end": 1.4,
            "count": 0
           },
           {
            "bin_start": 1.4,
            "bin_end": 1.5,
            "count": 0
           },
           {
            "bin_start": 1.5,
            "bin_end": 1.6,
            "count": 0
           },
           {
            "bin_start": 1.6,
            "bin_end": 1.7000000000000002,
            "count": 0
           },
           {
            "bin_start": 1.7000000000000002,
            "bin_end": 1.8,
            "count": 0
           },
           {
            "bin_start": 1.8,
            "bin_end": 1.9,
            "count": 0
           },
           {
            "bin_start": 1.9,
            "bin_end": 2,
            "count": 4
           }
          ]
         }
        },
        {
         "name": "other_disease",
         "dtype": "int64",
         "stats": {
          "unique_count": 1,
          "nan_count": 0,
          "min": "2",
          "max": "2",
          "histogram": [
           {
            "bin_start": 1.5,
            "bin_end": 1.6,
            "count": 0
           },
           {
            "bin_start": 1.6,
            "bin_end": 1.7,
            "count": 0
           },
           {
            "bin_start": 1.7,
            "bin_end": 1.8,
            "count": 0
           },
           {
            "bin_start": 1.8,
            "bin_end": 1.9,
            "count": 0
           },
           {
            "bin_start": 1.9,
            "bin_end": 2,
            "count": 0
           },
           {
            "bin_start": 2,
            "bin_end": 2.1,
            "count": 5
           },
           {
            "bin_start": 2.1,
            "bin_end": 2.2,
            "count": 0
           },
           {
            "bin_start": 2.2,
            "bin_end": 2.3,
            "count": 0
           },
           {
            "bin_start": 2.3,
            "bin_end": 2.4,
            "count": 0
           },
           {
            "bin_start": 2.4,
            "bin_end": 2.5,
            "count": 0
           }
          ]
         }
        },
        {
         "name": "cardiovascular",
         "dtype": "int64",
         "stats": {
          "unique_count": 2,
          "nan_count": 0,
          "min": "1",
          "max": "2",
          "histogram": [
           {
            "bin_start": 1,
            "bin_end": 1.1,
            "count": 1
           },
           {
            "bin_start": 1.1,
            "bin_end": 1.2,
            "count": 0
           },
           {
            "bin_start": 1.2,
            "bin_end": 1.3,
            "count": 0
           },
           {
            "bin_start": 1.3,
            "bin_end": 1.4,
            "count": 0
           },
           {
            "bin_start": 1.4,
            "bin_end": 1.5,
            "count": 0
           },
           {
            "bin_start": 1.5,
            "bin_end": 1.6,
            "count": 0
           },
           {
            "bin_start": 1.6,
            "bin_end": 1.7000000000000002,
            "count": 0
           },
           {
            "bin_start": 1.7000000000000002,
            "bin_end": 1.8,
            "count": 0
           },
           {
            "bin_start": 1.8,
            "bin_end": 1.9,
            "count": 0
           },
           {
            "bin_start": 1.9,
            "bin_end": 2,
            "count": 4
           }
          ]
         }
        },
        {
         "name": "obesity",
         "dtype": "int64",
         "stats": {
          "unique_count": 2,
          "nan_count": 0,
          "min": "1",
          "max": "2",
          "histogram": [
           {
            "bin_start": 1,
            "bin_end": 1.1,
            "count": 1
           },
           {
            "bin_start": 1.1,
            "bin_end": 1.2,
            "count": 0
           },
           {
            "bin_start": 1.2,
            "bin_end": 1.3,
            "count": 0
           },
           {
            "bin_start": 1.3,
            "bin_end": 1.4,
            "count": 0
           },
           {
            "bin_start": 1.4,
            "bin_end": 1.5,
            "count": 0
           },
           {
            "bin_start": 1.5,
            "bin_end": 1.6,
            "count": 0
           },
           {
            "bin_start": 1.6,
            "bin_end": 1.7000000000000002,
            "count": 0
           },
           {
            "bin_start": 1.7000000000000002,
            "bin_end": 1.8,
            "count": 0
           },
           {
            "bin_start": 1.8,
            "bin_end": 1.9,
            "count": 0
           },
           {
            "bin_start": 1.9,
            "bin_end": 2,
            "count": 4
           }
          ]
         }
        },
        {
         "name": "renal_chronic",
         "dtype": "int64",
         "stats": {
          "unique_count": 1,
          "nan_count": 0,
          "min": "2",
          "max": "2",
          "histogram": [
           {
            "bin_start": 1.5,
            "bin_end": 1.6,
            "count": 0
           },
           {
            "bin_start": 1.6,
            "bin_end": 1.7,
            "count": 0
           },
           {
            "bin_start": 1.7,
            "bin_end": 1.8,
            "count": 0
           },
           {
            "bin_start": 1.8,
            "bin_end": 1.9,
            "count": 0
           },
           {
            "bin_start": 1.9,
            "bin_end": 2,
            "count": 0
           },
           {
            "bin_start": 2,
            "bin_end": 2.1,
            "count": 5
           },
           {
            "bin_start": 2.1,
            "bin_end": 2.2,
            "count": 0
           },
           {
            "bin_start": 2.2,
            "bin_end": 2.3,
            "count": 0
           },
           {
            "bin_start": 2.3,
            "bin_end": 2.4,
            "count": 0
           },
           {
            "bin_start": 2.4,
            "bin_end": 2.5,
            "count": 0
           }
          ]
         }
        },
        {
         "name": "tobacco",
         "dtype": "int64",
         "stats": {
          "unique_count": 1,
          "nan_count": 0,
          "min": "2",
          "max": "2",
          "histogram": [
           {
            "bin_start": 1.5,
            "bin_end": 1.6,
            "count": 0
           },
           {
            "bin_start": 1.6,
            "bin_end": 1.7,
            "count": 0
           },
           {
            "bin_start": 1.7,
            "bin_end": 1.8,
            "count": 0
           },
           {
            "bin_start": 1.8,
            "bin_end": 1.9,
            "count": 0
           },
           {
            "bin_start": 1.9,
            "bin_end": 2,
            "count": 0
           },
           {
            "bin_start": 2,
            "bin_end": 2.1,
            "count": 5
           },
           {
            "bin_start": 2.1,
            "bin_end": 2.2,
            "count": 0
           },
           {
            "bin_start": 2.2,
            "bin_end": 2.3,
            "count": 0
           },
           {
            "bin_start": 2.3,
            "bin_end": 2.4,
            "count": 0
           },
           {
            "bin_start": 2.4,
            "bin_end": 2.5,
            "count": 0
           }
          ]
         }
        },
        {
         "name": "contact_other_covid",
         "dtype": "int64",
         "stats": {
          "unique_count": 2,
          "nan_count": 0,
          "min": "2",
          "max": "99",
          "histogram": [
           {
            "bin_start": 2,
            "bin_end": 11.7,
            "count": 1
           },
           {
            "bin_start": 11.7,
            "bin_end": 21.4,
            "count": 0
           },
           {
            "bin_start": 21.4,
            "bin_end": 31.099999999999998,
            "count": 0
           },
           {
            "bin_start": 31.099999999999998,
            "bin_end": 40.8,
            "count": 0
           },
           {
            "bin_start": 40.8,
            "bin_end": 50.5,
            "count": 0
           },
           {
            "bin_start": 50.5,
            "bin_end": 60.199999999999996,
            "count": 0
           },
           {
            "bin_start": 60.199999999999996,
            "bin_end": 69.89999999999999,
            "count": 0
           },
           {
            "bin_start": 69.89999999999999,
            "bin_end": 79.6,
            "count": 0
           },
           {
            "bin_start": 79.6,
            "bin_end": 89.3,
            "count": 0
           },
           {
            "bin_start": 89.3,
            "bin_end": 99,
            "count": 4
           }
          ]
         }
        },
        {
         "name": "covid_res",
         "dtype": "int64",
         "stats": {
          "unique_count": 1,
          "nan_count": 0,
          "min": "1",
          "max": "1",
          "histogram": [
           {
            "bin_start": 0.5,
            "bin_end": 0.6,
            "count": 0
           },
           {
            "bin_start": 0.6,
            "bin_end": 0.7,
            "count": 0
           },
           {
            "bin_start": 0.7,
            "bin_end": 0.8,
            "count": 0
           },
           {
            "bin_start": 0.8,
            "bin_end": 0.9,
            "count": 0
           },
           {
            "bin_start": 0.9,
            "bin_end": 1,
            "count": 0
           },
           {
            "bin_start": 1,
            "bin_end": 1.1,
            "count": 5
           },
           {
            "bin_start": 1.1,
            "bin_end": 1.2000000000000002,
            "count": 0
           },
           {
            "bin_start": 1.2000000000000002,
            "bin_end": 1.3,
            "count": 0
           },
           {
            "bin_start": 1.3,
            "bin_end": 1.4,
            "count": 0
           },
           {
            "bin_start": 1.4,
            "bin_end": 1.5,
            "count": 0
           }
          ]
         }
        },
        {
         "name": "icu",
         "dtype": "int64",
         "stats": {
          "unique_count": 2,
          "nan_count": 0,
          "min": "2",
          "max": "97",
          "histogram": [
           {
            "bin_start": 2,
            "bin_end": 11.5,
            "count": 3
           },
           {
            "bin_start": 11.5,
            "bin_end": 21,
            "count": 0
           },
           {
            "bin_start": 21,
            "bin_end": 30.5,
            "count": 0
           },
           {
            "bin_start": 30.5,
            "bin_end": 40,
            "count": 0
           },
           {
            "bin_start": 40,
            "bin_end": 49.5,
            "count": 0
           },
           {
            "bin_start": 49.5,
            "bin_end": 59,
            "count": 0
           },
           {
            "bin_start": 59,
            "bin_end": 68.5,
            "count": 0
           },
           {
            "bin_start": 68.5,
            "bin_end": 78,
            "count": 0
           },
           {
            "bin_start": 78,
            "bin_end": 87.5,
            "count": 0
           },
           {
            "bin_start": 87.5,
            "bin_end": 97,
            "count": 2
           }
          ]
         }
        },
        {
         "name": "_deepnote_index_column",
         "dtype": "int64"
        }
       ],
       "rows": [
        {
         "id": "16169f",
         "sex": 2,
         "patient_type": 1,
         "entry_date": "04-05-2020",
         "date_symptoms": "02-05-2020",
         "date_died": "9999-99-99",
         "intubed": 97,
         "pneumonia": 2,
         "age": 27,
         "pregnancy": 97,
         "diabetes": 2,
         "copd": 2,
         "asthma": 2,
         "inmsupr": 2,
         "hypertension": 2,
         "other_disease": 2,
         "cardiovascular": 2,
         "obesity": 2,
         "renal_chronic": 2,
         "tobacco": 2,
         "contact_other_covid": 2,
         "covid_res": 1,
         "icu": 97,
         "_deepnote_index_column": 0
        },
        {
         "id": "1009bf",
         "sex": 2,
         "patient_type": 1,
         "entry_date": "19-03-2020",
         "date_symptoms": "17-03-2020",
         "date_died": "9999-99-99",
         "intubed": 97,
         "pneumonia": 2,
         "age": 24,
         "pregnancy": 97,
         "diabetes": 2,
         "copd": 2,
         "asthma": 2,
         "inmsupr": 2,
         "hypertension": 2,
         "other_disease": 2,
         "cardiovascular": 2,
         "obesity": 2,
         "renal_chronic": 2,
         "tobacco": 2,
         "contact_other_covid": 99,
         "covid_res": 1,
         "icu": 97,
         "_deepnote_index_column": 1
        },
        {
         "id": "167386",
         "sex": 1,
         "patient_type": 2,
         "entry_date": "06-04-2020",
         "date_symptoms": "01-04-2020",
         "date_died": "9999-99-99",
         "intubed": 2,
         "pneumonia": 2,
         "age": 54,
         "pregnancy": 2,
         "diabetes": 2,
         "copd": 2,
         "asthma": 2,
         "inmsupr": 2,
         "hypertension": 2,
         "other_disease": 2,
         "cardiovascular": 2,
         "obesity": 1,
         "renal_chronic": 2,
         "tobacco": 2,
         "contact_other_covid": 99,
         "covid_res": 1,
         "icu": 2,
         "_deepnote_index_column": 2
        },
        {
         "id": "0b5948",
         "sex": 2,
         "patient_type": 2,
         "entry_date": "17-04-2020",
         "date_symptoms": "10-04-2020",
         "date_died": "9999-99-99",
         "intubed": 2,
         "pneumonia": 1,
         "age": 30,
         "pregnancy": 97,
         "diabetes": 2,
         "copd": 2,
         "asthma": 2,
         "inmsupr": 2,
         "hypertension": 2,
         "other_disease": 2,
         "cardiovascular": 2,
         "obesity": 2,
         "renal_chronic": 2,
         "tobacco": 2,
         "contact_other_covid": 99,
         "covid_res": 1,
         "icu": 2,
         "_deepnote_index_column": 3
        },
        {
         "id": "0d01b5",
         "sex": 1,
         "patient_type": 2,
         "entry_date": "13-04-2020",
         "date_symptoms": "13-04-2020",
         "date_died": "22-04-2020",
         "intubed": 2,
         "pneumonia": 2,
         "age": 60,
         "pregnancy": 2,
         "diabetes": 1,
         "copd": 2,
         "asthma": 2,
         "inmsupr": 2,
         "hypertension": 1,
         "other_disease": 2,
         "cardiovascular": 1,
         "obesity": 2,
         "renal_chronic": 2,
         "tobacco": 2,
         "contact_other_covid": 99,
         "covid_res": 1,
         "icu": 2,
         "_deepnote_index_column": 4
        }
       ]
      },
      "text/plain": "       id  sex  patient_type  entry_date date_symptoms   date_died  intubed  \\\n0  16169f    2             1  04-05-2020    02-05-2020  9999-99-99       97   \n1  1009bf    2             1  19-03-2020    17-03-2020  9999-99-99       97   \n2  167386    1             2  06-04-2020    01-04-2020  9999-99-99        2   \n3  0b5948    2             2  17-04-2020    10-04-2020  9999-99-99        2   \n4  0d01b5    1             2  13-04-2020    13-04-2020  22-04-2020        2   \n\n   pneumonia  age  pregnancy  diabetes  copd  asthma  inmsupr  hypertension  \\\n0          2   27         97         2     2       2        2             2   \n1          2   24         97         2     2       2        2             2   \n2          2   54          2         2     2       2        2             2   \n3          1   30         97         2     2       2        2             2   \n4          2   60          2         1     2       2        2             1   \n\n   other_disease  cardiovascular  obesity  renal_chronic  tobacco  \\\n0              2               2        2              2        2   \n1              2               2        2              2        2   \n2              2               2        1              2        2   \n3              2               2        2              2        2   \n4              2               1        2              2        2   \n\n   contact_other_covid  covid_res  icu  \n0                    2          1   97  \n1                   99          1   97  \n2                   99          1    2  \n3                   99          1    2  \n4                   99          1    2  ",
      "text/html": "<div>\n<style scoped>\n    .dataframe tbody tr th:only-of-type {\n        vertical-align: middle;\n    }\n\n    .dataframe tbody tr th {\n        vertical-align: top;\n    }\n\n    .dataframe thead th {\n        text-align: right;\n    }\n</style>\n<table border=\"1\" class=\"dataframe\">\n  <thead>\n    <tr style=\"text-align: right;\">\n      <th></th>\n      <th>id</th>\n      <th>sex</th>\n      <th>patient_type</th>\n      <th>entry_date</th>\n      <th>date_symptoms</th>\n      <th>date_died</th>\n      <th>intubed</th>\n      <th>pneumonia</th>\n      <th>age</th>\n      <th>pregnancy</th>\n      <th>diabetes</th>\n      <th>copd</th>\n      <th>asthma</th>\n      <th>inmsupr</th>\n      <th>hypertension</th>\n      <th>other_disease</th>\n      <th>cardiovascular</th>\n      <th>obesity</th>\n      <th>renal_chronic</th>\n      <th>tobacco</th>\n      <th>contact_other_covid</th>\n      <th>covid_res</th>\n      <th>icu</th>\n    </tr>\n  </thead>\n  <tbody>\n    <tr>\n      <th>0</th>\n      <td>16169f</td>\n      <td>2</td>\n      <td>1</td>\n      <td>04-05-2020</td>\n      <td>02-05-2020</td>\n      <td>9999-99-99</td>\n      <td>97</td>\n      <td>2</td>\n      <td>27</td>\n      <td>97</td>\n      <td>2</td>\n      <td>2</td>\n      <td>2</td>\n      <td>2</td>\n      <td>2</td>\n      <td>2</td>\n      <td>2</td>\n      <td>2</td>\n      <td>2</td>\n      <td>2</td>\n      <td>2</td>\n      <td>1</td>\n      <td>97</td>\n    </tr>\n    <tr>\n      <th>1</th>\n      <td>1009bf</td>\n      <td>2</td>\n      <td>1</td>\n      <td>19-03-2020</td>\n      <td>17-03-2020</td>\n      <td>9999-99-99</td>\n      <td>97</td>\n      <td>2</td>\n      <td>24</td>\n      <td>97</td>\n      <td>2</td>\n      <td>2</td>\n      <td>2</td>\n      <td>2</td>\n      <td>2</td>\n      <td>2</td>\n      <td>2</td>\n      <td>2</td>\n      <td>2</td>\n      <td>2</td>\n      <td>99</td>\n      <td>1</td>\n      <td>97</td>\n    </tr>\n    <tr>\n      <th>2</th>\n      <td>167386</td>\n      <td>1</td>\n      <td>2</td>\n      <td>06-04-2020</td>\n      <td>01-04-2020</td>\n      <td>9999-99-99</td>\n      <td>2</td>\n      <td>2</td>\n      <td>54</td>\n      <td>2</td>\n      <td>2</td>\n      <td>2</td>\n      <td>2</td>\n      <td>2</td>\n      <td>2</td>\n      <td>2</td>\n      <td>2</td>\n      <td>1</td>\n      <td>2</td>\n      <td>2</td>\n      <td>99</td>\n      <td>1</td>\n      <td>2</td>\n    </tr>\n    <tr>\n      <th>3</th>\n      <td>0b5948</td>\n      <td>2</td>\n      <td>2</td>\n      <td>17-04-2020</td>\n      <td>10-04-2020</td>\n      <td>9999-99-99</td>\n      <td>2</td>\n      <td>1</td>\n      <td>30</td>\n      <td>97</td>\n      <td>2</td>\n      <td>2</td>\n      <td>2</td>\n      <td>2</td>\n      <td>2</td>\n      <td>2</td>\n      <td>2</td>\n      <td>2</td>\n      <td>2</td>\n      <td>2</td>\n      <td>99</td>\n      <td>1</td>\n      <td>2</td>\n    </tr>\n    <tr>\n      <th>4</th>\n      <td>0d01b5</td>\n      <td>1</td>\n      <td>2</td>\n      <td>13-04-2020</td>\n      <td>13-04-2020</td>\n      <td>22-04-2020</td>\n      <td>2</td>\n      <td>2</td>\n      <td>60</td>\n      <td>2</td>\n      <td>1</td>\n      <td>2</td>\n      <td>2</td>\n      <td>2</td>\n      <td>1</td>\n      <td>2</td>\n      <td>1</td>\n      <td>2</td>\n      <td>2</td>\n      <td>2</td>\n      <td>99</td>\n      <td>1</td>\n      <td>2</td>\n    </tr>\n  </tbody>\n</table>\n</div>"
     },
     "metadata": {}
    }
   ]
  },
  {
   "cell_type": "markdown",
   "source": "Apos analise breve notam-se alguns pontos que ja podem ser melhorados:\n- Datas de 'date_died' 9999-99-99 -> correspodem a NaN\n- Colunas categoricas que possuem comportamente atipico:\n    - 1 indica True e 2 indica False\n    - Existem outras valores possivéis (97, 98, 99) que devem ser tratados futuramente",
   "metadata": {
    "cell_id": "00006-cc7431c9-e520-4475-ae5f-fe3e04ec69fa",
    "deepnote_cell_type": "markdown"
   }
  },
  {
   "cell_type": "code",
   "metadata": {
    "cell_id": "00007-56642687-f588-4fa9-9f8c-6d2ebada6e65",
    "deepnote_to_be_reexecuted": false,
    "source_hash": "a67638e9",
    "execution_start": 1646602680528,
    "execution_millis": 3678,
    "deepnote_cell_type": "code"
   },
   "source": "plt.figure(figsize=(10, 8), dpi= 90)\nsns.heatmap(df.corr().round(1),\n                annot=True, center=0, vmin=-1, vmax=1,\n                cmap = \"coolwarm\")\nplt.show()",
   "execution_count": 7,
   "outputs": [
    {
     "data": {
      "text/plain": "<Figure size 900x720 with 2 Axes>",
      "image/png": "[encoded data removed]"
     },
     "metadata": {
      "needs_background": "light",
      "image/png": {
       "width": 820,
       "height": 701
      }
     },
     "output_type": "display_data"
    }
   ]
  },
  {
   "cell_type": "markdown",
   "source": "Existem colunas com alta correlacao, so que depois de fazer o tratamento das colunas categoricas e rodando o corr novamente, notou-se que as correlacoes foram alteradas. Ao inves de apenas dropar essas colunas, resolvemos avaliar se elas poderao impactar no desempenho",
   "metadata": {
    "cell_id": "00008-c4a7c777-b819-4182-89ee-526d036ed9e3",
    "deepnote_cell_type": "markdown"
   }
  },
  {
   "cell_type": "code",
   "metadata": {
    "cell_id": "00009-fc55c19d-1eb1-4f93-b0ff-f342c659a4cb",
    "deepnote_to_be_reexecuted": false,
    "source_hash": "3badf598",
    "execution_start": 1646602685393,
    "execution_millis": 529,
    "deepnote_cell_type": "code"
   },
   "source": "sns.histplot(data=df[df['covid_res'] == 1], x='age', binwidth=5)",
   "execution_count": 8,
   "outputs": [
    {
     "output_type": "execute_result",
     "execution_count": 8,
     "data": {
      "text/plain": "<AxesSubplot:xlabel='age', ylabel='Count'>"
     },
     "metadata": {}
    },
    {
     "data": {
      "text/plain": "<Figure size 432x288 with 1 Axes>",
      "image/png": "[encoded data removed]"
     },
     "metadata": {
      "needs_background": "light",
      "image/png": {
       "width": 401,
       "height": 262
      }
     },
     "output_type": "display_data"
    }
   ]
  },
  {
   "cell_type": "code",
   "source": "# Relacao entre data de entrada e data de sintomas\ndf['entry_date_day'] = pd.to_datetime(df['entry_date']).dt.date\ndf['date_symptoms_day'] = pd.to_datetime(df['date_symptoms']).dt.date\n\ndates = df.groupby(['entry_date_day', 'date_symptoms_day']).size()\ndates = dates.reset_index()\ndates.columns = ['entry_date_day', 'date_symptoms_day', 'count']\n\ndates = dates.pivot('entry_date_day', 'date_symptoms_day', 'count')\nplt.figure(figsize=(10, 8), dpi= 90)\n\nsns.heatmap(dates, center=0, vmin=0, cmap = \"coolwarm\")\nplt.show()\n\ndf = df.drop(['entry_date_day', 'date_symptoms_day'], axis=1)",
   "metadata": {
    "cell_id": "1b3cf253-1f4f-4e49-a077-216d0165d949",
    "tags": [],
    "deepnote_to_be_reexecuted": false,
    "source_hash": "a22b1682",
    "execution_start": 1646602733839,
    "execution_millis": 2729,
    "deepnote_cell_type": "code"
   },
   "outputs": [
    {
     "data": {
      "text/plain": "<Figure size 900x720 with 2 Axes>",
      "image/png": "[encoded data removed]"
     },
     "metadata": {
      "needs_background": "light",
      "image/png": {
       "width": 778,
       "height": 666
      }
     },
     "output_type": "display_data"
    }
   ],
   "execution_count": 10
  },
  {
   "cell_type": "markdown",
   "source": "# Tratamento de dados",
   "metadata": {
    "cell_id": "00010-c7ac5958-5c71-4429-ad69-76190f36c69d",
    "deepnote_cell_type": "markdown"
   }
  },
  {
   "cell_type": "markdown",
   "source": "## Tratamento de datas",
   "metadata": {
    "cell_id": "00011-01589ff0-c66a-438d-be84-3055825ac7f6",
    "deepnote_cell_type": "markdown"
   }
  },
  {
   "cell_type": "code",
   "metadata": {
    "cell_id": "b3b2b705-a126-4eb9-bbdb-0620fff8fa2f",
    "deepnote_to_be_reexecuted": false,
    "execution_millis": 202,
    "execution_start": 1646602758487,
    "source_hash": "aed4d5a",
    "tags": [],
    "deepnote_cell_type": "code"
   },
   "source": "# convertendo dados para datetime \ndf['entry_date'] = pd.to_datetime(df['entry_date'], format= '%d-%m-%Y')\ndf['date_symptoms'] = pd.to_datetime(df['date_symptoms'], format= '%d-%m-%Y')",
   "execution_count": 11,
   "outputs": []
  },
  {
   "cell_type": "code",
   "metadata": {
    "cell_id": "00013-372b6e5d-d5b7-499b-bcbf-ae7ddb5e2b32",
    "deepnote_to_be_reexecuted": false,
    "source_hash": "b707f642",
    "execution_start": 1646602759520,
    "execution_millis": 128,
    "deepnote_cell_type": "code"
   },
   "source": "df['date_died'] = df['date_died'].replace({'9999-99-99':np.nan})\ndf['date_died'] = pd.to_datetime(df['date_died'], format= '%d-%m-%Y')",
   "execution_count": 12,
   "outputs": []
  },
  {
   "cell_type": "markdown",
   "source": "## Tratamento de colunas categoricas",
   "metadata": {
    "cell_id": "00014-1d307d1c-7155-4430-8860-1b32e8bbf2b7",
    "deepnote_cell_type": "markdown"
   }
  },
  {
   "cell_type": "code",
   "metadata": {
    "cell_id": "00015-e27ceb64-42c0-4f23-a730-356011a023ea",
    "deepnote_to_be_reexecuted": false,
    "source_hash": "e7569297",
    "execution_start": 1646602760830,
    "execution_millis": 6,
    "deepnote_cell_type": "code"
   },
   "source": "categorical_cols = ['intubed', 'pneumonia', 'pregnancy', 'diabetes', 'copd', 'asthma', 'inmsupr',\n                     'hypertension', 'other_disease', 'cardiovascular', 'obesity', 'renal_chronic', \n                    'tobacco', 'contact_other_covid', 'covid_res', 'icu', 'patient_type']",
   "execution_count": 13,
   "outputs": []
  },
  {
   "cell_type": "markdown",
   "source": "### Analisando valores 2, 3, 97, 98 e 99",
   "metadata": {
    "cell_id": "00016-dc571750-b6b9-41c0-8cb2-5cd905efe478",
    "deepnote_cell_type": "markdown"
   }
  },
  {
   "cell_type": "code",
   "metadata": {
    "cell_id": "00017-b39a8dc6-21ba-4be5-8e44-3c23b04076ac",
    "deepnote_to_be_reexecuted": false,
    "source_hash": "1a62bc81",
    "execution_start": 1646602762329,
    "execution_millis": 109,
    "deepnote_cell_type": "code"
   },
   "source": "print(df[categorical_cols].apply(lambda col: col.unique()))",
   "execution_count": 14,
   "outputs": [
    {
     "name": "stdout",
     "text": "intubed                [97, 2, 1, 99]\npneumonia                  [2, 1, 99]\npregnancy              [97, 2, 1, 98]\ndiabetes                   [2, 1, 98]\ncopd                       [2, 1, 98]\nasthma                     [2, 1, 98]\ninmsupr                    [2, 1, 98]\nhypertension               [2, 1, 98]\nother_disease              [2, 1, 98]\ncardiovascular             [2, 1, 98]\nobesity                    [2, 1, 98]\nrenal_chronic              [2, 1, 98]\ntobacco                    [2, 1, 98]\ncontact_other_covid        [2, 99, 1]\ncovid_res                   [1, 2, 3]\nicu                    [97, 2, 1, 99]\npatient_type                   [1, 2]\ndtype: object\n",
     "output_type": "stream"
    }
   ]
  },
  {
   "cell_type": "markdown",
   "source": "#### Trocando 2 por 0\nSegundo o dicionario de dados do Kaggle, o valor 2 corresponde a False, para padronizar esse dado, optamos para mudar o valor 2 para o valor 0, que comumente é usado como False.",
   "metadata": {
    "cell_id": "00018-05242511-6a94-4184-a2be-c8a6c245e673",
    "deepnote_cell_type": "markdown"
   }
  },
  {
   "cell_type": "code",
   "metadata": {
    "cell_id": "00019-f0d99883-87ef-45c7-aab2-e3935161cda3",
    "deepnote_to_be_reexecuted": false,
    "source_hash": "100f3d",
    "execution_start": 1646602764425,
    "execution_millis": 100,
    "deepnote_cell_type": "code"
   },
   "source": "df[categorical_cols[:-1]] = df[categorical_cols[:-1]].replace({2:0})",
   "execution_count": 15,
   "outputs": []
  },
  {
   "cell_type": "markdown",
   "source": "#### 3 em covid_res\nEsse valor indica pessoas que ainda estao esperando o resultado do teste, nesse caso iremos simplesmente dropar as linhas, uma vez que elas nao contribuem para a analise",
   "metadata": {
    "cell_id": "00020-b1d192ed-8760-41e6-b737-1a39fa5fa93f",
    "deepnote_cell_type": "markdown"
   }
  },
  {
   "cell_type": "code",
   "metadata": {
    "cell_id": "00021-9d227464-d945-4b8a-9e59-6f82a6b4e674",
    "deepnote_to_be_reexecuted": false,
    "source_hash": "32ff57c",
    "execution_start": 1646602765813,
    "execution_millis": 80,
    "deepnote_cell_type": "code"
   },
   "source": "df = df.drop(df[df['covid_res'] == 3].index)",
   "execution_count": 16,
   "outputs": []
  },
  {
   "cell_type": "markdown",
   "source": "#### 97 em icu e intubed\nAparentemente 97 (\"não se aplica\") nos casos de ICU e Intubed ocorre quando o paciente foi ambulatorio, o que realmente faz sentido, ja que se o paciente nao precisou ser internado ele obviamente nao foi intubado ou precisou de UTI. Para diminuir essa dependencia entre os dados, iremos substituir o 97 por 0, indicando que, apesar de não se aplicar ao caso, ainda sim é False para a feature",
   "metadata": {
    "cell_id": "00022-26d81778-ed75-4c9f-97b6-da77f0be2901",
    "deepnote_cell_type": "markdown"
   }
  },
  {
   "cell_type": "code",
   "metadata": {
    "cell_id": "00023-1acf7846-11bd-41e1-a267-8dc844d17d52",
    "deepnote_to_be_reexecuted": false,
    "source_hash": "c085b6ba",
    "execution_start": 1646602767905,
    "execution_millis": 122,
    "deepnote_cell_type": "code"
   },
   "source": "df.head()",
   "execution_count": 17,
   "outputs": [
    {
     "output_type": "execute_result",
     "execution_count": 17,
     "data": {
      "application/vnd.deepnote.dataframe.v3+json": {
       "column_count": 23,
       "row_count": 5,
       "columns": [
        {
         "name": "id",
         "dtype": "object",
         "stats": {
          "unique_count": 5,
          "nan_count": 0,
          "categories": [
           {
            "name": "16169f",
            "count": 1
           },
           {
            "name": "1009bf",
            "count": 1
           },
           {
            "name": "3 others",
            "count": 3
           }
          ]
         }
        },
        {
         "name": "sex",
         "dtype": "int64",
         "stats": {
          "unique_count": 2,
          "nan_count": 0,
          "min": "1",
          "max": "2",
          "histogram": [
           {
            "bin_start": 1,
            "bin_end": 1.1,
            "count": 2
           },
           {
            "bin_start": 1.1,
            "bin_end": 1.2,
            "count": 0
           },
           {
            "bin_start": 1.2,
            "bin_end": 1.3,
            "count": 0
           },
           {
            "bin_start": 1.3,
            "bin_end": 1.4,
            "count": 0
           },
           {
            "bin_start": 1.4,
            "bin_end": 1.5,
            "count": 0
           },
           {
            "bin_start": 1.5,
            "bin_end": 1.6,
            "count": 0
           },
           {
            "bin_start": 1.6,
            "bin_end": 1.7000000000000002,
            "count": 0
           },
           {
            "bin_start": 1.7000000000000002,
            "bin_end": 1.8,
            "count": 0
           },
           {
            "bin_start": 1.8,
            "bin_end": 1.9,
            "count": 0
           },
           {
            "bin_start": 1.9,
            "bin_end": 2,
            "count": 3
           }
          ]
         }
        },
        {
         "name": "patient_type",
         "dtype": "int64",
         "stats": {
          "unique_count": 2,
          "nan_count": 0,
          "min": "1",
          "max": "2",
          "histogram": [
           {
            "bin_start": 1,
            "bin_end": 1.1,
            "count": 2
           },
           {
            "bin_start": 1.1,
            "bin_end": 1.2,
            "count": 0
           },
           {
            "bin_start": 1.2,
            "bin_end": 1.3,
            "count": 0
           },
           {
            "bin_start": 1.3,
            "bin_end": 1.4,
            "count": 0
           },
           {
            "bin_start": 1.4,
            "bin_end": 1.5,
            "count": 0
           },
           {
            "bin_start": 1.5,
            "bin_end": 1.6,
            "count": 0
           },
           {
            "bin_start": 1.6,
            "bin_end": 1.7000000000000002,
            "count": 0
           },
           {
            "bin_start": 1.7000000000000002,
            "bin_end": 1.8,
            "count": 0
           },
           {
            "bin_start": 1.8,
            "bin_end": 1.9,
            "count": 0
           },
           {
            "bin_start": 1.9,
            "bin_end": 2,
            "count": 3
           }
          ]
         }
        },
        {
         "name": "entry_date",
         "dtype": "datetime64[ns]",
         "stats": {
          "unique_count": 5,
          "nan_count": 0,
          "min": "2020-03-19 00:00:00",
          "max": "2020-05-04 00:00:00",
          "histogram": [
           {
            "bin_start": 1584576000000000000,
            "bin_end": 1584973440000000000,
            "count": 1
           },
           {
            "bin_start": 1584973440000000000,
            "bin_end": 1585370880000000000,
            "count": 0
           },
           {
            "bin_start": 1585370880000000000,
            "bin_end": 1585768320000000000,
            "count": 0
           },
           {
            "bin_start": 1585768320000000000,
            "bin_end": 1586165760000000000,
            "count": 1
           },
           {
            "bin_start": 1586165760000000000,
            "bin_end": 1586563200000000000,
            "count": 0
           },
           {
            "bin_start": 1586563200000000000,
            "bin_end": 1586960640000000000,
            "count": 1
           },
           {
            "bin_start": 1586960640000000000,
            "bin_end": 1587358080000000000,
            "count": 1
           },
           {
            "bin_start": 1587358080000000000,
            "bin_end": 1587755520000000000,
            "count": 0
           },
           {
            "bin_start": 1587755520000000000,
            "bin_end": 1588152960000000000,
            "count": 0
           },
           {
            "bin_start": 1588152960000000000,
            "bin_end": 1588550400000000000,
            "count": 1
           }
          ]
         }
        },
        {
         "name": "date_symptoms",
         "dtype": "datetime64[ns]",
         "stats": {
          "unique_count": 5,
          "nan_count": 0,
          "min": "2020-03-17 00:00:00",
          "max": "2020-05-02 00:00:00",
          "histogram": [
           {
            "bin_start": 1584403200000000000,
            "bin_end": 1584800640000000000,
            "count": 1
           },
           {
            "bin_start": 1584800640000000000,
            "bin_end": 1585198080000000000,
            "count": 0
           },
           {
            "bin_start": 1585198080000000000,
            "bin_end": 1585595520000000000,
            "count": 0
           },
           {
            "bin_start": 1585595520000000000,
            "bin_end": 1585992960000000000,
            "count": 1
           },
           {
            "bin_start": 1585992960000000000,
            "bin_end": 1586390400000000000,
            "count": 0
           },
           {
            "bin_start": 1586390400000000000,
            "bin_end": 1586787840000000000,
            "count": 2
           },
           {
            "bin_start": 1586787840000000000,
            "bin_end": 1587185280000000000,
            "count": 0
           },
           {
            "bin_start": 1587185280000000000,
            "bin_end": 1587582720000000000,
            "count": 0
           },
           {
            "bin_start": 1587582720000000000,
            "bin_end": 1587980160000000000,
            "count": 0
           },
           {
            "bin_start": 1587980160000000000,
            "bin_end": 1588377600000000000,
            "count": 1
           }
          ]
         }
        },
        {
         "name": "date_died",
         "dtype": "datetime64[ns]",
         "stats": {
          "unique_count": 1,
          "nan_count": 4,
          "min": "2020-04-22 00:00:00",
          "max": "2020-04-22 00:00:00",
          "histogram": null
         }
        },
        {
         "name": "intubed",
         "dtype": "int64",
         "stats": {
          "unique_count": 2,
          "nan_count": 0,
          "min": "0",
          "max": "97",
          "histogram": [
           {
            "bin_start": 0,
            "bin_end": 9.7,
            "count": 3
           },
           {
            "bin_start": 9.7,
            "bin_end": 19.4,
            "count": 0
           },
           {
            "bin_start": 19.4,
            "bin_end": 29.099999999999998,
            "count": 0
           },
           {
            "bin_start": 29.099999999999998,
            "bin_end": 38.8,
            "count": 0
           },
           {
            "bin_start": 38.8,
            "bin_end": 48.5,
            "count": 0
           },
           {
            "bin_start": 48.5,
            "bin_end": 58.199999999999996,
            "count": 0
           },
           {
            "bin_start": 58.199999999999996,
            "bin_end": 67.89999999999999,
            "count": 0
           },
           {
            "bin_start": 67.89999999999999,
            "bin_end": 77.6,
            "count": 0
           },
           {
            "bin_start": 77.6,
            "bin_end": 87.3,
            "count": 0
           },
           {
            "bin_start": 87.3,
            "bin_end": 97,
            "count": 2
           }
          ]
         }
        },
        {
         "name": "pneumonia",
         "dtype": "int64",
         "stats": {
          "unique_count": 2,
          "nan_count": 0,
          "min": "0",
          "max": "1",
          "histogram": [
           {
            "bin_start": 0,
            "bin_end": 0.1,
            "count": 4
           },
           {
            "bin_start": 0.1,
            "bin_end": 0.2,
            "count": 0
           },
           {
            "bin_start": 0.2,
            "bin_end": 0.30000000000000004,
            "count": 0
           },
           {
            "bin_start": 0.30000000000000004,
            "bin_end": 0.4,
            "count": 0
           },
           {
            "bin_start": 0.4,
            "bin_end": 0.5,
            "count": 0
           },
           {
            "bin_start": 0.5,
            "bin_end": 0.6000000000000001,
            "count": 0
           },
           {
            "bin_start": 0.6000000000000001,
            "bin_end": 0.7000000000000001,
            "count": 0
           },
           {
            "bin_start": 0.7000000000000001,
            "bin_end": 0.8,
            "count": 0
           },
           {
            "bin_start": 0.8,
            "bin_end": 0.9,
            "count": 0
           },
           {
            "bin_start": 0.9,
            "bin_end": 1,
            "count": 1
           }
          ]
         }
        },
        {
         "name": "age",
         "dtype": "int64",
         "stats": {
          "unique_count": 5,
          "nan_count": 0,
          "min": "24",
          "max": "60",
          "histogram": [
           {
            "bin_start": 24,
            "bin_end": 27.6,
            "count": 2
           },
           {
            "bin_start": 27.6,
            "bin_end": 31.2,
            "count": 1
           },
           {
            "bin_start": 31.2,
            "bin_end": 34.8,
            "count": 0
           },
           {
            "bin_start": 34.8,
            "bin_end": 38.4,
            "count": 0
           },
           {
            "bin_start": 38.4,
            "bin_end": 42,
            "count": 0
           },
           {
            "bin_start": 42,
            "bin_end": 45.6,
            "count": 0
           },
           {
            "bin_start": 45.6,
            "bin_end": 49.2,
            "count": 0
           },
           {
            "bin_start": 49.2,
            "bin_end": 52.8,
            "count": 0
           },
           {
            "bin_start": 52.8,
            "bin_end": 56.4,
            "count": 1
           },
           {
            "bin_start": 56.4,
            "bin_end": 60,
            "count": 1
           }
          ]
         }
        },
        {
         "name": "pregnancy",
         "dtype": "int64",
         "stats": {
          "unique_count": 2,
          "nan_count": 0,
          "min": "0",
          "max": "97",
          "histogram": [
           {
            "bin_start": 0,
            "bin_end": 9.7,
            "count": 2
           },
           {
            "bin_start": 9.7,
            "bin_end": 19.4,
            "count": 0
           },
           {
            "bin_start": 19.4,
            "bin_end": 29.099999999999998,
            "count": 0
           },
           {
            "bin_start": 29.099999999999998,
            "bin_end": 38.8,
            "count": 0
           },
           {
            "bin_start": 38.8,
            "bin_end": 48.5,
            "count": 0
           },
           {
            "bin_start": 48.5,
            "bin_end": 58.199999999999996,
            "count": 0
           },
           {
            "bin_start": 58.199999999999996,
            "bin_end": 67.89999999999999,
            "count": 0
           },
           {
            "bin_start": 67.89999999999999,
            "bin_end": 77.6,
            "count": 0
           },
           {
            "bin_start": 77.6,
            "bin_end": 87.3,
            "count": 0
           },
           {
            "bin_start": 87.3,
            "bin_end": 97,
            "count": 3
           }
          ]
         }
        },
        {
         "name": "diabetes",
         "dtype": "int64",
         "stats": {
          "unique_count": 2,
          "nan_count": 0,
          "min": "0",
          "max": "1",
          "histogram": [
           {
            "bin_start": 0,
            "bin_end": 0.1,
            "count": 4
           },
           {
            "bin_start": 0.1,
            "bin_end": 0.2,
            "count": 0
           },
           {
            "bin_start": 0.2,
            "bin_end": 0.30000000000000004,
            "count": 0
           },
           {
            "bin_start": 0.30000000000000004,
            "bin_end": 0.4,
            "count": 0
           },
           {
            "bin_start": 0.4,
            "bin_end": 0.5,
            "count": 0
           },
           {
            "bin_start": 0.5,
            "bin_end": 0.6000000000000001,
            "count": 0
           },
           {
            "bin_start": 0.6000000000000001,
            "bin_end": 0.7000000000000001,
            "count": 0
           },
           {
            "bin_start": 0.7000000000000001,
            "bin_end": 0.8,
            "count": 0
           },
           {
            "bin_start": 0.8,
            "bin_end": 0.9,
            "count": 0
           },
           {
            "bin_start": 0.9,
            "bin_end": 1,
            "count": 1
           }
          ]
         }
        },
        {
         "name": "copd",
         "dtype": "int64",
         "stats": {
          "unique_count": 1,
          "nan_count": 0,
          "min": "0",
          "max": "0",
          "histogram": [
           {
            "bin_start": -0.5,
            "bin_end": -0.4,
            "count": 0
           },
           {
            "bin_start": -0.4,
            "bin_end": -0.3,
            "count": 0
           },
           {
            "bin_start": -0.3,
            "bin_end": -0.19999999999999996,
            "count": 0
           },
           {
            "bin_start": -0.19999999999999996,
            "bin_end": -0.09999999999999998,
            "count": 0
           },
           {
            "bin_start": -0.09999999999999998,
            "bin_end": 0,
            "count": 0
           },
           {
            "bin_start": 0,
            "bin_end": 0.10000000000000009,
            "count": 5
           },
           {
            "bin_start": 0.10000000000000009,
            "bin_end": 0.20000000000000007,
            "count": 0
           },
           {
            "bin_start": 0.20000000000000007,
            "bin_end": 0.30000000000000004,
            "count": 0
           },
           {
            "bin_start": 0.30000000000000004,
            "bin_end": 0.4,
            "count": 0
           },
           {
            "bin_start": 0.4,
            "bin_end": 0.5,
            "count": 0
           }
          ]
         }
        },
        {
         "name": "asthma",
         "dtype": "int64",
         "stats": {
          "unique_count": 1,
          "nan_count": 0,
          "min": "0",
          "max": "0",
          "histogram": [
           {
            "bin_start": -0.5,
            "bin_end": -0.4,
            "count": 0
           },
           {
            "bin_start": -0.4,
            "bin_end": -0.3,
            "count": 0
           },
           {
            "bin_start": -0.3,
            "bin_end": -0.19999999999999996,
            "count": 0
           },
           {
            "bin_start": -0.19999999999999996,
            "bin_end": -0.09999999999999998,
            "count": 0
           },
           {
            "bin_start": -0.09999999999999998,
            "bin_end": 0,
            "count": 0
           },
           {
            "bin_start": 0,
            "bin_end": 0.10000000000000009,
            "count": 5
           },
           {
            "bin_start": 0.10000000000000009,
            "bin_end": 0.20000000000000007,
            "count": 0
           },
           {
            "bin_start": 0.20000000000000007,
            "bin_end": 0.30000000000000004,
            "count": 0
           },
           {
            "bin_start": 0.30000000000000004,
            "bin_end": 0.4,
            "count": 0
           },
           {
            "bin_start": 0.4,
            "bin_end": 0.5,
            "count": 0
           }
          ]
         }
        },
        {
         "name": "inmsupr",
         "dtype": "int64",
         "stats": {
          "unique_count": 1,
          "nan_count": 0,
          "min": "0",
          "max": "0",
          "histogram": [
           {
            "bin_start": -0.5,
            "bin_end": -0.4,
            "count": 0
           },
           {
            "bin_start": -0.4,
            "bin_end": -0.3,
            "count": 0
           },
           {
            "bin_start": -0.3,
            "bin_end": -0.19999999999999996,
            "count": 0
           },
           {
            "bin_start": -0.19999999999999996,
            "bin_end": -0.09999999999999998,
            "count": 0
           },
           {
            "bin_start": -0.09999999999999998,
            "bin_end": 0,
            "count": 0
           },
           {
            "bin_start": 0,
            "bin_end": 0.10000000000000009,
            "count": 5
           },
           {
            "bin_start": 0.10000000000000009,
            "bin_end": 0.20000000000000007,
            "count": 0
           },
           {
            "bin_start": 0.20000000000000007,
            "bin_end": 0.30000000000000004,
            "count": 0
           },
           {
            "bin_start": 0.30000000000000004,
            "bin_end": 0.4,
            "count": 0
           },
           {
            "bin_start": 0.4,
            "bin_end": 0.5,
            "count": 0
           }
          ]
         }
        },
        {
         "name": "hypertension",
         "dtype": "int64",
         "stats": {
          "unique_count": 2,
          "nan_count": 0,
          "min": "0",
          "max": "1",
          "histogram": [
           {
            "bin_start": 0,
            "bin_end": 0.1,
            "count": 4
           },
           {
            "bin_start": 0.1,
            "bin_end": 0.2,
            "count": 0
           },
           {
            "bin_start": 0.2,
            "bin_end": 0.30000000000000004,
            "count": 0
           },
           {
            "bin_start": 0.30000000000000004,
            "bin_end": 0.4,
            "count": 0
           },
           {
            "bin_start": 0.4,
            "bin_end": 0.5,
            "count": 0
           },
           {
            "bin_start": 0.5,
            "bin_end": 0.6000000000000001,
            "count": 0
           },
           {
            "bin_start": 0.6000000000000001,
            "bin_end": 0.7000000000000001,
            "count": 0
           },
           {
            "bin_start": 0.7000000000000001,
            "bin_end": 0.8,
            "count": 0
           },
           {
            "bin_start": 0.8,
            "bin_end": 0.9,
            "count": 0
           },
           {
            "bin_start": 0.9,
            "bin_end": 1,
            "count": 1
           }
          ]
         }
        },
        {
         "name": "other_disease",
         "dtype": "int64",
         "stats": {
          "unique_count": 1,
          "nan_count": 0,
          "min": "0",
          "max": "0",
          "histogram": [
           {
            "bin_start": -0.5,
            "bin_end": -0.4,
            "count": 0
           },
           {
            "bin_start": -0.4,
            "bin_end": -0.3,
            "count": 0
           },
           {
            "bin_start": -0.3,
            "bin_end": -0.19999999999999996,
            "count": 0
           },
           {
            "bin_start": -0.19999999999999996,
            "bin_end": -0.09999999999999998,
            "count": 0
           },
           {
            "bin_start": -0.09999999999999998,
            "bin_end": 0,
            "count": 0
           },
           {
            "bin_start": 0,
            "bin_end": 0.10000000000000009,
            "count": 5
           },
           {
            "bin_start": 0.10000000000000009,
            "bin_end": 0.20000000000000007,
            "count": 0
           },
           {
            "bin_start": 0.20000000000000007,
            "bin_end": 0.30000000000000004,
            "count": 0
           },
           {
            "bin_start": 0.30000000000000004,
            "bin_end": 0.4,
            "count": 0
           },
           {
            "bin_start": 0.4,
            "bin_end": 0.5,
            "count": 0
           }
          ]
         }
        },
        {
         "name": "cardiovascular",
         "dtype": "int64",
         "stats": {
          "unique_count": 2,
          "nan_count": 0,
          "min": "0",
          "max": "1",
          "histogram": [
           {
            "bin_start": 0,
            "bin_end": 0.1,
            "count": 4
           },
           {
            "bin_start": 0.1,
            "bin_end": 0.2,
            "count": 0
           },
           {
            "bin_start": 0.2,
            "bin_end": 0.30000000000000004,
            "count": 0
           },
           {
            "bin_start": 0.30000000000000004,
            "bin_end": 0.4,
            "count": 0
           },
           {
            "bin_start": 0.4,
            "bin_end": 0.5,
            "count": 0
           },
           {
            "bin_start": 0.5,
            "bin_end": 0.6000000000000001,
            "count": 0
           },
           {
            "bin_start": 0.6000000000000001,
            "bin_end": 0.7000000000000001,
            "count": 0
           },
           {
            "bin_start": 0.7000000000000001,
            "bin_end": 0.8,
            "count": 0
           },
           {
            "bin_start": 0.8,
            "bin_end": 0.9,
            "count": 0
           },
           {
            "bin_start": 0.9,
            "bin_end": 1,
            "count": 1
           }
          ]
         }
        },
        {
         "name": "obesity",
         "dtype": "int64",
         "stats": {
          "unique_count": 2,
          "nan_count": 0,
          "min": "0",
          "max": "1",
          "histogram": [
           {
            "bin_start": 0,
            "bin_end": 0.1,
            "count": 4
           },
           {
            "bin_start": 0.1,
            "bin_end": 0.2,
            "count": 0
           },
           {
            "bin_start": 0.2,
            "bin_end": 0.30000000000000004,
            "count": 0
           },
           {
            "bin_start": 0.30000000000000004,
            "bin_end": 0.4,
            "count": 0
           },
           {
            "bin_start": 0.4,
            "bin_end": 0.5,
            "count": 0
           },
           {
            "bin_start": 0.5,
            "bin_end": 0.6000000000000001,
            "count": 0
           },
           {
            "bin_start": 0.6000000000000001,
            "bin_end": 0.7000000000000001,
            "count": 0
           },
           {
            "bin_start": 0.7000000000000001,
            "bin_end": 0.8,
            "count": 0
           },
           {
            "bin_start": 0.8,
            "bin_end": 0.9,
            "count": 0
           },
           {
            "bin_start": 0.9,
            "bin_end": 1,
            "count": 1
           }
          ]
         }
        },
        {
         "name": "renal_chronic",
         "dtype": "int64",
         "stats": {
          "unique_count": 1,
          "nan_count": 0,
          "min": "0",
          "max": "0",
          "histogram": [
           {
            "bin_start": -0.5,
            "bin_end": -0.4,
            "count": 0
           },
           {
            "bin_start": -0.4,
            "bin_end": -0.3,
            "count": 0
           },
           {
            "bin_start": -0.3,
            "bin_end": -0.19999999999999996,
            "count": 0
           },
           {
            "bin_start": -0.19999999999999996,
            "bin_end": -0.09999999999999998,
            "count": 0
           },
           {
            "bin_start": -0.09999999999999998,
            "bin_end": 0,
            "count": 0
           },
           {
            "bin_start": 0,
            "bin_end": 0.10000000000000009,
            "count": 5
           },
           {
            "bin_start": 0.10000000000000009,
            "bin_end": 0.20000000000000007,
            "count": 0
           },
           {
            "bin_start": 0.20000000000000007,
            "bin_end": 0.30000000000000004,
            "count": 0
           },
           {
            "bin_start": 0.30000000000000004,
            "bin_end": 0.4,
            "count": 0
           },
           {
            "bin_start": 0.4,
            "bin_end": 0.5,
            "count": 0
           }
          ]
         }
        },
        {
         "name": "tobacco",
         "dtype": "int64",
         "stats": {
          "unique_count": 1,
          "nan_count": 0,
          "min": "0",
          "max": "0",
          "histogram": [
           {
            "bin_start": -0.5,
            "bin_end": -0.4,
            "count": 0
           },
           {
            "bin_start": -0.4,
            "bin_end": -0.3,
            "count": 0
           },
           {
            "bin_start": -0.3,
            "bin_end": -0.19999999999999996,
            "count": 0
           },
           {
            "bin_start": -0.19999999999999996,
            "bin_end": -0.09999999999999998,
            "count": 0
           },
           {
            "bin_start": -0.09999999999999998,
            "bin_end": 0,
            "count": 0
           },
           {
            "bin_start": 0,
            "bin_end": 0.10000000000000009,
            "count": 5
           },
           {
            "bin_start": 0.10000000000000009,
            "bin_end": 0.20000000000000007,
            "count": 0
           },
           {
            "bin_start": 0.20000000000000007,
            "bin_end": 0.30000000000000004,
            "count": 0
           },
           {
            "bin_start": 0.30000000000000004,
            "bin_end": 0.4,
            "count": 0
           },
           {
            "bin_start": 0.4,
            "bin_end": 0.5,
            "count": 0
           }
          ]
         }
        },
        {
         "name": "contact_other_covid",
         "dtype": "int64",
         "stats": {
          "unique_count": 2,
          "nan_count": 0,
          "min": "0",
          "max": "99",
          "histogram": [
           {
            "bin_start": 0,
            "bin_end": 9.9,
            "count": 1
           },
           {
            "bin_start": 9.9,
            "bin_end": 19.8,
            "count": 0
           },
           {
            "bin_start": 19.8,
            "bin_end": 29.700000000000003,
            "count": 0
           },
           {
            "bin_start": 29.700000000000003,
            "bin_end": 39.6,
            "count": 0
           },
           {
            "bin_start": 39.6,
            "bin_end": 49.5,
            "count": 0
           },
           {
            "bin_start": 49.5,
            "bin_end": 59.400000000000006,
            "count": 0
           },
           {
            "bin_start": 59.400000000000006,
            "bin_end": 69.3,
            "count": 0
           },
           {
            "bin_start": 69.3,
            "bin_end": 79.2,
            "count": 0
           },
           {
            "bin_start": 79.2,
            "bin_end": 89.10000000000001,
            "count": 0
           },
           {
            "bin_start": 89.10000000000001,
            "bin_end": 99,
            "count": 4
           }
          ]
         }
        },
        {
         "name": "covid_res",
         "dtype": "int64",
         "stats": {
          "unique_count": 1,
          "nan_count": 0,
          "min": "1",
          "max": "1",
          "histogram": [
           {
            "bin_start": 0.5,
            "bin_end": 0.6,
            "count": 0
           },
           {
            "bin_start": 0.6,
            "bin_end": 0.7,
            "count": 0
           },
           {
            "bin_start": 0.7,
            "bin_end": 0.8,
            "count": 0
           },
           {
            "bin_start": 0.8,
            "bin_end": 0.9,
            "count": 0
           },
           {
            "bin_start": 0.9,
            "bin_end": 1,
            "count": 0
           },
           {
            "bin_start": 1,
            "bin_end": 1.1,
            "count": 5
           },
           {
            "bin_start": 1.1,
            "bin_end": 1.2000000000000002,
            "count": 0
           },
           {
            "bin_start": 1.2000000000000002,
            "bin_end": 1.3,
            "count": 0
           },
           {
            "bin_start": 1.3,
            "bin_end": 1.4,
            "count": 0
           },
           {
            "bin_start": 1.4,
            "bin_end": 1.5,
            "count": 0
           }
          ]
         }
        },
        {
         "name": "icu",
         "dtype": "int64",
         "stats": {
          "unique_count": 2,
          "nan_count": 0,
          "min": "0",
          "max": "97",
          "histogram": [
           {
            "bin_start": 0,
            "bin_end": 9.7,
            "count": 3
           },
           {
            "bin_start": 9.7,
            "bin_end": 19.4,
            "count": 0
           },
           {
            "bin_start": 19.4,
            "bin_end": 29.099999999999998,
            "count": 0
           },
           {
            "bin_start": 29.099999999999998,
            "bin_end": 38.8,
            "count": 0
           },
           {
            "bin_start": 38.8,
            "bin_end": 48.5,
            "count": 0
           },
           {
            "bin_start": 48.5,
            "bin_end": 58.199999999999996,
            "count": 0
           },
           {
            "bin_start": 58.199999999999996,
            "bin_end": 67.89999999999999,
            "count": 0
           },
           {
            "bin_start": 67.89999999999999,
            "bin_end": 77.6,
            "count": 0
           },
           {
            "bin_start": 77.6,
            "bin_end": 87.3,
            "count": 0
           },
           {
            "bin_start": 87.3,
            "bin_end": 97,
            "count": 2
           }
          ]
         }
        },
        {
         "name": "_deepnote_index_column",
         "dtype": "int64"
        }
       ],
       "rows": [
        {
         "id": "16169f",
         "sex": 2,
         "patient_type": 1,
         "entry_date": "2020-05-04T00:00:00.000000",
         "date_symptoms": "2020-05-02T00:00:00.000000",
         "date_died": "NaT",
         "intubed": 97,
         "pneumonia": 0,
         "age": 27,
         "pregnancy": 97,
         "diabetes": 0,
         "copd": 0,
         "asthma": 0,
         "inmsupr": 0,
         "hypertension": 0,
         "other_disease": 0,
         "cardiovascular": 0,
         "obesity": 0,
         "renal_chronic": 0,
         "tobacco": 0,
         "contact_other_covid": 0,
         "covid_res": 1,
         "icu": 97,
         "_deepnote_index_column": 0
        },
        {
         "id": "1009bf",
         "sex": 2,
         "patient_type": 1,
         "entry_date": "2020-03-19T00:00:00.000000",
         "date_symptoms": "2020-03-17T00:00:00.000000",
         "date_died": "NaT",
         "intubed": 97,
         "pneumonia": 0,
         "age": 24,
         "pregnancy": 97,
         "diabetes": 0,
         "copd": 0,
         "asthma": 0,
         "inmsupr": 0,
         "hypertension": 0,
         "other_disease": 0,
         "cardiovascular": 0,
         "obesity": 0,
         "renal_chronic": 0,
         "tobacco": 0,
         "contact_other_covid": 99,
         "covid_res": 1,
         "icu": 97,
         "_deepnote_index_column": 1
        },
        {
         "id": "167386",
         "sex": 1,
         "patient_type": 2,
         "entry_date": "2020-04-06T00:00:00.000000",
         "date_symptoms": "2020-04-01T00:00:00.000000",
         "date_died": "NaT",
         "intubed": 0,
         "pneumonia": 0,
         "age": 54,
         "pregnancy": 0,
         "diabetes": 0,
         "copd": 0,
         "asthma": 0,
         "inmsupr": 0,
         "hypertension": 0,
         "other_disease": 0,
         "cardiovascular": 0,
         "obesity": 1,
         "renal_chronic": 0,
         "tobacco": 0,
         "contact_other_covid": 99,
         "covid_res": 1,
         "icu": 0,
         "_deepnote_index_column": 2
        },
        {
         "id": "0b5948",
         "sex": 2,
         "patient_type": 2,
         "entry_date": "2020-04-17T00:00:00.000000",
         "date_symptoms": "2020-04-10T00:00:00.000000",
         "date_died": "NaT",
         "intubed": 0,
         "pneumonia": 1,
         "age": 30,
         "pregnancy": 97,
         "diabetes": 0,
         "copd": 0,
         "asthma": 0,
         "inmsupr": 0,
         "hypertension": 0,
         "other_disease": 0,
         "cardiovascular": 0,
         "obesity": 0,
         "renal_chronic": 0,
         "tobacco": 0,
         "contact_other_covid": 99,
         "covid_res": 1,
         "icu": 0,
         "_deepnote_index_column": 3
        },
        {
         "id": "0d01b5",
         "sex": 1,
         "patient_type": 2,
         "entry_date": "2020-04-13T00:00:00.000000",
         "date_symptoms": "2020-04-13T00:00:00.000000",
         "date_died": "2020-04-22 00:00:00",
         "intubed": 0,
         "pneumonia": 0,
         "age": 60,
         "pregnancy": 0,
         "diabetes": 1,
         "copd": 0,
         "asthma": 0,
         "inmsupr": 0,
         "hypertension": 1,
         "other_disease": 0,
         "cardiovascular": 1,
         "obesity": 0,
         "renal_chronic": 0,
         "tobacco": 0,
         "contact_other_covid": 99,
         "covid_res": 1,
         "icu": 0,
         "_deepnote_index_column": 4
        }
       ]
      },
      "text/plain": "       id  sex  patient_type entry_date date_symptoms  date_died  intubed  \\\n0  16169f    2             1 2020-05-04    2020-05-02        NaT       97   \n1  1009bf    2             1 2020-03-19    2020-03-17        NaT       97   \n2  167386    1             2 2020-04-06    2020-04-01        NaT        0   \n3  0b5948    2             2 2020-04-17    2020-04-10        NaT        0   \n4  0d01b5    1             2 2020-04-13    2020-04-13 2020-04-22        0   \n\n   pneumonia  age  pregnancy  diabetes  copd  asthma  inmsupr  hypertension  \\\n0          0   27         97         0     0       0        0             0   \n1          0   24         97         0     0       0        0             0   \n2          0   54          0         0     0       0        0             0   \n3          1   30         97         0     0       0        0             0   \n4          0   60          0         1     0       0        0             1   \n\n   other_disease  cardiovascular  obesity  renal_chronic  tobacco  \\\n0              0               0        0              0        0   \n1              0               0        0              0        0   \n2              0               0        1              0        0   \n3              0               0        0              0        0   \n4              0               1        0              0        0   \n\n   contact_other_covid  covid_res  icu  \n0                    0          1   97  \n1                   99          1   97  \n2                   99          1    0  \n3                   99          1    0  \n4                   99          1    0  ",
      "text/html": "<div>\n<style scoped>\n    .dataframe tbody tr th:only-of-type {\n        vertical-align: middle;\n    }\n\n    .dataframe tbody tr th {\n        vertical-align: top;\n    }\n\n    .dataframe thead th {\n        text-align: right;\n    }\n</style>\n<table border=\"1\" class=\"dataframe\">\n  <thead>\n    <tr style=\"text-align: right;\">\n      <th></th>\n      <th>id</th>\n      <th>sex</th>\n      <th>patient_type</th>\n      <th>entry_date</th>\n      <th>date_symptoms</th>\n      <th>date_died</th>\n      <th>intubed</th>\n      <th>pneumonia</th>\n      <th>age</th>\n      <th>pregnancy</th>\n      <th>diabetes</th>\n      <th>copd</th>\n      <th>asthma</th>\n      <th>inmsupr</th>\n      <th>hypertension</th>\n      <th>other_disease</th>\n      <th>cardiovascular</th>\n      <th>obesity</th>\n      <th>renal_chronic</th>\n      <th>tobacco</th>\n      <th>contact_other_covid</th>\n      <th>covid_res</th>\n      <th>icu</th>\n    </tr>\n  </thead>\n  <tbody>\n    <tr>\n      <th>0</th>\n      <td>16169f</td>\n      <td>2</td>\n      <td>1</td>\n      <td>2020-05-04</td>\n      <td>2020-05-02</td>\n      <td>NaT</td>\n      <td>97</td>\n      <td>0</td>\n      <td>27</td>\n      <td>97</td>\n      <td>0</td>\n      <td>0</td>\n      <td>0</td>\n      <td>0</td>\n      <td>0</td>\n      <td>0</td>\n      <td>0</td>\n      <td>0</td>\n      <td>0</td>\n      <td>0</td>\n      <td>0</td>\n      <td>1</td>\n      <td>97</td>\n    </tr>\n    <tr>\n      <th>1</th>\n      <td>1009bf</td>\n      <td>2</td>\n      <td>1</td>\n      <td>2020-03-19</td>\n      <td>2020-03-17</td>\n      <td>NaT</td>\n      <td>97</td>\n      <td>0</td>\n      <td>24</td>\n      <td>97</td>\n      <td>0</td>\n      <td>0</td>\n      <td>0</td>\n      <td>0</td>\n      <td>0</td>\n      <td>0</td>\n      <td>0</td>\n      <td>0</td>\n      <td>0</td>\n      <td>0</td>\n      <td>99</td>\n      <td>1</td>\n      <td>97</td>\n    </tr>\n    <tr>\n      <th>2</th>\n      <td>167386</td>\n      <td>1</td>\n      <td>2</td>\n      <td>2020-04-06</td>\n      <td>2020-04-01</td>\n      <td>NaT</td>\n      <td>0</td>\n      <td>0</td>\n      <td>54</td>\n      <td>0</td>\n      <td>0</td>\n      <td>0</td>\n      <td>0</td>\n      <td>0</td>\n      <td>0</td>\n      <td>0</td>\n      <td>0</td>\n      <td>1</td>\n      <td>0</td>\n      <td>0</td>\n      <td>99</td>\n      <td>1</td>\n      <td>0</td>\n    </tr>\n    <tr>\n      <th>3</th>\n      <td>0b5948</td>\n      <td>2</td>\n      <td>2</td>\n      <td>2020-04-17</td>\n      <td>2020-04-10</td>\n      <td>NaT</td>\n      <td>0</td>\n      <td>1</td>\n      <td>30</td>\n      <td>97</td>\n      <td>0</td>\n      <td>0</td>\n      <td>0</td>\n      <td>0</td>\n      <td>0</td>\n      <td>0</td>\n      <td>0</td>\n      <td>0</td>\n      <td>0</td>\n      <td>0</td>\n      <td>99</td>\n      <td>1</td>\n      <td>0</td>\n    </tr>\n    <tr>\n      <th>4</th>\n      <td>0d01b5</td>\n      <td>1</td>\n      <td>2</td>\n      <td>2020-04-13</td>\n      <td>2020-04-13</td>\n      <td>2020-04-22</td>\n      <td>0</td>\n      <td>0</td>\n      <td>60</td>\n      <td>0</td>\n      <td>1</td>\n      <td>0</td>\n      <td>0</td>\n      <td>0</td>\n      <td>1</td>\n      <td>0</td>\n      <td>1</td>\n      <td>0</td>\n      <td>0</td>\n      <td>0</td>\n      <td>99</td>\n      <td>1</td>\n      <td>0</td>\n    </tr>\n  </tbody>\n</table>\n</div>"
     },
     "metadata": {}
    }
   ]
  },
  {
   "cell_type": "code",
   "metadata": {
    "cell_id": "00024-2a3a06b3-bdf9-4b1f-bc4c-9daa7e6e9265",
    "deepnote_to_be_reexecuted": false,
    "source_hash": "12ecfd28",
    "execution_start": 1646602769727,
    "execution_millis": 106,
    "deepnote_cell_type": "code"
   },
   "source": "df[['icu', 'patient_type', 'intubed']].where(df['icu'] == 97).value_counts()",
   "execution_count": 18,
   "outputs": [
    {
     "output_type": "execute_result",
     "execution_count": 18,
     "data": {
      "text/plain": "icu   patient_type  intubed\n97.0  1.0           97.0       392146\ndtype: int64"
     },
     "metadata": {}
    }
   ]
  },
  {
   "cell_type": "code",
   "metadata": {
    "cell_id": "00026-eb00716d-8b88-403b-944d-a7af8f9d0514",
    "deepnote_to_be_reexecuted": false,
    "source_hash": "2b72973d",
    "execution_start": 1646602770721,
    "execution_millis": 18,
    "deepnote_cell_type": "code"
   },
   "source": "df[['icu','intubed']] = df[['icu','intubed']].replace({97:0})",
   "execution_count": 19,
   "outputs": []
  },
  {
   "cell_type": "markdown",
   "source": "#### 97 em pregnancy\nNo caso do 97 em pregnancy, o valor sempre ocorre em linhas onde o paciente é homem. Seguindo a lógica da categoria acima, iremos substituir 97 por 0.",
   "metadata": {
    "cell_id": "00027-2511d21a-3b3d-49ec-8a2c-6de363b27f24",
    "deepnote_cell_type": "markdown"
   }
  },
  {
   "cell_type": "code",
   "metadata": {
    "cell_id": "00028-4acbaccc-2e48-49f4-a4e0-4dbace1d24b9",
    "deepnote_to_be_reexecuted": false,
    "source_hash": "995c0d2a",
    "execution_start": 1646602772168,
    "execution_millis": 81,
    "deepnote_cell_type": "code"
   },
   "source": "df[['pregnancy','sex']].where(df['pregnancy'] == 97).value_counts()",
   "execution_count": 20,
   "outputs": [
    {
     "output_type": "execute_result",
     "execution_count": 20,
     "data": {
      "text/plain": "pregnancy  sex\n97.0       2.0    253098\ndtype: int64"
     },
     "metadata": {}
    }
   ]
  },
  {
   "cell_type": "code",
   "metadata": {
    "cell_id": "00029-d35e19f9-98d8-422a-89b2-27f941e6ed19",
    "deepnote_to_be_reexecuted": false,
    "source_hash": "bdc9e9ab",
    "execution_start": 1646602773023,
    "execution_millis": 11,
    "deepnote_cell_type": "code"
   },
   "source": "df['pregnancy'] = df['pregnancy'].replace({97:0})",
   "execution_count": 21,
   "outputs": []
  },
  {
   "cell_type": "markdown",
   "source": "#### 98's\nEm primeiro momento vamos assumir que os 98 sao relevantes para analise, vamos manter eles e tratar como uma categoria valida.\n\nPara futuro vale avaliar dropar eles e reavaliar o modelo",
   "metadata": {
    "cell_id": "00031-59727a3a-8011-4851-b7ea-e06fa865174f",
    "deepnote_cell_type": "markdown"
   }
  },
  {
   "cell_type": "code",
   "metadata": {
    "cell_id": "00032-90012114-e0d0-4ba0-842d-146ee1d2be44",
    "deepnote_to_be_reexecuted": false,
    "source_hash": "21789ec8",
    "execution_start": 1646602774507,
    "execution_millis": 261,
    "deepnote_cell_type": "code"
   },
   "source": "df[categorical_cols].where(df==98).any(axis=1).sum()",
   "execution_count": 22,
   "outputs": [
    {
     "output_type": "execute_result",
     "execution_count": 22,
     "data": {
      "text/plain": "4613"
     },
     "metadata": {}
    }
   ]
  },
  {
   "cell_type": "markdown",
   "source": "#### 99's (NaN's)",
   "metadata": {
    "cell_id": "00033-6d8b0dd8-89e9-467f-99bb-07abbe1a9fe7",
    "deepnote_cell_type": "markdown"
   }
  },
  {
   "cell_type": "code",
   "metadata": {
    "cell_id": "00034-48882449-91ff-43a0-9b9a-673368ec689e",
    "deepnote_to_be_reexecuted": false,
    "source_hash": "b2d991da",
    "execution_start": 1646602777754,
    "execution_millis": 291,
    "deepnote_cell_type": "code"
   },
   "source": "df[categorical_cols] = df[categorical_cols].replace({99: np.nan})\ndf.isna().sum()",
   "execution_count": 23,
   "outputs": [
    {
     "output_type": "execute_result",
     "execution_count": 23,
     "data": {
      "text/plain": "id                          0\nsex                         0\npatient_type                0\nentry_date                  0\ndate_symptoms               0\ndate_died              465571\nintubed                   122\npneumonia                  11\nage                         0\npregnancy                   0\ndiabetes                    0\ncopd                        0\nasthma                      0\ninmsupr                     0\nhypertension                0\nother_disease               0\ncardiovascular              0\nobesity                     0\nrenal_chronic               0\ntobacco                     0\ncontact_other_covid    153675\ncovid_res                   0\nicu                       123\ndtype: int64"
     },
     "metadata": {}
    }
   ]
  },
  {
   "cell_type": "markdown",
   "source": "Para 'intubed', 'pneumonia', 'icu', onde ocorrem poucos NaN's, vamos usar a moda para dar o imputar os valores faltantes",
   "metadata": {
    "cell_id": "00035-3637765a-6e58-46b1-90db-969871f71127",
    "deepnote_cell_type": "markdown"
   }
  },
  {
   "cell_type": "code",
   "metadata": {
    "cell_id": "00036-ae7dd2ae-f5d1-4334-959e-d0576b623bc6",
    "deepnote_to_be_reexecuted": false,
    "source_hash": "5c7d90ac",
    "execution_start": 1646602780530,
    "execution_millis": 746,
    "deepnote_cell_type": "code"
   },
   "source": "from sklearn.impute import SimpleImputer\n\nimputer = SimpleImputer(strategy='most_frequent')\ndf[['intubed', 'pneumonia', 'icu']] = imputer.fit_transform(df[['intubed', 'pneumonia', 'icu']])",
   "execution_count": 24,
   "outputs": []
  },
  {
   "cell_type": "markdown",
   "source": "Para 'contact_other_covid', onde os NaN's representam uma parte significativa dos dados, vamos tratar como uma nova categoria",
   "metadata": {
    "cell_id": "00037-2c5b99ce-ca1a-4403-8ec5-ec4717bcf20d",
    "deepnote_cell_type": "markdown"
   }
  },
  {
   "cell_type": "code",
   "metadata": {
    "cell_id": "00038-b2514e96-9962-4ded-9637-95cedf97b91f",
    "deepnote_to_be_reexecuted": false,
    "source_hash": "676d621e",
    "execution_start": 1646602783711,
    "execution_millis": 103,
    "deepnote_cell_type": "code"
   },
   "source": "imputer = SimpleImputer(strategy='constant', fill_value=2)\ndf[['contact_other_covid']] = imputer.fit_transform(df[['contact_other_covid']])",
   "execution_count": 25,
   "outputs": []
  },
  {
   "cell_type": "markdown",
   "source": "Vale notar que estamos ignorando os valores NaN na feature date_died porque a feature em si não será utilizada nos modelos a seguir",
   "metadata": {
    "cell_id": "7b3ef908-238a-419d-acd5-2e22c85bc9eb",
    "tags": [],
    "deepnote_cell_type": "markdown"
   }
  },
  {
   "cell_type": "markdown",
   "source": "## Feature engineering",
   "metadata": {
    "cell_id": "00039-6ded93bf-9e04-4009-a69a-c8b9f6fb662c",
    "deepnote_cell_type": "markdown"
   }
  },
  {
   "cell_type": "markdown",
   "source": "### Feature Died\nA data da morte em si pode não contribuir muito para o modelo, contudo o fato de o paciente ter morrido ou não é interessante, dessa forma a feature died foi criada. Ela segua a seguinte relação:\n\nSe date_died e NaN entao e 0 senao 1",
   "metadata": {
    "cell_id": "00040-7a5cc386-5dad-4962-833d-594fe15c4d6e",
    "deepnote_cell_type": "markdown"
   }
  },
  {
   "cell_type": "code",
   "metadata": {
    "cell_id": "00041-7c0ada20-688c-443b-b818-0d1dd4615913",
    "deepnote_to_be_reexecuted": false,
    "source_hash": "4995e3e2",
    "execution_start": 1646602787534,
    "execution_millis": 8,
    "deepnote_cell_type": "code"
   },
   "source": "df['died'] = np.where(df['date_died'].isna(), 0, 1)",
   "execution_count": 26,
   "outputs": []
  },
  {
   "cell_type": "markdown",
   "source": "### Feature entry_symptoms_time\nAssim como a data da morte, as datas dos primeiros sintomas e a data do registro podem não dizer muito sobre o registro em questão. Essa feature consegue trazer um pouco de informação ao modelo. Ela segue a seguinte relação:\n\nDiferenca entre data do primeiro sintoma e de entrada",
   "metadata": {
    "cell_id": "00042-4b170a6d-6901-4fec-bb26-a426ca118ba3",
    "deepnote_cell_type": "markdown"
   }
  },
  {
   "cell_type": "code",
   "metadata": {
    "cell_id": "00043-02b29c3e-9c47-428b-84ef-5dcf0c53e58b",
    "deepnote_to_be_reexecuted": false,
    "source_hash": "11af454d",
    "execution_start": 1646602788749,
    "execution_millis": 30,
    "deepnote_cell_type": "code"
   },
   "source": "df['entry_symptoms_time'] = (df['entry_date'] - df['date_symptoms']).dt.days",
   "execution_count": 27,
   "outputs": []
  },
  {
   "cell_type": "code",
   "metadata": {
    "cell_id": "00044-18cbd0bf-5411-4963-a000-3200a449dfa1",
    "deepnote_to_be_reexecuted": false,
    "source_hash": "68e7a421",
    "execution_start": 1646602789692,
    "execution_millis": 14,
    "deepnote_cell_type": "code"
   },
   "source": "np.sort(df['entry_symptoms_time'].unique())",
   "execution_count": 28,
   "outputs": [
    {
     "output_type": "execute_result",
     "execution_count": 28,
     "data": {
      "text/plain": "array([ 0,  1,  2,  3,  4,  5,  6,  7,  8,  9, 10, 11, 12, 13, 14, 15, 16,\n       17, 18, 19, 20, 21, 22, 23, 24, 25, 26, 27, 28, 29, 30, 31, 32, 33,\n       34, 35, 36, 37, 38, 39, 40, 41, 42, 48, 49, 51, 53, 58, 59, 60, 62,\n       63, 65, 68, 69, 70, 83, 89, 90])"
     },
     "metadata": {}
    }
   ]
  },
  {
   "cell_type": "markdown",
   "source": "### Feature has_disease\nMuitas colunas do dataset indicam se o paciente tem algum tipo de doença. Uma possível forma de simplificar esse dado, seria criando uma feature indicando se o paciente possui alguma doença. Nos modelos testaremos se essa feature poderá agregar. A feature segua a seguinte lógica:\n\nCaso tenha qualquer uma das doencas ['diabetes', 'copd', 'asthma', 'inmsupr', 'hypertension', 'cardiovascular', 'obesity', 'renal_chronic'] fica como true",
   "metadata": {
    "cell_id": "00045-bd500b0d-7330-46cf-b67a-92c8964f36f9",
    "deepnote_cell_type": "markdown"
   }
  },
  {
   "cell_type": "code",
   "metadata": {
    "cell_id": "00046-c2bfd824-c250-4764-ae6d-c8a599dc63f4",
    "deepnote_to_be_reexecuted": false,
    "source_hash": "f6c24366",
    "execution_start": 1646605448502,
    "execution_millis": 14415,
    "deepnote_cell_type": "code"
   },
   "source": "diseases_col = ['diabetes', 'copd', 'asthma', 'inmsupr', 'hypertension','other_disease', 'cardiovascular', 'obesity', 'renal_chronic']\ndf['has_disease'] = np.where(df[df[diseases_col] == 1].any(axis=1), 0, 1)",
   "execution_count": 37,
   "outputs": []
  },
  {
   "cell_type": "markdown",
   "source": "# Análise Pt. 2",
   "metadata": {
    "cell_id": "00047-141349f8-b1b5-48ab-b1c4-6146c4a459a3",
    "deepnote_cell_type": "markdown"
   }
  },
  {
   "cell_type": "markdown",
   "source": "No inicio da pandemia o numero de infectados, e consequentemente, o numero de teste positivos foi muito baixo, contudo com desenvolvimento esse numero aumenta.",
   "metadata": {
    "cell_id": "00048-94128e4b-ef10-427a-9a97-83ec7ce48066",
    "deepnote_cell_type": "markdown"
   }
  },
  {
   "cell_type": "code",
   "metadata": {
    "cell_id": "00049-54408d33-8aa0-4cff-8346-9474cdb2c5d9",
    "deepnote_to_be_reexecuted": false,
    "source_hash": "3a0d26c8",
    "execution_start": 1646602804163,
    "execution_millis": 6828,
    "deepnote_cell_type": "code"
   },
   "source": "sns.barplot(x=df['entry_date'].dt.month, y=df['covid_res'])",
   "execution_count": 30,
   "outputs": [
    {
     "output_type": "execute_result",
     "execution_count": 30,
     "data": {
      "text/plain": "<AxesSubplot:xlabel='entry_date', ylabel='covid_res'>"
     },
     "metadata": {}
    },
    {
     "data": {
      "text/plain": "<Figure size 432x288 with 1 Axes>",
      "image/png": "[encoded data removed]"
     },
     "metadata": {
      "needs_background": "light",
      "image/png": {
       "width": 386,
       "height": 263
      }
     },
     "output_type": "display_data"
    }
   ]
  },
  {
   "cell_type": "code",
   "metadata": {
    "cell_id": "00050-eca9fea3-b12b-4754-b68f-34b54ee2a089",
    "deepnote_to_be_reexecuted": false,
    "source_hash": "7c9a7989",
    "execution_start": 1646598679995,
    "execution_millis": 802,
    "deepnote_cell_type": "code"
   },
   "source": "sns.countplot(x=df['entry_date'].dt.month, hue=df['covid_res'])",
   "outputs": [
    {
     "output_type": "execute_result",
     "execution_count": 28,
     "data": {
      "text/plain": "<AxesSubplot:xlabel='entry_date', ylabel='count'>"
     },
     "metadata": {}
    },
    {
     "data": {
      "text/plain": "<Figure size 432x288 with 1 Axes>",
      "image/png": "[encoded data removed]"
     },
     "metadata": {
      "needs_background": "light",
      "image/png": {
       "width": 407,
       "height": 263
      }
     },
     "output_type": "display_data"
    }
   ],
   "execution_count": null
  },
  {
   "cell_type": "code",
   "metadata": {
    "cell_id": "00051-8726c843-e6c7-4065-abfd-909e658e2191",
    "deepnote_to_be_reexecuted": false,
    "source_hash": "c9a33a74",
    "execution_start": 1646598680709,
    "execution_millis": 678,
    "deepnote_cell_type": "code"
   },
   "source": "sns.countplot(data=df[df['covid_res'] == 1], x='has_disease', hue='patient_type')",
   "outputs": [
    {
     "output_type": "execute_result",
     "execution_count": 29,
     "data": {
      "text/plain": "<AxesSubplot:xlabel='has_disease', ylabel='count'>"
     },
     "metadata": {}
    },
    {
     "data": {
      "text/plain": "<Figure size 432x288 with 1 Axes>",
      "image/png": "[encoded data removed]"
     },
     "metadata": {
      "needs_background": "light",
      "image/png": {
       "width": 407,
       "height": 263
      }
     },
     "output_type": "display_data"
    }
   ],
   "execution_count": null
  },
  {
   "cell_type": "markdown",
   "source": "Obs.: em patient_type, 1 indica que e uma paciente de ambulatorio e 2 uma paciente internado",
   "metadata": {
    "cell_id": "00052-aaeceb8e-7fd5-4d38-8ac6-8829675770db",
    "deepnote_cell_type": "markdown"
   }
  },
  {
   "cell_type": "code",
   "metadata": {
    "cell_id": "00053-3b6550bc-78f7-4b27-8f7d-d79ed6083e68",
    "deepnote_to_be_reexecuted": false,
    "source_hash": "33d9f9f4",
    "execution_start": 1646598681394,
    "execution_millis": 635,
    "deepnote_cell_type": "code"
   },
   "source": "# df[df['died'] == 1].covid_res.value_counts()\nsns.countplot(data=df, x='died', hue='patient_type')",
   "outputs": [
    {
     "output_type": "execute_result",
     "execution_count": 30,
     "data": {
      "text/plain": "<AxesSubplot:xlabel='died', ylabel='count'>"
     },
     "metadata": {}
    },
    {
     "data": {
      "text/plain": "<Figure size 432x288 with 1 Axes>",
      "image/png": "[encoded data removed]"
     },
     "metadata": {
      "needs_background": "light",
      "image/png": {
       "width": 407,
       "height": 262
      }
     },
     "output_type": "display_data"
    }
   ],
   "execution_count": null
  },
  {
   "cell_type": "code",
   "metadata": {
    "cell_id": "00054-0d7ec3d4-aae5-44f7-808f-d22c2beeb96a",
    "deepnote_to_be_reexecuted": false,
    "source_hash": "c085b6ba",
    "execution_start": 1646598682036,
    "execution_millis": 244,
    "deepnote_cell_type": "code"
   },
   "source": "df.head()",
   "outputs": [
    {
     "output_type": "execute_result",
     "execution_count": 31,
     "data": {
      "application/vnd.deepnote.dataframe.v3+json": {
       "column_count": 26,
       "row_count": 5,
       "columns": [
        {
         "name": "id",
         "dtype": "object",
         "stats": {
          "unique_count": 5,
          "nan_count": 0,
          "categories": [
           {
            "name": "16169f",
            "count": 1
           },
           {
            "name": "1009bf",
            "count": 1
           },
           {
            "name": "3 others",
            "count": 3
           }
          ]
         }
        },
        {
         "name": "sex",
         "dtype": "int64",
         "stats": {
          "unique_count": 2,
          "nan_count": 0,
          "min": "1",
          "max": "2",
          "histogram": [
           {
            "bin_start": 1,
            "bin_end": 1.1,
            "count": 2
           },
           {
            "bin_start": 1.1,
            "bin_end": 1.2,
            "count": 0
           },
           {
            "bin_start": 1.2,
            "bin_end": 1.3,
            "count": 0
           },
           {
            "bin_start": 1.3,
            "bin_end": 1.4,
            "count": 0
           },
           {
            "bin_start": 1.4,
            "bin_end": 1.5,
            "count": 0
           },
           {
            "bin_start": 1.5,
            "bin_end": 1.6,
            "count": 0
           },
           {
            "bin_start": 1.6,
            "bin_end": 1.7000000000000002,
            "count": 0
           },
           {
            "bin_start": 1.7000000000000002,
            "bin_end": 1.8,
            "count": 0
           },
           {
            "bin_start": 1.8,
            "bin_end": 1.9,
            "count": 0
           },
           {
            "bin_start": 1.9,
            "bin_end": 2,
            "count": 3
           }
          ]
         }
        },
        {
         "name": "patient_type",
         "dtype": "float64",
         "stats": {
          "unique_count": 2,
          "nan_count": 0,
          "min": "1.0",
          "max": "2.0",
          "histogram": [
           {
            "bin_start": 1,
            "bin_end": 1.1,
            "count": 2
           },
           {
            "bin_start": 1.1,
            "bin_end": 1.2,
            "count": 0
           },
           {
            "bin_start": 1.2,
            "bin_end": 1.3,
            "count": 0
           },
           {
            "bin_start": 1.3,
            "bin_end": 1.4,
            "count": 0
           },
           {
            "bin_start": 1.4,
            "bin_end": 1.5,
            "count": 0
           },
           {
            "bin_start": 1.5,
            "bin_end": 1.6,
            "count": 0
           },
           {
            "bin_start": 1.6,
            "bin_end": 1.7000000000000002,
            "count": 0
           },
           {
            "bin_start": 1.7000000000000002,
            "bin_end": 1.8,
            "count": 0
           },
           {
            "bin_start": 1.8,
            "bin_end": 1.9,
            "count": 0
           },
           {
            "bin_start": 1.9,
            "bin_end": 2,
            "count": 3
           }
          ]
         }
        },
        {
         "name": "entry_date",
         "dtype": "datetime64[ns]",
         "stats": {
          "unique_count": 5,
          "nan_count": 0,
          "min": "2020-03-19 00:00:00",
          "max": "2020-05-04 00:00:00",
          "histogram": [
           {
            "bin_start": 1584576000000000000,
            "bin_end": 1584973440000000000,
            "count": 1
           },
           {
            "bin_start": 1584973440000000000,
            "bin_end": 1585370880000000000,
            "count": 0
           },
           {
            "bin_start": 1585370880000000000,
            "bin_end": 1585768320000000000,
            "count": 0
           },
           {
            "bin_start": 1585768320000000000,
            "bin_end": 1586165760000000000,
            "count": 1
           },
           {
            "bin_start": 1586165760000000000,
            "bin_end": 1586563200000000000,
            "count": 0
           },
           {
            "bin_start": 1586563200000000000,
            "bin_end": 1586960640000000000,
            "count": 1
           },
           {
            "bin_start": 1586960640000000000,
            "bin_end": 1587358080000000000,
            "count": 1
           },
           {
            "bin_start": 1587358080000000000,
            "bin_end": 1587755520000000000,
            "count": 0
           },
           {
            "bin_start": 1587755520000000000,
            "bin_end": 1588152960000000000,
            "count": 0
           },
           {
            "bin_start": 1588152960000000000,
            "bin_end": 1588550400000000000,
            "count": 1
           }
          ]
         }
        },
        {
         "name": "date_symptoms",
         "dtype": "datetime64[ns]",
         "stats": {
          "unique_count": 5,
          "nan_count": 0,
          "min": "2020-03-17 00:00:00",
          "max": "2020-05-02 00:00:00",
          "histogram": [
           {
            "bin_start": 1584403200000000000,
            "bin_end": 1584800640000000000,
            "count": 1
           },
           {
            "bin_start": 1584800640000000000,
            "bin_end": 1585198080000000000,
            "count": 0
           },
           {
            "bin_start": 1585198080000000000,
            "bin_end": 1585595520000000000,
            "count": 0
           },
           {
            "bin_start": 1585595520000000000,
            "bin_end": 1585992960000000000,
            "count": 1
           },
           {
            "bin_start": 1585992960000000000,
            "bin_end": 1586390400000000000,
            "count": 0
           },
           {
            "bin_start": 1586390400000000000,
            "bin_end": 1586787840000000000,
            "count": 2
           },
           {
            "bin_start": 1586787840000000000,
            "bin_end": 1587185280000000000,
            "count": 0
           },
           {
            "bin_start": 1587185280000000000,
            "bin_end": 1587582720000000000,
            "count": 0
           },
           {
            "bin_start": 1587582720000000000,
            "bin_end": 1587980160000000000,
            "count": 0
           },
           {
            "bin_start": 1587980160000000000,
            "bin_end": 1588377600000000000,
            "count": 1
           }
          ]
         }
        },
        {
         "name": "date_died",
         "dtype": "datetime64[ns]",
         "stats": {
          "unique_count": 1,
          "nan_count": 4,
          "min": "2020-04-22 00:00:00",
          "max": "2020-04-22 00:00:00",
          "histogram": null
         }
        },
        {
         "name": "intubed",
         "dtype": "float64",
         "stats": {
          "unique_count": 1,
          "nan_count": 0,
          "min": "0.0",
          "max": "0.0",
          "histogram": [
           {
            "bin_start": -0.5,
            "bin_end": -0.4,
            "count": 0
           },
           {
            "bin_start": -0.4,
            "bin_end": -0.3,
            "count": 0
           },
           {
            "bin_start": -0.3,
            "bin_end": -0.19999999999999996,
            "count": 0
           },
           {
            "bin_start": -0.19999999999999996,
            "bin_end": -0.09999999999999998,
            "count": 0
           },
           {
            "bin_start": -0.09999999999999998,
            "bin_end": 0,
            "count": 0
           },
           {
            "bin_start": 0,
            "bin_end": 0.10000000000000009,
            "count": 5
           },
           {
            "bin_start": 0.10000000000000009,
            "bin_end": 0.20000000000000007,
            "count": 0
           },
           {
            "bin_start": 0.20000000000000007,
            "bin_end": 0.30000000000000004,
            "count": 0
           },
           {
            "bin_start": 0.30000000000000004,
            "bin_end": 0.4,
            "count": 0
           },
           {
            "bin_start": 0.4,
            "bin_end": 0.5,
            "count": 0
           }
          ]
         }
        },
        {
         "name": "pneumonia",
         "dtype": "float64",
         "stats": {
          "unique_count": 2,
          "nan_count": 0,
          "min": "0.0",
          "max": "1.0",
          "histogram": [
           {
            "bin_start": 0,
            "bin_end": 0.1,
            "count": 4
           },
           {
            "bin_start": 0.1,
            "bin_end": 0.2,
            "count": 0
           },
           {
            "bin_start": 0.2,
            "bin_end": 0.30000000000000004,
            "count": 0
           },
           {
            "bin_start": 0.30000000000000004,
            "bin_end": 0.4,
            "count": 0
           },
           {
            "bin_start": 0.4,
            "bin_end": 0.5,
            "count": 0
           },
           {
            "bin_start": 0.5,
            "bin_end": 0.6000000000000001,
            "count": 0
           },
           {
            "bin_start": 0.6000000000000001,
            "bin_end": 0.7000000000000001,
            "count": 0
           },
           {
            "bin_start": 0.7000000000000001,
            "bin_end": 0.8,
            "count": 0
           },
           {
            "bin_start": 0.8,
            "bin_end": 0.9,
            "count": 0
           },
           {
            "bin_start": 0.9,
            "bin_end": 1,
            "count": 1
           }
          ]
         }
        },
        {
         "name": "age",
         "dtype": "int64",
         "stats": {
          "unique_count": 5,
          "nan_count": 0,
          "min": "24",
          "max": "60",
          "histogram": [
           {
            "bin_start": 24,
            "bin_end": 27.6,
            "count": 2
           },
           {
            "bin_start": 27.6,
            "bin_end": 31.2,
            "count": 1
           },
           {
            "bin_start": 31.2,
            "bin_end": 34.8,
            "count": 0
           },
           {
            "bin_start": 34.8,
            "bin_end": 38.4,
            "count": 0
           },
           {
            "bin_start": 38.4,
            "bin_end": 42,
            "count": 0
           },
           {
            "bin_start": 42,
            "bin_end": 45.6,
            "count": 0
           },
           {
            "bin_start": 45.6,
            "bin_end": 49.2,
            "count": 0
           },
           {
            "bin_start": 49.2,
            "bin_end": 52.8,
            "count": 0
           },
           {
            "bin_start": 52.8,
            "bin_end": 56.4,
            "count": 1
           },
           {
            "bin_start": 56.4,
            "bin_end": 60,
            "count": 1
           }
          ]
         }
        },
        {
         "name": "pregnancy",
         "dtype": "float64",
         "stats": {
          "unique_count": 1,
          "nan_count": 0,
          "min": "0.0",
          "max": "0.0",
          "histogram": [
           {
            "bin_start": -0.5,
            "bin_end": -0.4,
            "count": 0
           },
           {
            "bin_start": -0.4,
            "bin_end": -0.3,
            "count": 0
           },
           {
            "bin_start": -0.3,
            "bin_end": -0.19999999999999996,
            "count": 0
           },
           {
            "bin_start": -0.19999999999999996,
            "bin_end": -0.09999999999999998,
            "count": 0
           },
           {
            "bin_start": -0.09999999999999998,
            "bin_end": 0,
            "count": 0
           },
           {
            "bin_start": 0,
            "bin_end": 0.10000000000000009,
            "count": 5
           },
           {
            "bin_start": 0.10000000000000009,
            "bin_end": 0.20000000000000007,
            "count": 0
           },
           {
            "bin_start": 0.20000000000000007,
            "bin_end": 0.30000000000000004,
            "count": 0
           },
           {
            "bin_start": 0.30000000000000004,
            "bin_end": 0.4,
            "count": 0
           },
           {
            "bin_start": 0.4,
            "bin_end": 0.5,
            "count": 0
           }
          ]
         }
        },
        {
         "name": "diabetes",
         "dtype": "float64",
         "stats": {
          "unique_count": 2,
          "nan_count": 0,
          "min": "0.0",
          "max": "1.0",
          "histogram": [
           {
            "bin_start": 0,
            "bin_end": 0.1,
            "count": 4
           },
           {
            "bin_start": 0.1,
            "bin_end": 0.2,
            "count": 0
           },
           {
            "bin_start": 0.2,
            "bin_end": 0.30000000000000004,
            "count": 0
           },
           {
            "bin_start": 0.30000000000000004,
            "bin_end": 0.4,
            "count": 0
           },
           {
            "bin_start": 0.4,
            "bin_end": 0.5,
            "count": 0
           },
           {
            "bin_start": 0.5,
            "bin_end": 0.6000000000000001,
            "count": 0
           },
           {
            "bin_start": 0.6000000000000001,
            "bin_end": 0.7000000000000001,
            "count": 0
           },
           {
            "bin_start": 0.7000000000000001,
            "bin_end": 0.8,
            "count": 0
           },
           {
            "bin_start": 0.8,
            "bin_end": 0.9,
            "count": 0
           },
           {
            "bin_start": 0.9,
            "bin_end": 1,
            "count": 1
           }
          ]
         }
        },
        {
         "name": "copd",
         "dtype": "float64",
         "stats": {
          "unique_count": 1,
          "nan_count": 0,
          "min": "0.0",
          "max": "0.0",
          "histogram": [
           {
            "bin_start": -0.5,
            "bin_end": -0.4,
            "count": 0
           },
           {
            "bin_start": -0.4,
            "bin_end": -0.3,
            "count": 0
           },
           {
            "bin_start": -0.3,
            "bin_end": -0.19999999999999996,
            "count": 0
           },
           {
            "bin_start": -0.19999999999999996,
            "bin_end": -0.09999999999999998,
            "count": 0
           },
           {
            "bin_start": -0.09999999999999998,
            "bin_end": 0,
            "count": 0
           },
           {
            "bin_start": 0,
            "bin_end": 0.10000000000000009,
            "count": 5
           },
           {
            "bin_start": 0.10000000000000009,
            "bin_end": 0.20000000000000007,
            "count": 0
           },
           {
            "bin_start": 0.20000000000000007,
            "bin_end": 0.30000000000000004,
            "count": 0
           },
           {
            "bin_start": 0.30000000000000004,
            "bin_end": 0.4,
            "count": 0
           },
           {
            "bin_start": 0.4,
            "bin_end": 0.5,
            "count": 0
           }
          ]
         }
        },
        {
         "name": "asthma",
         "dtype": "float64",
         "stats": {
          "unique_count": 1,
          "nan_count": 0,
          "min": "0.0",
          "max": "0.0",
          "histogram": [
           {
            "bin_start": -0.5,
            "bin_end": -0.4,
            "count": 0
           },
           {
            "bin_start": -0.4,
            "bin_end": -0.3,
            "count": 0
           },
           {
            "bin_start": -0.3,
            "bin_end": -0.19999999999999996,
            "count": 0
           },
           {
            "bin_start": -0.19999999999999996,
            "bin_end": -0.09999999999999998,
            "count": 0
           },
           {
            "bin_start": -0.09999999999999998,
            "bin_end": 0,
            "count": 0
           },
           {
            "bin_start": 0,
            "bin_end": 0.10000000000000009,
            "count": 5
           },
           {
            "bin_start": 0.10000000000000009,
            "bin_end": 0.20000000000000007,
            "count": 0
           },
           {
            "bin_start": 0.20000000000000007,
            "bin_end": 0.30000000000000004,
            "count": 0
           },
           {
            "bin_start": 0.30000000000000004,
            "bin_end": 0.4,
            "count": 0
           },
           {
            "bin_start": 0.4,
            "bin_end": 0.5,
            "count": 0
           }
          ]
         }
        },
        {
         "name": "inmsupr",
         "dtype": "float64",
         "stats": {
          "unique_count": 1,
          "nan_count": 0,
          "min": "0.0",
          "max": "0.0",
          "histogram": [
           {
            "bin_start": -0.5,
            "bin_end": -0.4,
            "count": 0
           },
           {
            "bin_start": -0.4,
            "bin_end": -0.3,
            "count": 0
           },
           {
            "bin_start": -0.3,
            "bin_end": -0.19999999999999996,
            "count": 0
           },
           {
            "bin_start": -0.19999999999999996,
            "bin_end": -0.09999999999999998,
            "count": 0
           },
           {
            "bin_start": -0.09999999999999998,
            "bin_end": 0,
            "count": 0
           },
           {
            "bin_start": 0,
            "bin_end": 0.10000000000000009,
            "count": 5
           },
           {
            "bin_start": 0.10000000000000009,
            "bin_end": 0.20000000000000007,
            "count": 0
           },
           {
            "bin_start": 0.20000000000000007,
            "bin_end": 0.30000000000000004,
            "count": 0
           },
           {
            "bin_start": 0.30000000000000004,
            "bin_end": 0.4,
            "count": 0
           },
           {
            "bin_start": 0.4,
            "bin_end": 0.5,
            "count": 0
           }
          ]
         }
        },
        {
         "name": "hypertension",
         "dtype": "float64",
         "stats": {
          "unique_count": 2,
          "nan_count": 0,
          "min": "0.0",
          "max": "1.0",
          "histogram": [
           {
            "bin_start": 0,
            "bin_end": 0.1,
            "count": 4
           },
           {
            "bin_start": 0.1,
            "bin_end": 0.2,
            "count": 0
           },
           {
            "bin_start": 0.2,
            "bin_end": 0.30000000000000004,
            "count": 0
           },
           {
            "bin_start": 0.30000000000000004,
            "bin_end": 0.4,
            "count": 0
           },
           {
            "bin_start": 0.4,
            "bin_end": 0.5,
            "count": 0
           },
           {
            "bin_start": 0.5,
            "bin_end": 0.6000000000000001,
            "count": 0
           },
           {
            "bin_start": 0.6000000000000001,
            "bin_end": 0.7000000000000001,
            "count": 0
           },
           {
            "bin_start": 0.7000000000000001,
            "bin_end": 0.8,
            "count": 0
           },
           {
            "bin_start": 0.8,
            "bin_end": 0.9,
            "count": 0
           },
           {
            "bin_start": 0.9,
            "bin_end": 1,
            "count": 1
           }
          ]
         }
        },
        {
         "name": "other_disease",
         "dtype": "float64",
         "stats": {
          "unique_count": 1,
          "nan_count": 0,
          "min": "0.0",
          "max": "0.0",
          "histogram": [
           {
            "bin_start": -0.5,
            "bin_end": -0.4,
            "count": 0
           },
           {
            "bin_start": -0.4,
            "bin_end": -0.3,
            "count": 0
           },
           {
            "bin_start": -0.3,
            "bin_end": -0.19999999999999996,
            "count": 0
           },
           {
            "bin_start": -0.19999999999999996,
            "bin_end": -0.09999999999999998,
            "count": 0
           },
           {
            "bin_start": -0.09999999999999998,
            "bin_end": 0,
            "count": 0
           },
           {
            "bin_start": 0,
            "bin_end": 0.10000000000000009,
            "count": 5
           },
           {
            "bin_start": 0.10000000000000009,
            "bin_end": 0.20000000000000007,
            "count": 0
           },
           {
            "bin_start": 0.20000000000000007,
            "bin_end": 0.30000000000000004,
            "count": 0
           },
           {
            "bin_start": 0.30000000000000004,
            "bin_end": 0.4,
            "count": 0
           },
           {
            "bin_start": 0.4,
            "bin_end": 0.5,
            "count": 0
           }
          ]
         }
        },
        {
         "name": "cardiovascular",
         "dtype": "float64",
         "stats": {
          "unique_count": 2,
          "nan_count": 0,
          "min": "0.0",
          "max": "1.0",
          "histogram": [
           {
            "bin_start": 0,
            "bin_end": 0.1,
            "count": 4
           },
           {
            "bin_start": 0.1,
            "bin_end": 0.2,
            "count": 0
           },
           {
            "bin_start": 0.2,
            "bin_end": 0.30000000000000004,
            "count": 0
           },
           {
            "bin_start": 0.30000000000000004,
            "bin_end": 0.4,
            "count": 0
           },
           {
            "bin_start": 0.4,
            "bin_end": 0.5,
            "count": 0
           },
           {
            "bin_start": 0.5,
            "bin_end": 0.6000000000000001,
            "count": 0
           },
           {
            "bin_start": 0.6000000000000001,
            "bin_end": 0.7000000000000001,
            "count": 0
           },
           {
            "bin_start": 0.7000000000000001,
            "bin_end": 0.8,
            "count": 0
           },
           {
            "bin_start": 0.8,
            "bin_end": 0.9,
            "count": 0
           },
           {
            "bin_start": 0.9,
            "bin_end": 1,
            "count": 1
           }
          ]
         }
        },
        {
         "name": "obesity",
         "dtype": "float64",
         "stats": {
          "unique_count": 2,
          "nan_count": 0,
          "min": "0.0",
          "max": "1.0",
          "histogram": [
           {
            "bin_start": 0,
            "bin_end": 0.1,
            "count": 4
           },
           {
            "bin_start": 0.1,
            "bin_end": 0.2,
            "count": 0
           },
           {
            "bin_start": 0.2,
            "bin_end": 0.30000000000000004,
            "count": 0
           },
           {
            "bin_start": 0.30000000000000004,
            "bin_end": 0.4,
            "count": 0
           },
           {
            "bin_start": 0.4,
            "bin_end": 0.5,
            "count": 0
           },
           {
            "bin_start": 0.5,
            "bin_end": 0.6000000000000001,
            "count": 0
           },
           {
            "bin_start": 0.6000000000000001,
            "bin_end": 0.7000000000000001,
            "count": 0
           },
           {
            "bin_start": 0.7000000000000001,
            "bin_end": 0.8,
            "count": 0
           },
           {
            "bin_start": 0.8,
            "bin_end": 0.9,
            "count": 0
           },
           {
            "bin_start": 0.9,
            "bin_end": 1,
            "count": 1
           }
          ]
         }
        },
        {
         "name": "renal_chronic",
         "dtype": "float64",
         "stats": {
          "unique_count": 1,
          "nan_count": 0,
          "min": "0.0",
          "max": "0.0",
          "histogram": [
           {
            "bin_start": -0.5,
            "bin_end": -0.4,
            "count": 0
           },
           {
            "bin_start": -0.4,
            "bin_end": -0.3,
            "count": 0
           },
           {
            "bin_start": -0.3,
            "bin_end": -0.19999999999999996,
            "count": 0
           },
           {
            "bin_start": -0.19999999999999996,
            "bin_end": -0.09999999999999998,
            "count": 0
           },
           {
            "bin_start": -0.09999999999999998,
            "bin_end": 0,
            "count": 0
           },
           {
            "bin_start": 0,
            "bin_end": 0.10000000000000009,
            "count": 5
           },
           {
            "bin_start": 0.10000000000000009,
            "bin_end": 0.20000000000000007,
            "count": 0
           },
           {
            "bin_start": 0.20000000000000007,
            "bin_end": 0.30000000000000004,
            "count": 0
           },
           {
            "bin_start": 0.30000000000000004,
            "bin_end": 0.4,
            "count": 0
           },
           {
            "bin_start": 0.4,
            "bin_end": 0.5,
            "count": 0
           }
          ]
         }
        },
        {
         "name": "tobacco",
         "dtype": "float64",
         "stats": {
          "unique_count": 1,
          "nan_count": 0,
          "min": "0.0",
          "max": "0.0",
          "histogram": [
           {
            "bin_start": -0.5,
            "bin_end": -0.4,
            "count": 0
           },
           {
            "bin_start": -0.4,
            "bin_end": -0.3,
            "count": 0
           },
           {
            "bin_start": -0.3,
            "bin_end": -0.19999999999999996,
            "count": 0
           },
           {
            "bin_start": -0.19999999999999996,
            "bin_end": -0.09999999999999998,
            "count": 0
           },
           {
            "bin_start": -0.09999999999999998,
            "bin_end": 0,
            "count": 0
           },
           {
            "bin_start": 0,
            "bin_end": 0.10000000000000009,
            "count": 5
           },
           {
            "bin_start": 0.10000000000000009,
            "bin_end": 0.20000000000000007,
            "count": 0
           },
           {
            "bin_start": 0.20000000000000007,
            "bin_end": 0.30000000000000004,
            "count": 0
           },
           {
            "bin_start": 0.30000000000000004,
            "bin_end": 0.4,
            "count": 0
           },
           {
            "bin_start": 0.4,
            "bin_end": 0.5,
            "count": 0
           }
          ]
         }
        },
        {
         "name": "contact_other_covid",
         "dtype": "float64",
         "stats": {
          "unique_count": 2,
          "nan_count": 0,
          "min": "0.0",
          "max": "2.0",
          "histogram": [
           {
            "bin_start": 0,
            "bin_end": 0.2,
            "count": 1
           },
           {
            "bin_start": 0.2,
            "bin_end": 0.4,
            "count": 0
           },
           {
            "bin_start": 0.4,
            "bin_end": 0.6000000000000001,
            "count": 0
           },
           {
            "bin_start": 0.6000000000000001,
            "bin_end": 0.8,
            "count": 0
           },
           {
            "bin_start": 0.8,
            "bin_end": 1,
            "count": 0
           },
           {
            "bin_start": 1,
            "bin_end": 1.2000000000000002,
            "count": 0
           },
           {
            "bin_start": 1.2000000000000002,
            "bin_end": 1.4000000000000001,
            "count": 0
           },
           {
            "bin_start": 1.4000000000000001,
            "bin_end": 1.6,
            "count": 0
           },
           {
            "bin_start": 1.6,
            "bin_end": 1.8,
            "count": 0
           },
           {
            "bin_start": 1.8,
            "bin_end": 2,
            "count": 4
           }
          ]
         }
        },
        {
         "name": "covid_res",
         "dtype": "float64",
         "stats": {
          "unique_count": 1,
          "nan_count": 0,
          "min": "1.0",
          "max": "1.0",
          "histogram": [
           {
            "bin_start": 0.5,
            "bin_end": 0.6,
            "count": 0
           },
           {
            "bin_start": 0.6,
            "bin_end": 0.7,
            "count": 0
           },
           {
            "bin_start": 0.7,
            "bin_end": 0.8,
            "count": 0
           },
           {
            "bin_start": 0.8,
            "bin_end": 0.9,
            "count": 0
           },
           {
            "bin_start": 0.9,
            "bin_end": 1,
            "count": 0
           },
           {
            "bin_start": 1,
            "bin_end": 1.1,
            "count": 5
           },
           {
            "bin_start": 1.1,
            "bin_end": 1.2000000000000002,
            "count": 0
           },
           {
            "bin_start": 1.2000000000000002,
            "bin_end": 1.3,
            "count": 0
           },
           {
            "bin_start": 1.3,
            "bin_end": 1.4,
            "count": 0
           },
           {
            "bin_start": 1.4,
            "bin_end": 1.5,
            "count": 0
           }
          ]
         }
        },
        {
         "name": "icu",
         "dtype": "float64",
         "stats": {
          "unique_count": 1,
          "nan_count": 0,
          "min": "0.0",
          "max": "0.0",
          "histogram": [
           {
            "bin_start": -0.5,
            "bin_end": -0.4,
            "count": 0
           },
           {
            "bin_start": -0.4,
            "bin_end": -0.3,
            "count": 0
           },
           {
            "bin_start": -0.3,
            "bin_end": -0.19999999999999996,
            "count": 0
           },
           {
            "bin_start": -0.19999999999999996,
            "bin_end": -0.09999999999999998,
            "count": 0
           },
           {
            "bin_start": -0.09999999999999998,
            "bin_end": 0,
            "count": 0
           },
           {
            "bin_start": 0,
            "bin_end": 0.10000000000000009,
            "count": 5
           },
           {
            "bin_start": 0.10000000000000009,
            "bin_end": 0.20000000000000007,
            "count": 0
           },
           {
            "bin_start": 0.20000000000000007,
            "bin_end": 0.30000000000000004,
            "count": 0
           },
           {
            "bin_start": 0.30000000000000004,
            "bin_end": 0.4,
            "count": 0
           },
           {
            "bin_start": 0.4,
            "bin_end": 0.5,
            "count": 0
           }
          ]
         }
        },
        {
         "name": "died",
         "dtype": "int64",
         "stats": {
          "unique_count": 2,
          "nan_count": 0,
          "min": "0",
          "max": "1",
          "histogram": [
           {
            "bin_start": 0,
            "bin_end": 0.1,
            "count": 4
           },
           {
            "bin_start": 0.1,
            "bin_end": 0.2,
            "count": 0
           },
           {
            "bin_start": 0.2,
            "bin_end": 0.30000000000000004,
            "count": 0
           },
           {
            "bin_start": 0.30000000000000004,
            "bin_end": 0.4,
            "count": 0
           },
           {
            "bin_start": 0.4,
            "bin_end": 0.5,
            "count": 0
           },
           {
            "bin_start": 0.5,
            "bin_end": 0.6000000000000001,
            "count": 0
           },
           {
            "bin_start": 0.6000000000000001,
            "bin_end": 0.7000000000000001,
            "count": 0
           },
           {
            "bin_start": 0.7000000000000001,
            "bin_end": 0.8,
            "count": 0
           },
           {
            "bin_start": 0.8,
            "bin_end": 0.9,
            "count": 0
           },
           {
            "bin_start": 0.9,
            "bin_end": 1,
            "count": 1
           }
          ]
         }
        },
        {
         "name": "entry_symptoms_time",
         "dtype": "int64",
         "stats": {
          "unique_count": 4,
          "nan_count": 0,
          "min": "0",
          "max": "7",
          "histogram": [
           {
            "bin_start": 0,
            "bin_end": 0.7,
            "count": 1
           },
           {
            "bin_start": 0.7,
            "bin_end": 1.4,
            "count": 0
           },
           {
            "bin_start": 1.4,
            "bin_end": 2.0999999999999996,
            "count": 2
           },
           {
            "bin_start": 2.0999999999999996,
            "bin_end": 2.8,
            "count": 0
           },
           {
            "bin_start": 2.8,
            "bin_end": 3.5,
            "count": 0
           },
           {
            "bin_start": 3.5,
            "bin_end": 4.199999999999999,
            "count": 0
           },
           {
            "bin_start": 4.199999999999999,
            "bin_end": 4.8999999999999995,
            "count": 0
           },
           {
            "bin_start": 4.8999999999999995,
            "bin_end": 5.6,
            "count": 1
           },
           {
            "bin_start": 5.6,
            "bin_end": 6.3,
            "count": 0
           },
           {
            "bin_start": 6.3,
            "bin_end": 7,
            "count": 1
           }
          ]
         }
        },
        {
         "name": "has_disease",
         "dtype": "int64",
         "stats": {
          "unique_count": 2,
          "nan_count": 0,
          "min": "0",
          "max": "1",
          "histogram": [
           {
            "bin_start": 0,
            "bin_end": 0.1,
            "count": 2
           },
           {
            "bin_start": 0.1,
            "bin_end": 0.2,
            "count": 0
           },
           {
            "bin_start": 0.2,
            "bin_end": 0.30000000000000004,
            "count": 0
           },
           {
            "bin_start": 0.30000000000000004,
            "bin_end": 0.4,
            "count": 0
           },
           {
            "bin_start": 0.4,
            "bin_end": 0.5,
            "count": 0
           },
           {
            "bin_start": 0.5,
            "bin_end": 0.6000000000000001,
            "count": 0
           },
           {
            "bin_start": 0.6000000000000001,
            "bin_end": 0.7000000000000001,
            "count": 0
           },
           {
            "bin_start": 0.7000000000000001,
            "bin_end": 0.8,
            "count": 0
           },
           {
            "bin_start": 0.8,
            "bin_end": 0.9,
            "count": 0
           },
           {
            "bin_start": 0.9,
            "bin_end": 1,
            "count": 3
           }
          ]
         }
        },
        {
         "name": "_deepnote_index_column",
         "dtype": "int64"
        }
       ],
       "rows": [
        {
         "id": "16169f",
         "sex": 2,
         "patient_type": 1,
         "entry_date": "2020-05-04T00:00:00.000000",
         "date_symptoms": "2020-05-02T00:00:00.000000",
         "date_died": "NaT",
         "intubed": 0,
         "pneumonia": 0,
         "age": 27,
         "pregnancy": 0,
         "diabetes": 0,
         "copd": 0,
         "asthma": 0,
         "inmsupr": 0,
         "hypertension": 0,
         "other_disease": 0,
         "cardiovascular": 0,
         "obesity": 0,
         "renal_chronic": 0,
         "tobacco": 0,
         "contact_other_covid": 0,
         "covid_res": 1,
         "icu": 0,
         "died": 0,
         "entry_symptoms_time": 2,
         "has_disease": 1,
         "_deepnote_index_column": 0
        },
        {
         "id": "1009bf",
         "sex": 2,
         "patient_type": 1,
         "entry_date": "2020-03-19T00:00:00.000000",
         "date_symptoms": "2020-03-17T00:00:00.000000",
         "date_died": "NaT",
         "intubed": 0,
         "pneumonia": 0,
         "age": 24,
         "pregnancy": 0,
         "diabetes": 0,
         "copd": 0,
         "asthma": 0,
         "inmsupr": 0,
         "hypertension": 0,
         "other_disease": 0,
         "cardiovascular": 0,
         "obesity": 0,
         "renal_chronic": 0,
         "tobacco": 0,
         "contact_other_covid": 2,
         "covid_res": 1,
         "icu": 0,
         "died": 0,
         "entry_symptoms_time": 2,
         "has_disease": 1,
         "_deepnote_index_column": 1
        },
        {
         "id": "167386",
         "sex": 1,
         "patient_type": 2,
         "entry_date": "2020-04-06T00:00:00.000000",
         "date_symptoms": "2020-04-01T00:00:00.000000",
         "date_died": "NaT",
         "intubed": 0,
         "pneumonia": 0,
         "age": 54,
         "pregnancy": 0,
         "diabetes": 0,
         "copd": 0,
         "asthma": 0,
         "inmsupr": 0,
         "hypertension": 0,
         "other_disease": 0,
         "cardiovascular": 0,
         "obesity": 1,
         "renal_chronic": 0,
         "tobacco": 0,
         "contact_other_covid": 2,
         "covid_res": 1,
         "icu": 0,
         "died": 0,
         "entry_symptoms_time": 5,
         "has_disease": 0,
         "_deepnote_index_column": 2
        },
        {
         "id": "0b5948",
         "sex": 2,
         "patient_type": 2,
         "entry_date": "2020-04-17T00:00:00.000000",
         "date_symptoms": "2020-04-10T00:00:00.000000",
         "date_died": "NaT",
         "intubed": 0,
         "pneumonia": 1,
         "age": 30,
         "pregnancy": 0,
         "diabetes": 0,
         "copd": 0,
         "asthma": 0,
         "inmsupr": 0,
         "hypertension": 0,
         "other_disease": 0,
         "cardiovascular": 0,
         "obesity": 0,
         "renal_chronic": 0,
         "tobacco": 0,
         "contact_other_covid": 2,
         "covid_res": 1,
         "icu": 0,
         "died": 0,
         "entry_symptoms_time": 7,
         "has_disease": 1,
         "_deepnote_index_column": 3
        },
        {
         "id": "0d01b5",
         "sex": 1,
         "patient_type": 2,
         "entry_date": "2020-04-13T00:00:00.000000",
         "date_symptoms": "2020-04-13T00:00:00.000000",
         "date_died": "2020-04-22 00:00:00",
         "intubed": 0,
         "pneumonia": 0,
         "age": 60,
         "pregnancy": 0,
         "diabetes": 1,
         "copd": 0,
         "asthma": 0,
         "inmsupr": 0,
         "hypertension": 1,
         "other_disease": 0,
         "cardiovascular": 1,
         "obesity": 0,
         "renal_chronic": 0,
         "tobacco": 0,
         "contact_other_covid": 2,
         "covid_res": 1,
         "icu": 0,
         "died": 1,
         "entry_symptoms_time": 0,
         "has_disease": 0,
         "_deepnote_index_column": 4
        }
       ]
      },
      "text/plain": "       id  sex  patient_type entry_date date_symptoms  date_died  intubed  \\\n0  16169f    2           1.0 2020-05-04    2020-05-02        NaT      0.0   \n1  1009bf    2           1.0 2020-03-19    2020-03-17        NaT      0.0   \n2  167386    1           2.0 2020-04-06    2020-04-01        NaT      0.0   \n3  0b5948    2           2.0 2020-04-17    2020-04-10        NaT      0.0   \n4  0d01b5    1           2.0 2020-04-13    2020-04-13 2020-04-22      0.0   \n\n   pneumonia  age  pregnancy  diabetes  copd  asthma  inmsupr  hypertension  \\\n0        0.0   27        0.0       0.0   0.0     0.0      0.0           0.0   \n1        0.0   24        0.0       0.0   0.0     0.0      0.0           0.0   \n2        0.0   54        0.0       0.0   0.0     0.0      0.0           0.0   \n3        1.0   30        0.0       0.0   0.0     0.0      0.0           0.0   \n4        0.0   60        0.0       1.0   0.0     0.0      0.0           1.0   \n\n   other_disease  cardiovascular  obesity  renal_chronic  tobacco  \\\n0            0.0             0.0      0.0            0.0      0.0   \n1            0.0             0.0      0.0            0.0      0.0   \n2            0.0             0.0      1.0            0.0      0.0   \n3            0.0             0.0      0.0            0.0      0.0   \n4            0.0             1.0      0.0            0.0      0.0   \n\n   contact_other_covid  covid_res  icu  died  entry_symptoms_time  has_disease  \n0                  0.0        1.0  0.0     0                    2            1  \n1                  2.0        1.0  0.0     0                    2            1  \n2                  2.0        1.0  0.0     0                    5            0  \n3                  2.0        1.0  0.0     0                    7            1  \n4                  2.0        1.0  0.0     1                    0            0  ",
      "text/html": "<div>\n<style scoped>\n    .dataframe tbody tr th:only-of-type {\n        vertical-align: middle;\n    }\n\n    .dataframe tbody tr th {\n        vertical-align: top;\n    }\n\n    .dataframe thead th {\n        text-align: right;\n    }\n</style>\n<table border=\"1\" class=\"dataframe\">\n  <thead>\n    <tr style=\"text-align: right;\">\n      <th></th>\n      <th>id</th>\n      <th>sex</th>\n      <th>patient_type</th>\n      <th>entry_date</th>\n      <th>date_symptoms</th>\n      <th>date_died</th>\n      <th>intubed</th>\n      <th>pneumonia</th>\n      <th>age</th>\n      <th>pregnancy</th>\n      <th>diabetes</th>\n      <th>copd</th>\n      <th>asthma</th>\n      <th>inmsupr</th>\n      <th>hypertension</th>\n      <th>other_disease</th>\n      <th>cardiovascular</th>\n      <th>obesity</th>\n      <th>renal_chronic</th>\n      <th>tobacco</th>\n      <th>contact_other_covid</th>\n      <th>covid_res</th>\n      <th>icu</th>\n      <th>died</th>\n      <th>entry_symptoms_time</th>\n      <th>has_disease</th>\n    </tr>\n  </thead>\n  <tbody>\n    <tr>\n      <th>0</th>\n      <td>16169f</td>\n      <td>2</td>\n      <td>1.0</td>\n      <td>2020-05-04</td>\n      <td>2020-05-02</td>\n      <td>NaT</td>\n      <td>0.0</td>\n      <td>0.0</td>\n      <td>27</td>\n      <td>0.0</td>\n      <td>0.0</td>\n      <td>0.0</td>\n      <td>0.0</td>\n      <td>0.0</td>\n      <td>0.0</td>\n      <td>0.0</td>\n      <td>0.0</td>\n      <td>0.0</td>\n      <td>0.0</td>\n      <td>0.0</td>\n      <td>0.0</td>\n      <td>1.0</td>\n      <td>0.0</td>\n      <td>0</td>\n      <td>2</td>\n      <td>1</td>\n    </tr>\n    <tr>\n      <th>1</th>\n      <td>1009bf</td>\n      <td>2</td>\n      <td>1.0</td>\n      <td>2020-03-19</td>\n      <td>2020-03-17</td>\n      <td>NaT</td>\n      <td>0.0</td>\n      <td>0.0</td>\n      <td>24</td>\n      <td>0.0</td>\n      <td>0.0</td>\n      <td>0.0</td>\n      <td>0.0</td>\n      <td>0.0</td>\n      <td>0.0</td>\n      <td>0.0</td>\n      <td>0.0</td>\n      <td>0.0</td>\n      <td>0.0</td>\n      <td>0.0</td>\n      <td>2.0</td>\n      <td>1.0</td>\n      <td>0.0</td>\n      <td>0</td>\n      <td>2</td>\n      <td>1</td>\n    </tr>\n    <tr>\n      <th>2</th>\n      <td>167386</td>\n      <td>1</td>\n      <td>2.0</td>\n      <td>2020-04-06</td>\n      <td>2020-04-01</td>\n      <td>NaT</td>\n      <td>0.0</td>\n      <td>0.0</td>\n      <td>54</td>\n      <td>0.0</td>\n      <td>0.0</td>\n      <td>0.0</td>\n      <td>0.0</td>\n      <td>0.0</td>\n      <td>0.0</td>\n      <td>0.0</td>\n      <td>0.0</td>\n      <td>1.0</td>\n      <td>0.0</td>\n      <td>0.0</td>\n      <td>2.0</td>\n      <td>1.0</td>\n      <td>0.0</td>\n      <td>0</td>\n      <td>5</td>\n      <td>0</td>\n    </tr>\n    <tr>\n      <th>3</th>\n      <td>0b5948</td>\n      <td>2</td>\n      <td>2.0</td>\n      <td>2020-04-17</td>\n      <td>2020-04-10</td>\n      <td>NaT</td>\n      <td>0.0</td>\n      <td>1.0</td>\n      <td>30</td>\n      <td>0.0</td>\n      <td>0.0</td>\n      <td>0.0</td>\n      <td>0.0</td>\n      <td>0.0</td>\n      <td>0.0</td>\n      <td>0.0</td>\n      <td>0.0</td>\n      <td>0.0</td>\n      <td>0.0</td>\n      <td>0.0</td>\n      <td>2.0</td>\n      <td>1.0</td>\n      <td>0.0</td>\n      <td>0</td>\n      <td>7</td>\n      <td>1</td>\n    </tr>\n    <tr>\n      <th>4</th>\n      <td>0d01b5</td>\n      <td>1</td>\n      <td>2.0</td>\n      <td>2020-04-13</td>\n      <td>2020-04-13</td>\n      <td>2020-04-22</td>\n      <td>0.0</td>\n      <td>0.0</td>\n      <td>60</td>\n      <td>0.0</td>\n      <td>1.0</td>\n      <td>0.0</td>\n      <td>0.0</td>\n      <td>0.0</td>\n      <td>1.0</td>\n      <td>0.0</td>\n      <td>1.0</td>\n      <td>0.0</td>\n      <td>0.0</td>\n      <td>0.0</td>\n      <td>2.0</td>\n      <td>1.0</td>\n      <td>0.0</td>\n      <td>1</td>\n      <td>0</td>\n      <td>0</td>\n    </tr>\n  </tbody>\n</table>\n</div>"
     },
     "metadata": {}
    }
   ],
   "execution_count": null
  },
  {
   "cell_type": "code",
   "source": "sns.boxplot(data=df, x='entry_symptoms_time')",
   "metadata": {
    "cell_id": "e315dafa-2092-4e12-995b-cfb2779ee3c5",
    "tags": [],
    "deepnote_to_be_reexecuted": false,
    "source_hash": "1a34b631",
    "execution_start": 1646602871366,
    "execution_millis": 235,
    "deepnote_cell_type": "code"
   },
   "outputs": [
    {
     "output_type": "execute_result",
     "execution_count": 35,
     "data": {
      "text/plain": "<AxesSubplot:xlabel='entry_symptoms_time'>"
     },
     "metadata": {}
    },
    {
     "data": {
      "text/plain": "<Figure size 432x288 with 1 Axes>",
      "image/png": "[encoded data removed]"
     },
     "metadata": {
      "needs_background": "light",
      "image/png": {
       "width": 352,
       "height": 263
      }
     },
     "output_type": "display_data"
    }
   ],
   "execution_count": 35
  },
  {
   "cell_type": "markdown",
   "source": "Podemos notar que existem grandes outliers para a feature **entry_symptoms_time** que criamos anteriormente ",
   "metadata": {
    "cell_id": "12d1997e-57b7-4573-b179-c1c3f6097352",
    "tags": [],
    "deepnote_cell_type": "markdown"
   }
  },
  {
   "cell_type": "markdown",
   "source": "# Modelagem\nPara avaliar desempenho de nosso modelo nos vamos utilizar a metrica de **ROC AUC** e  **recall**. A métrica ROC AUC foi escolhida para podermos comparar os difrentes modelos desenvolvidos. Já a métrica de recall foiescolhida  porque no caso de doencas infecciosas queremos minimizar os falsos negativos, ja que caso alguem infectado receba um teste negativo ela continuara espalhando a doenca. Pode-se argumentar que os falsos positivos causariam gastos com tratamento e prevencao da doenca, mas no caso do COVID esses gastos sao relativamente baixos, uma vez que um paciente que testou positivo pode ser encaminhado para quarentena em casa.",
   "metadata": {
    "cell_id": "00055-7a2a5dc6-5f29-4716-8a53-aa43573370d2",
    "deepnote_cell_type": "markdown"
   }
  },
  {
   "cell_type": "code",
   "metadata": {
    "cell_id": "00056-78d749a2-2dbc-4f63-996a-63d88db257d4",
    "deepnote_to_be_reexecuted": false,
    "source_hash": "6b483154",
    "execution_start": 1646598717422,
    "execution_millis": 104,
    "deepnote_cell_type": "code"
   },
   "source": "from sklearn.metrics import classification_report\nfrom sklearn.metrics import roc_auc_score\nfrom sklearn.model_selection import train_test_split\n\n\nfrom sklearn.feature_selection import SelectKBest\nfrom sklearn.feature_selection import chi2\n\nfrom sklearn.preprocessing import StandardScaler\nfrom sklearn.preprocessing import OneHotEncoder\nfrom sklearn.preprocessing import OrdinalEncoder\n\nfrom sklearn.pipeline import Pipeline\nfrom sklearn.compose import ColumnTransformer\n\nfrom sklearn.neighbors import KNeighborsClassifier\nfrom sklearn.ensemble import RandomForestClassifier\n",
   "outputs": [],
   "execution_count": null
  },
  {
   "cell_type": "markdown",
   "source": "## Remoção de dados indisponíveis\n\nÉ importante notar que alguns dados no dataset não estarão presentes no momento da análise. Exemplos disso são as colunas icu e intubed, que são dependem de um diagnóstico positivo de COVID-19. Assim, não teríamos esses dados no ambiente de produção. Logo, essas colunas serão removidas para realizar o treinamento dos modelos.",
   "metadata": {
    "cell_id": "28aa0b9a-9b1d-42f1-9370-886e508ecb4c",
    "tags": [],
    "deepnote_cell_type": "markdown"
   }
  },
  {
   "cell_type": "code",
   "metadata": {
    "cell_id": "00057-600e7c47-19e4-4809-852d-c7a70f8f7e19",
    "deepnote_to_be_reexecuted": false,
    "source_hash": "f1bb3ff8",
    "execution_start": 1646598720024,
    "execution_millis": 635,
    "deepnote_cell_type": "code"
   },
   "source": "# Drop de colunas que nao serao usadas ou que nao estarao disponiveis\nX = df.drop(columns=['covid_res', 'id', 'entry_date', 'date_symptoms', 'date_died', 'intubed', 'icu']) \ny = df['covid_res']\nX_train, X_test, y_train, y_test = train_test_split(X, y, train_size=0.7, stratify=y, random_state=42)",
   "outputs": [],
   "execution_count": null
  },
  {
   "cell_type": "code",
   "source": "X.info()",
   "metadata": {
    "cell_id": "0f5dfb04-3769-479f-8620-0755ebf1972d",
    "tags": [],
    "deepnote_to_be_reexecuted": false,
    "source_hash": "e52f4e4c",
    "execution_start": 1646598966111,
    "execution_millis": 47,
    "deepnote_cell_type": "code"
   },
   "outputs": [
    {
     "name": "stdout",
     "text": "<class 'pandas.core.frame.DataFrame'>\nInt64Index: 499692 entries, 0 to 499691\nData columns (total 19 columns):\n #   Column               Non-Null Count   Dtype  \n---  ------               --------------   -----  \n 0   sex                  499692 non-null  int64  \n 1   patient_type         499692 non-null  float64\n 2   pneumonia            499692 non-null  float64\n 3   age                  499692 non-null  int64  \n 4   pregnancy            499692 non-null  float64\n 5   diabetes             499692 non-null  float64\n 6   copd                 499692 non-null  float64\n 7   asthma               499692 non-null  float64\n 8   inmsupr              499692 non-null  float64\n 9   hypertension         499692 non-null  float64\n 10  other_disease        499692 non-null  float64\n 11  cardiovascular       499692 non-null  float64\n 12  obesity              499692 non-null  float64\n 13  renal_chronic        499692 non-null  float64\n 14  tobacco              499692 non-null  float64\n 15  contact_other_covid  499692 non-null  float64\n 16  died                 499692 non-null  int64  \n 17  entry_symptoms_time  499692 non-null  int64  \n 18  has_disease          499692 non-null  int64  \ndtypes: float64(14), int64(5)\nmemory usage: 92.4 MB\n",
     "output_type": "stream"
    }
   ],
   "execution_count": null
  },
  {
   "cell_type": "markdown",
   "source": "## Baseline Geral\nUm baseline geral para todos modelos seria caso o paciente tenha qualquer outra doenca testar ele como positivo",
   "metadata": {
    "cell_id": "00058-492facc9-67c7-4114-b5d3-2e8bca336450",
    "deepnote_cell_type": "markdown"
   }
  },
  {
   "cell_type": "code",
   "metadata": {
    "cell_id": "00059-efca1ead-7613-4b05-b5e1-6a69140a76f8",
    "deepnote_to_be_reexecuted": true,
    "source_hash": "368cb3ce",
    "execution_start": 1646596678620,
    "execution_millis": 517,
    "deepnote_cell_type": "code"
   },
   "source": "y_pred = np.where(X_test['has_disease'] == 1, 1, 0)\nprint(classification_report(y_test, y_pred))\nroc_auc_score(y_test, y_pred)",
   "outputs": [
    {
     "name": "stdout",
     "text": "              precision    recall  f1-score   support\n\n         0.0       0.49      0.33      0.39     83711\n         1.0       0.40      0.56      0.47     66197\n\n    accuracy                           0.43    149908\n   macro avg       0.44      0.45      0.43    149908\nweighted avg       0.45      0.43      0.43    149908\n\n",
     "output_type": "stream"
    },
    {
     "output_type": "execute_result",
     "execution_count": 34,
     "data": {
      "text/plain": "0.44728335406485653"
     },
     "metadata": {}
    }
   ],
   "execution_count": null
  },
  {
   "cell_type": "code",
   "metadata": {
    "cell_id": "00060-49d82447-7a7b-4c68-991d-4f7d5e340991",
    "deepnote_to_be_reexecuted": true,
    "source_hash": "177cb54f",
    "execution_start": 1646596679089,
    "execution_millis": 154,
    "deepnote_cell_type": "code"
   },
   "source": "fs = SelectKBest(score_func=chi2, k='all')\nfs.fit(X_train, y_train)",
   "outputs": [
    {
     "output_type": "execute_result",
     "execution_count": 35,
     "data": {
      "text/plain": "SelectKBest(k='all', score_func=<function chi2 at 0x7f9b9c163440>)"
     },
     "metadata": {}
    }
   ],
   "execution_count": null
  },
  {
   "cell_type": "code",
   "metadata": {
    "cell_id": "00061-eca032f4-d596-49a1-b309-8e00473c86fa",
    "deepnote_to_be_reexecuted": true,
    "source_hash": "bc8121cd",
    "execution_start": 1646596679243,
    "execution_millis": 19,
    "deepnote_cell_type": "code"
   },
   "source": "for i, val in sorted([(i, val) for i, val in enumerate(fs.scores_)], key=lambda x: x[1]):\n\tprint('Feature %s %d: %f' % (X_train.columns[i], i, fs.scores_[i]))",
   "outputs": [
    {
     "name": "stdout",
     "text": "Feature sex 0: 307.761745\nFeature contact_other_covid 16: 1027.150161\nFeature icu 17: 1096.738609\nFeature has_disease 20: 1533.911564\nFeature pregnancy 5: 1641.554150\nFeature patient_type 1: 2006.381246\nFeature intubed 2: 2034.526180\nFeature tobacco 15: 3635.856615\nFeature asthma 8: 4116.736960\nFeature inmsupr 9: 4203.012774\nFeature copd 7: 4214.147445\nFeature other_disease 11: 4349.099056\nFeature renal_chronic 14: 4596.717986\nFeature cardiovascular 12: 5504.306295\nFeature hypertension 10: 7525.075801\nFeature diabetes 6: 7700.820108\nFeature obesity 13: 7948.218637\nFeature pneumonia 3: 12028.082276\nFeature died 18: 12202.924182\nFeature entry_symptoms_time 19: 23583.811034\nFeature age 4: 63531.076138\n",
     "output_type": "stream"
    }
   ],
   "execution_count": null
  },
  {
   "cell_type": "markdown",
   "source": "## KNN\nbest performance -> ROC 0.589",
   "metadata": {
    "cell_id": "00062-449cf823-84f1-487d-a2c4-3589b9f1b6a9",
    "deepnote_cell_type": "markdown"
   }
  },
  {
   "cell_type": "markdown",
   "source": "### Modelo 1",
   "metadata": {
    "cell_id": "00063-c18bf7df-73bd-42a5-ab9b-cc40f73781f4",
    "deepnote_cell_type": "markdown"
   }
  },
  {
   "cell_type": "code",
   "metadata": {
    "cell_id": "00064-0be7b2d7-4e39-4e94-a08f-871c42bf7ecc",
    "deepnote_to_be_reexecuted": true,
    "source_hash": "9073fbfd",
    "execution_start": 1646596679265,
    "execution_millis": 7,
    "deepnote_cell_type": "code"
   },
   "source": "# Criando uma pipe generalizada para depois testar diferentes features\nmodelo = KNeighborsClassifier()\n\n# Selecao das colunas\nnumeric_features = ['age', 'entry_symptoms_time']\ncategorical_features = ['sex', 'patient_type', 'pregnancy', 'intubed', 'contact_other_covid', 'icu', 'died', 'has_disease']\n\n# Criacao do tratamento de cada tipo de col\ncategorical_pipe = Pipeline([\n    ('onehot', OneHotEncoder(drop='if_binary'))\n])\n\nnumeric_pipe = Pipeline([\n    ('normalize', StandardScaler())\n])\n\ncolumn_processing = ColumnTransformer([\n    ('num', numeric_pipe, numeric_features),\n    ('cat', categorical_pipe, categorical_features)\n])\n\n# Motando a pipe em si\nknn_pipe = Pipeline([\n    ('preprocessing', column_processing),\n    ('model', modelo)\n])",
   "outputs": [],
   "execution_count": null
  },
  {
   "cell_type": "code",
   "metadata": {
    "cell_id": "00065-459c50cf-2e70-4d42-ad19-9902b306103b",
    "deepnote_to_be_reexecuted": true,
    "source_hash": "eecd63cd",
    "execution_start": 1646596679285,
    "execution_millis": 2302,
    "deepnote_cell_type": "code"
   },
   "source": "knn_pipe.fit(X_train, y_train)",
   "outputs": [
    {
     "output_type": "execute_result",
     "execution_count": 38,
     "data": {
      "text/plain": "Pipeline(steps=[('preprocessing',\n                 ColumnTransformer(transformers=[('num',\n                                                  Pipeline(steps=[('normalize',\n                                                                   StandardScaler())]),\n                                                  ['age',\n                                                   'entry_symptoms_time']),\n                                                 ('cat',\n                                                  Pipeline(steps=[('onehot',\n                                                                   OneHotEncoder(drop='if_binary'))]),\n                                                  ['sex', 'patient_type',\n                                                   'pregnancy', 'intubed',\n                                                   'contact_other_covid', 'icu',\n                                                   'died', 'has_disease'])])),\n                ('model', KNeighborsClassifier())])"
     },
     "metadata": {}
    }
   ],
   "execution_count": null
  },
  {
   "cell_type": "code",
   "metadata": {
    "cell_id": "00066-6e698167-e3fe-45ae-96c0-79f87e4291b6",
    "deepnote_to_be_reexecuted": true,
    "source_hash": "f82e1132",
    "execution_start": 1646596681450,
    "execution_millis": 53274,
    "deepnote_cell_type": "code"
   },
   "source": "y_pred = knn_pipe.predict(X_test)\nprint(classification_report(y_test, y_pred))\nroc_auc_score(y_test, y_pred)",
   "outputs": [
    {
     "name": "stdout",
     "text": "              precision    recall  f1-score   support\n\n         0.0       0.63      0.68      0.65     83711\n         1.0       0.55      0.50      0.53     66197\n\n    accuracy                           0.60    149908\n   macro avg       0.59      0.59      0.59    149908\nweighted avg       0.60      0.60      0.60    149908\n\n",
     "output_type": "stream"
    },
    {
     "output_type": "execute_result",
     "execution_count": 39,
     "data": {
      "text/plain": "0.5896841031799567"
     },
     "metadata": {}
    }
   ],
   "execution_count": null
  },
  {
   "cell_type": "markdown",
   "source": "### Modelo 2",
   "metadata": {
    "cell_id": "00067-23748b0f-dc95-4e26-a2c4-cf9c36579d0e",
    "deepnote_cell_type": "markdown"
   }
  },
  {
   "cell_type": "code",
   "metadata": {
    "cell_id": "00068-215fde7c-112f-4adf-979d-3ddaecd7826a",
    "deepnote_to_be_reexecuted": true,
    "source_hash": "eafccf2a",
    "execution_start": 1646596734732,
    "execution_millis": 4692177,
    "deepnote_cell_type": "code"
   },
   "source": "categorical_features = ['hypertension', 'diabetes', 'obesity', 'pneumonia', 'died']",
   "outputs": [],
   "execution_count": null
  },
  {
   "cell_type": "code",
   "metadata": {
    "cell_id": "00069-6992300c-704a-4808-8bb3-22f85521ad56",
    "deepnote_to_be_reexecuted": true,
    "source_hash": "efe2549b",
    "execution_start": 1646596734745,
    "execution_millis": 8,
    "deepnote_cell_type": "code"
   },
   "source": "column_processing.set_params(transformers=[\n    ('num', numeric_pipe, numeric_features),\n    ('cat', categorical_pipe, categorical_features)\n])",
   "outputs": [
    {
     "output_type": "execute_result",
     "execution_count": 41,
     "data": {
      "text/plain": "ColumnTransformer(transformers=[('num',\n                                 Pipeline(steps=[('normalize',\n                                                  StandardScaler())]),\n                                 ['age', 'entry_symptoms_time']),\n                                ('cat',\n                                 Pipeline(steps=[('onehot',\n                                                  OneHotEncoder(drop='if_binary'))]),\n                                 ['hypertension', 'diabetes', 'obesity',\n                                  'pneumonia', 'died'])])"
     },
     "metadata": {}
    }
   ],
   "execution_count": null
  },
  {
   "cell_type": "code",
   "metadata": {
    "cell_id": "00070-f9b1d93c-00e4-44d3-b325-cc20bbead3d6",
    "deepnote_to_be_reexecuted": true,
    "source_hash": "f22e979",
    "execution_start": 1646596734765,
    "execution_millis": 100587,
    "deepnote_cell_type": "code"
   },
   "source": "knn_pipe.fit(X_train, y_train)\ny_pred = knn_pipe.predict(X_test)\nprint(classification_report(y_test, y_pred))\nroc_auc_score(y_test, y_pred)",
   "outputs": [
    {
     "name": "stdout",
     "text": "              precision    recall  f1-score   support\n\n         0.0       0.62      0.67      0.65     83711\n         1.0       0.54      0.48      0.51     66197\n\n    accuracy                           0.59    149908\n   macro avg       0.58      0.58      0.58    149908\nweighted avg       0.58      0.59      0.58    149908\n\n",
     "output_type": "stream"
    },
    {
     "output_type": "execute_result",
     "execution_count": 42,
     "data": {
      "text/plain": "0.5764210906487974"
     },
     "metadata": {}
    }
   ],
   "execution_count": null
  },
  {
   "cell_type": "markdown",
   "source": "## Random Forest",
   "metadata": {
    "cell_id": "00071-7d866b8a-1285-4541-a958-2e0591c4b2e3",
    "deepnote_cell_type": "markdown"
   }
  },
  {
   "cell_type": "markdown",
   "source": "### Modelo 1",
   "metadata": {
    "cell_id": "00072-8bbf87ad-88d9-4d5c-8846-8e00b9e96a3f",
    "deepnote_cell_type": "markdown"
   }
  },
  {
   "cell_type": "code",
   "metadata": {
    "cell_id": "00073-14cc4321-9c78-4d69-914e-f1408ca21367",
    "deepnote_to_be_reexecuted": true,
    "source_hash": "b7d2998",
    "execution_start": 1646596835350,
    "execution_millis": 0,
    "deepnote_cell_type": "code"
   },
   "source": "# Criando uma pipe generalizada para depois testar diferentes features\nmodelo = RandomForestClassifier(random_state=42)\n\n# Selecao das colunas\nnumeric_features = ['age', 'entry_symptoms_time']\ncategorical_features = ['sex', 'patient_type', 'pregnancy', 'intubed', 'contact_other_covid', 'icu', 'died', 'has_disease']\n\n# Criacao do tratamento de cada tipo de col\ncategorical_pipe = Pipeline([\n    ('labelenc', OrdinalEncoder())\n])\n\nnumeric_pipe = Pipeline([\n    ('normalize', StandardScaler())\n])\n\ncolumn_processing = ColumnTransformer([\n    ('num', numeric_pipe, numeric_features),\n    ('cat', categorical_pipe, categorical_features)\n])\n\n# Motando a pipe em si\nrf_pipe = Pipeline([\n    ('preprocessing', column_processing),\n    ('model', modelo)\n])",
   "outputs": [],
   "execution_count": null
  },
  {
   "cell_type": "code",
   "metadata": {
    "cell_id": "00074-1cb44c06-d596-4c81-8dec-810e352bdaf8",
    "deepnote_to_be_reexecuted": true,
    "source_hash": "5dc9385a",
    "execution_start": 1646596835351,
    "execution_millis": 43378,
    "deepnote_cell_type": "code"
   },
   "source": "rf_pipe.fit(X_train, y_train)",
   "outputs": [
    {
     "output_type": "execute_result",
     "execution_count": 44,
     "data": {
      "text/plain": "Pipeline(steps=[('preprocessing',\n                 ColumnTransformer(transformers=[('num',\n                                                  Pipeline(steps=[('normalize',\n                                                                   StandardScaler())]),\n                                                  ['age',\n                                                   'entry_symptoms_time']),\n                                                 ('cat',\n                                                  Pipeline(steps=[('labelenc',\n                                                                   OrdinalEncoder())]),\n                                                  ['sex', 'patient_type',\n                                                   'pregnancy', 'intubed',\n                                                   'contact_other_covid', 'icu',\n                                                   'died', 'has_disease'])])),\n                ('model', RandomForestClassifier(random_state=42))])"
     },
     "metadata": {}
    }
   ],
   "execution_count": null
  },
  {
   "cell_type": "code",
   "metadata": {
    "cell_id": "00075-e24d0fb8-7b5c-4ba0-bb3e-db5a436d5860",
    "deepnote_to_be_reexecuted": true,
    "source_hash": "17cbc1bd",
    "execution_start": 1646596878742,
    "execution_millis": 6756,
    "deepnote_cell_type": "code"
   },
   "source": "y_pred = rf_pipe.predict(X_test)\nprint(classification_report(y_test, y_pred))\nroc_auc_score(y_test, y_pred)",
   "outputs": [
    {
     "name": "stdout",
     "text": "              precision    recall  f1-score   support\n\n         0.0       0.63      0.80      0.71     83711\n         1.0       0.62      0.42      0.50     66197\n\n    accuracy                           0.63    149908\n   macro avg       0.63      0.61      0.60    149908\nweighted avg       0.63      0.63      0.62    149908\n\n",
     "output_type": "stream"
    },
    {
     "output_type": "execute_result",
     "execution_count": 45,
     "data": {
      "text/plain": "0.6079224625703489"
     },
     "metadata": {}
    }
   ],
   "execution_count": null
  },
  {
   "cell_type": "markdown",
   "source": "### Modelo 2",
   "metadata": {
    "cell_id": "00076-d1148954-91da-4d9b-b738-cc713e837432",
    "deepnote_cell_type": "markdown"
   }
  },
  {
   "cell_type": "code",
   "metadata": {
    "cell_id": "00077-90675a9e-71a3-4b4d-9a69-afecdb8567e4",
    "deepnote_to_be_reexecuted": true,
    "source_hash": "2175c87",
    "execution_start": 1646596885507,
    "execution_millis": 15,
    "deepnote_cell_type": "code"
   },
   "source": "X_train.columns",
   "outputs": [
    {
     "output_type": "execute_result",
     "execution_count": 46,
     "data": {
      "text/plain": "Index(['sex', 'patient_type', 'intubed', 'pneumonia', 'age', 'pregnancy',\n       'diabetes', 'copd', 'asthma', 'inmsupr', 'hypertension',\n       'other_disease', 'cardiovascular', 'obesity', 'renal_chronic',\n       'tobacco', 'contact_other_covid', 'icu', 'died', 'entry_symptoms_time',\n       'has_disease'],\n      dtype='object')"
     },
     "metadata": {}
    }
   ],
   "execution_count": null
  },
  {
   "cell_type": "code",
   "metadata": {
    "cell_id": "00078-2f25b520-f04e-462f-8d94-84b52f7d71b0",
    "deepnote_to_be_reexecuted": true,
    "source_hash": "ac37229f",
    "execution_start": 1646596885541,
    "execution_millis": 35,
    "deepnote_cell_type": "code"
   },
   "source": "categorical_features = ['sex', 'patient_type', 'intubed', 'pneumonia', 'pregnancy',\n       'diabetes', 'copd', 'asthma', 'inmsupr', 'hypertension',\n       'other_disease', 'cardiovascular', 'obesity', 'renal_chronic',\n       'tobacco', 'contact_other_covid', 'icu', 'died']\ncolumn_processing.set_params(transformers=[\n    ('num', numeric_pipe, numeric_features),\n    ('cat', categorical_pipe, categorical_features)\n])",
   "outputs": [
    {
     "output_type": "execute_result",
     "execution_count": 47,
     "data": {
      "text/plain": "ColumnTransformer(transformers=[('num',\n                                 Pipeline(steps=[('normalize',\n                                                  StandardScaler())]),\n                                 ['age', 'entry_symptoms_time']),\n                                ('cat',\n                                 Pipeline(steps=[('labelenc',\n                                                  OrdinalEncoder())]),\n                                 ['sex', 'patient_type', 'intubed', 'pneumonia',\n                                  'pregnancy', 'diabetes', 'copd', 'asthma',\n                                  'inmsupr', 'hypertension', 'other_disease',\n                                  'cardiovascular', 'obesity', 'renal_chronic',\n                                  'tobacco', 'contact_other_covid', 'icu',\n                                  'died'])])"
     },
     "metadata": {}
    }
   ],
   "execution_count": null
  },
  {
   "cell_type": "code",
   "metadata": {
    "cell_id": "00079-d519fa17-4554-4ff2-92ae-bdadccef9dd1",
    "deepnote_to_be_reexecuted": true,
    "source_hash": "c51138a",
    "execution_start": 1646596885601,
    "execution_millis": 64272,
    "deepnote_cell_type": "code"
   },
   "source": "rf_pipe.fit(X_train, y_train)\ny_pred = rf_pipe.predict(X_test)\nprint(classification_report(y_test, y_pred))\nroc_auc_score(y_test, y_pred)",
   "outputs": [
    {
     "name": "stdout",
     "text": "              precision    recall  f1-score   support\n\n         0.0       0.64      0.77      0.70     83711\n         1.0       0.60      0.44      0.51     66197\n\n    accuracy                           0.62    149908\n   macro avg       0.62      0.61      0.60    149908\nweighted avg       0.62      0.62      0.61    149908\n\n",
     "output_type": "stream"
    },
    {
     "output_type": "execute_result",
     "execution_count": 48,
     "data": {
      "text/plain": "0.6055001305499101"
     },
     "metadata": {}
    }
   ],
   "execution_count": null
  },
  {
   "cell_type": "markdown",
   "source": "## XGboost Classifier",
   "metadata": {
    "cell_id": "f18ce20a-e1ad-45fd-b4b2-2f786b44624d",
    "tags": [],
    "deepnote_cell_type": "markdown"
   }
  },
  {
   "cell_type": "code",
   "metadata": {
    "cell_id": "1d71d66f-ecdd-4224-ae26-1767c2966f03",
    "tags": [],
    "deepnote_to_be_reexecuted": true,
    "source_hash": "923fe0cd",
    "execution_start": 1646596949870,
    "execution_millis": 19915,
    "deepnote_cell_type": "code"
   },
   "source": "# Install a pip package in the current Jupyter kernel\nimport sys\n!{sys.executable} -m pip install xgboost",
   "outputs": [
    {
     "name": "stdout",
     "text": "Collecting xgboost\n  Downloading xgboost-1.5.2-py3-none-manylinux2014_x86_64.whl (173.6 MB)\n\u001b[K     |████████████████████████████████| 173.6 MB 15 kB/s \n\u001b[?25hRequirement already satisfied: numpy in /shared-libs/python3.7/py/lib/python3.7/site-packages (from xgboost) (1.19.5)\nRequirement already satisfied: scipy in /shared-libs/python3.7/py/lib/python3.7/site-packages (from xgboost) (1.7.3)\nInstalling collected packages: xgboost\nSuccessfully installed xgboost-1.5.2\n\u001b[33mWARNING: You are using pip version 20.1.1; however, version 22.0.3 is available.\nYou should consider upgrading via the '/usr/local/bin/python -m pip install --upgrade pip' command.\u001b[0m\n",
     "output_type": "stream"
    }
   ],
   "execution_count": null
  },
  {
   "cell_type": "code",
   "metadata": {
    "cell_id": "d7c88e73-a22a-4d14-b7b8-4849a584edfd",
    "tags": [],
    "deepnote_to_be_reexecuted": true,
    "source_hash": "bce62f1",
    "execution_start": 1646596969796,
    "execution_millis": 756,
    "deepnote_cell_type": "code"
   },
   "source": "from xgboost import XGBClassifier\nfrom sklearn.decomposition import PCA\n\n\nxg_model = XGBClassifier(objective = 'binary:logistic')\n\nxg_hiperparams = {\n    'pca__n_components': [5, 10, 15, 20, 25, 30],\n    'model__max_depth': [2, 3, 5, 7, 10],\n    'model__n_estimators': [10, 100, 500],\n    'model__learning_rate': [0.1, 0.3, 0.5, 0.8],\n}\n\n\n# Selecao das colunas\nnumeric_features = ['age', 'entry_symptoms_time']\ncategorical_features = ['sex', 'patient_type', 'pregnancy', 'intubed', 'contact_other_covid', 'icu', 'died', 'has_disease']\n\n# Criacao do tratamento de cada tipo de col\ncategorical_pipe = Pipeline([\n    ('labelenc', OrdinalEncoder())\n])\n\nnumeric_pipe = Pipeline([\n    ('normalize', StandardScaler())\n])\n\ncolumn_processing = ColumnTransformer([\n    ('num', numeric_pipe, numeric_features),\n    ('cat', categorical_pipe, categorical_features)\n])\n\n# Motando a pipe em si\nxg_pipe = Pipeline([\n    ('preprocessing', column_processing),\n    ('pca', PCA()),\n    ('model', xg_model)\n    \n])",
   "outputs": [],
   "execution_count": null
  },
  {
   "cell_type": "markdown",
   "source": "# Otimizacao de modelo",
   "metadata": {
    "cell_id": "00080-57387eb0-119d-47db-acec-09e1de5d2203",
    "deepnote_cell_type": "markdown"
   }
  },
  {
   "cell_type": "code",
   "metadata": {
    "cell_id": "00081-4aeaff90-ed1b-45f3-954b-b9848601dc46",
    "deepnote_to_be_reexecuted": true,
    "source_hash": "55e64a1d",
    "execution_start": 1646596970564,
    "execution_millis": 26,
    "deepnote_cell_type": "code"
   },
   "source": "knn_pipe.get_params()",
   "outputs": [
    {
     "output_type": "execute_result",
     "execution_count": 51,
     "data": {
      "text/plain": "{'memory': None,\n 'steps': [('preprocessing',\n   ColumnTransformer(transformers=[('num',\n                                    Pipeline(steps=[('normalize',\n                                                     StandardScaler())]),\n                                    ['age', 'entry_symptoms_time']),\n                                   ('cat',\n                                    Pipeline(steps=[('onehot',\n                                                     OneHotEncoder(drop='if_binary'))]),\n                                    ['hypertension', 'diabetes', 'obesity',\n                                     'pneumonia', 'died'])])),\n  ('model', KNeighborsClassifier())],\n 'verbose': False,\n 'preprocessing': ColumnTransformer(transformers=[('num',\n                                  Pipeline(steps=[('normalize',\n                                                   StandardScaler())]),\n                                  ['age', 'entry_symptoms_time']),\n                                 ('cat',\n                                  Pipeline(steps=[('onehot',\n                                                   OneHotEncoder(drop='if_binary'))]),\n                                  ['hypertension', 'diabetes', 'obesity',\n                                   'pneumonia', 'died'])]),\n 'model': KNeighborsClassifier(),\n 'preprocessing__n_jobs': None,\n 'preprocessing__remainder': 'drop',\n 'preprocessing__sparse_threshold': 0.3,\n 'preprocessing__transformer_weights': None,\n 'preprocessing__transformers': [('num',\n   Pipeline(steps=[('normalize', StandardScaler())]),\n   ['age', 'entry_symptoms_time']),\n  ('cat',\n   Pipeline(steps=[('onehot', OneHotEncoder(drop='if_binary'))]),\n   ['hypertension', 'diabetes', 'obesity', 'pneumonia', 'died'])],\n 'preprocessing__verbose': False,\n 'preprocessing__verbose_feature_names_out': True,\n 'preprocessing__num': Pipeline(steps=[('normalize', StandardScaler())]),\n 'preprocessing__cat': Pipeline(steps=[('onehot', OneHotEncoder(drop='if_binary'))]),\n 'preprocessing__num__memory': None,\n 'preprocessing__num__steps': [('normalize', StandardScaler())],\n 'preprocessing__num__verbose': False,\n 'preprocessing__num__normalize': StandardScaler(),\n 'preprocessing__num__normalize__copy': True,\n 'preprocessing__num__normalize__with_mean': True,\n 'preprocessing__num__normalize__with_std': True,\n 'preprocessing__cat__memory': None,\n 'preprocessing__cat__steps': [('onehot', OneHotEncoder(drop='if_binary'))],\n 'preprocessing__cat__verbose': False,\n 'preprocessing__cat__onehot': OneHotEncoder(drop='if_binary'),\n 'preprocessing__cat__onehot__categories': 'auto',\n 'preprocessing__cat__onehot__drop': 'if_binary',\n 'preprocessing__cat__onehot__dtype': numpy.float64,\n 'preprocessing__cat__onehot__handle_unknown': 'error',\n 'preprocessing__cat__onehot__sparse': True,\n 'model__algorithm': 'auto',\n 'model__leaf_size': 30,\n 'model__metric': 'minkowski',\n 'model__metric_params': None,\n 'model__n_jobs': None,\n 'model__n_neighbors': 5,\n 'model__p': 2,\n 'model__weights': 'uniform'}"
     },
     "metadata": {}
    }
   ],
   "execution_count": null
  },
  {
   "cell_type": "code",
   "metadata": {
    "cell_id": "00082-adbf1a21-7130-4855-9bc3-c817554f9fbb",
    "deepnote_to_be_reexecuted": true,
    "source_hash": "77a5bce0",
    "execution_start": 1646596970598,
    "execution_millis": 38,
    "deepnote_cell_type": "code"
   },
   "source": "rf_pipe.get_params()",
   "outputs": [
    {
     "output_type": "execute_result",
     "execution_count": 52,
     "data": {
      "text/plain": "{'memory': None,\n 'steps': [('preprocessing',\n   ColumnTransformer(transformers=[('num',\n                                    Pipeline(steps=[('normalize',\n                                                     StandardScaler())]),\n                                    ['age', 'entry_symptoms_time']),\n                                   ('cat',\n                                    Pipeline(steps=[('labelenc',\n                                                     OrdinalEncoder())]),\n                                    ['sex', 'patient_type', 'intubed', 'pneumonia',\n                                     'pregnancy', 'diabetes', 'copd', 'asthma',\n                                     'inmsupr', 'hypertension', 'other_disease',\n                                     'cardiovascular', 'obesity', 'renal_chronic',\n                                     'tobacco', 'contact_other_covid', 'icu',\n                                     'died'])])),\n  ('model', RandomForestClassifier(random_state=42))],\n 'verbose': False,\n 'preprocessing': ColumnTransformer(transformers=[('num',\n                                  Pipeline(steps=[('normalize',\n                                                   StandardScaler())]),\n                                  ['age', 'entry_symptoms_time']),\n                                 ('cat',\n                                  Pipeline(steps=[('labelenc',\n                                                   OrdinalEncoder())]),\n                                  ['sex', 'patient_type', 'intubed', 'pneumonia',\n                                   'pregnancy', 'diabetes', 'copd', 'asthma',\n                                   'inmsupr', 'hypertension', 'other_disease',\n                                   'cardiovascular', 'obesity', 'renal_chronic',\n                                   'tobacco', 'contact_other_covid', 'icu',\n                                   'died'])]),\n 'model': RandomForestClassifier(random_state=42),\n 'preprocessing__n_jobs': None,\n 'preprocessing__remainder': 'drop',\n 'preprocessing__sparse_threshold': 0.3,\n 'preprocessing__transformer_weights': None,\n 'preprocessing__transformers': [('num',\n   Pipeline(steps=[('normalize', StandardScaler())]),\n   ['age', 'entry_symptoms_time']),\n  ('cat',\n   Pipeline(steps=[('labelenc', OrdinalEncoder())]),\n   ['sex',\n    'patient_type',\n    'intubed',\n    'pneumonia',\n    'pregnancy',\n    'diabetes',\n    'copd',\n    'asthma',\n    'inmsupr',\n    'hypertension',\n    'other_disease',\n    'cardiovascular',\n    'obesity',\n    'renal_chronic',\n    'tobacco',\n    'contact_other_covid',\n    'icu',\n    'died'])],\n 'preprocessing__verbose': False,\n 'preprocessing__verbose_feature_names_out': True,\n 'preprocessing__num': Pipeline(steps=[('normalize', StandardScaler())]),\n 'preprocessing__cat': Pipeline(steps=[('labelenc', OrdinalEncoder())]),\n 'preprocessing__num__memory': None,\n 'preprocessing__num__steps': [('normalize', StandardScaler())],\n 'preprocessing__num__verbose': False,\n 'preprocessing__num__normalize': StandardScaler(),\n 'preprocessing__num__normalize__copy': True,\n 'preprocessing__num__normalize__with_mean': True,\n 'preprocessing__num__normalize__with_std': True,\n 'preprocessing__cat__memory': None,\n 'preprocessing__cat__steps': [('labelenc', OrdinalEncoder())],\n 'preprocessing__cat__verbose': False,\n 'preprocessing__cat__labelenc': OrdinalEncoder(),\n 'preprocessing__cat__labelenc__categories': 'auto',\n 'preprocessing__cat__labelenc__dtype': numpy.float64,\n 'preprocessing__cat__labelenc__handle_unknown': 'error',\n 'preprocessing__cat__labelenc__unknown_value': None,\n 'model__bootstrap': True,\n 'model__ccp_alpha': 0.0,\n 'model__class_weight': None,\n 'model__criterion': 'gini',\n 'model__max_depth': None,\n 'model__max_features': 'auto',\n 'model__max_leaf_nodes': None,\n 'model__max_samples': None,\n 'model__min_impurity_decrease': 0.0,\n 'model__min_samples_leaf': 1,\n 'model__min_samples_split': 2,\n 'model__min_weight_fraction_leaf': 0.0,\n 'model__n_estimators': 100,\n 'model__n_jobs': None,\n 'model__oob_score': False,\n 'model__random_state': 42,\n 'model__verbose': 0,\n 'model__warm_start': False}"
     },
     "metadata": {}
    }
   ],
   "execution_count": null
  },
  {
   "cell_type": "code",
   "metadata": {
    "cell_id": "00083-56bdf033-641f-4eee-83e9-06fc83a1f18c",
    "deepnote_to_be_reexecuted": true,
    "source_hash": "b93bd34a",
    "execution_start": 1646596970649,
    "execution_millis": 4,
    "deepnote_cell_type": "code"
   },
   "source": "from sklearn.model_selection import RandomizedSearchCV\n\nknn_hiperparams = {\n    'model__n_neighbors':[1,3,5,7,9],\n    'model__p': [1,2],\n    'model__weights': ['uniform', 'distance']\n}\n\nrf_hiperparams = {\n    'model__max_depth' : [None, 1, 5, 10, 15, 50],\n    'model__min_samples_split' : [2, 10, 50, 100, 500, 1000],\n    'model__min_samples_leaf' : [1, 5, 10, 25, 50],\n}",
   "outputs": [],
   "execution_count": null
  },
  {
   "cell_type": "code",
   "metadata": {
    "cell_id": "00084-2440d102-f28c-47b7-8c48-830ff734b27d",
    "deepnote_to_be_reexecuted": true,
    "source_hash": "4df68257",
    "execution_start": 1646596970705,
    "execution_millis": 4724462,
    "deepnote_cell_type": "code"
   },
   "source": "knn_rand_search = RandomizedSearchCV(knn_pipe, knn_hiperparams, cv=3, n_iter=10, random_state=42, verbose=10)\n# knn_search = knn_rand_search.fit(X_train, y_train)\n",
   "outputs": [],
   "execution_count": null
  },
  {
   "cell_type": "code",
   "metadata": {
    "cell_id": "00085-0a95b1a1-a5c7-470e-9c2b-f34fca31ec9c",
    "deepnote_to_be_reexecuted": true,
    "source_hash": "5d1421df",
    "execution_start": 1646596970706,
    "execution_millis": 1020,
    "deepnote_cell_type": "code"
   },
   "source": "print(knn_rand_search.cv_results_['mean_test_score'].mean().round(3))\nprint(f'best params: {knn_rand_search.best_params_}')",
   "outputs": [
    {
     "output_type": "error",
     "ename": "AttributeError",
     "evalue": "'RandomizedSearchCV' object has no attribute 'grid_scores_'",
     "traceback": [
      "\u001b[0;31m---------------------------------------------------------------------------\u001b[0m",
      "\u001b[0;31mAttributeError\u001b[0m                            Traceback (most recent call last)",
      "\u001b[0;32m<ipython-input-55-04fff06a1924>\u001b[0m in \u001b[0;36m<module>\u001b[0;34m\u001b[0m\n\u001b[0;32m----> 1\u001b[0;31m \u001b[0mprint\u001b[0m\u001b[0;34m(\u001b[0m\u001b[0mknn_rand_search\u001b[0m\u001b[0;34m.\u001b[0m\u001b[0mgrid_scores_\u001b[0m\u001b[0;34m[\u001b[0m\u001b[0;34m'mean_test_score'\u001b[0m\u001b[0;34m]\u001b[0m\u001b[0;34m.\u001b[0m\u001b[0mmean\u001b[0m\u001b[0;34m(\u001b[0m\u001b[0;34m)\u001b[0m\u001b[0;34m.\u001b[0m\u001b[0mround\u001b[0m\u001b[0;34m(\u001b[0m\u001b[0;36m3\u001b[0m\u001b[0;34m)\u001b[0m\u001b[0;34m)\u001b[0m\u001b[0;34m\u001b[0m\u001b[0;34m\u001b[0m\u001b[0m\n\u001b[0m\u001b[1;32m      2\u001b[0m \u001b[0mprint\u001b[0m\u001b[0;34m(\u001b[0m\u001b[0;34mf'best params: {knn_rand_search.best_params_}'\u001b[0m\u001b[0;34m)\u001b[0m\u001b[0;34m\u001b[0m\u001b[0;34m\u001b[0m\u001b[0m\n",
      "\u001b[0;31mAttributeError\u001b[0m: 'RandomizedSearchCV' object has no attribute 'grid_scores_'"
     ]
    }
   ],
   "execution_count": null
  },
  {
   "cell_type": "code",
   "metadata": {
    "cell_id": "00086-544a9260-4636-482c-bcef-5a7f68c9655f",
    "deepnote_to_be_reexecuted": true,
    "source_hash": "aab08c8a",
    "deepnote_cell_type": "code"
   },
   "source": "knn_pipe.set_params(model__weights='uniform')\nknn_pipe.set_params(model__p=2)\nknn_pipe.set_params(model__n_neighbors=9)",
   "execution_count": null,
   "outputs": [
    {
     "data": {
      "text/plain": "Pipeline(steps=[('preprocessing',\n                 ColumnTransformer(transformers=[('num',\n                                                  Pipeline(steps=[('normalize',\n                                                                   StandardScaler())]),\n                                                  ['age',\n                                                   'entry_symptoms_time']),\n                                                 ('cat',\n                                                  Pipeline(steps=[('onehot',\n                                                                   OneHotEncoder(drop='if_binary'))]),\n                                                  ['hypertension', 'diabetes',\n                                                   'obesity', 'pneumonia',\n                                                   'died'])])),\n                ('model', KNeighborsClassifier(n_neighbors=9))])"
     },
     "execution_count": 63,
     "metadata": {},
     "output_type": "execute_result"
    }
   ]
  },
  {
   "cell_type": "code",
   "metadata": {
    "cell_id": "00087-6f92f83d-4f33-4f1d-9a2a-ed8a6d26aabb",
    "deepnote_to_be_reexecuted": true,
    "source_hash": "72344063",
    "deepnote_cell_type": "code"
   },
   "source": "knn_pipe.fit(X_train, y_train)\ny_pred = knn_pipe.predict(X_test)\n\n\nprint(classification_report(y_test, y_pred))\nroc_auc_score(y_test, y_pred)",
   "execution_count": null,
   "outputs": [
    {
     "name": "stdout",
     "output_type": "stream",
     "text": "              precision    recall  f1-score   support\n\n         0.0       0.63      0.69      0.66     83711\n         1.0       0.55      0.48      0.52     66197\n\n    accuracy                           0.60    149908\n   macro avg       0.59      0.59      0.59    149908\nweighted avg       0.60      0.60      0.60    149908\n\n"
    },
    {
     "data": {
      "text/plain": "0.587414684663366"
     },
     "execution_count": 70,
     "metadata": {},
     "output_type": "execute_result"
    }
   ]
  },
  {
   "cell_type": "code",
   "metadata": {
    "cell_id": "00088-457c7d12-64f1-49e9-bee9-9fea46f65b85",
    "deepnote_to_be_reexecuted": true,
    "source_hash": "24c168de",
    "deepnote_cell_type": "code"
   },
   "source": "rf_rand_search = RandomizedSearchCV(rf_pipe, rf_hiperparams, cv=3, n_iter=10, random_state=42, verbose=10)\n# rf_search = rf_rand_search.fit(X_train, y_train)",
   "execution_count": null,
   "outputs": [
    {
     "name": "stdout",
     "output_type": "stream",
     "text": "Fitting 3 folds for each of 10 candidates, totalling 30 fits\n[CV 1/3; 1/10] START model__max_depth=None, model__min_samples_leaf=25, model__min_samples_split=10\n[CV 1/3; 1/10] END model__max_depth=None, model__min_samples_leaf=25, model__min_samples_split=10;, score=0.654 total time=  30.5s\n[CV 2/3; 1/10] START model__max_depth=None, model__min_samples_leaf=25, model__min_samples_split=10\n[CV 2/3; 1/10] END model__max_depth=None, model__min_samples_leaf=25, model__min_samples_split=10;, score=0.652 total time=  29.8s\n[CV 3/3; 1/10] START model__max_depth=None, model__min_samples_leaf=25, model__min_samples_split=10\n[CV 3/3; 1/10] END model__max_depth=None, model__min_samples_leaf=25, model__min_samples_split=10;, score=0.656 total time=  32.3s\n[CV 1/3; 2/10] START model__max_depth=1, model__min_samples_leaf=10, model__min_samples_split=2\n[CV 1/3; 2/10] END model__max_depth=1, model__min_samples_leaf=10, model__min_samples_split=2;, score=0.618 total time=   8.3s\n[CV 2/3; 2/10] START model__max_depth=1, model__min_samples_leaf=10, model__min_samples_split=2\n[CV 2/3; 2/10] END model__max_depth=1, model__min_samples_leaf=10, model__min_samples_split=2;, score=0.618 total time=   7.5s\n[CV 3/3; 2/10] START model__max_depth=1, model__min_samples_leaf=10, model__min_samples_split=2\n[CV 3/3; 2/10] END model__max_depth=1, model__min_samples_leaf=10, model__min_samples_split=2;, score=0.620 total time=   8.0s\n[CV 1/3; 3/10] START model__max_depth=50, model__min_samples_leaf=1, model__min_samples_split=100\n[CV 1/3; 3/10] END model__max_depth=50, model__min_samples_leaf=1, model__min_samples_split=100;, score=0.650 total time=  33.3s\n[CV 2/3; 3/10] START model__max_depth=50, model__min_samples_leaf=1, model__min_samples_split=100\n[CV 2/3; 3/10] END model__max_depth=50, model__min_samples_leaf=1, model__min_samples_split=100;, score=0.650 total time=  35.4s\n[CV 3/3; 3/10] START model__max_depth=50, model__min_samples_leaf=1, model__min_samples_split=100\n[CV 3/3; 3/10] END model__max_depth=50, model__min_samples_leaf=1, model__min_samples_split=100;, score=0.653 total time=  34.7s\n[CV 1/3; 4/10] START model__max_depth=5, model__min_samples_leaf=25, model__min_samples_split=2\n[CV 1/3; 4/10] END model__max_depth=5, model__min_samples_leaf=25, model__min_samples_split=2;, score=0.640 total time=  16.2s\n[CV 2/3; 4/10] START model__max_depth=5, model__min_samples_leaf=25, model__min_samples_split=2\n[CV 2/3; 4/10] END model__max_depth=5, model__min_samples_leaf=25, model__min_samples_split=2;, score=0.638 total time=  14.3s\n[CV 3/3; 4/10] START model__max_depth=5, model__min_samples_leaf=25, model__min_samples_split=2\n[CV 3/3; 4/10] END model__max_depth=5, model__min_samples_leaf=25, model__min_samples_split=2;, score=0.641 total time=  17.1s\n[CV 1/3; 5/10] START model__max_depth=15, model__min_samples_leaf=50, model__min_samples_split=10\n[CV 1/3; 5/10] END model__max_depth=15, model__min_samples_leaf=50, model__min_samples_split=10;, score=0.653 total time=  29.6s\n[CV 2/3; 5/10] START model__max_depth=15, model__min_samples_leaf=50, model__min_samples_split=10\n[CV 2/3; 5/10] END model__max_depth=15, model__min_samples_leaf=50, model__min_samples_split=10;, score=0.651 total time=  25.2s\n[CV 3/3; 5/10] START model__max_depth=15, model__min_samples_leaf=50, model__min_samples_split=10\n[CV 3/3; 5/10] END model__max_depth=15, model__min_samples_leaf=50, model__min_samples_split=10;, score=0.655 total time=  20.3s\n[CV 1/3; 6/10] START model__max_depth=None, model__min_samples_leaf=10, model__min_samples_split=100\n[CV 1/3; 6/10] END model__max_depth=None, model__min_samples_leaf=10, model__min_samples_split=100;, score=0.654 total time=  25.4s\n[CV 2/3; 6/10] START model__max_depth=None, model__min_samples_leaf=10, model__min_samples_split=100\n[CV 2/3; 6/10] END model__max_depth=None, model__min_samples_leaf=10, model__min_samples_split=100;, score=0.653 total time=  27.3s\n[CV 3/3; 6/10] START model__max_depth=None, model__min_samples_leaf=10, model__min_samples_split=100\n[CV 3/3; 6/10] END model__max_depth=None, model__min_samples_leaf=10, model__min_samples_split=100;, score=0.656 total time=  33.5s\n[CV 1/3; 7/10] START model__max_depth=None, model__min_samples_leaf=50, model__min_samples_split=2\n[CV 1/3; 7/10] END model__max_depth=None, model__min_samples_leaf=50, model__min_samples_split=2;, score=0.653 total time=  24.5s\n[CV 2/3; 7/10] START model__max_depth=None, model__min_samples_leaf=50, model__min_samples_split=2\n[CV 2/3; 7/10] END model__max_depth=None, model__min_samples_leaf=50, model__min_samples_split=2;, score=0.651 total time=  21.7s\n[CV 3/3; 7/10] START model__max_depth=None, model__min_samples_leaf=50, model__min_samples_split=2\n[CV 3/3; 7/10] END model__max_depth=None, model__min_samples_leaf=50, model__min_samples_split=2;, score=0.655 total time=  25.8s\n[CV 1/3; 8/10] START model__max_depth=5, model__min_samples_leaf=5, model__min_samples_split=50\n[CV 1/3; 8/10] END model__max_depth=5, model__min_samples_leaf=5, model__min_samples_split=50;, score=0.639 total time=  12.8s\n[CV 2/3; 8/10] START model__max_depth=5, model__min_samples_leaf=5, model__min_samples_split=50\n[CV 2/3; 8/10] END model__max_depth=5, model__min_samples_leaf=5, model__min_samples_split=50;, score=0.638 total time=  14.9s\n[CV 3/3; 8/10] START model__max_depth=5, model__min_samples_leaf=5, model__min_samples_split=50\n[CV 3/3; 8/10] END model__max_depth=5, model__min_samples_leaf=5, model__min_samples_split=50;, score=0.641 total time=  14.3s\n[CV 1/3; 9/10] START model__max_depth=10, model__min_samples_leaf=25, model__min_samples_split=1000\n[CV 1/3; 9/10] END model__max_depth=10, model__min_samples_leaf=25, model__min_samples_split=1000;, score=0.651 total time=  21.6s\n[CV 2/3; 9/10] START model__max_depth=10, model__min_samples_leaf=25, model__min_samples_split=1000\n[CV 2/3; 9/10] END model__max_depth=10, model__min_samples_leaf=25, model__min_samples_split=1000;, score=0.648 total time=  23.8s\n[CV 3/3; 9/10] START model__max_depth=10, model__min_samples_leaf=25, model__min_samples_split=1000\n[CV 3/3; 9/10] END model__max_depth=10, model__min_samples_leaf=25, model__min_samples_split=1000;, score=0.653 total time=  23.6s\n[CV 1/3; 10/10] START model__max_depth=10, model__min_samples_leaf=50, model__min_samples_split=500\n[CV 1/3; 10/10] END model__max_depth=10, model__min_samples_leaf=50, model__min_samples_split=500;, score=0.651 total time=  22.7s\n[CV 2/3; 10/10] START model__max_depth=10, model__min_samples_leaf=50, model__min_samples_split=500\n[CV 2/3; 10/10] END model__max_depth=10, model__min_samples_leaf=50, model__min_samples_split=500;, score=0.649 total time=  20.4s\n[CV 3/3; 10/10] START model__max_depth=10, model__min_samples_leaf=50, model__min_samples_split=500\n[CV 3/3; 10/10] END model__max_depth=10, model__min_samples_leaf=50, model__min_samples_split=500;, score=0.652 total time=  20.8s\n"
    }
   ]
  },
  {
   "cell_type": "code",
   "metadata": {
    "cell_id": "00089-2fe162b0-edd7-46f3-ad2c-c78d7386d4be",
    "deepnote_to_be_reexecuted": true,
    "source_hash": "97caa0e9",
    "deepnote_cell_type": "code"
   },
   "source": "print(knn_rand_search.cv_results_['mean_test_score'].mean().round(3))\nprint(f'best params: {knn_rand_search.best_params_}')\nknn_pipe.set_params(model__weights='uniform')\nknn_pipe.set_params(model__p=2)\nknn_pipe.set_params(model__n_neighbors=9)\nknn_pipe.fit(X_train, y_train)\ny_pred = knn_pipe.predict(X_test)\n\n\nprint(classification_report(y_test, y_pred))\nroc_auc_score(y_test, y_pred)",
   "execution_count": null,
   "outputs": []
  },
  {
   "cell_type": "code",
   "metadata": {
    "cell_id": "00090-915ca555-0851-469e-a0ac-7cba4b080c64",
    "deepnote_to_be_reexecuted": true,
    "source_hash": "14db8f68",
    "deepnote_cell_type": "code"
   },
   "source": "print(rf_rand_search.cv_results_['mean_test_score'].mean().round(3))\nprint(f'best params: {rf_rand_search.best_params_}')",
   "execution_count": null,
   "outputs": [
    {
     "name": "stdout",
     "output_type": "stream",
     "text": "0.646\nbest params: {'model__min_samples_split': 100, 'model__min_samples_leaf': 10, 'model__max_depth': None}\n"
    }
   ]
  },
  {
   "cell_type": "code",
   "metadata": {
    "cell_id": "00091-b69c39fb-8d4f-442c-8dfc-142e6ccafeb3",
    "deepnote_to_be_reexecuted": true,
    "source_hash": "6e3825f8",
    "deepnote_cell_type": "code"
   },
   "source": "rf_pipe.set_params(model__min_samples_split=100)\nrf_pipe.set_params(model__min_samples_leaf=10)\nrf_pipe.set_params(model__max_depth=None)\n\nrf_pipe.fit(X_train, y_train)\ny_pred = rf_pipe.predict(X_test)\n\n\nprint(classification_report(y_test, y_pred))\nroc_auc_score(y_test, y_pred)",
   "execution_count": null,
   "outputs": [
    {
     "name": "stdout",
     "output_type": "stream",
     "text": "              precision    recall  f1-score   support\n\n         0.0       0.65      0.82      0.73     83711\n         1.0       0.67      0.44      0.53     66197\n\n    accuracy                           0.66    149908\n   macro avg       0.66      0.63      0.63    149908\nweighted avg       0.66      0.66      0.64    149908\n\n"
    },
    {
     "data": {
      "text/plain": "0.6336588292389579"
     },
     "execution_count": 74,
     "metadata": {},
     "output_type": "execute_result"
    }
   ]
  },
  {
   "cell_type": "code",
   "metadata": {
    "cell_id": "5837f12e-49d5-4626-9f5b-4b6adfa95278",
    "tags": [],
    "deepnote_to_be_reexecuted": true,
    "source_hash": "e81f2a06",
    "execution_start": 1646362644340,
    "execution_millis": 253002,
    "deepnote_cell_type": "code"
   },
   "source": "xg_rand_search = RandomizedSearchCV(xg_pipe, xg_hiperparams, cv=3, n_iter=10, random_state=42)\nxg_rand_search.fit(X_train, y_train)\n\nprint(xg_rand_search.cv_results_['mean_test_score'].mean().round(3))\nprint(f'best params: {xg_rand_search.best_params_}')",
   "execution_count": null,
   "outputs": [
    {
     "name": "stderr",
     "text": "/usr/local/lib/python3.7/site-packages/xgboost/sklearn.py:1224: UserWarning: The use of label encoder in XGBClassifier is deprecated and will be removed in a future release. To remove this warning, do the following: 1) Pass option use_label_encoder=False when constructing XGBClassifier object; and 2) Encode your labels (y) as integers starting with 0, i.e. 0, 1, 2, ..., [num_class - 1].\n  warnings.warn(label_encoder_deprecation_msg, UserWarning)\n[02:57:31] WARNING: ../src/learner.cc:1115: Starting in XGBoost 1.3.0, the default evaluation metric used with the objective 'binary:logistic' was changed from 'error' to 'logloss'. Explicitly set eval_metric if you'd like to restore the old behavior.\n/usr/local/lib/python3.7/site-packages/xgboost/sklearn.py:1224: UserWarning: The use of label encoder in XGBClassifier is deprecated and will be removed in a future release. To remove this warning, do the following: 1) Pass option use_label_encoder=False when constructing XGBClassifier object; and 2) Encode your labels (y) as integers starting with 0, i.e. 0, 1, 2, ..., [num_class - 1].\n  warnings.warn(label_encoder_deprecation_msg, UserWarning)\n[02:58:32] WARNING: ../src/learner.cc:1115: Starting in XGBoost 1.3.0, the default evaluation metric used with the objective 'binary:logistic' was changed from 'error' to 'logloss'. Explicitly set eval_metric if you'd like to restore the old behavior.\n/usr/local/lib/python3.7/site-packages/xgboost/sklearn.py:1224: UserWarning: The use of label encoder in XGBClassifier is deprecated and will be removed in a future release. To remove this warning, do the following: 1) Pass option use_label_encoder=False when constructing XGBClassifier object; and 2) Encode your labels (y) as integers starting with 0, i.e. 0, 1, 2, ..., [num_class - 1].\n  warnings.warn(label_encoder_deprecation_msg, UserWarning)\n[02:59:27] WARNING: ../src/learner.cc:1115: Starting in XGBoost 1.3.0, the default evaluation metric used with the objective 'binary:logistic' was changed from 'error' to 'logloss'. Explicitly set eval_metric if you'd like to restore the old behavior.\n/shared-libs/python3.7/py/lib/python3.7/site-packages/sklearn/model_selection/_validation.py:372: FitFailedWarning: \n27 fits failed out of a total of 30.\nThe score on these train-test partitions for these parameters will be set to nan.\nIf these failures are not expected, you can try to debug them by setting error_score='raise'.\n\nBelow are more details about the failures:\n--------------------------------------------------------------------------------\n15 fits failed with the following error:\nTraceback (most recent call last):\n  File \"/shared-libs/python3.7/py/lib/python3.7/site-packages/sklearn/model_selection/_validation.py\", line 680, in _fit_and_score\n    estimator.fit(X_train, y_train, **fit_params)\n  File \"/shared-libs/python3.7/py/lib/python3.7/site-packages/sklearn/pipeline.py\", line 390, in fit\n    Xt = self._fit(X, y, **fit_params_steps)\n  File \"/shared-libs/python3.7/py/lib/python3.7/site-packages/sklearn/pipeline.py\", line 355, in _fit\n    **fit_params_steps[name],\n  File \"/shared-libs/python3.7/py/lib/python3.7/site-packages/joblib/memory.py\", line 349, in __call__\n    return self.func(*args, **kwargs)\n  File \"/shared-libs/python3.7/py/lib/python3.7/site-packages/sklearn/pipeline.py\", line 893, in _fit_transform_one\n    res = transformer.fit_transform(X, y, **fit_params)\n  File \"/shared-libs/python3.7/py/lib/python3.7/site-packages/sklearn/decomposition/_pca.py\", line 407, in fit_transform\n    U, S, Vt = self._fit(X)\n  File \"/shared-libs/python3.7/py/lib/python3.7/site-packages/sklearn/decomposition/_pca.py\", line 457, in _fit\n    return self._fit_full(X, n_components)\n  File \"/shared-libs/python3.7/py/lib/python3.7/site-packages/sklearn/decomposition/_pca.py\", line 478, in _fit_full\n    \"svd_solver='full'\" % (n_components, min(n_samples, n_features))\nValueError: n_components=15 must be between 0 and min(n_samples, n_features)=10 with svd_solver='full'\n\n--------------------------------------------------------------------------------\n9 fits failed with the following error:\nTraceback (most recent call last):\n  File \"/shared-libs/python3.7/py/lib/python3.7/site-packages/sklearn/model_selection/_validation.py\", line 680, in _fit_and_score\n    estimator.fit(X_train, y_train, **fit_params)\n  File \"/shared-libs/python3.7/py/lib/python3.7/site-packages/sklearn/pipeline.py\", line 390, in fit\n    Xt = self._fit(X, y, **fit_params_steps)\n  File \"/shared-libs/python3.7/py/lib/python3.7/site-packages/sklearn/pipeline.py\", line 355, in _fit\n    **fit_params_steps[name],\n  File \"/shared-libs/python3.7/py/lib/python3.7/site-packages/joblib/memory.py\", line 349, in __call__\n    return self.func(*args, **kwargs)\n  File \"/shared-libs/python3.7/py/lib/python3.7/site-packages/sklearn/pipeline.py\", line 893, in _fit_transform_one\n    res = transformer.fit_transform(X, y, **fit_params)\n  File \"/shared-libs/python3.7/py/lib/python3.7/site-packages/sklearn/decomposition/_pca.py\", line 407, in fit_transform\n    U, S, Vt = self._fit(X)\n  File \"/shared-libs/python3.7/py/lib/python3.7/site-packages/sklearn/decomposition/_pca.py\", line 457, in _fit\n    return self._fit_full(X, n_components)\n  File \"/shared-libs/python3.7/py/lib/python3.7/site-packages/sklearn/decomposition/_pca.py\", line 478, in _fit_full\n    \"svd_solver='full'\" % (n_components, min(n_samples, n_features))\nValueError: n_components=20 must be between 0 and min(n_samples, n_features)=10 with svd_solver='full'\n\n--------------------------------------------------------------------------------\n3 fits failed with the following error:\nTraceback (most recent call last):\n  File \"/shared-libs/python3.7/py/lib/python3.7/site-packages/sklearn/model_selection/_validation.py\", line 680, in _fit_and_score\n    estimator.fit(X_train, y_train, **fit_params)\n  File \"/shared-libs/python3.7/py/lib/python3.7/site-packages/sklearn/pipeline.py\", line 390, in fit\n    Xt = self._fit(X, y, **fit_params_steps)\n  File \"/shared-libs/python3.7/py/lib/python3.7/site-packages/sklearn/pipeline.py\", line 355, in _fit\n    **fit_params_steps[name],\n  File \"/shared-libs/python3.7/py/lib/python3.7/site-packages/joblib/memory.py\", line 349, in __call__\n    return self.func(*args, **kwargs)\n  File \"/shared-libs/python3.7/py/lib/python3.7/site-packages/sklearn/pipeline.py\", line 893, in _fit_transform_one\n    res = transformer.fit_transform(X, y, **fit_params)\n  File \"/shared-libs/python3.7/py/lib/python3.7/site-packages/sklearn/decomposition/_pca.py\", line 407, in fit_transform\n    U, S, Vt = self._fit(X)\n  File \"/shared-libs/python3.7/py/lib/python3.7/site-packages/sklearn/decomposition/_pca.py\", line 457, in _fit\n    return self._fit_full(X, n_components)\n  File \"/shared-libs/python3.7/py/lib/python3.7/site-packages/sklearn/decomposition/_pca.py\", line 478, in _fit_full\n    \"svd_solver='full'\" % (n_components, min(n_samples, n_features))\nValueError: n_components=25 must be between 0 and min(n_samples, n_features)=10 with svd_solver='full'\n\n  warnings.warn(some_fits_failed_message, FitFailedWarning)\n/shared-libs/python3.7/py/lib/python3.7/site-packages/sklearn/model_selection/_search.py:972: UserWarning: One or more of the test scores are non-finite: [      nan 0.6451553       nan       nan       nan       nan       nan\n       nan       nan       nan]\n  category=UserWarning,\n/usr/local/lib/python3.7/site-packages/xgboost/sklearn.py:1224: UserWarning: The use of label encoder in XGBClassifier is deprecated and will be removed in a future release. To remove this warning, do the following: 1) Pass option use_label_encoder=False when constructing XGBClassifier object; and 2) Encode your labels (y) as integers starting with 0, i.e. 0, 1, 2, ..., [num_class - 1].\n  warnings.warn(label_encoder_deprecation_msg, UserWarning)\n[03:00:37] WARNING: ../src/learner.cc:1115: Starting in XGBoost 1.3.0, the default evaluation metric used with the objective 'binary:logistic' was changed from 'error' to 'logloss'. Explicitly set eval_metric if you'd like to restore the old behavior.\nnan\nbest params: {'pca__n_components': 5, 'model__n_estimators': 100, 'model__max_depth': 5, 'model__learning_rate': 0.1}\n",
     "output_type": "stream"
    }
   ]
  },
  {
   "cell_type": "code",
   "metadata": {
    "cell_id": "9914bff6-0c67-4584-b5c1-2c9f03845c2b",
    "tags": [],
    "deepnote_to_be_reexecuted": true,
    "source_hash": "2990fdd0",
    "execution_start": 1646362912608,
    "execution_millis": 64982,
    "deepnote_cell_type": "code"
   },
   "source": "xg_pipe.set_params(pca__n_components=5)\nxg_pipe.set_params(model__n_estimators=100)\nxg_pipe.set_params(model__max_depth=5)\nxg_pipe.set_params(model__learning_rate=0.1)\n\nxg_pipe.fit(X_train, y_train)\ny_pred = xg_pipe.predict(X_test)\n\n\nprint(classification_report(y_test, y_pred))\nroc_auc_score(y_test, y_pred)",
   "execution_count": null,
   "outputs": [
    {
     "name": "stderr",
     "text": "/usr/local/lib/python3.7/site-packages/xgboost/sklearn.py:1224: UserWarning: The use of label encoder in XGBClassifier is deprecated and will be removed in a future release. To remove this warning, do the following: 1) Pass option use_label_encoder=False when constructing XGBClassifier object; and 2) Encode your labels (y) as integers starting with 0, i.e. 0, 1, 2, ..., [num_class - 1].\n  warnings.warn(label_encoder_deprecation_msg, UserWarning)\n[03:01:55] WARNING: ../src/learner.cc:1115: Starting in XGBoost 1.3.0, the default evaluation metric used with the objective 'binary:logistic' was changed from 'error' to 'logloss'. Explicitly set eval_metric if you'd like to restore the old behavior.\n              precision    recall  f1-score   support\n\n         0.0       0.65      0.81      0.72     83711\n         1.0       0.65      0.44      0.52     66197\n\n    accuracy                           0.65    149908\n   macro avg       0.65      0.63      0.62    149908\nweighted avg       0.65      0.65      0.63    149908\n\n",
     "output_type": "stream"
    },
    {
     "output_type": "execute_result",
     "execution_count": 55,
     "data": {
      "text/plain": "0.6250628446877016"
     },
     "metadata": {}
    }
   ]
  },
  {
   "cell_type": "markdown",
   "source": "# Conclusão",
   "metadata": {
    "cell_id": "586aba66-dbe5-4262-92c9-2d3d527579be",
    "tags": [],
    "deepnote_cell_type": "markdown"
   }
  },
  {
   "cell_type": "markdown",
   "source": "O dataset trabalhado apresenta um problema bem atual no cenário da pandemia da COVID-19, que por dois anos - e contanto - vem fazendo diversas vítimas fatais. A inexperiência dos serviços médicos tornou ainda mais complicado a gestão de recursos como respiradores, vagas na UTI etc. Assim, métodos de Aprendizado de Máquina poderiam servir de auxilio à decisão na prioridade de alocação de tratamento. \nBuscamos então encontrar um método - e um respectivo conjunto de hiperparâmetros - que pudesse de forma satisfatória prever as chances de um paciente ser diagnosticado positivamente com COVID-19. Abaixo, um pouco de nosso processo de desenvolvimento.\n\n## Etapas de Desenvolvimento\nIniciamos o projeto realizando a preparação dos dados. Fizemos uma análise exploratória dos dados presentes no dataset, bem como a criação de gráficos para ajudar a visualizar e entender como os dados estão distribuídos. Tratamos os casos faltantes e os casos mais específicos, como os valores 97, 98 e 99. Alguns desses casos foram tratados de modo diferente:\n\n- Entradas da coluna 'covid_res' que possuem valor '3' foram removidos, pois constituem basicamente dados não rotulados ('3'= aguardando resultados)\n- 'intubed', 'pneumonia'e 'icu' tiveram suas entradas faltantes preenchidas com o valor mais frequente\n- Os valores relativos a desconhecido na coluna 'contact_other_covid' foram tratados como uma nova categoria ('2')\n- Retiramos também dados como 'date_died' por não fazer sentido para o problema.\n- Retiramos os dados icu e intubed, pois eles dependem diretamente do diagnostico positivo, e também não estariam disponíveis em ambiente de produção\n\nAlém disso, também criamos duas features: died (se o paciente morreu) e has_disease (se o paciente tem doença).\n\n### Modelo Baseline\n\nComo modelo-base desenvolvemos uma decisão simples baseado no diagnostico de outras doenças prévias no paciente: caso ele possuisse uma comorbidade, o método diagnosticaria positivamente. Para isso criamos uma *feature* nova 'has_disease' de modo a facilitar essa decisão. No entanto, o **Baseline** apresentou resultados bastante ruins (*precision*: 0.44, *recall*: 0.45, *f1-score*: 0.43), sendo efetivamente pior que a decisão meramente aleatória.\n\n### Modelo KNN\nEm seguida desenvolvemos um modelo de **K-Nearest Neighbours** o qual otimizamos através de uma exploração de hiperparâmetros por busca aleatória (**Random Search**). O método demorou bastante para convergir em seu treinamento, mas atingiu resultados consideravelmente melhores (*precision*: 0.59, *recall*: 0.59, *f1-score*: 0.59, *roc_auc*: 0.5874), ainda que baixos para um problema tão sério. Esses resultados foram obtidos com os seguintes parâmetros:\n\n- 'model__weights': 'uniform'\n- 'model__p': 2\n- 'model__n_neighbors': 9\n\n\n\n### Modelo Random Forest\nTestamos ainda uma método de **Random Forest**, que pode ser entendido basicamente como um *ensemble* de **Árvores de Decisão** (**Decision Trees**). Novamente, como uma otimização de hiperparâmetros por busca aleatória, obtivemos resultados melhores que o **Baseline** (*precision*: 0.66, *recall*: 0.63, *f1-score*: 0.63, *roc_auc*: 0.6336), porém com um tempo de execução mais aceitável. Esse resultado foi obtido com os seguintes parâmetros:\n\n- 'model__min_samples_split': 100\n- 'model__min_samples_leaf': 10\n- 'model__max_depth': None\n\n\n### Modelo XGBoost\nPor fim, resolvemos testar um modelo de *boosting* o **XGBoost**. Aqui, obtivemos resultados equivalentes ao **Random Forest** (*precision*: 0.65, *recall*: 0.63, *f1-score*: 0.62, *roc_auc*: 0.6251), porem vale notar que. Os hiperparâmetros foram obtidos por busca aleatória e são:\n\n- 'pca__n_components': 5\n- 'model__n_estimators': 100\n- 'model__max_depth': 5\n- 'model__learning_rate': 0.1\n\n\nVale notar que a **espeficidade** (isto é, quantos diagnosticos negativos foram corretamente previstos, o **recall** do *0*) dos modelos **Random Forest** e **XGBoost** apresentam valores de 0.82 e 0.81, podendo ser utilizados como bom indicativo de resultado negativo.\n\n\n### Conclusões\n\nMesmo testando mais de um método e otimizando os parâmetros, foi dificil obter bons resultados. Isto nos mostra que provalmente os dados de entrada possuem baixa correlação com o diagnostico ou não de covid-19, mas talvez possuam relação com a sobrevivência pós-doença. Devido a natureza da forma de contaminação (espalhamento pelo ar) a *feature* de contato com outras pessoas infectadas possivelmente possui sozinha maior relação, informação que pode ser vislumbrada um pouco no mapa de correlação.\n\n\n\n## rascunho\n\n- parametros criados, parametros removidos\n- baseline - 50%?\n- otimizacao dos hiperparametros dos modelos\n- melhores features Lasso: 'sex', 'patient_type', 'pneumonia', 'age', 'contact_other_covid'",
   "metadata": {
    "cell_id": "0b79c260-c7c0-40b0-99a8-a91802ab9b26",
    "tags": [],
    "deepnote_cell_type": "markdown"
   }
  },
  {
   "cell_type": "markdown",
   "source": "",
   "metadata": {
    "cell_id": "49dc7b3e-b6c3-418e-8fa1-e9bf5efba1ab",
    "tags": [],
    "deepnote_cell_type": "markdown"
   }
  },
  {
   "cell_type": "markdown",
   "source": "<a style='text-decoration:none;line-height:16px;display:flex;color:#5B5B62;padding:10px;justify-content:end;' href='https://deepnote.com?utm_source=created-in-deepnote-cell&projectId=51a49710-5991-4d9e-8d88-f90d59cca546' target=\"_blank\">\n<img alt='Created in deepnote.com' style='display:inline;max-height:16px;margin:0px;margin-right:7.5px;' src='data:image/svg+xml;base64,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' > </img>\nCreated in <span style='font-weight:600;margin-left:4px;'>Deepnote</span></a>",
   "metadata": {
    "tags": [],
    "created_in_deepnote_cell": true,
    "deepnote_cell_type": "markdown"
   }
  }
 ],
 "nbformat": 4,
 "nbformat_minor": 2,
 "metadata": {
  "deepnote": {
   "is_reactive": false
  },
  "deepnote_execution_queue": [],
  "deepnote_notebook_id": "8b0df1d1-894e-46ad-9701-9ede7a45769b",
  "interpreter": {
   "hash": "294f4e376c61358df80e6706e213556bfb570c6a90a2a414c97021af04b3e4fd"
  },
  "kernelspec": {
   "display_name": "Python 3.7.11 ('santander')",
   "language": "python",
   "name": "python3"
  },
  "language_info": {
   "codemirror_mode": {
    "name": "ipython",
    "version": 3
   },
   "file_extension": ".py",
   "mimetype": "text/x-python",
   "name": "python",
   "nbconvert_exporter": "python",
   "pygments_lexer": "ipython3",
   "version": "3.7.11"
  },
  "orig_nbformat": 2
 }
}