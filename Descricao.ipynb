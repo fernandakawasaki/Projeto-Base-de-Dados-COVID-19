{
 "cells": [
  {
   "cell_type": "markdown",
   "source": "# Projeto COVID\n\nVariávies:\n\n- id: Identificação do paciente\n- sex: Sexo do Paciente (0 - Homem / 1 - Mulher)\n- patient_type: Se o paciente foi dispensado para casa (1) ou se foi internado (0)\n- intubed: Seo paciente foi intubado ou não\n- pneumonia: Se o paciente apresentou pneumonia ou não\n- age: Idade do Paciente\n- pregnancy: Se a paciente estava grávida ou não (para pacientes mulheres)\n- diabetes: Se o paciente tem diabetes ou não\n- copd: Se opaciente tem COPD ou não (Chronic obstructive pulmonary disease)\n- asthma: Se o paciente tem Asma ou não\n- inmsupr: Se o paciente apresentou Imunosupressão ou não\n- hypertension: Se o paciente tem hipertensão ou não\n- ohter_disease: Se o paciente tem outras doenças ou não\n- cardiovascular: Se o paciente tem doenças cardiácas ou não\n- obesity: Se o paciente tem obesidade ou não\n- renal_chronic: Se o paciente tem problemas renais ou não\n- tobacco: Se o paciente é fumante ou não\n- contact_other_covid: Se o paciente teve contato com outras pessoas diagnosticadas com covid\n- icu: Se o paciente precisou ser internado na UTI\n- covid_res: Se o resultado do teste foi Positivo ou Negativo",
   "metadata": {
    "cell_id": "3f574471-9888-4a84-89ac-a27080b5463d",
    "tags": [],
    "deepnote_cell_type": "markdown"
   }
  },
  {
   "cell_type": "markdown",
   "source": "Para ajudar no desenvolvimento do projeto, vamos separar o projeto em algumas seções, conforme descritas a seguir:\n\n- <strong>Preparação dos Dados e Verificação de Consistência</strong>: Neste tópico deve ser feita a verificação da consistência dos dados e caso necessário efetuar eventuais modificações na base de dados. Alguns dos procedimentos que podemos fazer aqui são: Remoção e/ou tratamento de valores faltantes, remoção de duplicatas, ajustes dos tipos de variáveis, análise de outliers entre outras;\n\n- <strong>Análise Exploratória dos Dados</strong>: Para fazermos a modelagem, precisamos conhecer muito bem os dados que estamos trabalhando. Por isso, nesta parte do projeto vocês desenvolveram análises e gráficos a respeito dos dados que estão utilizando. Tente tirar ao máximo informaçõos sobre as variáveis em si e suas relações com as demais;\n\n- <strong>Modelagem dos Dados</strong>: Nesta parte, vamos modelar um classificador para os resultados dos exames de COVID ( covid_res ). Vocês deveram treinar pelo menos 2 modelos (podendo testar mais) e de acordo com alguma métrica de avaliação (escolhida por vocês), decidir qual será o melhor modelo a ser utilizado!; Não se esquecam de fixar o seed.\n\n- <strong>Otimização do Modelo</strong>: A partir do modelo escolhido no tópico anterior, vamos tentar aprimorar e garantir um melhor desempenho no modelo, seja fazendo validação cruzada, otimização de parâmetros com GridSearchCV ou RandomizedSearchCV; Não se esquecam de fixar o seed.\n\n- <strong>Conclusões sobre o Projeto</strong>: Para finalizar, descreva as suas conclusões sobre o desenvolvimento do modelo e os resultados obtidos.",
   "metadata": {
    "cell_id": "ac7440f1-17d7-440e-8578-abe7c3835a05",
    "tags": [],
    "deepnote_cell_type": "markdown"
   }
  },
  {
   "cell_type": "markdown",
   "source": "Como intepretar os dados binarios:<br>\n1 -> SI<br>\n2 -> NO<br>\n97 -> NO APLICA<br>\n98 -> SE IGNORA<br>\n99 - > NO ESPECIFICADO<br>\n",
   "metadata": {
    "cell_id": "c90dc8a9-750c-4102-8e39-f49f73df2c0e",
    "tags": [],
    "deepnote_cell_type": "markdown"
   }
  },
  {
   "cell_type": "markdown",
   "source": "https://www.kaggle.com/tanmoyx/covid19-patient-precondition-dataset",
   "metadata": {
    "cell_id": "432803d4-5fac-49ba-93d9-0ed97328c3ec",
    "tags": [],
    "deepnote_cell_type": "markdown"
   }
  },
  {
   "cell_type": "markdown",
   "source": "",
   "metadata": {
    "cell_id": "22f3c1fb-b2d1-41e1-aa13-e0c175688c0a",
    "tags": [],
    "deepnote_cell_type": "markdown"
   }
  },
  {
   "cell_type": "markdown",
   "source": "<a style='text-decoration:none;line-height:16px;display:flex;color:#5B5B62;padding:10px;justify-content:end;' href='https://deepnote.com?utm_source=created-in-deepnote-cell&projectId=51a49710-5991-4d9e-8d88-f90d59cca546' target=\"_blank\">\n<img alt='Created in deepnote.com' style='display:inline;max-height:16px;margin:0px;margin-right:7.5px;' src='data:image/svg+xml;base64,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' > </img>\nCreated in <span style='font-weight:600;margin-left:4px;'>Deepnote</span></a>",
   "metadata": {
    "tags": [],
    "created_in_deepnote_cell": true,
    "deepnote_cell_type": "markdown"
   }
  }
 ],
 "nbformat": 4,
 "nbformat_minor": 2,
 "metadata": {
  "orig_nbformat": 2,
  "deepnote": {
   "is_reactive": false
  },
  "deepnote_notebook_id": "c15dbe00-f5ef-4a86-99ca-9dcd200e9605",
  "deepnote_execution_queue": []
 }
}